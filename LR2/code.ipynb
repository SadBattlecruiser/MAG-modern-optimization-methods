{
 "cells": [
  {
   "cell_type": "code",
   "execution_count": 2,
   "id": "61b8918e",
   "metadata": {},
   "outputs": [],
   "source": [
    "import numpy as np"
   ]
  },
  {
   "cell_type": "code",
   "execution_count": 13,
   "id": "d8c82a62",
   "metadata": {},
   "outputs": [],
   "source": [
    "Cf     = 1.0                         # Вычислительная сложность вектор-ф-ии F(X)\n",
    "a      = 1.0                         # g(X) = x2 - ax1 - b\n",
    "b      = -0.1                        # ^^\n",
    "N_list = [2**i for i in range(7)]    # Ряд чисел процессоров\n",
    "\n",
    "m  = 100                             # \n",
    "l  = 8                               # Длина вещ. числа в байтах\n",
    "t  = 10e-9                           # Время выполнения арифм. оп. с плавающей точкой\n",
    "ts = 50e-6                           # Латентность комм. сети\n",
    "tc = (1/80)*1e-6                     # Время передачи данных между двумя соседними проц.\n",
    "\n",
    "def d(N):                            # Диаметр коммуникационной сети\n",
    "    return 2*np.sqrt(N)-1\n",
    "\n",
    "Z_side = 256                         # Размерность сетки\n",
    "Z = Z_size**2                        # Количество узлов в сетке"
   ]
  },
  {
   "cell_type": "code",
   "execution_count": null,
   "id": "4f754654",
   "metadata": {},
   "outputs": [],
   "source": [
    "# Оценка времени решения на процессоре Pi для метода равномерной декомпозиции параллелепипеда П\n"
   ]
  }
 ],
 "metadata": {
  "kernelspec": {
   "display_name": "Python 3 (ipykernel)",
   "language": "python",
   "name": "python3"
  },
  "language_info": {
   "codemirror_mode": {
    "name": "ipython",
    "version": 3
   },
   "file_extension": ".py",
   "mimetype": "text/x-python",
   "name": "python",
   "nbconvert_exporter": "python",
   "pygments_lexer": "ipython3",
   "version": "3.8.8rc1"
  }
 },
 "nbformat": 4,
 "nbformat_minor": 5
}
