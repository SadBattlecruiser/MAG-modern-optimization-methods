{
 "cells": [
  {
   "cell_type": "code",
   "execution_count": 175,
   "id": "dfbadecf",
   "metadata": {},
   "outputs": [],
   "source": [
    "import numpy as np\n",
    "import networkx as nx\n",
    "\n",
    "from scipy import linalg\n",
    "\n",
    "import matplotlib.pyplot as plt\n",
    "import seaborn as sns\n",
    "sns.set_style('darkgrid', {'axes.facecolor': '.9'})\n",
    "sns.set_palette(palette='deep')\n",
    "sns_c = sns.color_palette(palette='deep')\n",
    "%matplotlib inline"
   ]
  },
  {
   "cell_type": "code",
   "execution_count": 255,
   "id": "79c1dc57",
   "metadata": {},
   "outputs": [
    {
     "data": {
      "image/png": "[encoded data removed]",
      "text/plain": [
       "<Figure size 432x288 with 1 Axes>"
      ]
     },
     "metadata": {},
     "output_type": "display_data"
    }
   ],
   "source": [
    "def get_default_adjacency_matrix():\n",
    "    res = np.zeros((32, 32))\n",
    "    # Горизонтальные ребра внутри квадратов\n",
    "    for i in range(3):\n",
    "        for j in range(8):\n",
    "            res[i+4*j, i+4*j+1] = 1\n",
    "    # Вертикальные ребра внутри квадратов\n",
    "    for i in range(4):\n",
    "        for j in range(3):\n",
    "            res[i+4*j, i+4*j+4] = 1\n",
    "        for j in range(4, 7):\n",
    "            res[i+4*j, i+4*j+4] = 1\n",
    "    # Горизонтальные соединительные ребра\n",
    "    for i in range(4):\n",
    "        res[4*(i+1)-1, 16 + 4*i] = 1\n",
    "    return res\n",
    "\n",
    "\n",
    "def form_graph(adj_matr, stop_list_nodes=[], stop_list_edges=[]):\n",
    "    G = nx.Graph()\n",
    "    sqr_side = int(np.sqrt(adj_matr.shape[0] / 2))\n",
    "    for i in range(1, sqr_side+1):\n",
    "        for j in range(0, sqr_side):\n",
    "            if (i + sqr_side*j) not in stop_list_nodes:\n",
    "                G.add_node(i + sqr_side*j, pos=(i, sqr_side - j))\n",
    "            if (sqr_side**2 + i + sqr_side*j) not in stop_list_nodes:\n",
    "                G.add_node(sqr_side**2 + i + sqr_side*j, pos=(sqr_side + 1 + i, sqr_side - j))\n",
    "    for i in range(adj_matr.shape[0]):\n",
    "        for j in range(i, adj_matr.shape[0]):\n",
    "            if (i+1 not in stop_list_nodes) and (j+1 not in stop_list_nodes) and ([i+1, j+1] not in stop_list_edges):\n",
    "                if (adj_matr[i, j] == 1):\n",
    "                    G.add_edge(i+1, j+1)\n",
    "    H = nx.Graph()\n",
    "    H.add_nodes_from(sorted(G.nodes(data=True)))\n",
    "    H.add_edges_from(G.edges(data=True))\n",
    "    return H\n",
    "\n",
    "\n",
    "def print_graph(G, color_map=None):\n",
    "    pos = nx.get_node_attributes(G, 'pos')\n",
    "    nx.draw(G, pos, with_labels=True, node_color=color_map)\n",
    "    \n",
    "removed_nodes = [1, 2, 5, 6, 9, 10, 13, 14, 15, 25, 27, 28, 31, 32]    # 26 и 27 оставим, а то развалится\n",
    "#removed_nodes = []\n",
    "removed_edges = [[4, 17], [12, 25], [16, 29]]\n",
    "#removed_edges = []\n",
    "G = form_graph(get_default_adjacency_matrix(), removed_nodes, removed_edges)\n",
    "print_graph(G)"
   ]
  },
  {
   "cell_type": "code",
   "execution_count": 256,
   "id": "37bba784",
   "metadata": {},
   "outputs": [
    {
     "name": "stdout",
     "output_type": "stream",
     "text": [
      " [ 3  4  7  8 11 12 16 17 18 19 20 21 22 23 24 26 29 30]\n",
      "[[0 1 1 0 0 0 0 0 0 0 0 0 0 0 0 0 0 0]\n",
      " [1 0 0 1 0 0 0 0 0 0 0 0 0 0 0 0 0 0]\n",
      " [1 0 0 1 1 0 0 0 0 0 0 0 0 0 0 0 0 0]\n",
      " [0 1 1 0 0 1 0 0 0 0 0 1 0 0 0 0 0 0]\n",
      " [0 0 1 0 0 1 0 0 0 0 0 0 0 0 0 0 0 0]\n",
      " [0 0 0 1 1 0 1 0 0 0 0 0 0 0 0 0 0 0]\n",
      " [0 0 0 0 0 1 0 0 0 0 0 0 0 0 0 0 0 0]\n",
      " [0 0 0 0 0 0 0 0 1 0 0 1 0 0 0 0 0 0]\n",
      " [0 0 0 0 0 0 0 1 0 1 0 0 1 0 0 0 0 0]\n",
      " [0 0 0 0 0 0 0 0 1 0 1 0 0 1 0 0 0 0]\n",
      " [0 0 0 0 0 0 0 0 0 1 0 0 0 0 1 0 0 0]\n",
      " [0 0 0 1 0 0 0 1 0 0 0 0 1 0 0 0 0 0]\n",
      " [0 0 0 0 0 0 0 0 1 0 0 1 0 1 0 1 0 0]\n",
      " [0 0 0 0 0 0 0 0 0 1 0 0 1 0 1 0 0 0]\n",
      " [0 0 0 0 0 0 0 0 0 0 1 0 0 1 0 0 0 0]\n",
      " [0 0 0 0 0 0 0 0 0 0 0 0 1 0 0 0 0 1]\n",
      " [0 0 0 0 0 0 0 0 0 0 0 0 0 0 0 0 0 1]\n",
      " [0 0 0 0 0 0 0 0 0 0 0 0 0 0 0 1 1 0]]\n"
     ]
    },
    {
     "name": "stderr",
     "output_type": "stream",
     "text": [
      "C:\\Users\\Jojo\\AppData\\Local\\Temp/ipykernel_13116/1178967009.py:2: FutureWarning: adjacency_matrix will return a scipy.sparse array instead of a matrix in Networkx 3.0.\n",
      "  A = nx.adjacency_matrix(G).todense()\n"
     ]
    },
    {
     "data": {
      "image/png": "[encoded data removed]",
      "text/plain": [
       "<Figure size 720x576 with 2 Axes>"
      ]
     },
     "metadata": {
      "needs_background": "light"
     },
     "output_type": "display_data"
    }
   ],
   "source": [
    "# Матрица смежности\n",
    "A = nx.adjacency_matrix(G).todense()\n",
    "node_idxs = np.array(G.nodes())\n",
    "print('', node_idxs)\n",
    "print(A)\n",
    "\n",
    "# Plot as heat map.\n",
    "fig, ax = plt.subplots(figsize=(10, 8))\n",
    "sns.heatmap(A, ax=ax, cmap='viridis_r')\n",
    "ax.set(title='Adjacency matrix');"
   ]
  },
  {
   "cell_type": "code",
   "execution_count": 257,
   "id": "2608ce70",
   "metadata": {},
   "outputs": [
    {
     "name": "stdout",
     "output_type": "stream",
     "text": [
      "      [ 3  4  7  8 11 12 16 17 18 19 20 21 22 23 24 26 29 30]\n"
     ]
    },
    {
     "data": {
      "text/plain": [
       "array([[2, 0, 0, 0, 0, 0, 0, 0, 0, 0, 0, 0, 0, 0, 0, 0, 0, 0],\n",
       "       [0, 2, 0, 0, 0, 0, 0, 0, 0, 0, 0, 0, 0, 0, 0, 0, 0, 0],\n",
       "       [0, 0, 3, 0, 0, 0, 0, 0, 0, 0, 0, 0, 0, 0, 0, 0, 0, 0],\n",
       "       [0, 0, 0, 4, 0, 0, 0, 0, 0, 0, 0, 0, 0, 0, 0, 0, 0, 0],\n",
       "       [0, 0, 0, 0, 2, 0, 0, 0, 0, 0, 0, 0, 0, 0, 0, 0, 0, 0],\n",
       "       [0, 0, 0, 0, 0, 3, 0, 0, 0, 0, 0, 0, 0, 0, 0, 0, 0, 0],\n",
       "       [0, 0, 0, 0, 0, 0, 1, 0, 0, 0, 0, 0, 0, 0, 0, 0, 0, 0],\n",
       "       [0, 0, 0, 0, 0, 0, 0, 2, 0, 0, 0, 0, 0, 0, 0, 0, 0, 0],\n",
       "       [0, 0, 0, 0, 0, 0, 0, 0, 3, 0, 0, 0, 0, 0, 0, 0, 0, 0],\n",
       "       [0, 0, 0, 0, 0, 0, 0, 0, 0, 3, 0, 0, 0, 0, 0, 0, 0, 0],\n",
       "       [0, 0, 0, 0, 0, 0, 0, 0, 0, 0, 2, 0, 0, 0, 0, 0, 0, 0],\n",
       "       [0, 0, 0, 0, 0, 0, 0, 0, 0, 0, 0, 3, 0, 0, 0, 0, 0, 0],\n",
       "       [0, 0, 0, 0, 0, 0, 0, 0, 0, 0, 0, 0, 4, 0, 0, 0, 0, 0],\n",
       "       [0, 0, 0, 0, 0, 0, 0, 0, 0, 0, 0, 0, 0, 3, 0, 0, 0, 0],\n",
       "       [0, 0, 0, 0, 0, 0, 0, 0, 0, 0, 0, 0, 0, 0, 2, 0, 0, 0],\n",
       "       [0, 0, 0, 0, 0, 0, 0, 0, 0, 0, 0, 0, 0, 0, 0, 2, 0, 0],\n",
       "       [0, 0, 0, 0, 0, 0, 0, 0, 0, 0, 0, 0, 0, 0, 0, 0, 1, 0],\n",
       "       [0, 0, 0, 0, 0, 0, 0, 0, 0, 0, 0, 0, 0, 0, 0, 0, 0, 2]])"
      ]
     },
     "execution_count": 257,
     "metadata": {},
     "output_type": "execute_result"
    }
   ],
   "source": [
    "# Матрица степеней вершин\n",
    "B = np.zeros(A.shape, dtype=np.int32)\n",
    "diags = np.sum(A, axis=0).tolist()[0]\n",
    "np.fill_diagonal(B, diags)\n",
    "print('     ', node_idxs)\n",
    "B"
   ]
  },
  {
   "cell_type": "code",
   "execution_count": 258,
   "id": "94d9c830",
   "metadata": {},
   "outputs": [
    {
     "name": "stdout",
     "output_type": "stream",
     "text": [
      "[ 3  4  7  8 11 12 16 17 18 19 20 21 22 23 24 26 29 30]\n",
      "[[ 2 -1 -1  0  0  0  0  0  0  0  0  0  0  0  0  0  0  0]\n",
      " [-1  2  0 -1  0  0  0  0  0  0  0  0  0  0  0  0  0  0]\n",
      " [-1  0  3 -1 -1  0  0  0  0  0  0  0  0  0  0  0  0  0]\n",
      " [ 0 -1 -1  4  0 -1  0  0  0  0  0 -1  0  0  0  0  0  0]\n",
      " [ 0  0 -1  0  2 -1  0  0  0  0  0  0  0  0  0  0  0  0]\n",
      " [ 0  0  0 -1 -1  3 -1  0  0  0  0  0  0  0  0  0  0  0]\n",
      " [ 0  0  0  0  0 -1  1  0  0  0  0  0  0  0  0  0  0  0]\n",
      " [ 0  0  0  0  0  0  0  2 -1  0  0 -1  0  0  0  0  0  0]\n",
      " [ 0  0  0  0  0  0  0 -1  3 -1  0  0 -1  0  0  0  0  0]\n",
      " [ 0  0  0  0  0  0  0  0 -1  3 -1  0  0 -1  0  0  0  0]\n",
      " [ 0  0  0  0  0  0  0  0  0 -1  2  0  0  0 -1  0  0  0]\n",
      " [ 0  0  0 -1  0  0  0 -1  0  0  0  3 -1  0  0  0  0  0]\n",
      " [ 0  0  0  0  0  0  0  0 -1  0  0 -1  4 -1  0 -1  0  0]\n",
      " [ 0  0  0  0  0  0  0  0  0 -1  0  0 -1  3 -1  0  0  0]\n",
      " [ 0  0  0  0  0  0  0  0  0  0 -1  0  0 -1  2  0  0  0]\n",
      " [ 0  0  0  0  0  0  0  0  0  0  0  0 -1  0  0  2  0 -1]\n",
      " [ 0  0  0  0  0  0  0  0  0  0  0  0  0  0  0  0  1 -1]\n",
      " [ 0  0  0  0  0  0  0  0  0  0  0  0  0  0  0 -1 -1  2]]\n"
     ]
    },
    {
     "data": {
      "image/png": "[encoded data removed]",
      "text/plain": [
       "<Figure size 720x576 with 2 Axes>"
      ]
     },
     "metadata": {
      "needs_background": "light"
     },
     "output_type": "display_data"
    }
   ],
   "source": [
    "# Матрица Лапласа (ака матрица Кирхгофа)\n",
    "L = B - A\n",
    "print(node_idxs)\n",
    "print(L)\n",
    "\n",
    "# Plot the graph Laplacian as heat map.\n",
    "fig, ax = plt.subplots(figsize=(10, 8))\n",
    "sns.heatmap(L, ax=ax, cmap='viridis_r')\n",
    "ax.set(title='Graph Laplacian');"
   ]
  },
  {
   "cell_type": "code",
   "execution_count": 260,
   "id": "d8a01bbe",
   "metadata": {},
   "outputs": [
    {
     "name": "stdout",
     "output_type": "stream",
     "text": [
      "[[False False False False False False False  True  True  True  True False\n",
      "   True  True  True  True  True  True]] [[ True  True  True  True  True  True  True False False False False  True\n",
      "  False False False False False False]]\n",
      "[17 18 19 20 22 23 24 26 29 30] [ 3  4  7  8 11 12 16 21]\n"
     ]
    },
    {
     "name": "stderr",
     "output_type": "stream",
     "text": [
      "C:\\Users\\Jojo\\AppData\\Local\\Temp/ipykernel_13116/2079156272.py:11: FutureWarning: Using a non-tuple sequence for multidimensional indexing is deprecated; use `arr[tuple(seq)]` instead of `arr[seq]`. In the future this will be interpreted as an array index, `arr[np.array(seq)]`, which will result either in an error or a different result.\n",
      "  first_cluster, second_cluster = node_idxs[first_cluster_idxs.tolist()], node_idxs[second_cluster_idxs.tolist()]\n"
     ]
    },
    {
     "data": {
      "image/png": "[encoded data removed]",
      "text/plain": [
       "<Figure size 432x288 with 1 Axes>"
      ]
     },
     "metadata": {},
     "output_type": "display_data"
    }
   ],
   "source": [
    "# Делим\n",
    "\n",
    "def bisection(L):\n",
    "    eigvals, eigvecs = np.linalg.eig(L)\n",
    "    sec_eigval, sec_eigvec = sorted(zip(eigvals, eigvecs.transpose()), key=lambda x: x[0])[1]\n",
    "    first_cluster = np.sign(sec_eigvec) > 0\n",
    "    second_cluster = np.sign(sec_eigvec) <= 0\n",
    "    return first_cluster, second_cluster\n",
    "\n",
    "first_cluster_idxs, second_cluster_idxs = bisection(L)\n",
    "first_cluster, second_cluster = node_idxs[first_cluster_idxs.tolist()], node_idxs[second_cluster_idxs.tolist()]\n",
    "\n",
    "print(first_cluster_idxs, second_cluster_idxs)\n",
    "print(first_cluster, second_cluster)\n",
    "\n",
    "# Закрашиваем\n",
    "color_map = []\n",
    "for node in G:\n",
    "    if node in first_cluster:\n",
    "        color_map.append('blue')\n",
    "    else: \n",
    "        color_map.append('red')\n",
    "print_graph(G, color_map)"
   ]
  },
  {
   "cell_type": "code",
   "execution_count": null,
   "id": "00d78b98",
   "metadata": {},
   "outputs": [],
   "source": []
  }
 ],
 "metadata": {
  "kernelspec": {
   "display_name": "Python 3 (ipykernel)",
   "language": "python",
   "name": "python3"
  },
  "language_info": {
   "codemirror_mode": {
    "name": "ipython",
    "version": 3
   },
   "file_extension": ".py",
   "mimetype": "text/x-python",
   "name": "python",
   "nbconvert_exporter": "python",
   "pygments_lexer": "ipython3",
   "version": "3.8.8rc1"
  }
 },
 "nbformat": 4,
 "nbformat_minor": 5
}
