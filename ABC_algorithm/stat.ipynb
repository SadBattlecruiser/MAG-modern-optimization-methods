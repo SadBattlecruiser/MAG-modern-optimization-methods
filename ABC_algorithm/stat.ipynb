{
 "cells": [
  {
   "cell_type": "code",
   "execution_count": 11,
   "id": "fb22fa09",
   "metadata": {},
   "outputs": [],
   "source": [
    "import numpy as np\n",
    "import pandas as pd\n",
    "import matplotlib.pyplot as plt\n",
    "\n",
    "import json"
   ]
  },
  {
   "cell_type": "code",
   "execution_count": 34,
   "id": "41f31f51",
   "metadata": {},
   "outputs": [
    {
     "data": {
      "text/plain": [
       "0                      [-3.58981686e-09  1.13642208e-08]\n",
       "1                      [-4.87500664e-09 -3.46297989e-09]\n",
       "2                      [ 7.06522361e-09 -4.62474581e-09]\n",
       "3                      [-8.80774864e-09  4.80439433e-09]\n",
       "4                      [-1.76972024e-10  2.09921260e-09]\n",
       "                             ...                        \n",
       "495    [-0.08388698 -1.10553548 -1.02455741  0.194428...\n",
       "496    [ 0.84449029  0.87974605 -0.8325773  -0.140803...\n",
       "497    [ 1.17730216 -1.06923256  0.08361494  1.951400...\n",
       "498    [ 8.44502157e-01  4.16024424e-02  9.34197937e-...\n",
       "499    [ 0.96722059  1.00354451  1.02649778 -0.943142...\n",
       "Name: X_best, Length: 500, dtype: object"
      ]
     },
     "execution_count": 34,
     "metadata": {},
     "output_type": "execute_result"
    }
   ],
   "source": [
    "rastrigin_df = pd.read_csv('rastrigin_df.csv', index_col=0)\n",
    "rastrigin_df['error_norm'] = np.abs(rastrigin_df['FX_best'] - 330)\n",
    "#rastrigin_df['X_best'] = rastrigin_df['X_best'].apply(lambda x: ' '.join([i for i in x.split(' ') if i != '']).replace(' ', ','))\n",
    "#rastrigin_df['X_best'] = rastrigin_df['X_best'].apply(lambda x: np.array(json.loads(x)))\n",
    "#rastrigin_df['error_norm_X'] = np.abs(rastrigin_df['X_best'].apply(lambda x: np.linalg.norm(x - np.zeros(x.shape))))\n",
    "rastrigin_df['X_best']"
   ]
  },
  {
   "cell_type": "code",
   "execution_count": 35,
   "id": "c1c13c15",
   "metadata": {},
   "outputs": [
    {
     "name": "stderr",
     "output_type": "stream",
     "text": [
      "C:\\Users\\Jojo\\AppData\\Local\\Temp/ipykernel_10304/1162631869.py:1: DeprecationWarning: The binary mode of fromstring is deprecated, as it behaves surprisingly on unicode inputs. Use frombuffer instead\n",
      "  np.fromstring('[-3.58981686e-09  1.13642208e-08]')\n"
     ]
    },
    {
     "ename": "ValueError",
     "evalue": "string size must be a multiple of element size",
     "output_type": "error",
     "traceback": [
      "\u001b[1;31m---------------------------------------------------------------------------\u001b[0m",
      "\u001b[1;31mValueError\u001b[0m                                Traceback (most recent call last)",
      "\u001b[1;32m~\\AppData\\Local\\Temp/ipykernel_10304/1162631869.py\u001b[0m in \u001b[0;36m<module>\u001b[1;34m\u001b[0m\n\u001b[1;32m----> 1\u001b[1;33m \u001b[0mnp\u001b[0m\u001b[1;33m.\u001b[0m\u001b[0mfromstring\u001b[0m\u001b[1;33m(\u001b[0m\u001b[1;34m'[-3.58981686e-09  1.13642208e-08]'\u001b[0m\u001b[1;33m)\u001b[0m\u001b[1;33m\u001b[0m\u001b[1;33m\u001b[0m\u001b[0m\n\u001b[0m",
      "\u001b[1;31mValueError\u001b[0m: string size must be a multiple of element size"
     ]
    }
   ],
   "source": [
    "np.fromstring('[-3.58981686e-09  1.13642208e-08]')"
   ]
  },
  {
   "cell_type": "code",
   "execution_count": 6,
   "id": "faa630a8",
   "metadata": {},
   "outputs": [
    {
     "data": {
      "text/html": [
       "<div>\n",
       "<style scoped>\n",
       "    .dataframe tbody tr th:only-of-type {\n",
       "        vertical-align: middle;\n",
       "    }\n",
       "\n",
       "    .dataframe tbody tr th {\n",
       "        vertical-align: top;\n",
       "    }\n",
       "\n",
       "    .dataframe thead th {\n",
       "        text-align: right;\n",
       "    }\n",
       "</style>\n",
       "<table border=\"1\" class=\"dataframe\">\n",
       "  <thead>\n",
       "    <tr style=\"text-align: right;\">\n",
       "      <th></th>\n",
       "      <th>dimensions</th>\n",
       "      <th>global_prob</th>\n",
       "    </tr>\n",
       "  </thead>\n",
       "  <tbody>\n",
       "    <tr>\n",
       "      <th>0</th>\n",
       "      <td>2</td>\n",
       "      <td>0.87</td>\n",
       "    </tr>\n",
       "    <tr>\n",
       "      <th>1</th>\n",
       "      <td>4</td>\n",
       "      <td>1.00</td>\n",
       "    </tr>\n",
       "    <tr>\n",
       "      <th>2</th>\n",
       "      <td>8</td>\n",
       "      <td>0.99</td>\n",
       "    </tr>\n",
       "    <tr>\n",
       "      <th>3</th>\n",
       "      <td>16</td>\n",
       "      <td>0.22</td>\n",
       "    </tr>\n",
       "    <tr>\n",
       "      <th>4</th>\n",
       "      <td>32</td>\n",
       "      <td>0.00</td>\n",
       "    </tr>\n",
       "  </tbody>\n",
       "</table>\n",
       "</div>"
      ],
      "text/plain": [
       "   dimensions  global_prob\n",
       "0           2         0.87\n",
       "1           4         1.00\n",
       "2           8         0.99\n",
       "3          16         0.22\n",
       "4          32         0.00"
      ]
     },
     "execution_count": 6,
     "metadata": {},
     "output_type": "execute_result"
    }
   ],
   "source": [
    "rastrigin_global_prob = []\n",
    "for dimensions in rastrigin_df['dimensions'].unique():\n",
    "    rastrigin_global_prob.append({\n",
    "        'dimensions': dimensions,\n",
    "        'global_prob': float(np.sum((rastrigin_df['dimensions'] == dimensions) & (rastrigin_df['error_norm'] <= 1e-2))) / \\\n",
    "                       float(np.sum(rastrigin_df['dimensions'] == dimensions))\n",
    "    })\n",
    "rastrigin_global_prob_df = pd.DataFrame(rastrigin_global_prob)\n",
    "rastrigin_global_prob_df"
   ]
  }
 ],
 "metadata": {
  "kernelspec": {
   "display_name": "Python 3 (ipykernel)",
   "language": "python",
   "name": "python3"
  },
  "language_info": {
   "codemirror_mode": {
    "name": "ipython",
    "version": 3
   },
   "file_extension": ".py",
   "mimetype": "text/x-python",
   "name": "python",
   "nbconvert_exporter": "python",
   "pygments_lexer": "ipython3",
   "version": "3.8.8rc1"
  }
 },
 "nbformat": 4,
 "nbformat_minor": 5
}
