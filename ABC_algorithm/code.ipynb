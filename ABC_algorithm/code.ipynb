{
 "cells": [
  {
   "cell_type": "code",
   "execution_count": 70,
   "id": "50643d7d",
   "metadata": {},
   "outputs": [],
   "source": [
    "import numpy as np\n",
    "from tqdm import tqdm\n",
    "from numba import njit\n",
    "\n",
    "from multiprocessing import Pool"
   ]
  },
  {
   "cell_type": "code",
   "execution_count": 155,
   "id": "e1bdceac",
   "metadata": {},
   "outputs": [
    {
     "data": {
      "text/plain": [
       "0.08000000000000002"
      ]
     },
     "execution_count": 155,
     "metadata": {},
     "output_type": "execute_result"
    }
   ],
   "source": [
    "@njit\n",
    "def spherical_func(X, X0=None):\n",
    "    if X0 is None:\n",
    "        X0 = np.zeros(X.shape[0])\n",
    "    return np.sum(np.power(X - X0, 2))\n",
    "\n",
    "\n",
    "@njit\n",
    "def rastrigin_func(X):\n",
    "    return np.sum(np.power(X, 2) - 10*np.cos(2*np.pi*X) + 10) - 330\n",
    "\n",
    "\n",
    "#@njit\n",
    "def rosenbrok_func(X):\n",
    "    s = 0\n",
    "    for i in range(X.shape[0] - 1):\n",
    "        s += 100 * (X[i]**2 - X[i+1])**2 + (X[i] - 1)**2\n",
    "    return s - 390\n",
    "\n",
    "spherical_func(np.array([0.1, 0.1, 0.1, 0.1, 0.1, 0.1, 0.1, 0.1]))"
   ]
  },
  {
   "cell_type": "code",
   "execution_count": 132,
   "id": "286373dc",
   "metadata": {},
   "outputs": [],
   "source": [
    "# Матрица попарных расстояний\n",
    "@njit\n",
    "def calc_dist(X):\n",
    "    dist = np.zeros((X.shape[0], X.shape[0]))\n",
    "    for i in range(1, X.shape[0]):\n",
    "        for j in range(i):\n",
    "            dist[i, j] = np.linalg.norm(X[i]-X[j])\n",
    "            dist[j, i] = dist[i, j]\n",
    "    return dist\n",
    "\n",
    "# Построить NNNS для Xi\n",
    "def MNNS(X, FX, i):\n",
    "    dist = calc_dist(X)\n",
    "    sequence = [(i, X[i], FX[i])]\n",
    "    while True:\n",
    "        candidates = np.argwhere(FX < sequence[-1][2])\n",
    "        if len(candidates) == 0:\n",
    "            break\n",
    "        min_dist = dist[sequence[-1][0], candidates].min()\n",
    "        h = np.argwhere(dist[sequence[-1][0]] == min_dist)[0, 0]\n",
    "        sequence.append((h, X[h], FX[h]))\n",
    "    return sequence\n",
    "\n",
    "\n",
    "# Стратегии поиска, входящие в SP\n",
    "def ss1(X, FX, i):\n",
    "    MSi = np.array(np.array([j[1] for j in MNNS(X, FX, i)]))\n",
    "    MCXi = np.mean(MSi, axis=0)\n",
    "    best = np.argwhere(FX == np.min(FX))[0, 0]\n",
    "    k = np.random.randint(X.shape[0] - 1)\n",
    "    if k >= i:\n",
    "        k += 1\n",
    "    Vi = X[i].copy()\n",
    "    j = np.random.randint(X.shape[1])\n",
    "    Vi[j] = MCXi[j] + np.random.uniform(-1., 1.)*(X[best, j] - X[k, j])\n",
    "    return Vi\n",
    "\n",
    "def ss2(X, FX, i):\n",
    "    MSi = np.array(np.array([j[1] for j in MNNS(X, FX, i)]))\n",
    "    best = np.argwhere(FX == np.min(FX))[0, 0]\n",
    "    Vi = X[i].copy()\n",
    "    j = np.random.randint(X.shape[1])\n",
    "    if MSi.shape[0] == 1:\n",
    "        k = np.random.randint(X.shape[0] - 1)\n",
    "        if k >= i:\n",
    "            k += 1\n",
    "        Vi[j] = X[best, j] + np.random.uniform(-1., 1.)*(X[best, j] - X[k, j])\n",
    "    else:\n",
    "        h = np.random.randint(MSi.shape[0] - 1)\n",
    "        Vi[j] = X[best, j] + np.random.uniform(-1., 1.)*(MSi[h+1, j] - MSi[h, j])\n",
    "    return Vi"
   ]
  },
  {
   "cell_type": "code",
   "execution_count": 193,
   "id": "9859a170",
   "metadata": {},
   "outputs": [
    {
     "name": "stderr",
     "output_type": "stream",
     "text": [
      " 74%|███████████████████████████████████████████████████████████▏                    | 148/200 [00:12<00:04, 12.19it/s]"
     ]
    },
    {
     "name": "stdout",
     "output_type": "stream",
     "text": [
      "stagnation_lim\n",
      "-329.9999999768229\n",
      "[-3.65472260e-06 -4.41394510e-06 -1.96433507e-07  2.25253335e-06\n",
      "  2.26855344e-06 -3.02218543e-06  1.70336004e-06 -7.85435984e-06]\n"
     ]
    },
    {
     "name": "stderr",
     "output_type": "stream",
     "text": [
      "\n"
     ]
    }
   ],
   "source": [
    "def initialize_X(SN, Xmin, Xmax, SP, func):\n",
    "    if Xmin.shape != Xmax.shape:\n",
    "        raise ValueError('initialize_X: Xmin.shape != Xmax.shape')\n",
    "    X = np.zeros((SN, Xmin.shape[0]))\n",
    "    FX = np.zeros(SN)\n",
    "    for i in range(SN):\n",
    "        X[i] = Xmin + np.random.uniform(0, 1, Xmin.shape[0])*(Xmax - Xmin)\n",
    "        FX[i] = func(X[i])\n",
    "    SP_idx = np.random.randint(len(SP), size=X.shape[0])\n",
    "    return X, FX, SP_idx\n",
    "\n",
    "\n",
    "def employed_phase(X, FX, SP, SP_idx, trial, func):\n",
    "    V = np.zeros(X.shape)\n",
    "    FV = np.zeros(X.shape[0])\n",
    "    for i in range(X.shape[0]):\n",
    "        V[i] = SP[SP_idx[i]](X, FX, i)\n",
    "        FV[i] = func(V[i])\n",
    "    for i in range(X.shape[0]):\n",
    "        if FV[i] < FX[i]:\n",
    "            X[i] = V[i]\n",
    "            FX[i] = FV[i]\n",
    "            trial[i] = 0\n",
    "            # Обновляем стратегию поиска\n",
    "            SP_idx_candidate = np.random.randint(len(SP) - 1)\n",
    "            if SP_idx_candidate == SP_idx[i]:\n",
    "                SP_idx[i] = SP_idx_candidate + 1\n",
    "            else:\n",
    "                SP_idx[i] = SP_idx_candidate\n",
    "        else:\n",
    "            trial[i] += 1\n",
    "    return X, FX, SP_idx, trial\n",
    "\n",
    "\n",
    "def onlooker_phase(X, FX, SP, SP_idx, trial, func):\n",
    "    V = np.zeros(X.shape)\n",
    "    FV = np.zeros(X.shape[0])\n",
    "    for i in range(X.shape[0]):\n",
    "        MSi = np.array(np.array([j[1] for j in MNNS(X, FX, i)]))\n",
    "        r = np.random.randint(MSi.shape[0]-1) + 1 if MSi.shape[0] > 1 else 0\n",
    "        h = np.argwhere(FX == func(MSi[r]))[0, 0]\n",
    "        V[h] = SP[SP_idx[h]](X, FX, h)\n",
    "        FV[h] = func(V[h])\n",
    "    for i in range(X.shape[0]):\n",
    "        if FV[i] == 0:\n",
    "            continue\n",
    "        if FV[i] < FX[i]:\n",
    "            X[i] = V[i]\n",
    "            FX[i] = FV[i]\n",
    "            trial[i] = 0\n",
    "            # Обновляем стратегию поиска\n",
    "            SP_idx_candidate = np.random.randint(len(SP) - 1)\n",
    "            if SP_idx_candidate == SP_idx[i]:\n",
    "                SP_idx[i] = SP_idx_candidate + 1\n",
    "            else:\n",
    "                SP_idx[i] = SP_idx_candidate\n",
    "        else:\n",
    "            trial[i] += 1\n",
    "    return X, FX, SP_idx, trial\n",
    "\n",
    "def onlooker_old_phase(X, FX, SP, SP_idx, trial, func):\n",
    "    def fit(f):\n",
    "        return 1./(1+f) if f >= 0 else 1 + np.abs(f)\n",
    "    \n",
    "    fitX = np.vectorize(fit)(FX)\n",
    "    idx_selected = np.random.choice(\n",
    "        X.shape[0],\n",
    "        p=fitX/np.sum(fitX)\n",
    "    )\n",
    "    X_selected = X[idx_selected].copy()\n",
    "    \n",
    "    V = np.zeros(X.shape)\n",
    "    FV = np.zeros(X.shape[0])\n",
    "    for i in range(X.shape[0]):\n",
    "        k = np.random.randint(X.shape[0] - 1)\n",
    "        if k >= i:\n",
    "            k += 1\n",
    "        V[i] = X[i] + np.random.uniform(-1., 1.)*(X[i] - X_selected)\n",
    "        FV[i] = func(V[i])\n",
    "    for i in range(X.shape[0]):\n",
    "        if FV[i] < FX[i]:\n",
    "            X[i] = V[i]\n",
    "            FX[i] = FV[i]\n",
    "            trial[i] = 0\n",
    "        else:\n",
    "            trial[i] += 1            \n",
    "    return X, FX, SP_idx, trial\n",
    "\n",
    "\n",
    "def scout_phase(X, FX, SP, SP_idx, trial, func, Xmin, Xmax, trial_lim):\n",
    "    for i in range(X.shape[0]):\n",
    "        if trial[i] >= trial_lim:\n",
    "            XX, FXX, SP_idxXX = initialize_X(1, Xmin, Xmax, SP, func)\n",
    "            X[i] = XX[0]\n",
    "            FX[i] = FXX[0]\n",
    "            SP_idx[i] = SP_idxXX[0]\n",
    "            trial[i] = 0\n",
    "    return X, FX, SP_idx, trial\n",
    "\n",
    "\n",
    "def form_data(iteration, phase, X, FX, SP_idx, trial):\n",
    "    return {\n",
    "        'iteration': iteration,\n",
    "        'phase': 'initialize',\n",
    "        'X': X.copy(),\n",
    "        'FX': FX.copy(),\n",
    "        'SP_idx': SP_idx.copy(),\n",
    "        'trial': trial.copy()\n",
    "    }\n",
    "\n",
    "def NNSABC(SN, Xmin, Xmax, SP, func, max_iterations=1000, trial_lim=30, stagnation_lim=20, stagnation_eps=1e-6):\n",
    "    path = []\n",
    "    stagnation_cnt = 0\n",
    "    stop_reason = 'max_iterations'\n",
    "    X, FX, SP_idx = initialize_X(SN, Xmin, Xmax, SP, func)\n",
    "    trial = np.zeros(X.shape[0])\n",
    "    path.append(form_data(0, 'initialize', X, FX, SP_idx, trial))\n",
    "    X_best_prev = X[np.argwhere(FX == np.min(FX))[0, 0]]\n",
    "    for iteration in tqdm(range(max_iterations)):\n",
    "        X_best_curr = X[np.argwhere(FX == np.min(FX))[0, 0]]\n",
    "        if np.abs(func(X_best_curr) - func(X_best_prev)) < stagnation_eps:\n",
    "            stagnation_cnt += 1\n",
    "            if stagnation_cnt >= stagnation_lim:\n",
    "                stop_reason = 'stagnation_lim'\n",
    "                break\n",
    "        else:\n",
    "            stagnation_cnt = 0\n",
    "        X_best_prev = X_best_curr\n",
    "        X, FX, SP_idx, trial = employed_phase(X, FX, SP, SP_idx, trial, func)\n",
    "        path.append(form_data(iteration, 'employed', X, FX, SP_idx, trial))\n",
    "        #X, FX, SP_idx, trial = onlooker_phase(X, FX, SP, SP_idx, trial, func)\n",
    "        X, FX, SP_idx, trial = onlooker_old_phase(X, FX, SP, SP_idx, trial, func)\n",
    "        path.append(form_data(iteration, 'onlooker', X, FX, SP_idx, trial))\n",
    "        X, FX, SP_idx, trial = scout_phase(X, FX, SP, SP_idx, trial, func, Xmin, Xmax, trial_lim=10)\n",
    "    return stop_reason, X_best_curr, X, FX, path\n",
    "\n",
    "#func = spherical_func\n",
    "func = rastrigin_func\n",
    "#func = rosenbrok_func\n",
    "\n",
    "dimensions = 8\n",
    "alpha = 2\n",
    "#alpha = 100\n",
    "Xmin = np.array([- alpha] * dimensions)\n",
    "Xmax = np.array([alpha] * dimensions)\n",
    "SN = 80\n",
    "SP = [ss1, ss2]\n",
    "max_iterations = 200\n",
    "\n",
    "stop_reason, X_best,  X,FX, path = NNSABC(SN, Xmin, Xmax, SP, func, max_iterations)\n",
    "FX_best = func(X_best)\n",
    "print(stop_reason)\n",
    "print(FX_best)\n",
    "print(X_best)"
   ]
  },
  {
   "cell_type": "code",
   "execution_count": 191,
   "id": "7b214727",
   "metadata": {
    "scrolled": false
   },
   "outputs": [
    {
     "data": {
      "image/png": "[encoded data removed]",
      "text/plain": [
       "<Figure size 720x720 with 4 Axes>"
      ]
     },
     "metadata": {
      "needs_background": "light"
     },
     "output_type": "display_data"
    }
   ],
   "source": [
    "import matplotlib.pyplot as plt\n",
    "import seaborn as sns\n",
    "\n",
    "def plot_X(fig, subplot_i, X, Xmin, Xmax, title, func=None):\n",
    "    if X.shape[1] != 2:\n",
    "        return\n",
    "    #fig = plt.figure(figsize=(10,8))\n",
    "    ax1 = fig.add_subplot(subplot_i)\n",
    "    ax1.set_xlabel('x1')\n",
    "    ax1.set_ylabel('x2')\n",
    "    ax1.set_xlim([Xmin[0], Xmax[0]])\n",
    "    ax1.set_ylim([Xmin[1], Xmax[1]])\n",
    "    if func:\n",
    "        size = 100\n",
    "        XX, YY = np.meshgrid(np.linspace(Xmin[0], Xmax[0], size), np.linspace(Xmin[1], Xmax[1], size))\n",
    "        Z = np.zeros((size, size))\n",
    "        for i, x in enumerate(np.linspace(Xmin[0], Xmax[0], size)):\n",
    "            for j, y in enumerate(np.linspace(Xmin[1], Xmax[1], size)):\n",
    "                Z[j, i] = func(np.array([x, y]))\n",
    "        ax1.contourf(XX, YY, Z, cmap=plt.cm.bone)\n",
    "    ax1.scatter(\n",
    "        X[:, 0],\n",
    "        X[:, 1],\n",
    "        c='white',\n",
    "        marker='x'\n",
    "    )\n",
    "    ax1.set_title(title)\n",
    "    ax1.grid()\n",
    "    #plt.legend(loc='upper left')\n",
    "    #plt.show()\n",
    "\n",
    "fig = plt.figure(figsize=(10,10))\n",
    "plt.subplots_adjust(hspace=0.3)\n",
    "plot_X(fig, 221, path[0]['X'], Xmin, Xmax, f\"iteration {path[0]['iteration']}\", func)\n",
    "plot_X(fig, 222, path[3]['X'], Xmin, Xmax, f\"iteration {path[4]['iteration']}\", func)\n",
    "plot_X(fig, 223, path[9]['X'], Xmin, Xmax, f\"iteration {path[8]['iteration']}\", func)\n",
    "plot_X(fig, 224, path[-1]['X'], Xmin, Xmax, f\"iteration {path[-1]['iteration']}\", func)\n",
    "plt.show()"
   ]
  },
  {
   "cell_type": "code",
   "execution_count": 137,
   "id": "fc07d7c5",
   "metadata": {},
   "outputs": [
    {
     "name": "stdout",
     "output_type": "stream",
     "text": [
      "dimensions: 16\n",
      "start num:  0\n",
      "Xmin:      \n",
      "[-5 -5 -5 -5 -5 -5 -5 -5 -5 -5 -5 -5 -5 -5 -5 -5]\n",
      "Xmax:      \n",
      "[5 5 5 5 5 5 5 5 5 5 5 5 5 5 5 5]\n"
     ]
    },
    {
     "name": "stderr",
     "output_type": "stream",
     "text": [
      " 35%|███████████████████████████▍                                                   | 348/1000 [00:30<00:56, 11.58it/s]\n"
     ]
    },
    {
     "name": "stdout",
     "output_type": "stream",
     "text": [
      "stop_reason stagnation_lim\n",
      "FX_best -328.0100695033514\n",
      "dimensions: 16\n",
      "start num:  1\n",
      "Xmin:      \n",
      "[-5 -5 -5 -5 -5 -5 -5 -5 -5 -5 -5 -5 -5 -5 -5 -5]\n",
      "Xmax:      \n",
      "[5 5 5 5 5 5 5 5 5 5 5 5 5 5 5 5]\n"
     ]
    },
    {
     "name": "stderr",
     "output_type": "stream",
     "text": [
      " 38%|██████████████████████████████                                                 | 381/1000 [00:33<00:53, 11.52it/s]\n"
     ]
    },
    {
     "name": "stdout",
     "output_type": "stream",
     "text": [
      "stop_reason stagnation_lim\n",
      "FX_best -326.02016190773867\n",
      "dimensions: 16\n",
      "start num:  2\n",
      "Xmin:      \n",
      "[-5 -5 -5 -5 -5 -5 -5 -5 -5 -5 -5 -5 -5 -5 -5 -5]\n",
      "Xmax:      \n",
      "[5 5 5 5 5 5 5 5 5 5 5 5 5 5 5 5]\n"
     ]
    },
    {
     "name": "stderr",
     "output_type": "stream",
     "text": [
      " 33%|█████████████████████████▊                                                     | 326/1000 [00:28<00:58, 11.58it/s]\n"
     ]
    },
    {
     "name": "stdout",
     "output_type": "stream",
     "text": [
      "stop_reason stagnation_lim\n",
      "FX_best -328.010073165095\n",
      "dimensions: 16\n",
      "start num:  3\n",
      "Xmin:      \n",
      "[-5 -5 -5 -5 -5 -5 -5 -5 -5 -5 -5 -5 -5 -5 -5 -5]\n",
      "Xmax:      \n",
      "[5 5 5 5 5 5 5 5 5 5 5 5 5 5 5 5]\n"
     ]
    },
    {
     "name": "stderr",
     "output_type": "stream",
     "text": [
      " 35%|███████████████████████████▍                                                   | 347/1000 [00:29<00:56, 11.61it/s]\n"
     ]
    },
    {
     "name": "stdout",
     "output_type": "stream",
     "text": [
      "stop_reason stagnation_lim\n",
      "FX_best -328.01007906335974\n",
      "dimensions: 16\n",
      "start num:  4\n",
      "Xmin:      \n",
      "[-5 -5 -5 -5 -5 -5 -5 -5 -5 -5 -5 -5 -5 -5 -5 -5]\n",
      "Xmax:      \n",
      "[5 5 5 5 5 5 5 5 5 5 5 5 5 5 5 5]\n"
     ]
    },
    {
     "name": "stderr",
     "output_type": "stream",
     "text": [
      " 18%|██████████████                                                                 | 178/1000 [00:15<01:09, 11.82it/s]\n"
     ]
    },
    {
     "ename": "KeyboardInterrupt",
     "evalue": "",
     "output_type": "error",
     "traceback": [
      "\u001b[1;31m---------------------------------------------------------------------------\u001b[0m",
      "\u001b[1;31mKeyboardInterrupt\u001b[0m                         Traceback (most recent call last)",
      "\u001b[1;32m~\\AppData\\Local\\Temp/ipykernel_9496/1870155627.py\u001b[0m in \u001b[0;36m<module>\u001b[1;34m\u001b[0m\n\u001b[0;32m     22\u001b[0m         \u001b[0mprint\u001b[0m\u001b[1;33m(\u001b[0m\u001b[1;34m'Xmax:      '\u001b[0m\u001b[1;33m)\u001b[0m\u001b[1;33m\u001b[0m\u001b[1;33m\u001b[0m\u001b[0m\n\u001b[0;32m     23\u001b[0m         \u001b[0mprint\u001b[0m\u001b[1;33m(\u001b[0m\u001b[0mXmax\u001b[0m\u001b[1;33m)\u001b[0m\u001b[1;33m\u001b[0m\u001b[1;33m\u001b[0m\u001b[0m\n\u001b[1;32m---> 24\u001b[1;33m         \u001b[0mstop_reason\u001b[0m\u001b[1;33m,\u001b[0m \u001b[0mX_best\u001b[0m\u001b[1;33m,\u001b[0m  \u001b[0mX\u001b[0m\u001b[1;33m,\u001b[0m\u001b[0mFX\u001b[0m\u001b[1;33m,\u001b[0m \u001b[0mpath\u001b[0m \u001b[1;33m=\u001b[0m \u001b[0mNNSABC\u001b[0m\u001b[1;33m(\u001b[0m\u001b[0mSN\u001b[0m\u001b[1;33m,\u001b[0m \u001b[0mXmin\u001b[0m\u001b[1;33m,\u001b[0m \u001b[0mXmax\u001b[0m\u001b[1;33m,\u001b[0m \u001b[0mSP\u001b[0m\u001b[1;33m,\u001b[0m \u001b[0mfunc\u001b[0m\u001b[1;33m,\u001b[0m \u001b[0mmax_iterations\u001b[0m\u001b[1;33m)\u001b[0m\u001b[1;33m\u001b[0m\u001b[1;33m\u001b[0m\u001b[0m\n\u001b[0m\u001b[0;32m     25\u001b[0m         \u001b[0mFX_best\u001b[0m \u001b[1;33m=\u001b[0m \u001b[0mfunc\u001b[0m\u001b[1;33m(\u001b[0m\u001b[0mX_best\u001b[0m\u001b[1;33m)\u001b[0m\u001b[1;33m\u001b[0m\u001b[1;33m\u001b[0m\u001b[0m\n\u001b[0;32m     26\u001b[0m         \u001b[0mprint\u001b[0m\u001b[1;33m(\u001b[0m\u001b[1;34m'stop_reason'\u001b[0m\u001b[1;33m,\u001b[0m \u001b[0mstop_reason\u001b[0m\u001b[1;33m)\u001b[0m\u001b[1;33m\u001b[0m\u001b[1;33m\u001b[0m\u001b[0m\n",
      "\u001b[1;32m~\\AppData\\Local\\Temp/ipykernel_9496/4258216632.py\u001b[0m in \u001b[0;36mNNSABC\u001b[1;34m(SN, Xmin, Xmax, SP, func, max_iterations, trial_lim, stagnation_lim, stagnation_eps)\u001b[0m\n\u001b[0;32m    127\u001b[0m             \u001b[0mstagnation_cnt\u001b[0m \u001b[1;33m=\u001b[0m \u001b[1;36m0\u001b[0m\u001b[1;33m\u001b[0m\u001b[1;33m\u001b[0m\u001b[0m\n\u001b[0;32m    128\u001b[0m         \u001b[0mX_best_prev\u001b[0m \u001b[1;33m=\u001b[0m \u001b[0mX_best_curr\u001b[0m\u001b[1;33m\u001b[0m\u001b[1;33m\u001b[0m\u001b[0m\n\u001b[1;32m--> 129\u001b[1;33m         \u001b[0mX\u001b[0m\u001b[1;33m,\u001b[0m \u001b[0mFX\u001b[0m\u001b[1;33m,\u001b[0m \u001b[0mSP_idx\u001b[0m\u001b[1;33m,\u001b[0m \u001b[0mtrial\u001b[0m \u001b[1;33m=\u001b[0m \u001b[0memployed_phase\u001b[0m\u001b[1;33m(\u001b[0m\u001b[0mX\u001b[0m\u001b[1;33m,\u001b[0m \u001b[0mFX\u001b[0m\u001b[1;33m,\u001b[0m \u001b[0mSP\u001b[0m\u001b[1;33m,\u001b[0m \u001b[0mSP_idx\u001b[0m\u001b[1;33m,\u001b[0m \u001b[0mtrial\u001b[0m\u001b[1;33m,\u001b[0m \u001b[0mfunc\u001b[0m\u001b[1;33m)\u001b[0m\u001b[1;33m\u001b[0m\u001b[1;33m\u001b[0m\u001b[0m\n\u001b[0m\u001b[0;32m    130\u001b[0m         \u001b[0mpath\u001b[0m\u001b[1;33m.\u001b[0m\u001b[0mappend\u001b[0m\u001b[1;33m(\u001b[0m\u001b[0mform_data\u001b[0m\u001b[1;33m(\u001b[0m\u001b[0miteration\u001b[0m\u001b[1;33m,\u001b[0m \u001b[1;34m'employed'\u001b[0m\u001b[1;33m,\u001b[0m \u001b[0mX\u001b[0m\u001b[1;33m,\u001b[0m \u001b[0mFX\u001b[0m\u001b[1;33m,\u001b[0m \u001b[0mSP_idx\u001b[0m\u001b[1;33m,\u001b[0m \u001b[0mtrial\u001b[0m\u001b[1;33m)\u001b[0m\u001b[1;33m)\u001b[0m\u001b[1;33m\u001b[0m\u001b[1;33m\u001b[0m\u001b[0m\n\u001b[0;32m    131\u001b[0m         \u001b[1;31m#X, FX, SP_idx, trial = onlooker_phase(X, FX, SP, SP_idx, trial, func)\u001b[0m\u001b[1;33m\u001b[0m\u001b[1;33m\u001b[0m\u001b[1;33m\u001b[0m\u001b[0m\n",
      "\u001b[1;32m~\\AppData\\Local\\Temp/ipykernel_9496/4258216632.py\u001b[0m in \u001b[0;36memployed_phase\u001b[1;34m(X, FX, SP, SP_idx, trial, func)\u001b[0m\n\u001b[0;32m     15\u001b[0m     \u001b[0mFV\u001b[0m \u001b[1;33m=\u001b[0m \u001b[0mnp\u001b[0m\u001b[1;33m.\u001b[0m\u001b[0mzeros\u001b[0m\u001b[1;33m(\u001b[0m\u001b[0mX\u001b[0m\u001b[1;33m.\u001b[0m\u001b[0mshape\u001b[0m\u001b[1;33m[\u001b[0m\u001b[1;36m0\u001b[0m\u001b[1;33m]\u001b[0m\u001b[1;33m)\u001b[0m\u001b[1;33m\u001b[0m\u001b[1;33m\u001b[0m\u001b[0m\n\u001b[0;32m     16\u001b[0m     \u001b[1;32mfor\u001b[0m \u001b[0mi\u001b[0m \u001b[1;32min\u001b[0m \u001b[0mrange\u001b[0m\u001b[1;33m(\u001b[0m\u001b[0mX\u001b[0m\u001b[1;33m.\u001b[0m\u001b[0mshape\u001b[0m\u001b[1;33m[\u001b[0m\u001b[1;36m0\u001b[0m\u001b[1;33m]\u001b[0m\u001b[1;33m)\u001b[0m\u001b[1;33m:\u001b[0m\u001b[1;33m\u001b[0m\u001b[1;33m\u001b[0m\u001b[0m\n\u001b[1;32m---> 17\u001b[1;33m         \u001b[0mV\u001b[0m\u001b[1;33m[\u001b[0m\u001b[0mi\u001b[0m\u001b[1;33m]\u001b[0m \u001b[1;33m=\u001b[0m \u001b[0mSP\u001b[0m\u001b[1;33m[\u001b[0m\u001b[0mSP_idx\u001b[0m\u001b[1;33m[\u001b[0m\u001b[0mi\u001b[0m\u001b[1;33m]\u001b[0m\u001b[1;33m]\u001b[0m\u001b[1;33m(\u001b[0m\u001b[0mX\u001b[0m\u001b[1;33m,\u001b[0m \u001b[0mFX\u001b[0m\u001b[1;33m,\u001b[0m \u001b[0mi\u001b[0m\u001b[1;33m)\u001b[0m\u001b[1;33m\u001b[0m\u001b[1;33m\u001b[0m\u001b[0m\n\u001b[0m\u001b[0;32m     18\u001b[0m         \u001b[0mFV\u001b[0m\u001b[1;33m[\u001b[0m\u001b[0mi\u001b[0m\u001b[1;33m]\u001b[0m \u001b[1;33m=\u001b[0m \u001b[0mfunc\u001b[0m\u001b[1;33m(\u001b[0m\u001b[0mV\u001b[0m\u001b[1;33m[\u001b[0m\u001b[0mi\u001b[0m\u001b[1;33m]\u001b[0m\u001b[1;33m)\u001b[0m\u001b[1;33m\u001b[0m\u001b[1;33m\u001b[0m\u001b[0m\n\u001b[0;32m     19\u001b[0m     \u001b[1;32mfor\u001b[0m \u001b[0mi\u001b[0m \u001b[1;32min\u001b[0m \u001b[0mrange\u001b[0m\u001b[1;33m(\u001b[0m\u001b[0mX\u001b[0m\u001b[1;33m.\u001b[0m\u001b[0mshape\u001b[0m\u001b[1;33m[\u001b[0m\u001b[1;36m0\u001b[0m\u001b[1;33m]\u001b[0m\u001b[1;33m)\u001b[0m\u001b[1;33m:\u001b[0m\u001b[1;33m\u001b[0m\u001b[1;33m\u001b[0m\u001b[0m\n",
      "\u001b[1;32m~\\AppData\\Local\\Temp/ipykernel_9496/2691477668.py\u001b[0m in \u001b[0;36mss2\u001b[1;34m(X, FX, i)\u001b[0m\n\u001b[0;32m     37\u001b[0m \u001b[1;33m\u001b[0m\u001b[0m\n\u001b[0;32m     38\u001b[0m \u001b[1;32mdef\u001b[0m \u001b[0mss2\u001b[0m\u001b[1;33m(\u001b[0m\u001b[0mX\u001b[0m\u001b[1;33m,\u001b[0m \u001b[0mFX\u001b[0m\u001b[1;33m,\u001b[0m \u001b[0mi\u001b[0m\u001b[1;33m)\u001b[0m\u001b[1;33m:\u001b[0m\u001b[1;33m\u001b[0m\u001b[1;33m\u001b[0m\u001b[0m\n\u001b[1;32m---> 39\u001b[1;33m     \u001b[0mMSi\u001b[0m \u001b[1;33m=\u001b[0m \u001b[0mnp\u001b[0m\u001b[1;33m.\u001b[0m\u001b[0marray\u001b[0m\u001b[1;33m(\u001b[0m\u001b[0mnp\u001b[0m\u001b[1;33m.\u001b[0m\u001b[0marray\u001b[0m\u001b[1;33m(\u001b[0m\u001b[1;33m[\u001b[0m\u001b[0mj\u001b[0m\u001b[1;33m[\u001b[0m\u001b[1;36m1\u001b[0m\u001b[1;33m]\u001b[0m \u001b[1;32mfor\u001b[0m \u001b[0mj\u001b[0m \u001b[1;32min\u001b[0m \u001b[0mMNNS\u001b[0m\u001b[1;33m(\u001b[0m\u001b[0mX\u001b[0m\u001b[1;33m,\u001b[0m \u001b[0mFX\u001b[0m\u001b[1;33m,\u001b[0m \u001b[0mi\u001b[0m\u001b[1;33m)\u001b[0m\u001b[1;33m]\u001b[0m\u001b[1;33m)\u001b[0m\u001b[1;33m)\u001b[0m\u001b[1;33m\u001b[0m\u001b[1;33m\u001b[0m\u001b[0m\n\u001b[0m\u001b[0;32m     40\u001b[0m     \u001b[0mbest\u001b[0m \u001b[1;33m=\u001b[0m \u001b[0mnp\u001b[0m\u001b[1;33m.\u001b[0m\u001b[0margwhere\u001b[0m\u001b[1;33m(\u001b[0m\u001b[0mFX\u001b[0m \u001b[1;33m==\u001b[0m \u001b[0mnp\u001b[0m\u001b[1;33m.\u001b[0m\u001b[0mmin\u001b[0m\u001b[1;33m(\u001b[0m\u001b[0mFX\u001b[0m\u001b[1;33m)\u001b[0m\u001b[1;33m)\u001b[0m\u001b[1;33m[\u001b[0m\u001b[1;36m0\u001b[0m\u001b[1;33m,\u001b[0m \u001b[1;36m0\u001b[0m\u001b[1;33m]\u001b[0m\u001b[1;33m\u001b[0m\u001b[1;33m\u001b[0m\u001b[0m\n\u001b[0;32m     41\u001b[0m     \u001b[0mVi\u001b[0m \u001b[1;33m=\u001b[0m \u001b[0mX\u001b[0m\u001b[1;33m[\u001b[0m\u001b[0mi\u001b[0m\u001b[1;33m]\u001b[0m\u001b[1;33m.\u001b[0m\u001b[0mcopy\u001b[0m\u001b[1;33m(\u001b[0m\u001b[1;33m)\u001b[0m\u001b[1;33m\u001b[0m\u001b[1;33m\u001b[0m\u001b[0m\n",
      "\u001b[1;31mKeyboardInterrupt\u001b[0m: "
     ]
    }
   ],
   "source": [
    "# Тестируем Растригина\n",
    "\n",
    "dimensions_list = [2, 4, 8, 16, 32]\n",
    "dimensions_list = [16, 32]\n",
    "\n",
    "func = rastrigin_func\n",
    "alpha = 5\n",
    "SN = 80\n",
    "SP = [ss1, ss2]\n",
    "max_iterations = 1000\n",
    "\n",
    "res = []\n",
    "\n",
    "for dimensions in dimensions_list:\n",
    "    Xmin = np.array([- alpha] * dimensions)\n",
    "    Xmax = np.array([alpha] * dimensions)\n",
    "    for start in range(10):\n",
    "        print('dimensions:', dimensions)\n",
    "        print('start num: ', start)\n",
    "        print('Xmin:      ')\n",
    "        print(Xmin)\n",
    "        print('Xmax:      ')\n",
    "        print(Xmax)\n",
    "        stop_reason, X_best,  X,FX, path = NNSABC(SN, Xmin, Xmax, SP, func, max_iterations)\n",
    "        FX_best = func(X_best)\n",
    "        print('stop_reason', stop_reason)\n",
    "        print('FX_best', FX_best)\n",
    "        res.append({\n",
    "            'start_num': start,\n",
    "            'stop_reason': stop_reason,\n",
    "            'FX_best': FX_best,\n",
    "            'X_best': X_best,\n",
    "            'path': path\n",
    "        })"
   ]
  },
  {
   "cell_type": "code",
   "execution_count": 126,
   "id": "cc8ca764",
   "metadata": {},
   "outputs": [
    {
     "data": {
      "text/html": [
       "<div>\n",
       "<style scoped>\n",
       "    .dataframe tbody tr th:only-of-type {\n",
       "        vertical-align: middle;\n",
       "    }\n",
       "\n",
       "    .dataframe tbody tr th {\n",
       "        vertical-align: top;\n",
       "    }\n",
       "\n",
       "    .dataframe thead th {\n",
       "        text-align: right;\n",
       "    }\n",
       "</style>\n",
       "<table border=\"1\" class=\"dataframe\">\n",
       "  <thead>\n",
       "    <tr style=\"text-align: right;\">\n",
       "      <th></th>\n",
       "      <th>start_num</th>\n",
       "      <th>stop_reason</th>\n",
       "      <th>FX_best</th>\n",
       "      <th>X_best</th>\n",
       "      <th>dimensions</th>\n",
       "      <th>error_norm</th>\n",
       "    </tr>\n",
       "  </thead>\n",
       "  <tbody>\n",
       "    <tr>\n",
       "      <th>0</th>\n",
       "      <td>0</td>\n",
       "      <td>stagnation_lim</td>\n",
       "      <td>-330.000000</td>\n",
       "      <td>[-8.625870704678567e-09, -7.214367672586988e-09]</td>\n",
       "      <td>2</td>\n",
       "      <td>0.000000</td>\n",
       "    </tr>\n",
       "    <tr>\n",
       "      <th>1</th>\n",
       "      <td>1</td>\n",
       "      <td>stagnation_lim</td>\n",
       "      <td>-329.005041</td>\n",
       "      <td>[0.9949586292227688, -4.549071983283015e-09]</td>\n",
       "      <td>2</td>\n",
       "      <td>0.994959</td>\n",
       "    </tr>\n",
       "    <tr>\n",
       "      <th>2</th>\n",
       "      <td>2</td>\n",
       "      <td>stagnation_lim</td>\n",
       "      <td>-330.000000</td>\n",
       "      <td>[-6.3419352475378786e-09, 3.918396633322755e-09]</td>\n",
       "      <td>2</td>\n",
       "      <td>0.000000</td>\n",
       "    </tr>\n",
       "    <tr>\n",
       "      <th>3</th>\n",
       "      <td>3</td>\n",
       "      <td>stagnation_lim</td>\n",
       "      <td>-330.000000</td>\n",
       "      <td>[8.746436255189846e-09, -6.724434809873954e-09]</td>\n",
       "      <td>2</td>\n",
       "      <td>0.000000</td>\n",
       "    </tr>\n",
       "    <tr>\n",
       "      <th>4</th>\n",
       "      <td>4</td>\n",
       "      <td>stagnation_lim</td>\n",
       "      <td>-330.000000</td>\n",
       "      <td>[6.805784409782695e-09, -9.129537086042051e-09]</td>\n",
       "      <td>2</td>\n",
       "      <td>0.000000</td>\n",
       "    </tr>\n",
       "    <tr>\n",
       "      <th>...</th>\n",
       "      <td>...</td>\n",
       "      <td>...</td>\n",
       "      <td>...</td>\n",
       "      <td>...</td>\n",
       "      <td>...</td>\n",
       "      <td>...</td>\n",
       "    </tr>\n",
       "    <tr>\n",
       "      <th>95</th>\n",
       "      <td>15</td>\n",
       "      <td>stagnation_lim</td>\n",
       "      <td>-107.128251</td>\n",
       "      <td>[-1.0923336897532563, 1.122916536640351, -3.55...</td>\n",
       "      <td>32</td>\n",
       "      <td>222.871749</td>\n",
       "    </tr>\n",
       "    <tr>\n",
       "      <th>96</th>\n",
       "      <td>16</td>\n",
       "      <td>stagnation_lim</td>\n",
       "      <td>-168.524348</td>\n",
       "      <td>[-1.0862663569995663, 1.1424245908350588, -0.0...</td>\n",
       "      <td>32</td>\n",
       "      <td>161.475652</td>\n",
       "    </tr>\n",
       "    <tr>\n",
       "      <th>97</th>\n",
       "      <td>17</td>\n",
       "      <td>stagnation_lim</td>\n",
       "      <td>-101.137219</td>\n",
       "      <td>[0.7955205107128559, -1.3709411730599739, -1.9...</td>\n",
       "      <td>32</td>\n",
       "      <td>228.862781</td>\n",
       "    </tr>\n",
       "    <tr>\n",
       "      <th>98</th>\n",
       "      <td>18</td>\n",
       "      <td>stagnation_lim</td>\n",
       "      <td>-100.993178</td>\n",
       "      <td>[0.9886856005029471, 2.1266564731010966, -0.00...</td>\n",
       "      <td>32</td>\n",
       "      <td>229.006822</td>\n",
       "    </tr>\n",
       "    <tr>\n",
       "      <th>99</th>\n",
       "      <td>19</td>\n",
       "      <td>stagnation_lim</td>\n",
       "      <td>-95.483234</td>\n",
       "      <td>[-0.04006638947051044, 1.927483372208679, 1.77...</td>\n",
       "      <td>32</td>\n",
       "      <td>234.516766</td>\n",
       "    </tr>\n",
       "  </tbody>\n",
       "</table>\n",
       "<p>100 rows × 6 columns</p>\n",
       "</div>"
      ],
      "text/plain": [
       "    start_num     stop_reason     FX_best  \\\n",
       "0           0  stagnation_lim -330.000000   \n",
       "1           1  stagnation_lim -329.005041   \n",
       "2           2  stagnation_lim -330.000000   \n",
       "3           3  stagnation_lim -330.000000   \n",
       "4           4  stagnation_lim -330.000000   \n",
       "..        ...             ...         ...   \n",
       "95         15  stagnation_lim -107.128251   \n",
       "96         16  stagnation_lim -168.524348   \n",
       "97         17  stagnation_lim -101.137219   \n",
       "98         18  stagnation_lim -100.993178   \n",
       "99         19  stagnation_lim  -95.483234   \n",
       "\n",
       "                                               X_best  dimensions  error_norm  \n",
       "0    [-8.625870704678567e-09, -7.214367672586988e-09]           2    0.000000  \n",
       "1        [0.9949586292227688, -4.549071983283015e-09]           2    0.994959  \n",
       "2    [-6.3419352475378786e-09, 3.918396633322755e-09]           2    0.000000  \n",
       "3     [8.746436255189846e-09, -6.724434809873954e-09]           2    0.000000  \n",
       "4     [6.805784409782695e-09, -9.129537086042051e-09]           2    0.000000  \n",
       "..                                                ...         ...         ...  \n",
       "95  [-1.0923336897532563, 1.122916536640351, -3.55...          32  222.871749  \n",
       "96  [-1.0862663569995663, 1.1424245908350588, -0.0...          32  161.475652  \n",
       "97  [0.7955205107128559, -1.3709411730599739, -1.9...          32  228.862781  \n",
       "98  [0.9886856005029471, 2.1266564731010966, -0.00...          32  229.006822  \n",
       "99  [-0.04006638947051044, 1.927483372208679, 1.77...          32  234.516766  \n",
       "\n",
       "[100 rows x 6 columns]"
      ]
     },
     "execution_count": 126,
     "metadata": {},
     "output_type": "execute_result"
    }
   ],
   "source": [
    "import pandas as pd\n",
    "\n",
    "rastrigin_df = pd.DataFrame([{\n",
    "    'start_num': i['start_num'],\n",
    "    'stop_reason': i['stop_reason'],\n",
    "    'FX_best': i['FX_best'],\n",
    "    'X_best': i['X_best']\n",
    "} for i in res])\n",
    "rastrigin_df['dimensions'] = rastrigin_df['X_best'].apply(lambda x: np.shape(x)[0])\n",
    "rastrigin_df['error_norm'] = (rastrigin_df['FX_best'] + 330.).apply(np.abs)\n",
    "rastrigin_df"
   ]
  },
  {
   "cell_type": "code",
   "execution_count": 127,
   "id": "3ff6133c",
   "metadata": {},
   "outputs": [
    {
     "data": {
      "text/html": [
       "<div>\n",
       "<style scoped>\n",
       "    .dataframe tbody tr th:only-of-type {\n",
       "        vertical-align: middle;\n",
       "    }\n",
       "\n",
       "    .dataframe tbody tr th {\n",
       "        vertical-align: top;\n",
       "    }\n",
       "\n",
       "    .dataframe thead th {\n",
       "        text-align: right;\n",
       "    }\n",
       "</style>\n",
       "<table border=\"1\" class=\"dataframe\">\n",
       "  <thead>\n",
       "    <tr style=\"text-align: right;\">\n",
       "      <th></th>\n",
       "      <th>dimensions</th>\n",
       "      <th>global_prob</th>\n",
       "    </tr>\n",
       "  </thead>\n",
       "  <tbody>\n",
       "    <tr>\n",
       "      <th>0</th>\n",
       "      <td>2</td>\n",
       "      <td>0.95</td>\n",
       "    </tr>\n",
       "    <tr>\n",
       "      <th>1</th>\n",
       "      <td>4</td>\n",
       "      <td>0.00</td>\n",
       "    </tr>\n",
       "    <tr>\n",
       "      <th>2</th>\n",
       "      <td>8</td>\n",
       "      <td>0.00</td>\n",
       "    </tr>\n",
       "    <tr>\n",
       "      <th>3</th>\n",
       "      <td>16</td>\n",
       "      <td>0.00</td>\n",
       "    </tr>\n",
       "    <tr>\n",
       "      <th>4</th>\n",
       "      <td>32</td>\n",
       "      <td>0.00</td>\n",
       "    </tr>\n",
       "  </tbody>\n",
       "</table>\n",
       "</div>"
      ],
      "text/plain": [
       "   dimensions  global_prob\n",
       "0           2         0.95\n",
       "1           4         0.00\n",
       "2           8         0.00\n",
       "3          16         0.00\n",
       "4          32         0.00"
      ]
     },
     "execution_count": 127,
     "metadata": {},
     "output_type": "execute_result"
    }
   ],
   "source": [
    "# Считаем вероятность попадания в глобальный минимум\n",
    "global_prob = []\n",
    "for dimensions in rastrigin_df['dimensions'].unique():\n",
    "    global_prob.append({\n",
    "        'dimensions': dimensions,\n",
    "        'global_prob': float(np.sum((rastrigin_df['dimensions'] == dimensions) & (rastrigin_df['error_norm'] <= 1e-2))) / \\\n",
    "                       float(np.sum(rastrigin_df['dimensions'] == dimensions))\n",
    "    })\n",
    "global_prob_df = pd.DataFrame(global_prob)\n",
    "global_prob_df"
   ]
  },
  {
   "cell_type": "code",
   "execution_count": 139,
   "id": "ace3fdf1",
   "metadata": {},
   "outputs": [
    {
     "name": "stdout",
     "output_type": "stream",
     "text": [
      "0\n"
     ]
    },
    {
     "name": "stderr",
     "output_type": "stream",
     "text": [
      " 55%|███████████████████████████████████████████                                    | 545/1000 [00:49<00:41, 10.91it/s]\n"
     ]
    },
    {
     "name": "stdout",
     "output_type": "stream",
     "text": [
      "stop_reason stagnation_lim\n",
      "FX_best -319.1213906195929\n",
      "1\n"
     ]
    },
    {
     "name": "stderr",
     "output_type": "stream",
     "text": [
      " 68%|█████████████████████████████████████████████████████▍                         | 677/1000 [01:02<00:29, 10.79it/s]\n"
     ]
    },
    {
     "name": "stdout",
     "output_type": "stream",
     "text": [
      "stop_reason stagnation_lim\n",
      "FX_best -290.5011744163496\n",
      "2\n"
     ]
    },
    {
     "name": "stderr",
     "output_type": "stream",
     "text": [
      "100%|██████████████████████████████████████████████████████████████████████████████| 1000/1000 [01:32<00:00, 10.83it/s]\n"
     ]
    },
    {
     "name": "stdout",
     "output_type": "stream",
     "text": [
      "stop_reason max_iterations\n",
      "FX_best -375.2078294597471\n",
      "3\n"
     ]
    },
    {
     "name": "stderr",
     "output_type": "stream",
     "text": [
      " 70%|███████████████████████████████████████████████████████▋                       | 705/1000 [01:04<00:27, 10.88it/s]\n"
     ]
    },
    {
     "name": "stdout",
     "output_type": "stream",
     "text": [
      "stop_reason stagnation_lim\n",
      "FX_best -243.3075974844346\n",
      "4\n"
     ]
    },
    {
     "name": "stderr",
     "output_type": "stream",
     "text": [
      " 72%|█████████████████████████████████████████████████████████▏                     | 724/1000 [01:06<00:25, 10.87it/s]\n"
     ]
    },
    {
     "name": "stdout",
     "output_type": "stream",
     "text": [
      "stop_reason stagnation_lim\n",
      "FX_best -242.19376796620105\n",
      "5\n"
     ]
    },
    {
     "name": "stderr",
     "output_type": "stream",
     "text": [
      "100%|██████████████████████████████████████████████████████████████████████████████| 1000/1000 [01:31<00:00, 10.87it/s]\n"
     ]
    },
    {
     "name": "stdout",
     "output_type": "stream",
     "text": [
      "stop_reason max_iterations\n",
      "FX_best -385.84399306785747\n",
      "6\n"
     ]
    },
    {
     "name": "stderr",
     "output_type": "stream",
     "text": [
      "100%|██████████████████████████████████████████████████████████████████████████████| 1000/1000 [01:32<00:00, 10.85it/s]\n"
     ]
    },
    {
     "name": "stdout",
     "output_type": "stream",
     "text": [
      "stop_reason max_iterations\n",
      "FX_best -381.4336535654001\n",
      "7\n"
     ]
    },
    {
     "name": "stderr",
     "output_type": "stream",
     "text": [
      " 55%|███████████████████████████████████████████▍                                   | 550/1000 [00:50<00:41, 10.90it/s]\n"
     ]
    },
    {
     "name": "stdout",
     "output_type": "stream",
     "text": [
      "stop_reason stagnation_lim\n",
      "FX_best -82.82375961252518\n",
      "8\n"
     ]
    },
    {
     "name": "stderr",
     "output_type": "stream",
     "text": [
      " 43%|█████████████████████████████████▉                                             | 429/1000 [00:39<00:52, 10.95it/s]\n"
     ]
    },
    {
     "name": "stdout",
     "output_type": "stream",
     "text": [
      "stop_reason stagnation_lim\n",
      "FX_best -325.0241619278798\n",
      "9\n"
     ]
    },
    {
     "name": "stderr",
     "output_type": "stream",
     "text": [
      " 45%|███████████████████████████████████▋                                           | 452/1000 [00:41<00:50, 10.88it/s]\n"
     ]
    },
    {
     "name": "stdout",
     "output_type": "stream",
     "text": [
      "stop_reason stagnation_lim\n",
      "FX_best -349.4630909321414\n",
      "10\n"
     ]
    },
    {
     "name": "stderr",
     "output_type": "stream",
     "text": [
      " 46%|████████████████████████████████████▎                                          | 459/1000 [00:41<00:49, 10.94it/s]\n"
     ]
    },
    {
     "name": "stdout",
     "output_type": "stream",
     "text": [
      "stop_reason stagnation_lim\n",
      "FX_best 1644.729110603996\n",
      "11\n"
     ]
    },
    {
     "name": "stderr",
     "output_type": "stream",
     "text": [
      "100%|██████████████████████████████████████████████████████████████████████████████| 1000/1000 [01:31<00:00, 10.90it/s]\n"
     ]
    },
    {
     "name": "stdout",
     "output_type": "stream",
     "text": [
      "stop_reason max_iterations\n",
      "FX_best -387.7038107031439\n",
      "12\n"
     ]
    },
    {
     "name": "stderr",
     "output_type": "stream",
     "text": [
      " 67%|█████████████████████████████████████████████████████▏                         | 674/1000 [01:01<00:29, 10.90it/s]\n"
     ]
    },
    {
     "name": "stdout",
     "output_type": "stream",
     "text": [
      "stop_reason stagnation_lim\n",
      "FX_best -380.42148137247233\n",
      "13\n"
     ]
    },
    {
     "name": "stderr",
     "output_type": "stream",
     "text": [
      "100%|██████████████████████████████████████████████████████████████████████████████| 1000/1000 [01:31<00:00, 10.88it/s]\n"
     ]
    },
    {
     "name": "stdout",
     "output_type": "stream",
     "text": [
      "stop_reason max_iterations\n",
      "FX_best -207.51538841745906\n",
      "14\n"
     ]
    },
    {
     "name": "stderr",
     "output_type": "stream",
     "text": [
      "100%|██████████████████████████████████████████████████████████████████████████████| 1000/1000 [01:32<00:00, 10.82it/s]\n"
     ]
    },
    {
     "name": "stdout",
     "output_type": "stream",
     "text": [
      "stop_reason max_iterations\n",
      "FX_best -388.1120174115134\n",
      "15\n"
     ]
    },
    {
     "name": "stderr",
     "output_type": "stream",
     "text": [
      " 89%|█████████████████████████████████████████████████████████████████████▉         | 886/1000 [01:21<00:10, 10.85it/s]\n"
     ]
    },
    {
     "name": "stdout",
     "output_type": "stream",
     "text": [
      "stop_reason stagnation_lim\n",
      "FX_best 448.24801025237275\n",
      "16\n"
     ]
    },
    {
     "name": "stderr",
     "output_type": "stream",
     "text": [
      "100%|██████████████████████████████████████████████████████████████████████████████| 1000/1000 [01:32<00:00, 10.79it/s]\n"
     ]
    },
    {
     "name": "stdout",
     "output_type": "stream",
     "text": [
      "stop_reason max_iterations\n",
      "FX_best -389.93775204024\n",
      "17\n"
     ]
    },
    {
     "name": "stderr",
     "output_type": "stream",
     "text": [
      " 47%|████████████████████████████████████▊                                          | 466/1000 [00:42<00:49, 10.86it/s]\n"
     ]
    },
    {
     "name": "stdout",
     "output_type": "stream",
     "text": [
      "stop_reason stagnation_lim\n",
      "FX_best -285.53713516307187\n",
      "18\n"
     ]
    },
    {
     "name": "stderr",
     "output_type": "stream",
     "text": [
      " 59%|██████████████████████████████████████████████▎                                | 586/1000 [00:54<00:38, 10.83it/s]\n"
     ]
    },
    {
     "name": "stdout",
     "output_type": "stream",
     "text": [
      "stop_reason stagnation_lim\n",
      "FX_best 2990.0434696819743\n",
      "19\n"
     ]
    },
    {
     "name": "stderr",
     "output_type": "stream",
     "text": [
      " 36%|████████████████████████████▎                                                  | 359/1000 [00:32<00:58, 10.95it/s]\n"
     ]
    },
    {
     "name": "stdout",
     "output_type": "stream",
     "text": [
      "stop_reason stagnation_lim\n",
      "FX_best 5428.682076628319\n",
      "0\n"
     ]
    },
    {
     "name": "stderr",
     "output_type": "stream",
     "text": [
      "100%|██████████████████████████████████████████████████████████████████████████████| 1000/1000 [01:31<00:00, 10.91it/s]\n"
     ]
    },
    {
     "name": "stdout",
     "output_type": "stream",
     "text": [
      "stop_reason max_iterations\n",
      "FX_best -389.3805395505341\n",
      "1\n"
     ]
    },
    {
     "name": "stderr",
     "output_type": "stream",
     "text": [
      " 65%|███████████████████████████████████████████████████▌                           | 653/1000 [01:00<00:32, 10.82it/s]\n"
     ]
    },
    {
     "name": "stdout",
     "output_type": "stream",
     "text": [
      "stop_reason stagnation_lim\n",
      "FX_best -298.2130516741513\n",
      "2\n"
     ]
    },
    {
     "name": "stderr",
     "output_type": "stream",
     "text": [
      "100%|██████████████████████████████████████████████████████████████████████████████| 1000/1000 [01:32<00:00, 10.79it/s]\n"
     ]
    },
    {
     "name": "stdout",
     "output_type": "stream",
     "text": [
      "stop_reason max_iterations\n",
      "FX_best -302.40199874185\n",
      "3\n"
     ]
    },
    {
     "name": "stderr",
     "output_type": "stream",
     "text": [
      "100%|██████████████████████████████████████████████████████████████████████████████| 1000/1000 [01:32<00:00, 10.78it/s]\n"
     ]
    },
    {
     "name": "stdout",
     "output_type": "stream",
     "text": [
      "stop_reason max_iterations\n",
      "FX_best -389.84132582147646\n",
      "4\n"
     ]
    },
    {
     "name": "stderr",
     "output_type": "stream",
     "text": [
      " 37%|█████████████████████████████▌                                                 | 374/1000 [00:34<00:57, 10.91it/s]\n"
     ]
    },
    {
     "name": "stdout",
     "output_type": "stream",
     "text": [
      "stop_reason stagnation_lim\n",
      "FX_best 206.31063649048133\n",
      "5\n"
     ]
    },
    {
     "name": "stderr",
     "output_type": "stream",
     "text": [
      "100%|██████████████████████████████████████████████████████████████████████████████| 1000/1000 [01:32<00:00, 10.85it/s]\n"
     ]
    },
    {
     "name": "stdout",
     "output_type": "stream",
     "text": [
      "stop_reason max_iterations\n",
      "FX_best -331.8542091774766\n",
      "6\n"
     ]
    },
    {
     "name": "stderr",
     "output_type": "stream",
     "text": [
      " 88%|█████████████████████████████████████████████████████████████████████▋         | 882/1000 [01:22<00:10, 10.74it/s]\n"
     ]
    },
    {
     "name": "stdout",
     "output_type": "stream",
     "text": [
      "stop_reason stagnation_lim\n",
      "FX_best -379.9432503239524\n",
      "7\n"
     ]
    },
    {
     "name": "stderr",
     "output_type": "stream",
     "text": [
      "100%|██████████████████████████████████████████████████████████████████████████████| 1000/1000 [01:32<00:00, 10.84it/s]\n"
     ]
    },
    {
     "name": "stdout",
     "output_type": "stream",
     "text": [
      "stop_reason max_iterations\n",
      "FX_best -323.377580195391\n",
      "8\n"
     ]
    },
    {
     "name": "stderr",
     "output_type": "stream",
     "text": [
      " 91%|███████████████████████████████████████████████████████████████████████▌       | 906/1000 [01:23<00:08, 10.88it/s]\n"
     ]
    },
    {
     "name": "stdout",
     "output_type": "stream",
     "text": [
      "stop_reason stagnation_lim\n",
      "FX_best -357.20143680080133\n",
      "9\n"
     ]
    },
    {
     "name": "stderr",
     "output_type": "stream",
     "text": [
      "100%|██████████████████████████████████████████████████████████████████████████████| 1000/1000 [01:31<00:00, 10.93it/s]\n"
     ]
    },
    {
     "name": "stdout",
     "output_type": "stream",
     "text": [
      "stop_reason max_iterations\n",
      "FX_best -385.6801389659802\n",
      "10\n"
     ]
    },
    {
     "name": "stderr",
     "output_type": "stream",
     "text": [
      " 24%|███████████████████▏                                                           | 243/1000 [00:22<01:08, 11.00it/s]\n"
     ]
    },
    {
     "name": "stdout",
     "output_type": "stream",
     "text": [
      "stop_reason stagnation_lim\n",
      "FX_best 259.6340925218717\n",
      "11\n"
     ]
    },
    {
     "name": "stderr",
     "output_type": "stream",
     "text": [
      " 91%|████████████████████████████████████████████████████████████████████████▏      | 914/1000 [01:24<00:07, 10.83it/s]\n"
     ]
    },
    {
     "name": "stdout",
     "output_type": "stream",
     "text": [
      "stop_reason stagnation_lim\n",
      "FX_best -381.23838621800894\n",
      "12\n"
     ]
    },
    {
     "name": "stderr",
     "output_type": "stream",
     "text": [
      " 36%|████████████████████████████                                                   | 356/1000 [00:32<00:58, 10.99it/s]\n"
     ]
    },
    {
     "name": "stdout",
     "output_type": "stream",
     "text": [
      "stop_reason stagnation_lim\n",
      "FX_best 322.1711203138942\n",
      "13\n"
     ]
    },
    {
     "name": "stderr",
     "output_type": "stream",
     "text": [
      "100%|██████████████████████████████████████████████████████████████████████████████| 1000/1000 [01:32<00:00, 10.86it/s]\n"
     ]
    },
    {
     "name": "stdout",
     "output_type": "stream",
     "text": [
      "stop_reason max_iterations\n",
      "FX_best -379.4027123090582\n",
      "14\n"
     ]
    },
    {
     "name": "stderr",
     "output_type": "stream",
     "text": [
      " 47%|█████████████████████████████████████▏                                         | 470/1000 [00:43<00:48, 10.85it/s]\n"
     ]
    },
    {
     "name": "stdout",
     "output_type": "stream",
     "text": [
      "stop_reason stagnation_lim\n",
      "FX_best -229.9799506592003\n",
      "15\n"
     ]
    },
    {
     "name": "stderr",
     "output_type": "stream",
     "text": [
      " 58%|█████████████████████████████████████████████▋                                 | 579/1000 [00:53<00:38, 10.90it/s]\n"
     ]
    },
    {
     "name": "stdout",
     "output_type": "stream",
     "text": [
      "stop_reason stagnation_lim\n",
      "FX_best 243.50849751818816\n",
      "16\n"
     ]
    },
    {
     "name": "stderr",
     "output_type": "stream",
     "text": [
      " 62%|█████████████████████████████████████████████████▏                             | 623/1000 [00:56<00:34, 10.96it/s]\n"
     ]
    },
    {
     "name": "stdout",
     "output_type": "stream",
     "text": [
      "stop_reason stagnation_lim\n",
      "FX_best -270.4915613273598\n",
      "17\n"
     ]
    },
    {
     "name": "stderr",
     "output_type": "stream",
     "text": [
      " 49%|██████████████████████████████████████▍                                        | 486/1000 [00:44<00:47, 10.92it/s]\n"
     ]
    },
    {
     "name": "stdout",
     "output_type": "stream",
     "text": [
      "stop_reason stagnation_lim\n",
      "FX_best 308.0016923883112\n",
      "18\n"
     ]
    },
    {
     "name": "stderr",
     "output_type": "stream",
     "text": [
      "100%|██████████████████████████████████████████████████████████████████████████████| 1000/1000 [01:31<00:00, 10.90it/s]\n"
     ]
    },
    {
     "name": "stdout",
     "output_type": "stream",
     "text": [
      "stop_reason max_iterations\n",
      "FX_best -389.84943031848604\n",
      "19\n"
     ]
    },
    {
     "name": "stderr",
     "output_type": "stream",
     "text": [
      " 51%|████████████████████████████████████████▎                                      | 510/1000 [00:46<00:44, 10.90it/s]"
     ]
    },
    {
     "name": "stdout",
     "output_type": "stream",
     "text": [
      "stop_reason stagnation_lim\n",
      "FX_best -127.12923025502266\n"
     ]
    },
    {
     "name": "stderr",
     "output_type": "stream",
     "text": [
      "\n"
     ]
    }
   ],
   "source": [
    "# Тестируем Розенброка\n",
    "\n",
    "#dimensions_list = [2, 4, 8, 16, 32]\n",
    "dimensions_list = [2, 4]\n",
    "\n",
    "func = rosenbrok_func\n",
    "alpha = 100\n",
    "SN = 80\n",
    "SP = [ss1, ss2]\n",
    "max_iterations = 1000\n",
    "\n",
    "res_ros = []\n",
    "\n",
    "for dimesions in dimensions_list:\n",
    "    Xmin = np.array([- alpha] * dimensions)\n",
    "    Xmax = np.array([alpha] * dimensions)\n",
    "    for start in range(20):\n",
    "        print(start)\n",
    "        stop_reason, X_best,  X,FX, path = NNSABC(SN, Xmin, Xmax, SP, func, max_iterations)\n",
    "        FX_best = func(X_best)\n",
    "        print('stop_reason', stop_reason)\n",
    "        print('FX_best', FX_best)\n",
    "        res_ros.append({\n",
    "            'start_num': start,\n",
    "            'stop_reason': stop_reason,\n",
    "            'FX_best': FX_best,\n",
    "            'X_best': X_best,\n",
    "            'path': path\n",
    "        })"
   ]
  },
  {
   "cell_type": "code",
   "execution_count": null,
   "id": "0c071ef7",
   "metadata": {},
   "outputs": [],
   "source": []
  },
  {
   "cell_type": "code",
   "execution_count": null,
   "id": "fbd9f008",
   "metadata": {},
   "outputs": [],
   "source": []
  }
 ],
 "metadata": {
  "kernelspec": {
   "display_name": "Python 3 (ipykernel)",
   "language": "python",
   "name": "python3"
  },
  "language_info": {
   "codemirror_mode": {
    "name": "ipython",
    "version": 3
   },
   "file_extension": ".py",
   "mimetype": "text/x-python",
   "name": "python",
   "nbconvert_exporter": "python",
   "pygments_lexer": "ipython3",
   "version": "3.8.8rc1"
  }
 },
 "nbformat": 4,
 "nbformat_minor": 5
}
