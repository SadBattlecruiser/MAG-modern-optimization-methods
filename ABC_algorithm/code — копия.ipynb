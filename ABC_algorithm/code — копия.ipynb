{
 "cells": [
  {
   "cell_type": "code",
   "execution_count": 2,
   "id": "50643d7d",
   "metadata": {},
   "outputs": [],
   "source": [
    "import numpy as np"
   ]
  },
  {
   "cell_type": "code",
   "execution_count": 34,
   "id": "e1bdceac",
   "metadata": {},
   "outputs": [
    {
     "data": {
      "text/plain": [
       "4"
      ]
     },
     "execution_count": 34,
     "metadata": {},
     "output_type": "execute_result"
    }
   ],
   "source": [
    "def spherical_func(X, X0=np.array([0, 0])):\n",
    "    return np.sum(np.power(X - X0, 2))\n",
    "\n",
    "spherical_func(np.array([2, 2]), np.array([0, 2]))"
   ]
  },
  {
   "cell_type": "code",
   "execution_count": 50,
   "id": "9859a170",
   "metadata": {},
   "outputs": [
    {
     "name": "stdout",
     "output_type": "stream",
     "text": [
      "[[0.09960142 1.02863931]\n",
      " [0.50631339 1.58633232]\n",
      " [0.53097729 1.63650633]\n",
      " [0.72871443 0.08284185]\n",
      " [0.0768794  1.42219428]]\n",
      "[1.06801928 2.77280346 2.96008987 0.5378875  2.02854701]\n",
      "=====================\n",
      "[[0.09960142 1.02863931]\n",
      " [0.50631339 1.58633232]\n",
      " [0.51989448 1.61396046]\n",
      " [0.72871443 0.08284185]\n",
      " [0.0768794  1.42219428]]\n",
      "[1.06801928 2.77280346 2.87515864 0.5378875  2.02854701]\n",
      "=====================\n",
      "[[0.09960142 1.02863931]\n",
      " [0.20255952 1.16981787]\n",
      " [0.51989448 1.61396046]\n",
      " [0.72871443 0.08284185]\n",
      " [0.0982159  1.05263718]]\n",
      "[1.06801928 1.40950421 2.87515864 0.5378875  1.11769139]\n",
      "=====================\n"
     ]
    }
   ],
   "source": [
    "def initialize_X(SN, Xmin, Xmax, func):\n",
    "    if Xmin.shape != Xmax.shape:\n",
    "        raise ValueError('initialize_X: Xmin.shape != Xmax.shape')\n",
    "    X = np.zeros((SN, Xmin.shape[0]))\n",
    "    FX = np.zeros(SN)\n",
    "    for i in range(SN):\n",
    "        X[i] = Xmin + np.random.uniform(0, 1, Xmin.shape[0])*(Xmax - Xmin)\n",
    "        FX[i] = func(X[i])\n",
    "    return X, FX\n",
    "\n",
    "def employed_phase(X, FX, func):\n",
    "    V = np.zeros(X.shape)\n",
    "    FV = np.zeros(X.shape[0])\n",
    "    for i in range(X.shape[0]):\n",
    "        k = np.random.randint(X.shape[0] - 1)\n",
    "        if k >= i:\n",
    "            k += 1\n",
    "        V[i] = X[i] + np.random.uniform(-1., 1.)*(X[i] - X[k])\n",
    "        FV[i] = func(V[i])\n",
    "    for i in range(X.shape[0]):\n",
    "        if FV[i] < FX[i]:\n",
    "            X[i] = V[i]\n",
    "            FX[i] = FV[i]\n",
    "    return X, FX\n",
    "\n",
    "def onlooker_phase(X, FX, func):\n",
    "    def fit(f):\n",
    "        return 1./(1+f) if f >= 0 else 1 + np.abs(f)\n",
    "    \n",
    "    fitX = np.vectorize(fit)(FX)\n",
    "    idx_selected = np.random.choice(\n",
    "        X.shape[0],\n",
    "        p=fitX/np.sum(fitX)\n",
    "    )\n",
    "    X_selected = X[idx_selected].copy()\n",
    "    \n",
    "    V = np.zeros(X.shape)\n",
    "    FV = np.zeros(X.shape[0])\n",
    "    for i in range(X.shape[0]):\n",
    "        k = np.random.randint(X.shape[0] - 1)\n",
    "        if k >= i:\n",
    "            k += 1\n",
    "        V[i] = X[i] + np.random.uniform(-1., 1.)*(X[i] - X_selected)\n",
    "        FV[i] = func(V[i])\n",
    "    for i in range(X.shape[0]):\n",
    "        if FV[i] < FX[i]:\n",
    "            X[i] = V[i]\n",
    "            FX[i] = FV[i]\n",
    "    return X, FX\n",
    "\n",
    "Xmin = np.array([0., 0.])\n",
    "Xmax = np.array([1., 2.])\n",
    "\n",
    "X, FX = initialize_X(5, Xmin, Xmax, spherical_func)\n",
    "print(X)\n",
    "print(FX)\n",
    "print('=====================')\n",
    "X, FX = employed_phase(X, FX, spherical_func)\n",
    "print(X)\n",
    "print(FX)\n",
    "print('=====================')\n",
    "X, FX = onlooker_phase(X, FX, spherical_func)\n",
    "print(X)\n",
    "print(FX)\n",
    "print('=====================')"
   ]
  },
  {
   "cell_type": "code",
   "execution_count": null,
   "id": "58e40e28",
   "metadata": {},
   "outputs": [],
   "source": []
  }
 ],
 "metadata": {
  "kernelspec": {
   "display_name": "Python 3 (ipykernel)",
   "language": "python",
   "name": "python3"
  },
  "language_info": {
   "codemirror_mode": {
    "name": "ipython",
    "version": 3
   },
   "file_extension": ".py",
   "mimetype": "text/x-python",
   "name": "python",
   "nbconvert_exporter": "python",
   "pygments_lexer": "ipython3",
   "version": "3.8.8rc1"
  }
 },
 "nbformat": 4,
 "nbformat_minor": 5
}
