{
 "cells": [
  {
   "cell_type": "code",
   "execution_count": 70,
   "id": "50643d7d",
   "metadata": {},
   "outputs": [],
   "source": [
    "import numpy as np\n",
    "from tqdm import tqdm\n",
    "from numba import njit\n",
    "\n",
    "from multiprocessing import Pool"
   ]
  },
  {
   "cell_type": "code",
   "execution_count": 103,
   "id": "e1bdceac",
   "metadata": {},
   "outputs": [
    {
     "data": {
      "text/plain": [
       "-314.6413595499958"
      ]
     },
     "execution_count": 103,
     "metadata": {},
     "output_type": "execute_result"
    }
   ],
   "source": [
    "@njit\n",
    "def spherical_func(X, X0=np.array([2, 3])):\n",
    "    return np.sum(np.power(X - X0, 2))\n",
    "\n",
    "\n",
    "@njit\n",
    "def rastrigin_func(X):\n",
    "    return np.sum(np.power(X, 2) - 10*np.cos(2*np.pi*X) + 10) - 330\n",
    "\n",
    "\n",
    "#@njit\n",
    "def rosenbrok_func(X):\n",
    "    s = 0\n",
    "    for i in range(X.shape[0] - 1):\n",
    "        s += 100 * (X[i]**2 - X[i+1])**2 + (X[i] - 1)**2\n",
    "    return s - 390\n",
    "\n",
    "rastrigin_func(np.array([0.1, 0.1, 0.1, 0.1, 0.1, 0.1, 0.1, 0.1]))"
   ]
  },
  {
   "cell_type": "code",
   "execution_count": 47,
   "id": "08f5c3b2",
   "metadata": {},
   "outputs": [],
   "source": [
    "# Матрица попарных расстояний\n",
    "@njit\n",
    "def calc_dist(X):\n",
    "    dist = np.zeros((X.shape[0], X.shape[0]))\n",
    "    for i in range(1, X.shape[0]):\n",
    "        for j in range(i):\n",
    "            dist[i, j] = np.linalg.norm(X[i]-X[j])\n",
    "            dist[j, i] = dist[i, j]\n",
    "    return dist\n",
    "\n",
    "# Построить NNNS для Xi\n",
    "def MNNS(X, FX, i):\n",
    "    dist = calc_dist(X)\n",
    "    sequence = [(i, X[i], FX[i])]\n",
    "    while True:\n",
    "        candidates = np.argwhere(FX < sequence[-1][2])\n",
    "        if len(candidates) == 0:\n",
    "            break\n",
    "        min_dist = dist[sequence[-1][0], candidates].min()\n",
    "        h = np.argwhere(dist[sequence[-1][0]] == min_dist)[0, 0]\n",
    "        sequence.append((h, X[h], FX[h]))\n",
    "    return sequence\n",
    "\n",
    "\n",
    "# Стратегии поиска, входящие в SP\n",
    "def ss1(X, FX, i):\n",
    "    MSi = np.array(np.array([j[1] for j in MNNS(X, FX, i)]))\n",
    "    MCXi = np.mean(MSi, axis=0)\n",
    "    best = np.argwhere(FX == np.min(FX))[0, 0]\n",
    "    k = np.random.randint(X.shape[0] - 1)\n",
    "    if k >= i:\n",
    "        k += 1\n",
    "    Vi = MCXi + np.random.uniform(-1., 1.)*(X[best] - X[k])\n",
    "    return Vi\n",
    "\n",
    "def ss2(X, FX, i):\n",
    "    MSi = np.array(np.array([j[1] for j in MNNS(X, FX, i)]))\n",
    "    best = np.argwhere(FX == np.min(FX))[0, 0]\n",
    "    if MSi.shape[0] == 1:\n",
    "        k = np.random.randint(X.shape[0] - 1)\n",
    "        if k >= i:\n",
    "            k += 1\n",
    "        Vi = X[best] + np.random.uniform(-1., 1.)*(X[best] - X[k])\n",
    "    else:\n",
    "        h = np.random.randint(MSi.shape[0] - 1)\n",
    "        Vi = X[best] + np.random.uniform(-1., 1.)*(X[h+1] - X[h])\n",
    "    return Vi"
   ]
  },
  {
   "cell_type": "code",
   "execution_count": 128,
   "id": "9859a170",
   "metadata": {},
   "outputs": [
    {
     "name": "stderr",
     "output_type": "stream",
     "text": [
      "100%|████████████████████████████████████████████████████████████████████████████████| 200/200 [00:15<00:00, 12.60it/s]"
     ]
    },
    {
     "name": "stdout",
     "output_type": "stream",
     "text": [
      "max_iterations\n",
      "-329.99999999999983\n",
      "[2.48274874e-08 1.10993406e-08]\n"
     ]
    },
    {
     "name": "stderr",
     "output_type": "stream",
     "text": [
      "\n"
     ]
    }
   ],
   "source": [
    "def initialize_X(SN, Xmin, Xmax, SP, func):\n",
    "    if Xmin.shape != Xmax.shape:\n",
    "        raise ValueError('initialize_X: Xmin.shape != Xmax.shape')\n",
    "    X = np.zeros((SN, Xmin.shape[0]))\n",
    "    FX = np.zeros(SN)\n",
    "    for i in range(SN):\n",
    "        X[i] = Xmin + np.random.uniform(0, 1, Xmin.shape[0])*(Xmax - Xmin)\n",
    "        FX[i] = func(X[i])\n",
    "    SP_idx = np.random.randint(len(SP), size=X.shape[0])\n",
    "    return X, FX, SP_idx\n",
    "\n",
    "\n",
    "def employed_phase(X, FX, SP, SP_idx, trial, func):\n",
    "    V = np.zeros(X.shape)\n",
    "    FV = np.zeros(X.shape[0])\n",
    "    for i in range(X.shape[0]):\n",
    "        V[i] = SP[SP_idx[i]](X, FX, i)\n",
    "        FV[i] = func(V[i])\n",
    "    for i in range(X.shape[0]):\n",
    "        if FV[i] < FX[i]:\n",
    "            X[i] = V[i]\n",
    "            FX[i] = FV[i]\n",
    "            trial[i] = 0\n",
    "            # Обновляем стратегию поиска\n",
    "            SP_idx_candidate = np.random.randint(len(SP) - 1)\n",
    "            if SP_idx_candidate == SP_idx[i]:\n",
    "                SP_idx[i] = SP_idx_candidate + 1\n",
    "            else:\n",
    "                SP_idx[i] = SP_idx_candidate\n",
    "        else:\n",
    "            trial[i] += 1\n",
    "    return X, FX, SP_idx, trial\n",
    "\n",
    "\n",
    "def onlooker_phase(X, FX, SP, SP_idx, trial, func):\n",
    "    V = np.zeros(X.shape)\n",
    "    FV = np.zeros(X.shape[0])\n",
    "    for i in range(X.shape[0]):\n",
    "        MSi = np.array(np.array([j[1] for j in MNNS(X, FX, i)]))\n",
    "        r = np.random.randint(MSi.shape[0]-1) + 1 if MSi.shape[0] > 1 else 0\n",
    "        h = np.argwhere(FX == func(MSi[r]))[0, 0]\n",
    "        V[h] = SP[SP_idx[h]](X, FX, h)\n",
    "        FV[h] = func(V[h])\n",
    "    for i in range(X.shape[0]):\n",
    "        if FV[i] == 0:\n",
    "            continue\n",
    "        if FV[i] < FX[i]:\n",
    "            X[i] = V[i]\n",
    "            FX[i] = FV[i]\n",
    "            trial[i] = 0\n",
    "            # Обновляем стратегию поиска\n",
    "            SP_idx_candidate = np.random.randint(len(SP) - 1)\n",
    "            if SP_idx_candidate == SP_idx[i]:\n",
    "                SP_idx[i] = SP_idx_candidate + 1\n",
    "            else:\n",
    "                SP_idx[i] = SP_idx_candidate\n",
    "        else:\n",
    "            trial[i] += 1\n",
    "    return X, FX, SP_idx, trial\n",
    "\n",
    "def onlooker_old_phase(X, FX, SP, SP_idx, trial, func):\n",
    "    def fit(f):\n",
    "        return 1./(1+f) if f >= 0 else 1 + np.abs(f)\n",
    "    \n",
    "    fitX = np.vectorize(fit)(FX)\n",
    "    idx_selected = np.random.choice(\n",
    "        X.shape[0],\n",
    "        p=fitX/np.sum(fitX)\n",
    "    )\n",
    "    X_selected = X[idx_selected].copy()\n",
    "    \n",
    "    V = np.zeros(X.shape)\n",
    "    FV = np.zeros(X.shape[0])\n",
    "    for i in range(X.shape[0]):\n",
    "        k = np.random.randint(X.shape[0] - 1)\n",
    "        if k >= i:\n",
    "            k += 1\n",
    "        V[i] = X[i] + np.random.uniform(-1., 1.)*(X[i] - X_selected)\n",
    "        FV[i] = func(V[i])\n",
    "    for i in range(X.shape[0]):\n",
    "        if FV[i] < FX[i]:\n",
    "            X[i] = V[i]\n",
    "            FX[i] = FV[i]\n",
    "            trial[i] = 0\n",
    "        else:\n",
    "            trial[i] += 1            \n",
    "    return X, FX, SP_idx, trial\n",
    "\n",
    "\n",
    "def scout_phase(X, FX, SP, SP_idx, trial, func, Xmin, Xmax, trial_lim):\n",
    "    for i in range(X.shape[0]):\n",
    "        if trial[i] >= trial_lim:\n",
    "            XX, FXX, SP_idxXX = initialize_X(1, Xmin, Xmax, SP, func)\n",
    "            X[i] = XX[0]\n",
    "            FX[i] = FXX[0]\n",
    "            SP_idx[i] = SP_idxXX[0]\n",
    "            trial[i] = 0\n",
    "    return X, FX, SP_idx, trial\n",
    "\n",
    "\n",
    "def form_data(iteration, phase, X, FX, SP_idx, trial):\n",
    "    return {\n",
    "        'iteration': 0,\n",
    "        'phase': 'initialize',\n",
    "        'X': X.copy(),\n",
    "        'FX': FX.copy(),\n",
    "        'SP_idx': SP_idx.copy(),\n",
    "        'trial': trial.copy()\n",
    "    }\n",
    "\n",
    "def NNSABC(SN, Xmin, Xmax, SP, func, max_iterations=1000, trial_lim=20, stagnation_lim=20, stagnation_eps=1e-6):\n",
    "    path = []\n",
    "    stagnation_cnt = 0\n",
    "    stop_reason = 'max_iterations'\n",
    "    X, FX, SP_idx = initialize_X(SN, Xmin, Xmax, SP, func)\n",
    "    trial = np.zeros(X.shape[0])\n",
    "    path.append(form_data(0, 'initialize', X, FX, SP_idx, trial))\n",
    "    X_best_prev = X[np.argwhere(FX == np.min(FX))[0, 0]]\n",
    "    for iteration in tqdm(range(max_iterations)):\n",
    "        X_best_curr = X[np.argwhere(FX == np.min(FX))[0, 0]]\n",
    "        if np.abs(func(X_best_curr) - func(X_best_prev)) < stagnation_eps:\n",
    "            stagnation_cnt += 1\n",
    "            if stagnation_cnt >= stagnation_lim:\n",
    "                stop_reason = 'stagnation_lim'\n",
    "                break\n",
    "        else:\n",
    "            stagnation_cnt = 0\n",
    "        X_best_prev = X_best_curr\n",
    "        X, FX, SP_idx, trial = employed_phase(X, FX, SP, SP_idx, trial, func)\n",
    "        path.append(form_data(iteration, 'employed', X, FX, SP_idx, trial))\n",
    "        #X, FX, SP_idx, trial = onlooker_phase(X, FX, SP, SP_idx, trial, func)\n",
    "        X, FX, SP_idx, trial = onlooker_old_phase(X, FX, SP, SP_idx, trial, func)\n",
    "        path.append(form_data(iteration, 'onlooker', X, FX, SP_idx, trial))\n",
    "        X, FX, SP_idx, trial = scout_phase(X, FX, SP, SP_idx, trial, func, Xmin, Xmax, trial_lim=10)\n",
    "    return stop_reason, X_best_curr, X, FX, path\n",
    "\n",
    "func = rastrigin_func\n",
    "#func = rosenbrok_func\n",
    "\n",
    "dimensions = 2\n",
    "alpha = 5\n",
    "#alpha = 100\n",
    "Xmin = np.array([- alpha] * dimensions)\n",
    "Xmax = np.array([alpha] * dimensions)\n",
    "SN = 50\n",
    "SP = [ss1, ss2]\n",
    "max_iterations = 200\n",
    "\n",
    "stop_reason, X_best,  X,FX, path = NNSABC(SN, Xmin, Xmax, SP, func, max_iterations)\n",
    "FX_best = func(X_best)\n",
    "print(stop_reason)\n",
    "print(FX_best)\n",
    "print(X_best)"
   ]
  },
  {
   "cell_type": "code",
   "execution_count": 129,
   "id": "026517f0",
   "metadata": {},
   "outputs": [
    {
     "data": {
      "image/png": "[encoded data removed]",
      "text/plain": [
       "<Figure size 720x576 with 1 Axes>"
      ]
     },
     "metadata": {
      "needs_background": "light"
     },
     "output_type": "display_data"
    },
    {
     "data": {
      "image/png": "[encoded data removed]",
      "text/plain": [
       "<Figure size 720x576 with 1 Axes>"
      ]
     },
     "metadata": {
      "needs_background": "light"
     },
     "output_type": "display_data"
    },
    {
     "data": {
      "image/png": "[encoded data removed]",
      "text/plain": [
       "<Figure size 720x576 with 1 Axes>"
      ]
     },
     "metadata": {
      "needs_background": "light"
     },
     "output_type": "display_data"
    },
    {
     "data": {
      "image/png": "[encoded data removed]",
      "text/plain": [
       "<Figure size 720x576 with 1 Axes>"
      ]
     },
     "metadata": {
      "needs_background": "light"
     },
     "output_type": "display_data"
    },
    {
     "data": {
      "image/png": "[encoded data removed]",
      "text/plain": [
       "<Figure size 720x576 with 1 Axes>"
      ]
     },
     "metadata": {
      "needs_background": "light"
     },
     "output_type": "display_data"
    }
   ],
   "source": [
    "import matplotlib.pyplot as plt\n",
    "import seaborn as sns\n",
    "\n",
    "def plot_X(X, Xmin, Xmax, func=None):\n",
    "    if X.shape[1] != 2:\n",
    "        return\n",
    "    fig = plt.figure(figsize=(10,8))\n",
    "    ax1 = fig.add_subplot(111)\n",
    "    ax1.set_xlabel('x')\n",
    "    ax1.set_ylabel('y')\n",
    "    ax1.set_xlim([Xmin[0], Xmax[0]])\n",
    "    ax1.set_ylim([Xmin[1], Xmax[1]])\n",
    "    if func:\n",
    "        size = 100\n",
    "        XX, YY = np.meshgrid(np.linspace(Xmin[0], Xmax[0], size), np.linspace(Xmin[1], Xmax[1], size))\n",
    "        Z = np.zeros((size, size))\n",
    "        for i, x in enumerate(np.linspace(Xmin[0], Xmax[0], size)):\n",
    "            for j, y in enumerate(np.linspace(Xmin[1], Xmax[1], size)):\n",
    "                Z[j, i] = func(np.array([x, y]))\n",
    "        ax1.contourf(XX, YY, Z, cmap=plt.cm.bone)\n",
    "    ax1.scatter(X[:, 0], X[:, 1], c='red')\n",
    "    plt.title('Графичек')\n",
    "    plt.grid()\n",
    "    #plt.legend(loc='upper left')\n",
    "    plt.show()\n",
    "    \n",
    "plot_X(path[0]['X'], Xmin, Xmax, func)\n",
    "plot_X(path[2]['X'], Xmin, Xmax, func)\n",
    "plot_X(path[8]['X'], Xmin, Xmax, func)\n",
    "plot_X(path[10]['X'], Xmin, Xmax, func)\n",
    "plot_X(path[-1]['X'], Xmin, Xmax, func)"
   ]
  },
  {
   "cell_type": "code",
   "execution_count": 131,
   "id": "4825d656",
   "metadata": {},
   "outputs": [
    {
     "name": "stdout",
     "output_type": "stream",
     "text": [
      "dimensions: 2\n",
      "start num:  0\n",
      "Xmin:      \n",
      "[-5 -5]\n",
      "Xmax:      \n",
      "[5 5]\n"
     ]
    },
    {
     "name": "stderr",
     "output_type": "stream",
     "text": [
      "  3%|██▋                                                                             | 34/1000 [00:02<01:17, 12.51it/s]\n"
     ]
    },
    {
     "name": "stdout",
     "output_type": "stream",
     "text": [
      "stop_reason stagnation_lim\n",
      "FX_best -330.0\n",
      "dimensions: 2\n",
      "start num:  1\n",
      "Xmin:      \n",
      "[-5 -5]\n",
      "Xmax:      \n",
      "[5 5]\n"
     ]
    },
    {
     "name": "stderr",
     "output_type": "stream",
     "text": [
      " 23%|██████████████████▏                                                            | 230/1000 [00:18<01:00, 12.67it/s]\n"
     ]
    },
    {
     "name": "stdout",
     "output_type": "stream",
     "text": [
      "stop_reason stagnation_lim\n",
      "FX_best -330.0\n",
      "dimensions: 2\n",
      "start num:  2\n",
      "Xmin:      \n",
      "[-5 -5]\n",
      "Xmax:      \n",
      "[5 5]\n"
     ]
    },
    {
     "name": "stderr",
     "output_type": "stream",
     "text": [
      " 65%|███████████████████████████████████████████████████▍                           | 651/1000 [00:51<00:27, 12.69it/s]\n"
     ]
    },
    {
     "name": "stdout",
     "output_type": "stream",
     "text": [
      "stop_reason stagnation_lim\n",
      "FX_best -330.0\n",
      "dimensions: 2\n",
      "start num:  3\n",
      "Xmin:      \n",
      "[-5 -5]\n",
      "Xmax:      \n",
      "[5 5]\n"
     ]
    },
    {
     "name": "stderr",
     "output_type": "stream",
     "text": [
      " 16%|████████████▉                                                                  | 164/1000 [00:13<01:06, 12.56it/s]\n"
     ]
    },
    {
     "name": "stdout",
     "output_type": "stream",
     "text": [
      "stop_reason stagnation_lim\n",
      "FX_best -330.0\n",
      "dimensions: 2\n",
      "start num:  4\n",
      "Xmin:      \n",
      "[-5 -5]\n",
      "Xmax:      \n",
      "[5 5]\n"
     ]
    },
    {
     "name": "stderr",
     "output_type": "stream",
     "text": [
      " 16%|████████████▌                                                                  | 159/1000 [00:12<01:06, 12.60it/s]\n"
     ]
    },
    {
     "name": "stdout",
     "output_type": "stream",
     "text": [
      "stop_reason stagnation_lim\n",
      "FX_best -330.0\n",
      "dimensions: 2\n",
      "start num:  5\n",
      "Xmin:      \n",
      "[-5 -5]\n",
      "Xmax:      \n",
      "[5 5]\n"
     ]
    },
    {
     "name": "stderr",
     "output_type": "stream",
     "text": [
      "  6%|█████                                                                           | 63/1000 [00:05<01:14, 12.59it/s]\n"
     ]
    },
    {
     "name": "stdout",
     "output_type": "stream",
     "text": [
      "stop_reason stagnation_lim\n",
      "FX_best -330.0\n",
      "dimensions: 2\n",
      "start num:  6\n",
      "Xmin:      \n",
      "[-5 -5]\n",
      "Xmax:      \n",
      "[5 5]\n"
     ]
    },
    {
     "name": "stderr",
     "output_type": "stream",
     "text": [
      " 34%|██████████████████████████▉                                                    | 341/1000 [00:26<00:52, 12.63it/s]\n"
     ]
    },
    {
     "name": "stdout",
     "output_type": "stream",
     "text": [
      "stop_reason stagnation_lim\n",
      "FX_best -330.0\n",
      "dimensions: 2\n",
      "start num:  7\n",
      "Xmin:      \n",
      "[-5 -5]\n",
      "Xmax:      \n",
      "[5 5]\n"
     ]
    },
    {
     "name": "stderr",
     "output_type": "stream",
     "text": [
      " 17%|█████████████▋                                                                 | 173/1000 [00:13<01:05, 12.60it/s]\n"
     ]
    },
    {
     "name": "stdout",
     "output_type": "stream",
     "text": [
      "stop_reason stagnation_lim\n",
      "FX_best -330.0\n",
      "dimensions: 2\n",
      "start num:  8\n",
      "Xmin:      \n",
      "[-5 -5]\n",
      "Xmax:      \n",
      "[5 5]\n"
     ]
    },
    {
     "name": "stderr",
     "output_type": "stream",
     "text": [
      " 87%|█████████████████████████████████████████████████████████████████████          | 874/1000 [01:08<00:09, 12.69it/s]\n"
     ]
    },
    {
     "name": "stdout",
     "output_type": "stream",
     "text": [
      "stop_reason stagnation_lim\n",
      "FX_best -330.0\n",
      "dimensions: 2\n",
      "start num:  9\n",
      "Xmin:      \n",
      "[-5 -5]\n",
      "Xmax:      \n",
      "[5 5]\n"
     ]
    },
    {
     "name": "stderr",
     "output_type": "stream",
     "text": [
      " 84%|██████████████████████████████████████████████████████████████████▎            | 839/1000 [01:06<00:12, 12.65it/s]\n"
     ]
    },
    {
     "name": "stdout",
     "output_type": "stream",
     "text": [
      "stop_reason stagnation_lim\n",
      "FX_best -330.0\n",
      "dimensions: 2\n",
      "start num:  10\n",
      "Xmin:      \n",
      "[-5 -5]\n",
      "Xmax:      \n",
      "[5 5]\n"
     ]
    },
    {
     "name": "stderr",
     "output_type": "stream",
     "text": [
      " 32%|█████████████████████████▌                                                     | 323/1000 [00:25<00:53, 12.64it/s]\n"
     ]
    },
    {
     "name": "stdout",
     "output_type": "stream",
     "text": [
      "stop_reason stagnation_lim\n",
      "FX_best -330.0\n",
      "dimensions: 2\n",
      "start num:  11\n",
      "Xmin:      \n",
      "[-5 -5]\n",
      "Xmax:      \n",
      "[5 5]\n"
     ]
    },
    {
     "name": "stderr",
     "output_type": "stream",
     "text": [
      "  4%|██▉                                                                             | 37/1000 [00:02<01:16, 12.53it/s]\n"
     ]
    },
    {
     "name": "stdout",
     "output_type": "stream",
     "text": [
      "stop_reason stagnation_lim\n",
      "FX_best -330.0\n",
      "dimensions: 2\n",
      "start num:  12\n",
      "Xmin:      \n",
      "[-5 -5]\n",
      "Xmax:      \n",
      "[5 5]\n"
     ]
    },
    {
     "name": "stderr",
     "output_type": "stream",
     "text": [
      "  4%|██▊                                                                             | 35/1000 [00:02<01:17, 12.51it/s]\n"
     ]
    },
    {
     "name": "stdout",
     "output_type": "stream",
     "text": [
      "stop_reason stagnation_lim\n",
      "FX_best -330.0\n",
      "dimensions: 2\n",
      "start num:  13\n",
      "Xmin:      \n",
      "[-5 -5]\n",
      "Xmax:      \n",
      "[5 5]\n"
     ]
    },
    {
     "name": "stderr",
     "output_type": "stream",
     "text": [
      " 15%|███████████▉                                                                   | 151/1000 [00:11<01:07, 12.65it/s]\n"
     ]
    },
    {
     "name": "stdout",
     "output_type": "stream",
     "text": [
      "stop_reason stagnation_lim\n",
      "FX_best -330.0\n",
      "dimensions: 2\n",
      "start num:  14\n",
      "Xmin:      \n",
      "[-5 -5]\n",
      "Xmax:      \n",
      "[5 5]\n"
     ]
    },
    {
     "name": "stderr",
     "output_type": "stream",
     "text": [
      " 43%|██████████████████████████████████▎                                            | 434/1000 [00:34<00:44, 12.71it/s]\n"
     ]
    },
    {
     "name": "stdout",
     "output_type": "stream",
     "text": [
      "stop_reason stagnation_lim\n",
      "FX_best -330.0\n",
      "dimensions: 2\n",
      "start num:  15\n",
      "Xmin:      \n",
      "[-5 -5]\n",
      "Xmax:      \n",
      "[5 5]\n"
     ]
    },
    {
     "name": "stderr",
     "output_type": "stream",
     "text": [
      " 15%|████████████                                                                   | 152/1000 [00:12<01:07, 12.62it/s]\n"
     ]
    },
    {
     "name": "stdout",
     "output_type": "stream",
     "text": [
      "stop_reason stagnation_lim\n",
      "FX_best -330.0\n",
      "dimensions: 2\n",
      "start num:  16\n",
      "Xmin:      \n",
      "[-5 -5]\n",
      "Xmax:      \n",
      "[5 5]\n"
     ]
    },
    {
     "name": "stderr",
     "output_type": "stream",
     "text": [
      "  6%|████▉                                                                           | 62/1000 [00:04<01:14, 12.54it/s]\n"
     ]
    },
    {
     "name": "stdout",
     "output_type": "stream",
     "text": [
      "stop_reason stagnation_lim\n",
      "FX_best -329.0050409429067\n",
      "dimensions: 2\n",
      "start num:  17\n",
      "Xmin:      \n",
      "[-5 -5]\n",
      "Xmax:      \n",
      "[5 5]\n"
     ]
    },
    {
     "name": "stderr",
     "output_type": "stream",
     "text": [
      " 21%|████████████████▌                                                              | 209/1000 [00:16<01:02, 12.62it/s]\n"
     ]
    },
    {
     "name": "stdout",
     "output_type": "stream",
     "text": [
      "stop_reason stagnation_lim\n",
      "FX_best -330.0\n",
      "dimensions: 2\n",
      "start num:  18\n",
      "Xmin:      \n",
      "[-5 -5]\n",
      "Xmax:      \n",
      "[5 5]\n"
     ]
    },
    {
     "name": "stderr",
     "output_type": "stream",
     "text": [
      " 26%|████████████████████▏                                                          | 255/1000 [00:20<00:59, 12.62it/s]\n"
     ]
    },
    {
     "name": "stdout",
     "output_type": "stream",
     "text": [
      "stop_reason stagnation_lim\n",
      "FX_best -330.0\n",
      "dimensions: 2\n",
      "start num:  19\n",
      "Xmin:      \n",
      "[-5 -5]\n",
      "Xmax:      \n",
      "[5 5]\n"
     ]
    },
    {
     "name": "stderr",
     "output_type": "stream",
     "text": [
      "  6%|████▉                                                                           | 62/1000 [00:04<01:14, 12.56it/s]\n"
     ]
    },
    {
     "name": "stdout",
     "output_type": "stream",
     "text": [
      "stop_reason stagnation_lim\n",
      "FX_best -330.0\n",
      "dimensions: 2\n",
      "start num:  20\n",
      "Xmin:      \n",
      "[-5 -5]\n",
      "Xmax:      \n",
      "[5 5]\n"
     ]
    },
    {
     "name": "stderr",
     "output_type": "stream",
     "text": [
      " 23%|█████████████████▉                                                             | 227/1000 [00:17<01:00, 12.72it/s]\n"
     ]
    },
    {
     "name": "stdout",
     "output_type": "stream",
     "text": [
      "stop_reason stagnation_lim\n",
      "FX_best -330.0\n",
      "dimensions: 2\n",
      "start num:  21\n",
      "Xmin:      \n",
      "[-5 -5]\n",
      "Xmax:      \n",
      "[5 5]\n"
     ]
    },
    {
     "name": "stderr",
     "output_type": "stream",
     "text": [
      " 10%|███████▊                                                                        | 98/1000 [00:07<01:11, 12.66it/s]\n"
     ]
    },
    {
     "name": "stdout",
     "output_type": "stream",
     "text": [
      "stop_reason stagnation_lim\n",
      "FX_best -330.0\n",
      "dimensions: 2\n",
      "start num:  22\n",
      "Xmin:      \n",
      "[-5 -5]\n",
      "Xmax:      \n",
      "[5 5]\n"
     ]
    },
    {
     "name": "stderr",
     "output_type": "stream",
     "text": [
      " 49%|██████████████████████████████████████▍                                        | 486/1000 [00:38<00:40, 12.67it/s]\n"
     ]
    },
    {
     "name": "stdout",
     "output_type": "stream",
     "text": [
      "stop_reason stagnation_lim\n",
      "FX_best -330.0\n",
      "dimensions: 2\n",
      "start num:  23\n",
      "Xmin:      \n",
      "[-5 -5]\n",
      "Xmax:      \n",
      "[5 5]\n"
     ]
    },
    {
     "name": "stderr",
     "output_type": "stream",
     "text": [
      " 24%|██████████████████▋                                                            | 236/1000 [00:18<01:00, 12.68it/s]\n"
     ]
    },
    {
     "name": "stdout",
     "output_type": "stream",
     "text": [
      "stop_reason stagnation_lim\n",
      "FX_best -330.0\n",
      "dimensions: 2\n",
      "start num:  24\n",
      "Xmin:      \n",
      "[-5 -5]\n",
      "Xmax:      \n",
      "[5 5]\n"
     ]
    },
    {
     "name": "stderr",
     "output_type": "stream",
     "text": [
      " 24%|██████████████████▋                                                            | 237/1000 [00:18<01:00, 12.62it/s]\n"
     ]
    },
    {
     "name": "stdout",
     "output_type": "stream",
     "text": [
      "stop_reason stagnation_lim\n",
      "FX_best -330.0\n",
      "dimensions: 2\n",
      "start num:  25\n",
      "Xmin:      \n",
      "[-5 -5]\n",
      "Xmax:      \n",
      "[5 5]\n"
     ]
    },
    {
     "name": "stderr",
     "output_type": "stream",
     "text": [
      " 12%|█████████▋                                                                     | 122/1000 [00:09<01:09, 12.56it/s]\n"
     ]
    },
    {
     "name": "stdout",
     "output_type": "stream",
     "text": [
      "stop_reason stagnation_lim\n",
      "FX_best -330.0\n",
      "dimensions: 2\n",
      "start num:  26\n",
      "Xmin:      \n",
      "[-5 -5]\n",
      "Xmax:      \n",
      "[5 5]\n"
     ]
    },
    {
     "name": "stderr",
     "output_type": "stream",
     "text": [
      "  9%|███████▍                                                                        | 93/1000 [00:07<01:11, 12.65it/s]\n"
     ]
    },
    {
     "name": "stdout",
     "output_type": "stream",
     "text": [
      "stop_reason stagnation_lim\n",
      "FX_best -330.0\n",
      "dimensions: 2\n",
      "start num:  27\n",
      "Xmin:      \n",
      "[-5 -5]\n",
      "Xmax:      \n",
      "[5 5]\n"
     ]
    },
    {
     "name": "stderr",
     "output_type": "stream",
     "text": [
      " 31%|████████████████████████▋                                                      | 313/1000 [00:24<00:54, 12.69it/s]\n"
     ]
    },
    {
     "name": "stdout",
     "output_type": "stream",
     "text": [
      "stop_reason stagnation_lim\n",
      "FX_best -330.0\n",
      "dimensions: 2\n",
      "start num:  28\n",
      "Xmin:      \n",
      "[-5 -5]\n",
      "Xmax:      \n",
      "[5 5]\n"
     ]
    },
    {
     "name": "stderr",
     "output_type": "stream",
     "text": [
      " 18%|██████████████▎                                                                | 181/1000 [00:14<01:04, 12.69it/s]\n"
     ]
    },
    {
     "name": "stdout",
     "output_type": "stream",
     "text": [
      "stop_reason stagnation_lim\n",
      "FX_best -330.0\n",
      "dimensions: 2\n",
      "start num:  29\n",
      "Xmin:      \n",
      "[-5 -5]\n",
      "Xmax:      \n",
      "[5 5]\n"
     ]
    },
    {
     "name": "stderr",
     "output_type": "stream",
     "text": [
      "  7%|█████▌                                                                          | 70/1000 [00:05<01:13, 12.66it/s]\n"
     ]
    },
    {
     "name": "stdout",
     "output_type": "stream",
     "text": [
      "stop_reason stagnation_lim\n",
      "FX_best -330.0\n",
      "dimensions: 2\n",
      "start num:  30\n",
      "Xmin:      \n",
      "[-5 -5]\n",
      "Xmax:      \n",
      "[5 5]\n"
     ]
    },
    {
     "name": "stderr",
     "output_type": "stream",
     "text": [
      " 14%|███████████▍                                                                   | 144/1000 [00:11<01:07, 12.66it/s]\n"
     ]
    },
    {
     "name": "stdout",
     "output_type": "stream",
     "text": [
      "stop_reason stagnation_lim\n",
      "FX_best -330.0\n",
      "dimensions: 2\n",
      "start num:  31\n",
      "Xmin:      \n",
      "[-5 -5]\n",
      "Xmax:      \n",
      "[5 5]\n"
     ]
    },
    {
     "name": "stderr",
     "output_type": "stream",
     "text": [
      " 20%|████████████████                                                               | 204/1000 [00:16<01:02, 12.64it/s]\n"
     ]
    },
    {
     "name": "stdout",
     "output_type": "stream",
     "text": [
      "stop_reason stagnation_lim\n",
      "FX_best -330.0\n",
      "dimensions: 2\n",
      "start num:  32\n",
      "Xmin:      \n",
      "[-5 -5]\n",
      "Xmax:      \n",
      "[5 5]\n"
     ]
    },
    {
     "name": "stderr",
     "output_type": "stream",
     "text": [
      "  3%|██▍                                                                             | 31/1000 [00:02<01:16, 12.59it/s]\n"
     ]
    },
    {
     "name": "stdout",
     "output_type": "stream",
     "text": [
      "stop_reason stagnation_lim\n",
      "FX_best -330.0\n",
      "dimensions: 2\n",
      "start num:  33\n",
      "Xmin:      \n",
      "[-5 -5]\n",
      "Xmax:      \n",
      "[5 5]\n"
     ]
    },
    {
     "name": "stderr",
     "output_type": "stream",
     "text": [
      "  9%|███████▌                                                                        | 94/1000 [00:07<01:11, 12.63it/s]\n"
     ]
    },
    {
     "name": "stdout",
     "output_type": "stream",
     "text": [
      "stop_reason stagnation_lim\n",
      "FX_best -330.0\n",
      "dimensions: 2\n",
      "start num:  34\n",
      "Xmin:      \n",
      "[-5 -5]\n",
      "Xmax:      \n",
      "[5 5]\n"
     ]
    },
    {
     "name": "stderr",
     "output_type": "stream",
     "text": [
      " 47%|█████████████████████████████████████▎                                         | 473/1000 [00:37<00:41, 12.68it/s]\n"
     ]
    },
    {
     "name": "stdout",
     "output_type": "stream",
     "text": [
      "stop_reason stagnation_lim\n",
      "FX_best -330.0\n",
      "dimensions: 2\n",
      "start num:  35\n",
      "Xmin:      \n",
      "[-5 -5]\n",
      "Xmax:      \n",
      "[5 5]\n"
     ]
    },
    {
     "name": "stderr",
     "output_type": "stream",
     "text": [
      " 22%|█████████████████▌                                                             | 223/1000 [00:17<01:01, 12.65it/s]\n"
     ]
    },
    {
     "name": "stdout",
     "output_type": "stream",
     "text": [
      "stop_reason stagnation_lim\n",
      "FX_best -330.0\n",
      "dimensions: 2\n",
      "start num:  36\n",
      "Xmin:      \n",
      "[-5 -5]\n",
      "Xmax:      \n",
      "[5 5]\n"
     ]
    },
    {
     "name": "stderr",
     "output_type": "stream",
     "text": [
      "  9%|███████                                                                         | 88/1000 [00:06<01:12, 12.62it/s]\n"
     ]
    },
    {
     "name": "stdout",
     "output_type": "stream",
     "text": [
      "stop_reason stagnation_lim\n",
      "FX_best -330.0\n",
      "dimensions: 2\n",
      "start num:  37\n",
      "Xmin:      \n",
      "[-5 -5]\n",
      "Xmax:      \n",
      "[5 5]\n"
     ]
    },
    {
     "name": "stderr",
     "output_type": "stream",
     "text": [
      "  9%|███████▎                                                                        | 91/1000 [00:07<01:11, 12.71it/s]\n"
     ]
    },
    {
     "name": "stdout",
     "output_type": "stream",
     "text": [
      "stop_reason stagnation_lim\n",
      "FX_best -330.0\n",
      "dimensions: 2\n",
      "start num:  38\n",
      "Xmin:      \n",
      "[-5 -5]\n",
      "Xmax:      \n",
      "[5 5]\n"
     ]
    },
    {
     "name": "stderr",
     "output_type": "stream",
     "text": [
      "  6%|████▊                                                                           | 60/1000 [00:04<01:15, 12.48it/s]\n"
     ]
    },
    {
     "name": "stdout",
     "output_type": "stream",
     "text": [
      "stop_reason stagnation_lim\n",
      "FX_best -330.0\n",
      "dimensions: 2\n",
      "start num:  39\n",
      "Xmin:      \n",
      "[-5 -5]\n",
      "Xmax:      \n",
      "[5 5]\n"
     ]
    },
    {
     "name": "stderr",
     "output_type": "stream",
     "text": [
      " 26%|████████████████████▎                                                          | 257/1000 [00:20<01:00, 12.33it/s]\n"
     ]
    },
    {
     "name": "stdout",
     "output_type": "stream",
     "text": [
      "stop_reason stagnation_lim\n",
      "FX_best -330.0\n",
      "dimensions: 2\n",
      "start num:  40\n",
      "Xmin:      \n",
      "[-5 -5]\n",
      "Xmax:      \n",
      "[5 5]\n"
     ]
    },
    {
     "name": "stderr",
     "output_type": "stream",
     "text": [
      "  6%|████▊                                                                           | 60/1000 [00:04<01:14, 12.57it/s]\n"
     ]
    },
    {
     "name": "stdout",
     "output_type": "stream",
     "text": [
      "stop_reason stagnation_lim\n",
      "FX_best -330.0\n",
      "dimensions: 2\n",
      "start num:  41\n",
      "Xmin:      \n",
      "[-5 -5]\n",
      "Xmax:      \n",
      "[5 5]\n"
     ]
    },
    {
     "name": "stderr",
     "output_type": "stream",
     "text": [
      " 33%|██████████████████████████▎                                                    | 333/1000 [00:26<00:52, 12.64it/s]\n"
     ]
    },
    {
     "name": "stdout",
     "output_type": "stream",
     "text": [
      "stop_reason stagnation_lim\n",
      "FX_best -330.0\n",
      "dimensions: 2\n",
      "start num:  42\n",
      "Xmin:      \n",
      "[-5 -5]\n",
      "Xmax:      \n",
      "[5 5]\n"
     ]
    },
    {
     "name": "stderr",
     "output_type": "stream",
     "text": [
      " 12%|█████████▎                                                                     | 118/1000 [00:09<01:09, 12.65it/s]\n"
     ]
    },
    {
     "name": "stdout",
     "output_type": "stream",
     "text": [
      "stop_reason stagnation_lim\n",
      "FX_best -330.0\n",
      "dimensions: 2\n",
      "start num:  43\n",
      "Xmin:      \n",
      "[-5 -5]\n",
      "Xmax:      \n",
      "[5 5]\n"
     ]
    },
    {
     "name": "stderr",
     "output_type": "stream",
     "text": [
      " 13%|██████████▎                                                                    | 130/1000 [00:10<01:08, 12.73it/s]\n"
     ]
    },
    {
     "name": "stdout",
     "output_type": "stream",
     "text": [
      "stop_reason stagnation_lim\n",
      "FX_best -330.0\n",
      "dimensions: 2\n",
      "start num:  44\n",
      "Xmin:      \n",
      "[-5 -5]\n",
      "Xmax:      \n",
      "[5 5]\n"
     ]
    },
    {
     "name": "stderr",
     "output_type": "stream",
     "text": [
      " 25%|███████████████████▉                                                           | 253/1000 [00:20<00:59, 12.65it/s]\n"
     ]
    },
    {
     "name": "stdout",
     "output_type": "stream",
     "text": [
      "stop_reason stagnation_lim\n",
      "FX_best -330.0\n",
      "dimensions: 2\n",
      "start num:  45\n",
      "Xmin:      \n",
      "[-5 -5]\n",
      "Xmax:      \n",
      "[5 5]\n"
     ]
    },
    {
     "name": "stderr",
     "output_type": "stream",
     "text": [
      " 20%|███████████████▊                                                               | 200/1000 [00:15<01:03, 12.61it/s]\n"
     ]
    },
    {
     "name": "stdout",
     "output_type": "stream",
     "text": [
      "stop_reason stagnation_lim\n",
      "FX_best -330.0\n",
      "dimensions: 2\n",
      "start num:  46\n",
      "Xmin:      \n",
      "[-5 -5]\n",
      "Xmax:      \n",
      "[5 5]\n"
     ]
    },
    {
     "name": "stderr",
     "output_type": "stream",
     "text": [
      "  4%|██▉                                                                             | 37/1000 [00:02<01:16, 12.59it/s]\n"
     ]
    },
    {
     "name": "stdout",
     "output_type": "stream",
     "text": [
      "stop_reason stagnation_lim\n",
      "FX_best -330.0\n",
      "dimensions: 2\n",
      "start num:  47\n",
      "Xmin:      \n",
      "[-5 -5]\n",
      "Xmax:      \n",
      "[5 5]\n"
     ]
    },
    {
     "name": "stderr",
     "output_type": "stream",
     "text": [
      " 23%|██████████████████▍                                                            | 233/1000 [00:18<01:01, 12.43it/s]\n"
     ]
    },
    {
     "name": "stdout",
     "output_type": "stream",
     "text": [
      "stop_reason stagnation_lim\n",
      "FX_best -330.0\n",
      "dimensions: 2\n",
      "start num:  48\n",
      "Xmin:      \n",
      "[-5 -5]\n",
      "Xmax:      \n",
      "[5 5]\n"
     ]
    },
    {
     "name": "stderr",
     "output_type": "stream",
     "text": [
      " 40%|███████████████████████████████▊                                               | 402/1000 [00:31<00:47, 12.61it/s]\n"
     ]
    },
    {
     "name": "stdout",
     "output_type": "stream",
     "text": [
      "stop_reason stagnation_lim\n",
      "FX_best -330.0\n",
      "dimensions: 2\n",
      "start num:  49\n",
      "Xmin:      \n",
      "[-5 -5]\n",
      "Xmax:      \n",
      "[5 5]\n"
     ]
    },
    {
     "name": "stderr",
     "output_type": "stream",
     "text": [
      " 33%|██████████████████████████▎                                                    | 333/1000 [00:26<00:52, 12.67it/s]\n"
     ]
    },
    {
     "name": "stdout",
     "output_type": "stream",
     "text": [
      "stop_reason stagnation_lim\n",
      "FX_best -330.0\n",
      "dimensions: 2\n",
      "start num:  50\n",
      "Xmin:      \n",
      "[-5 -5]\n",
      "Xmax:      \n",
      "[5 5]\n"
     ]
    },
    {
     "name": "stderr",
     "output_type": "stream",
     "text": [
      " 22%|████████████████▉                                                              | 215/1000 [00:16<01:01, 12.69it/s]\n"
     ]
    },
    {
     "name": "stdout",
     "output_type": "stream",
     "text": [
      "stop_reason stagnation_lim\n",
      "FX_best -330.0\n",
      "dimensions: 2\n",
      "start num:  51\n",
      "Xmin:      \n",
      "[-5 -5]\n",
      "Xmax:      \n",
      "[5 5]\n"
     ]
    },
    {
     "name": "stderr",
     "output_type": "stream",
     "text": [
      " 16%|████████████▊                                                                  | 162/1000 [00:12<01:05, 12.70it/s]\n"
     ]
    },
    {
     "name": "stdout",
     "output_type": "stream",
     "text": [
      "stop_reason stagnation_lim\n",
      "FX_best -330.0\n",
      "dimensions: 2\n",
      "start num:  52\n",
      "Xmin:      \n",
      "[-5 -5]\n",
      "Xmax:      \n",
      "[5 5]\n"
     ]
    },
    {
     "name": "stderr",
     "output_type": "stream",
     "text": [
      " 39%|██████████████████████████████▊                                                | 390/1000 [00:30<00:48, 12.65it/s]\n"
     ]
    },
    {
     "name": "stdout",
     "output_type": "stream",
     "text": [
      "stop_reason stagnation_lim\n",
      "FX_best -330.0\n",
      "dimensions: 2\n",
      "start num:  53\n",
      "Xmin:      \n",
      "[-5 -5]\n",
      "Xmax:      \n",
      "[5 5]\n"
     ]
    },
    {
     "name": "stderr",
     "output_type": "stream",
     "text": [
      "  9%|███████▏                                                                        | 90/1000 [00:07<01:13, 12.46it/s]\n"
     ]
    },
    {
     "name": "stdout",
     "output_type": "stream",
     "text": [
      "stop_reason stagnation_lim\n",
      "FX_best -330.0\n",
      "dimensions: 2\n",
      "start num:  54\n",
      "Xmin:      \n",
      "[-5 -5]\n",
      "Xmax:      \n",
      "[5 5]\n"
     ]
    },
    {
     "name": "stderr",
     "output_type": "stream",
     "text": [
      " 13%|██████████▎                                                                    | 131/1000 [00:10<01:08, 12.61it/s]\n"
     ]
    },
    {
     "name": "stdout",
     "output_type": "stream",
     "text": [
      "stop_reason stagnation_lim\n",
      "FX_best -330.0\n",
      "dimensions: 2\n",
      "start num:  55\n",
      "Xmin:      \n",
      "[-5 -5]\n",
      "Xmax:      \n",
      "[5 5]\n"
     ]
    },
    {
     "name": "stderr",
     "output_type": "stream",
     "text": [
      " 28%|█████████████████████▉                                                         | 277/1000 [00:21<00:57, 12.64it/s]\n"
     ]
    },
    {
     "name": "stdout",
     "output_type": "stream",
     "text": [
      "stop_reason stagnation_lim\n",
      "FX_best -330.0\n",
      "dimensions: 2\n",
      "start num:  56\n",
      "Xmin:      \n",
      "[-5 -5]\n",
      "Xmax:      \n",
      "[5 5]\n"
     ]
    },
    {
     "name": "stderr",
     "output_type": "stream",
     "text": [
      "  6%|█████▏                                                                          | 65/1000 [00:05<01:13, 12.70it/s]\n"
     ]
    },
    {
     "name": "stdout",
     "output_type": "stream",
     "text": [
      "stop_reason stagnation_lim\n",
      "FX_best -330.0\n",
      "dimensions: 2\n",
      "start num:  57\n",
      "Xmin:      \n",
      "[-5 -5]\n",
      "Xmax:      \n",
      "[5 5]\n"
     ]
    },
    {
     "name": "stderr",
     "output_type": "stream",
     "text": [
      " 34%|███████████████████████████▎                                                   | 345/1000 [00:27<00:51, 12.65it/s]\n"
     ]
    },
    {
     "name": "stdout",
     "output_type": "stream",
     "text": [
      "stop_reason stagnation_lim\n",
      "FX_best -330.0\n",
      "dimensions: 2\n",
      "start num:  58\n",
      "Xmin:      \n",
      "[-5 -5]\n",
      "Xmax:      \n",
      "[5 5]\n"
     ]
    },
    {
     "name": "stderr",
     "output_type": "stream",
     "text": [
      "  4%|███▎                                                                            | 42/1000 [00:03<01:16, 12.56it/s]\n"
     ]
    },
    {
     "name": "stdout",
     "output_type": "stream",
     "text": [
      "stop_reason stagnation_lim\n",
      "FX_best -330.0\n",
      "dimensions: 2\n",
      "start num:  59\n",
      "Xmin:      \n",
      "[-5 -5]\n",
      "Xmax:      \n",
      "[5 5]\n"
     ]
    },
    {
     "name": "stderr",
     "output_type": "stream",
     "text": [
      "  6%|████▋                                                                           | 58/1000 [00:04<01:14, 12.69it/s]\n"
     ]
    },
    {
     "name": "stdout",
     "output_type": "stream",
     "text": [
      "stop_reason stagnation_lim\n",
      "FX_best -330.0\n",
      "dimensions: 2\n",
      "start num:  60\n",
      "Xmin:      \n",
      "[-5 -5]\n",
      "Xmax:      \n",
      "[5 5]\n"
     ]
    },
    {
     "name": "stderr",
     "output_type": "stream",
     "text": [
      " 12%|█████████▍                                                                     | 120/1000 [00:09<01:09, 12.63it/s]\n"
     ]
    },
    {
     "name": "stdout",
     "output_type": "stream",
     "text": [
      "stop_reason stagnation_lim\n",
      "FX_best -330.0\n",
      "dimensions: 2\n",
      "start num:  61\n",
      "Xmin:      \n",
      "[-5 -5]\n",
      "Xmax:      \n",
      "[5 5]\n"
     ]
    },
    {
     "name": "stderr",
     "output_type": "stream",
     "text": [
      " 35%|███████████████████████████▉                                                   | 354/1000 [00:27<00:51, 12.66it/s]\n"
     ]
    },
    {
     "name": "stdout",
     "output_type": "stream",
     "text": [
      "stop_reason stagnation_lim\n",
      "FX_best -330.0\n",
      "dimensions: 2\n",
      "start num:  62\n",
      "Xmin:      \n",
      "[-5 -5]\n",
      "Xmax:      \n",
      "[5 5]\n"
     ]
    },
    {
     "name": "stderr",
     "output_type": "stream",
     "text": [
      " 26%|████████████████████▎                                                          | 257/1000 [00:20<00:58, 12.68it/s]\n"
     ]
    },
    {
     "name": "stdout",
     "output_type": "stream",
     "text": [
      "stop_reason stagnation_lim\n",
      "FX_best -330.0\n",
      "dimensions: 2\n",
      "start num:  63\n",
      "Xmin:      \n",
      "[-5 -5]\n",
      "Xmax:      \n",
      "[5 5]\n"
     ]
    },
    {
     "name": "stderr",
     "output_type": "stream",
     "text": [
      " 12%|█████████▏                                                                     | 116/1000 [00:09<01:09, 12.64it/s]\n"
     ]
    },
    {
     "name": "stdout",
     "output_type": "stream",
     "text": [
      "stop_reason stagnation_lim\n",
      "FX_best -330.0\n",
      "dimensions: 2\n",
      "start num:  64\n",
      "Xmin:      \n",
      "[-5 -5]\n",
      "Xmax:      \n",
      "[5 5]\n"
     ]
    },
    {
     "name": "stderr",
     "output_type": "stream",
     "text": [
      " 60%|███████████████████████████████████████████████▋                               | 604/1000 [00:47<00:31, 12.67it/s]\n"
     ]
    },
    {
     "name": "stdout",
     "output_type": "stream",
     "text": [
      "stop_reason stagnation_lim\n",
      "FX_best -330.0\n",
      "dimensions: 2\n",
      "start num:  65\n",
      "Xmin:      \n",
      "[-5 -5]\n",
      "Xmax:      \n",
      "[5 5]\n"
     ]
    },
    {
     "name": "stderr",
     "output_type": "stream",
     "text": [
      " 89%|█████████████████████████████████████████████████████████████████████▉         | 886/1000 [01:10<00:09, 12.65it/s]\n"
     ]
    },
    {
     "name": "stdout",
     "output_type": "stream",
     "text": [
      "stop_reason stagnation_lim\n",
      "FX_best -330.0\n",
      "dimensions: 2\n",
      "start num:  66\n",
      "Xmin:      \n",
      "[-5 -5]\n",
      "Xmax:      \n",
      "[5 5]\n"
     ]
    },
    {
     "name": "stderr",
     "output_type": "stream",
     "text": [
      "  9%|███████▎                                                                        | 91/1000 [00:07<01:11, 12.65it/s]\n"
     ]
    },
    {
     "name": "stdout",
     "output_type": "stream",
     "text": [
      "stop_reason stagnation_lim\n",
      "FX_best -330.0\n",
      "dimensions: 2\n",
      "start num:  67\n",
      "Xmin:      \n",
      "[-5 -5]\n",
      "Xmax:      \n",
      "[5 5]\n"
     ]
    },
    {
     "name": "stderr",
     "output_type": "stream",
     "text": [
      " 59%|██████████████████████████████████████████████▎                                | 586/1000 [00:46<00:32, 12.66it/s]\n"
     ]
    },
    {
     "name": "stdout",
     "output_type": "stream",
     "text": [
      "stop_reason stagnation_lim\n",
      "FX_best -330.0\n",
      "dimensions: 2\n",
      "start num:  68\n",
      "Xmin:      \n",
      "[-5 -5]\n",
      "Xmax:      \n",
      "[5 5]\n"
     ]
    },
    {
     "name": "stderr",
     "output_type": "stream",
     "text": [
      "100%|██████████████████████████████████████████████████████████████████████████████| 1000/1000 [01:19<00:00, 12.65it/s]\n"
     ]
    },
    {
     "name": "stdout",
     "output_type": "stream",
     "text": [
      "stop_reason max_iterations\n",
      "FX_best -329.99999999984874\n",
      "dimensions: 2\n",
      "start num:  69\n",
      "Xmin:      \n",
      "[-5 -5]\n",
      "Xmax:      \n",
      "[5 5]\n"
     ]
    },
    {
     "name": "stderr",
     "output_type": "stream",
     "text": [
      " 26%|████████████████████▊                                                          | 264/1000 [00:20<00:58, 12.65it/s]\n"
     ]
    },
    {
     "name": "stdout",
     "output_type": "stream",
     "text": [
      "stop_reason stagnation_lim\n",
      "FX_best -330.0\n",
      "dimensions: 2\n",
      "start num:  70\n",
      "Xmin:      \n",
      "[-5 -5]\n",
      "Xmax:      \n",
      "[5 5]\n"
     ]
    },
    {
     "name": "stderr",
     "output_type": "stream",
     "text": [
      " 14%|███████████▎                                                                   | 143/1000 [00:11<01:07, 12.66it/s]\n"
     ]
    },
    {
     "name": "stdout",
     "output_type": "stream",
     "text": [
      "stop_reason stagnation_lim\n",
      "FX_best -330.0\n",
      "dimensions: 2\n",
      "start num:  71\n",
      "Xmin:      \n",
      "[-5 -5]\n",
      "Xmax:      \n",
      "[5 5]\n"
     ]
    },
    {
     "name": "stderr",
     "output_type": "stream",
     "text": [
      " 72%|████████████████████████████████████████████████████████▉                      | 721/1000 [00:58<00:22, 12.31it/s]\n"
     ]
    },
    {
     "name": "stdout",
     "output_type": "stream",
     "text": [
      "stop_reason stagnation_lim\n",
      "FX_best -330.0\n",
      "dimensions: 2\n",
      "start num:  72\n",
      "Xmin:      \n",
      "[-5 -5]\n",
      "Xmax:      \n",
      "[5 5]\n"
     ]
    },
    {
     "name": "stderr",
     "output_type": "stream",
     "text": [
      " 29%|██████████████████████▊                                                        | 289/1000 [00:34<01:24,  8.46it/s]\n"
     ]
    },
    {
     "name": "stdout",
     "output_type": "stream",
     "text": [
      "stop_reason stagnation_lim\n",
      "FX_best -330.0\n",
      "dimensions: 2\n",
      "start num:  73\n",
      "Xmin:      \n",
      "[-5 -5]\n",
      "Xmax:      \n",
      "[5 5]\n"
     ]
    },
    {
     "name": "stderr",
     "output_type": "stream",
     "text": [
      " 10%|███████▌                                                                        | 95/1000 [00:11<01:47,  8.41it/s]\n"
     ]
    },
    {
     "name": "stdout",
     "output_type": "stream",
     "text": [
      "stop_reason stagnation_lim\n",
      "FX_best -330.0\n",
      "dimensions: 2\n",
      "start num:  74\n",
      "Xmin:      \n",
      "[-5 -5]\n",
      "Xmax:      \n",
      "[5 5]\n"
     ]
    },
    {
     "name": "stderr",
     "output_type": "stream",
     "text": [
      "  9%|██████▉                                                                         | 86/1000 [00:10<01:47,  8.52it/s]\n"
     ]
    },
    {
     "name": "stdout",
     "output_type": "stream",
     "text": [
      "stop_reason stagnation_lim\n",
      "FX_best -330.0\n",
      "dimensions: 2\n",
      "start num:  75\n",
      "Xmin:      \n",
      "[-5 -5]\n",
      "Xmax:      \n",
      "[5 5]\n"
     ]
    },
    {
     "name": "stderr",
     "output_type": "stream",
     "text": [
      " 34%|███████████████████████████▏                                                   | 344/1000 [00:41<01:19,  8.28it/s]\n"
     ]
    },
    {
     "name": "stdout",
     "output_type": "stream",
     "text": [
      "stop_reason stagnation_lim\n",
      "FX_best -330.0\n",
      "dimensions: 2\n",
      "start num:  76\n",
      "Xmin:      \n",
      "[-5 -5]\n",
      "Xmax:      \n",
      "[5 5]\n"
     ]
    },
    {
     "name": "stderr",
     "output_type": "stream",
     "text": [
      " 22%|█████████████████▏                                                             | 218/1000 [00:26<01:36,  8.13it/s]\n"
     ]
    },
    {
     "name": "stdout",
     "output_type": "stream",
     "text": [
      "stop_reason stagnation_lim\n",
      "FX_best -330.0\n",
      "dimensions: 2\n",
      "start num:  77\n",
      "Xmin:      \n",
      "[-5 -5]\n",
      "Xmax:      \n",
      "[5 5]\n"
     ]
    },
    {
     "name": "stderr",
     "output_type": "stream",
     "text": [
      " 28%|█████████████████████▋                                                         | 275/1000 [00:33<01:29,  8.13it/s]\n"
     ]
    },
    {
     "name": "stdout",
     "output_type": "stream",
     "text": [
      "stop_reason stagnation_lim\n",
      "FX_best -330.0\n",
      "dimensions: 2\n",
      "start num:  78\n",
      "Xmin:      \n",
      "[-5 -5]\n",
      "Xmax:      \n",
      "[5 5]\n"
     ]
    },
    {
     "name": "stderr",
     "output_type": "stream",
     "text": [
      " 17%|█████████████                                                                  | 166/1000 [00:20<01:42,  8.18it/s]\n"
     ]
    },
    {
     "name": "stdout",
     "output_type": "stream",
     "text": [
      "stop_reason stagnation_lim\n",
      "FX_best -330.0\n",
      "dimensions: 2\n",
      "start num:  79\n",
      "Xmin:      \n",
      "[-5 -5]\n",
      "Xmax:      \n",
      "[5 5]\n"
     ]
    },
    {
     "name": "stderr",
     "output_type": "stream",
     "text": [
      "  4%|███                                                                             | 39/1000 [00:04<01:56,  8.23it/s]\n"
     ]
    },
    {
     "name": "stdout",
     "output_type": "stream",
     "text": [
      "stop_reason stagnation_lim\n",
      "FX_best -330.0\n",
      "dimensions: 2\n",
      "start num:  80\n",
      "Xmin:      \n",
      "[-5 -5]\n",
      "Xmax:      \n",
      "[5 5]\n"
     ]
    },
    {
     "name": "stderr",
     "output_type": "stream",
     "text": [
      " 15%|████████████                                                                   | 152/1000 [00:18<01:44,  8.14it/s]\n"
     ]
    },
    {
     "name": "stdout",
     "output_type": "stream",
     "text": [
      "stop_reason stagnation_lim\n",
      "FX_best -330.0\n",
      "dimensions: 2\n",
      "start num:  81\n",
      "Xmin:      \n",
      "[-5 -5]\n",
      "Xmax:      \n",
      "[5 5]\n"
     ]
    },
    {
     "name": "stderr",
     "output_type": "stream",
     "text": [
      " 42%|█████████████████████████████████▎                                             | 421/1000 [00:38<00:52, 11.06it/s]\n"
     ]
    },
    {
     "name": "stdout",
     "output_type": "stream",
     "text": [
      "stop_reason stagnation_lim\n",
      "FX_best -330.0\n",
      "dimensions: 2\n",
      "start num:  82\n",
      "Xmin:      \n",
      "[-5 -5]\n",
      "Xmax:      \n",
      "[5 5]\n"
     ]
    },
    {
     "name": "stderr",
     "output_type": "stream",
     "text": [
      " 63%|█████████████████████████████████████████████████▋                             | 629/1000 [00:56<00:33, 11.09it/s]\n"
     ]
    },
    {
     "name": "stdout",
     "output_type": "stream",
     "text": [
      "stop_reason stagnation_lim\n",
      "FX_best -330.0\n",
      "dimensions: 2\n",
      "start num:  83\n",
      "Xmin:      \n",
      "[-5 -5]\n",
      "Xmax:      \n",
      "[5 5]\n"
     ]
    },
    {
     "name": "stderr",
     "output_type": "stream",
     "text": [
      " 30%|███████████████████████▍                                                       | 297/1000 [00:37<01:27,  8.02it/s]\n"
     ]
    },
    {
     "name": "stdout",
     "output_type": "stream",
     "text": [
      "stop_reason stagnation_lim\n",
      "FX_best -330.0\n",
      "dimensions: 2\n",
      "start num:  84\n",
      "Xmin:      \n",
      "[-5 -5]\n",
      "Xmax:      \n",
      "[5 5]\n"
     ]
    },
    {
     "name": "stderr",
     "output_type": "stream",
     "text": [
      "  6%|████▌                                                                           | 57/1000 [00:06<01:41,  9.31it/s]\n"
     ]
    },
    {
     "name": "stdout",
     "output_type": "stream",
     "text": [
      "stop_reason stagnation_lim\n",
      "FX_best -330.0\n",
      "dimensions: 2\n",
      "start num:  85\n",
      "Xmin:      \n",
      "[-5 -5]\n",
      "Xmax:      \n",
      "[5 5]\n"
     ]
    },
    {
     "name": "stderr",
     "output_type": "stream",
     "text": [
      "  6%|████▌                                                                           | 57/1000 [00:05<01:29, 10.54it/s]\n"
     ]
    },
    {
     "name": "stdout",
     "output_type": "stream",
     "text": [
      "stop_reason stagnation_lim\n",
      "FX_best -330.0\n",
      "dimensions: 2\n",
      "start num:  86\n",
      "Xmin:      \n",
      "[-5 -5]\n",
      "Xmax:      \n",
      "[5 5]\n"
     ]
    },
    {
     "name": "stderr",
     "output_type": "stream",
     "text": [
      "  4%|███▏                                                                            | 40/1000 [00:03<01:20, 11.89it/s]\n"
     ]
    },
    {
     "name": "stdout",
     "output_type": "stream",
     "text": [
      "stop_reason stagnation_lim\n",
      "FX_best -330.0\n",
      "dimensions: 2\n",
      "start num:  87\n",
      "Xmin:      \n",
      "[-5 -5]\n",
      "Xmax:      \n",
      "[5 5]\n"
     ]
    },
    {
     "name": "stderr",
     "output_type": "stream",
     "text": [
      " 14%|██████████▋                                                                    | 135/1000 [00:13<01:26, 10.03it/s]\n"
     ]
    },
    {
     "name": "stdout",
     "output_type": "stream",
     "text": [
      "stop_reason stagnation_lim\n",
      "FX_best -330.0\n",
      "dimensions: 2\n",
      "start num:  88\n",
      "Xmin:      \n",
      "[-5 -5]\n",
      "Xmax:      \n",
      "[5 5]\n"
     ]
    },
    {
     "name": "stderr",
     "output_type": "stream",
     "text": [
      "  3%|██▋                                                                             | 33/1000 [00:04<01:57,  8.24it/s]\n"
     ]
    },
    {
     "name": "stdout",
     "output_type": "stream",
     "text": [
      "stop_reason stagnation_lim\n",
      "FX_best -330.0\n",
      "dimensions: 2\n",
      "start num:  89\n",
      "Xmin:      \n",
      "[-5 -5]\n",
      "Xmax:      \n",
      "[5 5]\n"
     ]
    },
    {
     "name": "stderr",
     "output_type": "stream",
     "text": [
      " 53%|█████████████████████████████████████████▉                                     | 531/1000 [01:04<00:56,  8.23it/s]\n"
     ]
    },
    {
     "name": "stdout",
     "output_type": "stream",
     "text": [
      "stop_reason stagnation_lim\n",
      "FX_best -330.0\n",
      "dimensions: 2\n",
      "start num:  90\n",
      "Xmin:      \n",
      "[-5 -5]\n",
      "Xmax:      \n",
      "[5 5]\n"
     ]
    },
    {
     "name": "stderr",
     "output_type": "stream",
     "text": [
      " 58%|█████████████████████████████████████████████▊                                 | 580/1000 [01:02<00:45,  9.27it/s]\n"
     ]
    },
    {
     "name": "stdout",
     "output_type": "stream",
     "text": [
      "stop_reason stagnation_lim\n",
      "FX_best -330.0\n",
      "dimensions: 2\n",
      "start num:  91\n",
      "Xmin:      \n",
      "[-5 -5]\n",
      "Xmax:      \n",
      "[5 5]\n"
     ]
    },
    {
     "name": "stderr",
     "output_type": "stream",
     "text": [
      " 82%|█████████████████████████████████████████████████████████████████              | 823/1000 [01:40<00:21,  8.22it/s]\n"
     ]
    },
    {
     "name": "stdout",
     "output_type": "stream",
     "text": [
      "stop_reason stagnation_lim\n",
      "FX_best -330.0\n",
      "dimensions: 2\n",
      "start num:  92\n",
      "Xmin:      \n",
      "[-5 -5]\n",
      "Xmax:      \n",
      "[5 5]\n"
     ]
    },
    {
     "name": "stderr",
     "output_type": "stream",
     "text": [
      " 12%|█████████▎                                                                     | 118/1000 [00:14<01:46,  8.26it/s]\n"
     ]
    },
    {
     "name": "stdout",
     "output_type": "stream",
     "text": [
      "stop_reason stagnation_lim\n",
      "FX_best -330.0\n",
      "dimensions: 2\n",
      "start num:  93\n",
      "Xmin:      \n",
      "[-5 -5]\n",
      "Xmax:      \n",
      "[5 5]\n"
     ]
    },
    {
     "name": "stderr",
     "output_type": "stream",
     "text": [
      "  4%|██▊                                                                             | 35/1000 [00:04<02:00,  7.98it/s]\n"
     ]
    },
    {
     "name": "stdout",
     "output_type": "stream",
     "text": [
      "stop_reason stagnation_lim\n",
      "FX_best -330.0\n",
      "dimensions: 2\n",
      "start num:  94\n",
      "Xmin:      \n",
      "[-5 -5]\n",
      "Xmax:      \n",
      "[5 5]\n"
     ]
    },
    {
     "name": "stderr",
     "output_type": "stream",
     "text": [
      " 20%|███████████████▍                                                               | 195/1000 [00:18<01:18, 10.30it/s]\n"
     ]
    },
    {
     "name": "stdout",
     "output_type": "stream",
     "text": [
      "stop_reason stagnation_lim\n",
      "FX_best -330.0\n",
      "dimensions: 2\n",
      "start num:  95\n",
      "Xmin:      \n",
      "[-5 -5]\n",
      "Xmax:      \n",
      "[5 5]\n"
     ]
    },
    {
     "name": "stderr",
     "output_type": "stream",
     "text": [
      " 17%|█████████████▌                                                                 | 172/1000 [00:15<01:15, 10.92it/s]\n"
     ]
    },
    {
     "name": "stdout",
     "output_type": "stream",
     "text": [
      "stop_reason stagnation_lim\n",
      "FX_best -330.0\n",
      "dimensions: 2\n",
      "start num:  96\n",
      "Xmin:      \n",
      "[-5 -5]\n",
      "Xmax:      \n",
      "[5 5]\n"
     ]
    },
    {
     "name": "stderr",
     "output_type": "stream",
     "text": [
      " 23%|██████████████████▍                                                            | 234/1000 [00:29<01:36,  7.93it/s]\n"
     ]
    },
    {
     "name": "stdout",
     "output_type": "stream",
     "text": [
      "stop_reason stagnation_lim\n",
      "FX_best -330.0\n",
      "dimensions: 2\n",
      "start num:  97\n",
      "Xmin:      \n",
      "[-5 -5]\n",
      "Xmax:      \n",
      "[5 5]\n"
     ]
    },
    {
     "name": "stderr",
     "output_type": "stream",
     "text": [
      " 50%|███████████████████████████████████████▋                                       | 503/1000 [01:03<01:02,  7.90it/s]\n"
     ]
    },
    {
     "name": "stdout",
     "output_type": "stream",
     "text": [
      "stop_reason stagnation_lim\n",
      "FX_best -330.0\n",
      "dimensions: 2\n",
      "start num:  98\n",
      "Xmin:      \n",
      "[-5 -5]\n",
      "Xmax:      \n",
      "[5 5]\n"
     ]
    },
    {
     "name": "stderr",
     "output_type": "stream",
     "text": [
      "  3%|██▍                                                                             | 31/1000 [00:04<02:05,  7.72it/s]\n"
     ]
    },
    {
     "name": "stdout",
     "output_type": "stream",
     "text": [
      "stop_reason stagnation_lim\n",
      "FX_best -329.0050409429067\n",
      "dimensions: 2\n",
      "start num:  99\n",
      "Xmin:      \n",
      "[-5 -5]\n",
      "Xmax:      \n",
      "[5 5]\n"
     ]
    },
    {
     "name": "stderr",
     "output_type": "stream",
     "text": [
      " 53%|█████████████████████████████████████████▌                                     | 526/1000 [00:51<00:46, 10.21it/s]\n"
     ]
    },
    {
     "name": "stdout",
     "output_type": "stream",
     "text": [
      "stop_reason stagnation_lim\n",
      "FX_best -330.0\n",
      "dimensions: 4\n",
      "start num:  0\n",
      "Xmin:      \n",
      "[-5 -5 -5 -5]\n",
      "Xmax:      \n",
      "[5 5 5 5]\n"
     ]
    },
    {
     "name": "stderr",
     "output_type": "stream",
     "text": [
      "  4%|███▎                                                                            | 42/1000 [00:03<01:20, 11.94it/s]\n"
     ]
    },
    {
     "name": "stdout",
     "output_type": "stream",
     "text": [
      "stop_reason stagnation_lim\n",
      "FX_best -324.0302505345598\n",
      "dimensions: 4\n",
      "start num:  1\n",
      "Xmin:      \n",
      "[-5 -5 -5 -5]\n",
      "Xmax:      \n",
      "[5 5 5 5]\n"
     ]
    },
    {
     "name": "stderr",
     "output_type": "stream",
     "text": [
      "  4%|███▎                                                                            | 42/1000 [00:03<01:20, 11.91it/s]\n"
     ]
    },
    {
     "name": "stdout",
     "output_type": "stream",
     "text": [
      "stop_reason stagnation_lim\n",
      "FX_best -327.0151228287194\n",
      "dimensions: 4\n",
      "start num:  2\n",
      "Xmin:      \n",
      "[-5 -5 -5 -5]\n",
      "Xmax:      \n",
      "[5 5 5 5]\n"
     ]
    },
    {
     "name": "stderr",
     "output_type": "stream",
     "text": [
      "  4%|███▎                                                                            | 42/1000 [00:03<01:19, 11.98it/s]\n"
     ]
    },
    {
     "name": "stdout",
     "output_type": "stream",
     "text": [
      "stop_reason stagnation_lim\n",
      "FX_best -328.0100818856451\n",
      "dimensions: 4\n",
      "start num:  3\n",
      "Xmin:      \n",
      "[-5 -5 -5 -5]\n",
      "Xmax:      \n",
      "[5 5 5 5]\n"
     ]
    },
    {
     "name": "stderr",
     "output_type": "stream",
     "text": [
      "  4%|███▎                                                                            | 42/1000 [00:03<01:17, 12.33it/s]\n"
     ]
    },
    {
     "name": "stdout",
     "output_type": "stream",
     "text": [
      "stop_reason stagnation_lim\n",
      "FX_best -325.02520975235217\n",
      "dimensions: 4\n",
      "start num:  4\n",
      "Xmin:      \n",
      "[-5 -5 -5 -5]\n",
      "Xmax:      \n",
      "[5 5 5 5]\n"
     ]
    },
    {
     "name": "stderr",
     "output_type": "stream",
     "text": [
      "  5%|███▉                                                                            | 49/1000 [00:04<01:20, 11.88it/s]\n"
     ]
    },
    {
     "name": "stdout",
     "output_type": "stream",
     "text": [
      "stop_reason stagnation_lim\n",
      "FX_best -324.0302506908055\n",
      "dimensions: 4\n",
      "start num:  5\n",
      "Xmin:      \n",
      "[-5 -5 -5 -5]\n",
      "Xmax:      \n",
      "[5 5 5 5]\n"
     ]
    },
    {
     "name": "stderr",
     "output_type": "stream",
     "text": [
      "  5%|███▉                                                                            | 49/1000 [00:04<01:19, 11.97it/s]\n"
     ]
    },
    {
     "name": "stdout",
     "output_type": "stream",
     "text": [
      "stop_reason stagnation_lim\n",
      "FX_best -326.01998903066686\n",
      "dimensions: 4\n",
      "start num:  6\n",
      "Xmin:      \n",
      "[-5 -5 -5 -5]\n",
      "Xmax:      \n",
      "[5 5 5 5]\n"
     ]
    },
    {
     "name": "stderr",
     "output_type": "stream",
     "text": [
      "  5%|███▊                                                                            | 47/1000 [00:03<01:18, 12.18it/s]\n"
     ]
    },
    {
     "name": "stdout",
     "output_type": "stream",
     "text": [
      "stop_reason stagnation_lim\n",
      "FX_best -327.0151228287172\n",
      "dimensions: 4\n",
      "start num:  7\n",
      "Xmin:      \n",
      "[-5 -5 -5 -5]\n",
      "Xmax:      \n",
      "[5 5 5 5]\n"
     ]
    },
    {
     "name": "stderr",
     "output_type": "stream",
     "text": [
      "  8%|██████▍                                                                         | 80/1000 [00:06<01:17, 11.82it/s]\n"
     ]
    },
    {
     "name": "stdout",
     "output_type": "stream",
     "text": [
      "stop_reason stagnation_lim\n",
      "FX_best -324.9870831938594\n",
      "dimensions: 4\n",
      "start num:  8\n",
      "Xmin:      \n",
      "[-5 -5 -5 -5]\n",
      "Xmax:      \n",
      "[5 5 5 5]\n"
     ]
    },
    {
     "name": "stderr",
     "output_type": "stream",
     "text": [
      "  6%|████▌                                                                           | 57/1000 [00:04<01:18, 11.98it/s]\n"
     ]
    },
    {
     "name": "stdout",
     "output_type": "stream",
     "text": [
      "stop_reason stagnation_lim\n",
      "FX_best -329.99740406400156\n",
      "dimensions: 4\n",
      "start num:  9\n",
      "Xmin:      \n",
      "[-5 -5 -5 -5]\n",
      "Xmax:      \n",
      "[5 5 5 5]\n"
     ]
    },
    {
     "name": "stderr",
     "output_type": "stream",
     "text": [
      "  5%|███▋                                                                            | 46/1000 [00:03<01:20, 11.88it/s]\n"
     ]
    },
    {
     "name": "stdout",
     "output_type": "stream",
     "text": [
      "stop_reason stagnation_lim\n",
      "FX_best -325.02517196138217\n",
      "dimensions: 4\n",
      "start num:  10\n",
      "Xmin:      \n",
      "[-5 -5 -5 -5]\n",
      "Xmax:      \n",
      "[5 5 5 5]\n"
     ]
    },
    {
     "name": "stderr",
     "output_type": "stream",
     "text": [
      "  4%|███▎                                                                            | 41/1000 [00:03<01:20, 11.97it/s]\n"
     ]
    },
    {
     "name": "stdout",
     "output_type": "stream",
     "text": [
      "stop_reason stagnation_lim\n",
      "FX_best -328.01008188153145\n",
      "dimensions: 4\n",
      "start num:  11\n",
      "Xmin:      \n",
      "[-5 -5 -5 -5]\n",
      "Xmax:      \n",
      "[5 5 5 5]\n"
     ]
    },
    {
     "name": "stderr",
     "output_type": "stream",
     "text": [
      "  6%|████▊                                                                           | 60/1000 [00:05<01:19, 11.88it/s]\n"
     ]
    },
    {
     "name": "stdout",
     "output_type": "stream",
     "text": [
      "stop_reason stagnation_lim\n",
      "FX_best -324.03013524910403\n",
      "dimensions: 4\n",
      "start num:  12\n",
      "Xmin:      \n",
      "[-5 -5 -5 -5]\n",
      "Xmax:      \n",
      "[5 5 5 5]\n"
     ]
    },
    {
     "name": "stderr",
     "output_type": "stream",
     "text": [
      "  7%|█████▎                                                                          | 67/1000 [00:05<01:19, 11.75it/s]\n"
     ]
    },
    {
     "name": "stdout",
     "output_type": "stream",
     "text": [
      "stop_reason stagnation_lim\n",
      "FX_best -328.0100309015832\n",
      "dimensions: 4\n",
      "start num:  13\n",
      "Xmin:      \n",
      "[-5 -5 -5 -5]\n",
      "Xmax:      \n",
      "[5 5 5 5]\n"
     ]
    },
    {
     "name": "stderr",
     "output_type": "stream",
     "text": [
      "  4%|███▌                                                                            | 45/1000 [00:03<01:19, 12.04it/s]\n"
     ]
    },
    {
     "name": "stdout",
     "output_type": "stream",
     "text": [
      "stop_reason stagnation_lim\n",
      "FX_best -329.0050409405811\n",
      "dimensions: 4\n",
      "start num:  14\n",
      "Xmin:      \n",
      "[-5 -5 -5 -5]\n",
      "Xmax:      \n",
      "[5 5 5 5]\n"
     ]
    },
    {
     "name": "stderr",
     "output_type": "stream",
     "text": [
      " 11%|████████▌                                                                      | 108/1000 [00:09<01:16, 11.67it/s]\n"
     ]
    },
    {
     "name": "stdout",
     "output_type": "stream",
     "text": [
      "stop_reason stagnation_lim\n",
      "FX_best -329.00477734722955\n",
      "dimensions: 4\n",
      "start num:  15\n",
      "Xmin:      \n",
      "[-5 -5 -5 -5]\n",
      "Xmax:      \n",
      "[5 5 5 5]\n"
     ]
    },
    {
     "name": "stderr",
     "output_type": "stream",
     "text": [
      "  4%|███▏                                                                            | 40/1000 [00:03<01:21, 11.83it/s]\n"
     ]
    },
    {
     "name": "stdout",
     "output_type": "stream",
     "text": [
      "stop_reason stagnation_lim\n",
      "FX_best -329.0050408755595\n",
      "dimensions: 4\n",
      "start num:  16\n",
      "Xmin:      \n",
      "[-5 -5 -5 -5]\n",
      "Xmax:      \n",
      "[5 5 5 5]\n"
     ]
    },
    {
     "name": "stderr",
     "output_type": "stream",
     "text": [
      "  5%|███▊                                                                            | 47/1000 [00:03<01:20, 11.90it/s]\n"
     ]
    },
    {
     "name": "stdout",
     "output_type": "stream",
     "text": [
      "stop_reason stagnation_lim\n",
      "FX_best -327.01512277552007\n",
      "dimensions: 4\n",
      "start num:  17\n",
      "Xmin:      \n",
      "[-5 -5 -5 -5]\n",
      "Xmax:      \n",
      "[5 5 5 5]\n"
     ]
    },
    {
     "name": "stderr",
     "output_type": "stream",
     "text": [
      "  4%|███▌                                                                            | 45/1000 [00:03<01:18, 12.22it/s]\n"
     ]
    },
    {
     "name": "stdout",
     "output_type": "stream",
     "text": [
      "stop_reason stagnation_lim\n",
      "FX_best -328.0100818857846\n",
      "dimensions: 4\n",
      "start num:  18\n",
      "Xmin:      \n",
      "[-5 -5 -5 -5]\n",
      "Xmax:      \n",
      "[5 5 5 5]\n"
     ]
    },
    {
     "name": "stderr",
     "output_type": "stream",
     "text": [
      "  5%|███▉                                                                            | 49/1000 [00:04<01:19, 11.99it/s]\n"
     ]
    },
    {
     "name": "stdout",
     "output_type": "stream",
     "text": [
      "stop_reason stagnation_lim\n",
      "FX_best -329.0050409428455\n",
      "dimensions: 4\n",
      "start num:  19\n",
      "Xmin:      \n",
      "[-5 -5 -5 -5]\n",
      "Xmax:      \n",
      "[5 5 5 5]\n"
     ]
    },
    {
     "name": "stderr",
     "output_type": "stream",
     "text": [
      "  5%|████                                                                            | 50/1000 [00:04<01:20, 11.85it/s]\n"
     ]
    },
    {
     "name": "stdout",
     "output_type": "stream",
     "text": [
      "stop_reason stagnation_lim\n",
      "FX_best -328.01008188022837\n",
      "dimensions: 4\n",
      "start num:  20\n",
      "Xmin:      \n",
      "[-5 -5 -5 -5]\n",
      "Xmax:      \n",
      "[5 5 5 5]\n"
     ]
    },
    {
     "name": "stderr",
     "output_type": "stream",
     "text": [
      "  8%|██████▏                                                                         | 78/1000 [00:06<01:15, 12.15it/s]\n"
     ]
    },
    {
     "name": "stdout",
     "output_type": "stream",
     "text": [
      "stop_reason stagnation_lim\n",
      "FX_best -325.02520975232864\n",
      "dimensions: 4\n",
      "start num:  21\n",
      "Xmin:      \n",
      "[-5 -5 -5 -5]\n",
      "Xmax:      \n",
      "[5 5 5 5]\n"
     ]
    },
    {
     "name": "stderr",
     "output_type": "stream",
     "text": [
      "  7%|█████▎                                                                          | 67/1000 [00:05<01:18, 11.89it/s]\n"
     ]
    },
    {
     "name": "stdout",
     "output_type": "stream",
     "text": [
      "stop_reason stagnation_lim\n",
      "FX_best -324.03018762018405\n",
      "dimensions: 4\n",
      "start num:  22\n",
      "Xmin:      \n",
      "[-5 -5 -5 -5]\n",
      "Xmax:      \n",
      "[5 5 5 5]\n"
     ]
    },
    {
     "name": "stderr",
     "output_type": "stream",
     "text": [
      "  5%|███▊                                                                            | 48/1000 [00:03<01:18, 12.06it/s]\n"
     ]
    },
    {
     "name": "stdout",
     "output_type": "stream",
     "text": [
      "stop_reason stagnation_lim\n",
      "FX_best -329.0050409360734\n",
      "dimensions: 4\n",
      "start num:  23\n",
      "Xmin:      \n",
      "[-5 -5 -5 -5]\n",
      "Xmax:      \n",
      "[5 5 5 5]\n"
     ]
    },
    {
     "name": "stderr",
     "output_type": "stream",
     "text": [
      "  4%|███                                                                             | 38/1000 [00:03<01:19, 12.07it/s]\n"
     ]
    },
    {
     "name": "stdout",
     "output_type": "stream",
     "text": [
      "stop_reason stagnation_lim\n",
      "FX_best -328.01008185022783\n",
      "dimensions: 4\n",
      "start num:  24\n",
      "Xmin:      \n",
      "[-5 -5 -5 -5]\n",
      "Xmax:      \n",
      "[5 5 5 5]\n"
     ]
    },
    {
     "name": "stderr",
     "output_type": "stream",
     "text": [
      "  4%|██▉                                                                             | 36/1000 [00:02<01:19, 12.13it/s]\n"
     ]
    },
    {
     "name": "stdout",
     "output_type": "stream",
     "text": [
      "stop_reason stagnation_lim\n",
      "FX_best -329.00504094289784\n",
      "dimensions: 4\n",
      "start num:  25\n",
      "Xmin:      \n",
      "[-5 -5 -5 -5]\n",
      "Xmax:      \n",
      "[5 5 5 5]\n"
     ]
    },
    {
     "name": "stderr",
     "output_type": "stream",
     "text": [
      "  6%|████▊                                                                           | 60/1000 [00:05<01:18, 11.94it/s]\n"
     ]
    },
    {
     "name": "stdout",
     "output_type": "stream",
     "text": [
      "stop_reason stagnation_lim\n",
      "FX_best -327.01380976260197\n",
      "dimensions: 4\n",
      "start num:  26\n",
      "Xmin:      \n",
      "[-5 -5 -5 -5]\n",
      "Xmax:      \n",
      "[5 5 5 5]\n"
     ]
    },
    {
     "name": "stderr",
     "output_type": "stream",
     "text": [
      "  7%|█████▋                                                                          | 71/1000 [00:05<01:17, 11.94it/s]\n"
     ]
    },
    {
     "name": "stdout",
     "output_type": "stream",
     "text": [
      "stop_reason stagnation_lim\n",
      "FX_best -329.0047125171738\n",
      "dimensions: 4\n",
      "start num:  27\n",
      "Xmin:      \n",
      "[-5 -5 -5 -5]\n",
      "Xmax:      \n",
      "[5 5 5 5]\n"
     ]
    },
    {
     "name": "stderr",
     "output_type": "stream",
     "text": [
      "  6%|█████▏                                                                          | 65/1000 [00:05<01:18, 11.92it/s]\n"
     ]
    },
    {
     "name": "stdout",
     "output_type": "stream",
     "text": [
      "stop_reason stagnation_lim\n",
      "FX_best -328.0100438078244\n",
      "dimensions: 4\n",
      "start num:  28\n",
      "Xmin:      \n",
      "[-5 -5 -5 -5]\n",
      "Xmax:      \n",
      "[5 5 5 5]\n"
     ]
    },
    {
     "name": "stderr",
     "output_type": "stream",
     "text": [
      "  6%|████▊                                                                           | 60/1000 [00:05<01:18, 11.95it/s]\n"
     ]
    },
    {
     "name": "stdout",
     "output_type": "stream",
     "text": [
      "stop_reason stagnation_lim\n",
      "FX_best -328.01004779269243\n",
      "dimensions: 4\n",
      "start num:  29\n",
      "Xmin:      \n",
      "[-5 -5 -5 -5]\n",
      "Xmax:      \n",
      "[5 5 5 5]\n"
     ]
    },
    {
     "name": "stderr",
     "output_type": "stream",
     "text": [
      "  7%|█████▊                                                                          | 72/1000 [00:06<01:19, 11.67it/s]\n"
     ]
    },
    {
     "name": "stdout",
     "output_type": "stream",
     "text": [
      "stop_reason stagnation_lim\n",
      "FX_best -329.0050300775868\n",
      "dimensions: 4\n",
      "start num:  30\n",
      "Xmin:      \n",
      "[-5 -5 -5 -5]\n",
      "Xmax:      \n",
      "[5 5 5 5]\n"
     ]
    },
    {
     "name": "stderr",
     "output_type": "stream",
     "text": [
      "  5%|████                                                                            | 51/1000 [00:04<01:18, 12.15it/s]\n"
     ]
    },
    {
     "name": "stdout",
     "output_type": "stream",
     "text": [
      "stop_reason stagnation_lim\n",
      "FX_best -327.0151226020795\n",
      "dimensions: 4\n",
      "start num:  31\n",
      "Xmin:      \n",
      "[-5 -5 -5 -5]\n",
      "Xmax:      \n",
      "[5 5 5 5]\n"
     ]
    },
    {
     "name": "stderr",
     "output_type": "stream",
     "text": [
      "  4%|███▎                                                                            | 42/1000 [00:03<01:18, 12.21it/s]\n"
     ]
    },
    {
     "name": "stdout",
     "output_type": "stream",
     "text": [
      "stop_reason stagnation_lim\n",
      "FX_best -326.0201637709829\n",
      "dimensions: 4\n",
      "start num:  32\n",
      "Xmin:      \n",
      "[-5 -5 -5 -5]\n",
      "Xmax:      \n",
      "[5 5 5 5]\n"
     ]
    },
    {
     "name": "stderr",
     "output_type": "stream",
     "text": [
      "  7%|█████▉                                                                          | 74/1000 [00:06<01:17, 11.92it/s]\n"
     ]
    },
    {
     "name": "stdout",
     "output_type": "stream",
     "text": [
      "stop_reason stagnation_lim\n",
      "FX_best -328.0100517857793\n",
      "dimensions: 4\n",
      "start num:  33\n",
      "Xmin:      \n",
      "[-5 -5 -5 -5]\n",
      "Xmax:      \n",
      "[5 5 5 5]\n"
     ]
    },
    {
     "name": "stderr",
     "output_type": "stream",
     "text": [
      "  7%|█████▎                                                                          | 67/1000 [00:05<01:18, 11.84it/s]\n"
     ]
    },
    {
     "name": "stdout",
     "output_type": "stream",
     "text": [
      "stop_reason stagnation_lim\n",
      "FX_best -329.00503048279637\n",
      "dimensions: 4\n",
      "start num:  34\n",
      "Xmin:      \n",
      "[-5 -5 -5 -5]\n",
      "Xmax:      \n",
      "[5 5 5 5]\n"
     ]
    },
    {
     "name": "stderr",
     "output_type": "stream",
     "text": [
      "  4%|██▉                                                                             | 37/1000 [00:03<01:19, 12.04it/s]\n"
     ]
    },
    {
     "name": "stdout",
     "output_type": "stream",
     "text": [
      "stop_reason stagnation_lim\n",
      "FX_best -326.0201637580231\n",
      "dimensions: 4\n",
      "start num:  35\n",
      "Xmin:      \n",
      "[-5 -5 -5 -5]\n",
      "Xmax:      \n",
      "[5 5 5 5]\n"
     ]
    },
    {
     "name": "stderr",
     "output_type": "stream",
     "text": [
      "  6%|████▍                                                                           | 56/1000 [00:04<01:19, 11.91it/s]\n"
     ]
    },
    {
     "name": "stdout",
     "output_type": "stream",
     "text": [
      "stop_reason stagnation_lim\n",
      "FX_best -327.01512280968853\n",
      "dimensions: 4\n",
      "start num:  36\n",
      "Xmin:      \n",
      "[-5 -5 -5 -5]\n",
      "Xmax:      \n",
      "[5 5 5 5]\n"
     ]
    },
    {
     "name": "stderr",
     "output_type": "stream",
     "text": [
      "  6%|████▉                                                                           | 61/1000 [00:05<01:19, 11.88it/s]\n"
     ]
    },
    {
     "name": "stdout",
     "output_type": "stream",
     "text": [
      "stop_reason stagnation_lim\n",
      "FX_best -324.0299233284129\n",
      "dimensions: 4\n",
      "start num:  37\n",
      "Xmin:      \n",
      "[-5 -5 -5 -5]\n",
      "Xmax:      \n",
      "[5 5 5 5]\n"
     ]
    },
    {
     "name": "stderr",
     "output_type": "stream",
     "text": [
      "  5%|████                                                                            | 50/1000 [00:04<01:16, 12.38it/s]\n"
     ]
    },
    {
     "name": "stdout",
     "output_type": "stream",
     "text": [
      "stop_reason stagnation_lim\n",
      "FX_best -326.0201637716268\n",
      "dimensions: 4\n",
      "start num:  38\n",
      "Xmin:      \n",
      "[-5 -5 -5 -5]\n",
      "Xmax:      \n",
      "[5 5 5 5]\n"
     ]
    },
    {
     "name": "stderr",
     "output_type": "stream",
     "text": [
      "  5%|███▋                                                                            | 46/1000 [00:03<01:17, 12.29it/s]\n"
     ]
    },
    {
     "name": "stdout",
     "output_type": "stream",
     "text": [
      "stop_reason stagnation_lim\n",
      "FX_best -327.0151228287199\n",
      "dimensions: 4\n",
      "start num:  39\n",
      "Xmin:      \n",
      "[-5 -5 -5 -5]\n",
      "Xmax:      \n",
      "[5 5 5 5]\n"
     ]
    },
    {
     "name": "stderr",
     "output_type": "stream",
     "text": [
      "  6%|████▋                                                                           | 59/1000 [00:04<01:18, 12.05it/s]\n"
     ]
    },
    {
     "name": "stdout",
     "output_type": "stream",
     "text": [
      "stop_reason stagnation_lim\n",
      "FX_best -327.01150468342877\n",
      "dimensions: 4\n",
      "start num:  40\n",
      "Xmin:      \n",
      "[-5 -5 -5 -5]\n",
      "Xmax:      \n",
      "[5 5 5 5]\n"
     ]
    },
    {
     "name": "stderr",
     "output_type": "stream",
     "text": [
      "  6%|█████                                                                           | 64/1000 [00:05<01:17, 12.08it/s]\n"
     ]
    },
    {
     "name": "stdout",
     "output_type": "stream",
     "text": [
      "stop_reason stagnation_lim\n",
      "FX_best -327.0142980177125\n",
      "dimensions: 4\n",
      "start num:  41\n",
      "Xmin:      \n",
      "[-5 -5 -5 -5]\n",
      "Xmax:      \n",
      "[5 5 5 5]\n"
     ]
    },
    {
     "name": "stderr",
     "output_type": "stream",
     "text": [
      "  5%|████▏                                                                           | 52/1000 [00:04<01:18, 12.10it/s]\n"
     ]
    },
    {
     "name": "stdout",
     "output_type": "stream",
     "text": [
      "stop_reason stagnation_lim\n",
      "FX_best -329.999999032329\n",
      "dimensions: 4\n",
      "start num:  42\n",
      "Xmin:      \n",
      "[-5 -5 -5 -5]\n",
      "Xmax:      \n",
      "[5 5 5 5]\n"
     ]
    },
    {
     "name": "stderr",
     "output_type": "stream",
     "text": [
      "  7%|█████▌                                                                          | 70/1000 [00:05<01:17, 12.04it/s]\n"
     ]
    },
    {
     "name": "stdout",
     "output_type": "stream",
     "text": [
      "stop_reason stagnation_lim\n",
      "FX_best -327.99996042013333\n",
      "dimensions: 4\n",
      "start num:  43\n",
      "Xmin:      \n",
      "[-5 -5 -5 -5]\n",
      "Xmax:      \n",
      "[5 5 5 5]\n"
     ]
    },
    {
     "name": "stderr",
     "output_type": "stream",
     "text": [
      "  6%|█████▏                                                                          | 65/1000 [00:05<01:18, 11.98it/s]\n"
     ]
    },
    {
     "name": "stdout",
     "output_type": "stream",
     "text": [
      "stop_reason stagnation_lim\n",
      "FX_best -327.01477526076206\n",
      "dimensions: 4\n",
      "start num:  44\n",
      "Xmin:      \n",
      "[-5 -5 -5 -5]\n",
      "Xmax:      \n",
      "[5 5 5 5]\n"
     ]
    },
    {
     "name": "stderr",
     "output_type": "stream",
     "text": [
      "  6%|████▊                                                                           | 60/1000 [00:05<01:19, 11.84it/s]\n"
     ]
    },
    {
     "name": "stdout",
     "output_type": "stream",
     "text": [
      "stop_reason stagnation_lim\n",
      "FX_best -328.0096591286736\n",
      "dimensions: 4\n",
      "start num:  45\n",
      "Xmin:      \n",
      "[-5 -5 -5 -5]\n",
      "Xmax:      \n",
      "[5 5 5 5]\n"
     ]
    },
    {
     "name": "stderr",
     "output_type": "stream",
     "text": [
      "  7%|█████▋                                                                          | 71/1000 [00:05<01:17, 11.94it/s]\n"
     ]
    },
    {
     "name": "stdout",
     "output_type": "stream",
     "text": [
      "stop_reason stagnation_lim\n",
      "FX_best -328.0100818359131\n",
      "dimensions: 4\n",
      "start num:  46\n",
      "Xmin:      \n",
      "[-5 -5 -5 -5]\n",
      "Xmax:      \n",
      "[5 5 5 5]\n"
     ]
    },
    {
     "name": "stderr",
     "output_type": "stream",
     "text": [
      "  4%|███▌                                                                            | 44/1000 [00:03<01:19, 12.05it/s]\n"
     ]
    },
    {
     "name": "stdout",
     "output_type": "stream",
     "text": [
      "stop_reason stagnation_lim\n",
      "FX_best -329.00504002408707\n",
      "dimensions: 4\n",
      "start num:  47\n",
      "Xmin:      \n",
      "[-5 -5 -5 -5]\n",
      "Xmax:      \n",
      "[5 5 5 5]\n"
     ]
    },
    {
     "name": "stderr",
     "output_type": "stream",
     "text": [
      "  7%|█████▊                                                                          | 73/1000 [00:06<01:17, 12.04it/s]\n"
     ]
    },
    {
     "name": "stdout",
     "output_type": "stream",
     "text": [
      "stop_reason stagnation_lim\n",
      "FX_best -329.9510556887334\n",
      "dimensions: 4\n",
      "start num:  48\n",
      "Xmin:      \n",
      "[-5 -5 -5 -5]\n",
      "Xmax:      \n",
      "[5 5 5 5]\n"
     ]
    },
    {
     "name": "stderr",
     "output_type": "stream",
     "text": [
      "  9%|███████▏                                                                        | 90/1000 [00:07<01:15, 12.03it/s]\n"
     ]
    },
    {
     "name": "stdout",
     "output_type": "stream",
     "text": [
      "stop_reason stagnation_lim\n",
      "FX_best -326.01835842789114\n",
      "dimensions: 4\n",
      "start num:  49\n",
      "Xmin:      \n",
      "[-5 -5 -5 -5]\n",
      "Xmax:      \n",
      "[5 5 5 5]\n"
     ]
    },
    {
     "name": "stderr",
     "output_type": "stream",
     "text": [
      "  9%|██████▉                                                                         | 87/1000 [00:07<01:16, 11.94it/s]\n"
     ]
    },
    {
     "name": "stdout",
     "output_type": "stream",
     "text": [
      "stop_reason stagnation_lim\n",
      "FX_best -328.00389358601245\n",
      "dimensions: 4\n",
      "start num:  50\n",
      "Xmin:      \n",
      "[-5 -5 -5 -5]\n",
      "Xmax:      \n",
      "[5 5 5 5]\n"
     ]
    },
    {
     "name": "stderr",
     "output_type": "stream",
     "text": [
      "  4%|███                                                                             | 39/1000 [00:03<01:19, 12.16it/s]\n"
     ]
    },
    {
     "name": "stdout",
     "output_type": "stream",
     "text": [
      "stop_reason stagnation_lim\n",
      "FX_best -327.0151228268047\n",
      "dimensions: 4\n",
      "start num:  51\n",
      "Xmin:      \n",
      "[-5 -5 -5 -5]\n",
      "Xmax:      \n",
      "[5 5 5 5]\n"
     ]
    },
    {
     "name": "stderr",
     "output_type": "stream",
     "text": [
      "  4%|███▌                                                                            | 44/1000 [00:03<01:19, 12.09it/s]\n"
     ]
    },
    {
     "name": "stdout",
     "output_type": "stream",
     "text": [
      "stop_reason stagnation_lim\n",
      "FX_best -328.01008179341375\n",
      "dimensions: 4\n",
      "start num:  52\n",
      "Xmin:      \n",
      "[-5 -5 -5 -5]\n",
      "Xmax:      \n",
      "[5 5 5 5]\n"
     ]
    },
    {
     "name": "stderr",
     "output_type": "stream",
     "text": [
      " 11%|████████▌                                                                      | 108/1000 [00:09<01:14, 11.94it/s]\n"
     ]
    },
    {
     "name": "stdout",
     "output_type": "stream",
     "text": [
      "stop_reason stagnation_lim\n",
      "FX_best -325.9873158136027\n",
      "dimensions: 4\n",
      "start num:  53\n",
      "Xmin:      \n",
      "[-5 -5 -5 -5]\n",
      "Xmax:      \n",
      "[5 5 5 5]\n"
     ]
    },
    {
     "name": "stderr",
     "output_type": "stream",
     "text": [
      " 13%|██████████                                                                     | 128/1000 [00:10<01:14, 11.73it/s]\n"
     ]
    },
    {
     "name": "stdout",
     "output_type": "stream",
     "text": [
      "stop_reason stagnation_lim\n",
      "FX_best -325.02313403308517\n",
      "dimensions: 4\n",
      "start num:  54\n",
      "Xmin:      \n",
      "[-5 -5 -5 -5]\n",
      "Xmax:      \n",
      "[5 5 5 5]\n"
     ]
    },
    {
     "name": "stderr",
     "output_type": "stream",
     "text": [
      "  6%|████▊                                                                           | 60/1000 [00:05<01:18, 11.99it/s]\n"
     ]
    },
    {
     "name": "stdout",
     "output_type": "stream",
     "text": [
      "stop_reason stagnation_lim\n",
      "FX_best -328.01007917067795\n",
      "dimensions: 4\n",
      "start num:  55\n",
      "Xmin:      \n",
      "[-5 -5 -5 -5]\n",
      "Xmax:      \n",
      "[5 5 5 5]\n"
     ]
    },
    {
     "name": "stderr",
     "output_type": "stream",
     "text": [
      "  4%|███▌                                                                            | 44/1000 [00:03<01:19, 12.00it/s]\n"
     ]
    },
    {
     "name": "stdout",
     "output_type": "stream",
     "text": [
      "stop_reason stagnation_lim\n",
      "FX_best -324.03025065539975\n",
      "dimensions: 4\n",
      "start num:  56\n",
      "Xmin:      \n",
      "[-5 -5 -5 -5]\n",
      "Xmax:      \n",
      "[5 5 5 5]\n"
     ]
    },
    {
     "name": "stderr",
     "output_type": "stream",
     "text": [
      "  5%|███▉                                                                            | 49/1000 [00:04<01:18, 12.06it/s]\n"
     ]
    },
    {
     "name": "stdout",
     "output_type": "stream",
     "text": [
      "stop_reason stagnation_lim\n",
      "FX_best -324.0302506946836\n",
      "dimensions: 4\n",
      "start num:  57\n",
      "Xmin:      \n",
      "[-5 -5 -5 -5]\n",
      "Xmax:      \n",
      "[5 5 5 5]\n"
     ]
    },
    {
     "name": "stderr",
     "output_type": "stream",
     "text": [
      "  4%|███▏                                                                            | 40/1000 [00:03<01:18, 12.30it/s]\n"
     ]
    },
    {
     "name": "stdout",
     "output_type": "stream",
     "text": [
      "stop_reason stagnation_lim\n",
      "FX_best -323.03529163816546\n",
      "dimensions: 4\n",
      "start num:  58\n",
      "Xmin:      \n",
      "[-5 -5 -5 -5]\n",
      "Xmax:      \n",
      "[5 5 5 5]\n"
     ]
    },
    {
     "name": "stderr",
     "output_type": "stream",
     "text": [
      "  5%|███▊                                                                            | 48/1000 [00:03<01:18, 12.07it/s]\n"
     ]
    },
    {
     "name": "stdout",
     "output_type": "stream",
     "text": [
      "stop_reason stagnation_lim\n",
      "FX_best -328.0100801570463\n",
      "dimensions: 4\n",
      "start num:  59\n",
      "Xmin:      \n",
      "[-5 -5 -5 -5]\n",
      "Xmax:      \n",
      "[5 5 5 5]\n"
     ]
    },
    {
     "name": "stderr",
     "output_type": "stream",
     "text": [
      " 14%|██████████▉                                                                    | 138/1000 [00:11<01:11, 12.04it/s]\n"
     ]
    },
    {
     "name": "stdout",
     "output_type": "stream",
     "text": [
      "stop_reason stagnation_lim\n",
      "FX_best -327.09830912148954\n",
      "dimensions: 4\n",
      "start num:  60\n",
      "Xmin:      \n",
      "[-5 -5 -5 -5]\n",
      "Xmax:      \n",
      "[5 5 5 5]\n"
     ]
    },
    {
     "name": "stderr",
     "output_type": "stream",
     "text": [
      "  4%|███▎                                                                            | 41/1000 [00:03<01:19, 12.07it/s]\n"
     ]
    },
    {
     "name": "stdout",
     "output_type": "stream",
     "text": [
      "stop_reason stagnation_lim\n",
      "FX_best -326.02016330891075\n",
      "dimensions: 4\n",
      "start num:  61\n",
      "Xmin:      \n",
      "[-5 -5 -5 -5]\n",
      "Xmax:      \n",
      "[5 5 5 5]\n"
     ]
    },
    {
     "name": "stderr",
     "output_type": "stream",
     "text": [
      "  6%|████▋                                                                           | 59/1000 [00:06<01:44,  9.04it/s]\n"
     ]
    },
    {
     "name": "stdout",
     "output_type": "stream",
     "text": [
      "stop_reason stagnation_lim\n",
      "FX_best -328.01007424667523\n",
      "dimensions: 4\n",
      "start num:  62\n",
      "Xmin:      \n",
      "[-5 -5 -5 -5]\n",
      "Xmax:      \n",
      "[5 5 5 5]\n"
     ]
    },
    {
     "name": "stderr",
     "output_type": "stream",
     "text": [
      " 12%|█████████▍                                                                     | 119/1000 [00:15<01:52,  7.84it/s]\n"
     ]
    },
    {
     "name": "stdout",
     "output_type": "stream",
     "text": [
      "stop_reason stagnation_lim\n",
      "FX_best -325.02506064142636\n",
      "dimensions: 4\n",
      "start num:  63\n",
      "Xmin:      \n",
      "[-5 -5 -5 -5]\n",
      "Xmax:      \n",
      "[5 5 5 5]\n"
     ]
    },
    {
     "name": "stderr",
     "output_type": "stream",
     "text": [
      "  6%|████▊                                                                           | 60/1000 [00:07<02:03,  7.60it/s]\n"
     ]
    },
    {
     "name": "stdout",
     "output_type": "stream",
     "text": [
      "stop_reason stagnation_lim\n",
      "FX_best -326.02013147616447\n",
      "dimensions: 4\n",
      "start num:  64\n",
      "Xmin:      \n",
      "[-5 -5 -5 -5]\n",
      "Xmax:      \n",
      "[5 5 5 5]\n"
     ]
    },
    {
     "name": "stderr",
     "output_type": "stream",
     "text": [
      " 10%|███████▋                                                                        | 96/1000 [00:12<01:56,  7.73it/s]\n"
     ]
    },
    {
     "name": "stdout",
     "output_type": "stream",
     "text": [
      "stop_reason stagnation_lim\n",
      "FX_best -329.99931704023874\n",
      "dimensions: 4\n",
      "start num:  65\n",
      "Xmin:      \n",
      "[-5 -5 -5 -5]\n",
      "Xmax:      \n",
      "[5 5 5 5]\n"
     ]
    },
    {
     "name": "stderr",
     "output_type": "stream",
     "text": [
      "  5%|███▉                                                                            | 49/1000 [00:06<02:02,  7.77it/s]\n"
     ]
    },
    {
     "name": "stdout",
     "output_type": "stream",
     "text": [
      "stop_reason stagnation_lim\n",
      "FX_best -326.02010887462586\n",
      "dimensions: 4\n",
      "start num:  66\n",
      "Xmin:      \n",
      "[-5 -5 -5 -5]\n",
      "Xmax:      \n",
      "[5 5 5 5]\n"
     ]
    },
    {
     "name": "stderr",
     "output_type": "stream",
     "text": [
      "  4%|███▌                                                                            | 44/1000 [00:05<02:04,  7.68it/s]\n"
     ]
    },
    {
     "name": "stdout",
     "output_type": "stream",
     "text": [
      "stop_reason stagnation_lim\n",
      "FX_best -327.01512279984826\n",
      "dimensions: 4\n",
      "start num:  67\n",
      "Xmin:      \n",
      "[-5 -5 -5 -5]\n",
      "Xmax:      \n",
      "[5 5 5 5]\n"
     ]
    },
    {
     "name": "stderr",
     "output_type": "stream",
     "text": [
      "  4%|███▎                                                                            | 41/1000 [00:05<02:06,  7.56it/s]\n"
     ]
    },
    {
     "name": "stdout",
     "output_type": "stream",
     "text": [
      "stop_reason stagnation_lim\n",
      "FX_best -322.0403375972185\n",
      "dimensions: 4\n",
      "start num:  68\n",
      "Xmin:      \n",
      "[-5 -5 -5 -5]\n",
      "Xmax:      \n",
      "[5 5 5 5]\n"
     ]
    },
    {
     "name": "stderr",
     "output_type": "stream",
     "text": [
      "  4%|███                                                                             | 39/1000 [00:05<02:06,  7.59it/s]\n"
     ]
    },
    {
     "name": "stdout",
     "output_type": "stream",
     "text": [
      "stop_reason stagnation_lim\n",
      "FX_best -329.00504093059504\n",
      "dimensions: 4\n",
      "start num:  69\n",
      "Xmin:      \n",
      "[-5 -5 -5 -5]\n",
      "Xmax:      \n",
      "[5 5 5 5]\n"
     ]
    },
    {
     "name": "stderr",
     "output_type": "stream",
     "text": [
      " 10%|███████▊                                                                        | 97/1000 [00:12<01:59,  7.56it/s]\n"
     ]
    },
    {
     "name": "stdout",
     "output_type": "stream",
     "text": [
      "stop_reason stagnation_lim\n",
      "FX_best -323.94528277893056\n",
      "dimensions: 4\n",
      "start num:  70\n",
      "Xmin:      \n",
      "[-5 -5 -5 -5]\n",
      "Xmax:      \n",
      "[5 5 5 5]\n"
     ]
    },
    {
     "name": "stderr",
     "output_type": "stream",
     "text": [
      " 10%|███████▌                                                                        | 95/1000 [00:12<02:00,  7.51it/s]\n"
     ]
    },
    {
     "name": "stdout",
     "output_type": "stream",
     "text": [
      "stop_reason stagnation_lim\n",
      "FX_best -327.0022885839981\n",
      "dimensions: 4\n",
      "start num:  71\n",
      "Xmin:      \n",
      "[-5 -5 -5 -5]\n",
      "Xmax:      \n",
      "[5 5 5 5]\n"
     ]
    },
    {
     "name": "stderr",
     "output_type": "stream",
     "text": [
      " 10%|████████                                                                       | 102/1000 [00:12<01:52,  7.95it/s]\n"
     ]
    },
    {
     "name": "stdout",
     "output_type": "stream",
     "text": [
      "stop_reason stagnation_lim\n",
      "FX_best -329.0049893275305\n",
      "dimensions: 4\n",
      "start num:  72\n",
      "Xmin:      \n",
      "[-5 -5 -5 -5]\n",
      "Xmax:      \n",
      "[5 5 5 5]\n"
     ]
    },
    {
     "name": "stderr",
     "output_type": "stream",
     "text": [
      "  8%|██████▏                                                                         | 77/1000 [00:09<01:53,  8.11it/s]\n"
     ]
    },
    {
     "name": "stdout",
     "output_type": "stream",
     "text": [
      "stop_reason stagnation_lim\n",
      "FX_best -328.0098855902098\n",
      "dimensions: 4\n",
      "start num:  73\n",
      "Xmin:      \n",
      "[-5 -5 -5 -5]\n",
      "Xmax:      \n",
      "[5 5 5 5]\n"
     ]
    },
    {
     "name": "stderr",
     "output_type": "stream",
     "text": [
      "  6%|████▍                                                                           | 55/1000 [00:06<01:56,  8.08it/s]\n"
     ]
    },
    {
     "name": "stdout",
     "output_type": "stream",
     "text": [
      "stop_reason stagnation_lim\n",
      "FX_best -325.0251636588882\n",
      "dimensions: 4\n",
      "start num:  74\n",
      "Xmin:      \n",
      "[-5 -5 -5 -5]\n",
      "Xmax:      \n",
      "[5 5 5 5]\n"
     ]
    },
    {
     "name": "stderr",
     "output_type": "stream",
     "text": [
      "  6%|████▋                                                                           | 59/1000 [00:07<01:54,  8.22it/s]\n"
     ]
    },
    {
     "name": "stdout",
     "output_type": "stream",
     "text": [
      "stop_reason stagnation_lim\n",
      "FX_best -327.01497146474674\n",
      "dimensions: 4\n",
      "start num:  75\n",
      "Xmin:      \n",
      "[-5 -5 -5 -5]\n",
      "Xmax:      \n",
      "[5 5 5 5]\n"
     ]
    },
    {
     "name": "stderr",
     "output_type": "stream",
     "text": [
      "  4%|███▎                                                                            | 41/1000 [00:05<01:58,  8.07it/s]\n"
     ]
    },
    {
     "name": "stdout",
     "output_type": "stream",
     "text": [
      "stop_reason stagnation_lim\n",
      "FX_best -324.0302506952555\n",
      "dimensions: 4\n",
      "start num:  76\n",
      "Xmin:      \n",
      "[-5 -5 -5 -5]\n",
      "Xmax:      \n",
      "[5 5 5 5]\n"
     ]
    },
    {
     "name": "stderr",
     "output_type": "stream",
     "text": [
      "  6%|████▋                                                                           | 58/1000 [00:06<01:52,  8.36it/s]\n"
     ]
    },
    {
     "name": "stdout",
     "output_type": "stream",
     "text": [
      "stop_reason stagnation_lim\n",
      "FX_best -327.0151213915897\n",
      "dimensions: 4\n",
      "start num:  77\n",
      "Xmin:      \n",
      "[-5 -5 -5 -5]\n",
      "Xmax:      \n",
      "[5 5 5 5]\n"
     ]
    },
    {
     "name": "stderr",
     "output_type": "stream",
     "text": [
      "  4%|███                                                                             | 39/1000 [00:04<01:57,  8.18it/s]\n"
     ]
    },
    {
     "name": "stdout",
     "output_type": "stream",
     "text": [
      "stop_reason stagnation_lim\n",
      "FX_best -321.0453785606313\n",
      "dimensions: 4\n",
      "start num:  78\n",
      "Xmin:      \n",
      "[-5 -5 -5 -5]\n",
      "Xmax:      \n",
      "[5 5 5 5]\n"
     ]
    },
    {
     "name": "stderr",
     "output_type": "stream",
     "text": [
      "  4%|███▏                                                                            | 40/1000 [00:04<01:57,  8.16it/s]\n"
     ]
    },
    {
     "name": "stdout",
     "output_type": "stream",
     "text": [
      "stop_reason stagnation_lim\n",
      "FX_best -323.0352916381506\n",
      "dimensions: 4\n",
      "start num:  79\n",
      "Xmin:      \n",
      "[-5 -5 -5 -5]\n",
      "Xmax:      \n",
      "[5 5 5 5]\n"
     ]
    },
    {
     "name": "stderr",
     "output_type": "stream",
     "text": [
      "  6%|████▉                                                                           | 61/1000 [00:07<01:54,  8.17it/s]\n"
     ]
    },
    {
     "name": "stdout",
     "output_type": "stream",
     "text": [
      "stop_reason stagnation_lim\n",
      "FX_best -327.0150996921085\n",
      "dimensions: 4\n",
      "start num:  80\n",
      "Xmin:      \n",
      "[-5 -5 -5 -5]\n",
      "Xmax:      \n",
      "[5 5 5 5]\n"
     ]
    },
    {
     "name": "stderr",
     "output_type": "stream",
     "text": [
      " 14%|██████████▉                                                                    | 139/1000 [00:17<01:46,  8.10it/s]\n"
     ]
    },
    {
     "name": "stdout",
     "output_type": "stream",
     "text": [
      "stop_reason stagnation_lim\n",
      "FX_best -327.0066663612528\n",
      "dimensions: 4\n",
      "start num:  81\n",
      "Xmin:      \n",
      "[-5 -5 -5 -5]\n",
      "Xmax:      \n",
      "[5 5 5 5]\n"
     ]
    },
    {
     "name": "stderr",
     "output_type": "stream",
     "text": [
      "  5%|███▉                                                                            | 49/1000 [00:05<01:56,  8.18it/s]\n"
     ]
    },
    {
     "name": "stdout",
     "output_type": "stream",
     "text": [
      "stop_reason stagnation_lim\n",
      "FX_best -328.01007791742245\n",
      "dimensions: 4\n",
      "start num:  82\n",
      "Xmin:      \n",
      "[-5 -5 -5 -5]\n",
      "Xmax:      \n",
      "[5 5 5 5]\n"
     ]
    },
    {
     "name": "stderr",
     "output_type": "stream",
     "text": [
      "  4%|██▉                                                                             | 36/1000 [00:04<01:53,  8.49it/s]\n"
     ]
    },
    {
     "name": "stdout",
     "output_type": "stream",
     "text": [
      "stop_reason stagnation_lim\n",
      "FX_best -327.01512282871965\n",
      "dimensions: 4\n",
      "start num:  83\n",
      "Xmin:      \n",
      "[-5 -5 -5 -5]\n",
      "Xmax:      \n",
      "[5 5 5 5]\n"
     ]
    },
    {
     "name": "stderr",
     "output_type": "stream",
     "text": [
      "  4%|███▎                                                                            | 42/1000 [00:05<01:54,  8.38it/s]\n"
     ]
    },
    {
     "name": "stdout",
     "output_type": "stream",
     "text": [
      "stop_reason stagnation_lim\n",
      "FX_best -328.0100818856832\n",
      "dimensions: 4\n",
      "start num:  84\n",
      "Xmin:      \n",
      "[-5 -5 -5 -5]\n",
      "Xmax:      \n",
      "[5 5 5 5]\n"
     ]
    },
    {
     "name": "stderr",
     "output_type": "stream",
     "text": [
      "  4%|███▎                                                                            | 41/1000 [00:04<01:53,  8.44it/s]\n"
     ]
    },
    {
     "name": "stdout",
     "output_type": "stream",
     "text": [
      "stop_reason stagnation_lim\n",
      "FX_best -326.0201637716268\n",
      "dimensions: 4\n",
      "start num:  85\n",
      "Xmin:      \n",
      "[-5 -5 -5 -5]\n",
      "Xmax:      \n",
      "[5 5 5 5]\n"
     ]
    },
    {
     "name": "stderr",
     "output_type": "stream",
     "text": [
      "  4%|███                                                                             | 39/1000 [00:04<01:53,  8.43it/s]\n"
     ]
    },
    {
     "name": "stdout",
     "output_type": "stream",
     "text": [
      "stop_reason stagnation_lim\n",
      "FX_best -329.00504094278415\n",
      "dimensions: 4\n",
      "start num:  86\n",
      "Xmin:      \n",
      "[-5 -5 -5 -5]\n",
      "Xmax:      \n",
      "[5 5 5 5]\n"
     ]
    },
    {
     "name": "stderr",
     "output_type": "stream",
     "text": [
      " 21%|████████████████▌                                                              | 210/1000 [00:26<01:37,  8.06it/s]\n"
     ]
    },
    {
     "name": "stdout",
     "output_type": "stream",
     "text": [
      "stop_reason stagnation_lim\n",
      "FX_best -324.89045960106563\n",
      "dimensions: 4\n",
      "start num:  87\n",
      "Xmin:      \n",
      "[-5 -5 -5 -5]\n",
      "Xmax:      \n",
      "[5 5 5 5]\n"
     ]
    },
    {
     "name": "stderr",
     "output_type": "stream",
     "text": [
      " 10%|███████▉                                                                       | 101/1000 [00:12<01:51,  8.05it/s]\n"
     ]
    },
    {
     "name": "stdout",
     "output_type": "stream",
     "text": [
      "stop_reason stagnation_lim\n",
      "FX_best -327.01491865297504\n",
      "dimensions: 4\n",
      "start num:  88\n",
      "Xmin:      \n",
      "[-5 -5 -5 -5]\n",
      "Xmax:      \n",
      "[5 5 5 5]\n"
     ]
    },
    {
     "name": "stderr",
     "output_type": "stream",
     "text": [
      "  5%|███▋                                                                            | 46/1000 [00:05<01:56,  8.16it/s]\n"
     ]
    },
    {
     "name": "stdout",
     "output_type": "stream",
     "text": [
      "stop_reason stagnation_lim\n",
      "FX_best -321.04537393522077\n",
      "dimensions: 4\n",
      "start num:  89\n",
      "Xmin:      \n",
      "[-5 -5 -5 -5]\n",
      "Xmax:      \n",
      "[5 5 5 5]\n"
     ]
    },
    {
     "name": "stderr",
     "output_type": "stream",
     "text": [
      "  5%|████                                                                            | 50/1000 [00:06<01:54,  8.32it/s]\n"
     ]
    },
    {
     "name": "stdout",
     "output_type": "stream",
     "text": [
      "stop_reason stagnation_lim\n",
      "FX_best -326.02016376523466\n",
      "dimensions: 4\n",
      "start num:  90\n",
      "Xmin:      \n",
      "[-5 -5 -5 -5]\n",
      "Xmax:      \n",
      "[5 5 5 5]\n"
     ]
    },
    {
     "name": "stderr",
     "output_type": "stream",
     "text": [
      "  5%|███▉                                                                            | 49/1000 [00:05<01:52,  8.45it/s]\n"
     ]
    },
    {
     "name": "stdout",
     "output_type": "stream",
     "text": [
      "stop_reason stagnation_lim\n",
      "FX_best -328.0100751891009\n",
      "dimensions: 4\n",
      "start num:  91\n",
      "Xmin:      \n",
      "[-5 -5 -5 -5]\n",
      "Xmax:      \n",
      "[5 5 5 5]\n"
     ]
    },
    {
     "name": "stderr",
     "output_type": "stream",
     "text": [
      "  6%|█████                                                                           | 64/1000 [00:07<01:55,  8.14it/s]\n"
     ]
    },
    {
     "name": "stdout",
     "output_type": "stream",
     "text": [
      "stop_reason stagnation_lim\n",
      "FX_best -328.0100651349739\n",
      "dimensions: 4\n",
      "start num:  92\n",
      "Xmin:      \n",
      "[-5 -5 -5 -5]\n",
      "Xmax:      \n",
      "[5 5 5 5]\n"
     ]
    },
    {
     "name": "stderr",
     "output_type": "stream",
     "text": [
      "  7%|█████▎                                                                          | 66/1000 [00:08<01:54,  8.19it/s]\n"
     ]
    },
    {
     "name": "stdout",
     "output_type": "stream",
     "text": [
      "stop_reason stagnation_lim\n",
      "FX_best -329.0047937538092\n",
      "dimensions: 4\n",
      "start num:  93\n",
      "Xmin:      \n",
      "[-5 -5 -5 -5]\n",
      "Xmax:      \n",
      "[5 5 5 5]\n"
     ]
    },
    {
     "name": "stderr",
     "output_type": "stream",
     "text": [
      "  6%|████▉                                                                           | 61/1000 [00:07<01:54,  8.17it/s]\n"
     ]
    },
    {
     "name": "stdout",
     "output_type": "stream",
     "text": [
      "stop_reason stagnation_lim\n",
      "FX_best -325.0252059226717\n",
      "dimensions: 4\n",
      "start num:  94\n",
      "Xmin:      \n",
      "[-5 -5 -5 -5]\n",
      "Xmax:      \n",
      "[5 5 5 5]\n"
     ]
    },
    {
     "name": "stderr",
     "output_type": "stream",
     "text": [
      " 11%|████████▎                                                                      | 106/1000 [00:13<01:52,  7.92it/s]\n"
     ]
    },
    {
     "name": "stdout",
     "output_type": "stream",
     "text": [
      "stop_reason stagnation_lim\n",
      "FX_best -329.00488003252855\n",
      "dimensions: 4\n",
      "start num:  95\n",
      "Xmin:      \n",
      "[-5 -5 -5 -5]\n",
      "Xmax:      \n",
      "[5 5 5 5]\n"
     ]
    },
    {
     "name": "stderr",
     "output_type": "stream",
     "text": [
      "  6%|████▋                                                                           | 59/1000 [00:07<01:55,  8.13it/s]\n"
     ]
    },
    {
     "name": "stdout",
     "output_type": "stream",
     "text": [
      "stop_reason stagnation_lim\n",
      "FX_best -329.9999999995481\n",
      "dimensions: 4\n",
      "start num:  96\n",
      "Xmin:      \n",
      "[-5 -5 -5 -5]\n",
      "Xmax:      \n",
      "[5 5 5 5]\n"
     ]
    },
    {
     "name": "stderr",
     "output_type": "stream",
     "text": [
      "  4%|███▌                                                                            | 45/1000 [00:05<01:52,  8.46it/s]\n"
     ]
    },
    {
     "name": "stdout",
     "output_type": "stream",
     "text": [
      "stop_reason stagnation_lim\n",
      "FX_best -324.0302506949594\n",
      "dimensions: 4\n",
      "start num:  97\n",
      "Xmin:      \n",
      "[-5 -5 -5 -5]\n",
      "Xmax:      \n",
      "[5 5 5 5]\n"
     ]
    },
    {
     "name": "stderr",
     "output_type": "stream",
     "text": [
      " 11%|████████▌                                                                      | 109/1000 [00:13<01:50,  8.05it/s]\n"
     ]
    },
    {
     "name": "stdout",
     "output_type": "stream",
     "text": [
      "stop_reason stagnation_lim\n",
      "FX_best -328.0096231543514\n",
      "dimensions: 4\n",
      "start num:  98\n",
      "Xmin:      \n",
      "[-5 -5 -5 -5]\n",
      "Xmax:      \n",
      "[5 5 5 5]\n"
     ]
    },
    {
     "name": "stderr",
     "output_type": "stream",
     "text": [
      "  7%|█████▋                                                                          | 71/1000 [00:08<01:52,  8.26it/s]\n"
     ]
    },
    {
     "name": "stdout",
     "output_type": "stream",
     "text": [
      "stop_reason stagnation_lim\n",
      "FX_best -328.01008015124904\n",
      "dimensions: 4\n",
      "start num:  99\n",
      "Xmin:      \n",
      "[-5 -5 -5 -5]\n",
      "Xmax:      \n",
      "[5 5 5 5]\n"
     ]
    },
    {
     "name": "stderr",
     "output_type": "stream",
     "text": [
      "  4%|███▎                                                                            | 41/1000 [00:04<01:54,  8.40it/s]\n"
     ]
    },
    {
     "name": "stdout",
     "output_type": "stream",
     "text": [
      "stop_reason stagnation_lim\n",
      "FX_best -327.0151228287201\n",
      "dimensions: 8\n",
      "start num:  0\n",
      "Xmin:      \n",
      "[-5 -5 -5 -5 -5 -5 -5 -5]\n",
      "Xmax:      \n",
      "[5 5 5 5 5 5 5 5]\n"
     ]
    },
    {
     "name": "stderr",
     "output_type": "stream",
     "text": [
      " 10%|███████▉                                                                       | 100/1000 [00:12<01:52,  8.03it/s]\n"
     ]
    },
    {
     "name": "stdout",
     "output_type": "stream",
     "text": [
      "stop_reason stagnation_lim\n",
      "FX_best -316.6017262555196\n",
      "dimensions: 8\n",
      "start num:  1\n",
      "Xmin:      \n",
      "[-5 -5 -5 -5 -5 -5 -5 -5]\n",
      "Xmax:      \n",
      "[5 5 5 5 5 5 5 5]\n"
     ]
    },
    {
     "name": "stderr",
     "output_type": "stream",
     "text": [
      "  6%|█████                                                                           | 63/1000 [00:07<01:57,  7.95it/s]\n"
     ]
    },
    {
     "name": "stdout",
     "output_type": "stream",
     "text": [
      "stop_reason stagnation_lim\n",
      "FX_best -313.2850145114199\n",
      "dimensions: 8\n",
      "start num:  2\n",
      "Xmin:      \n",
      "[-5 -5 -5 -5 -5 -5 -5 -5]\n",
      "Xmax:      \n",
      "[5 5 5 5 5 5 5 5]\n"
     ]
    },
    {
     "name": "stderr",
     "output_type": "stream",
     "text": [
      " 10%|████████▏                                                                      | 103/1000 [00:12<01:47,  8.31it/s]\n"
     ]
    },
    {
     "name": "stdout",
     "output_type": "stream",
     "text": [
      "stop_reason stagnation_lim\n",
      "FX_best -304.70782282210735\n",
      "dimensions: 8\n",
      "start num:  3\n",
      "Xmin:      \n",
      "[-5 -5 -5 -5 -5 -5 -5 -5]\n",
      "Xmax:      \n",
      "[5 5 5 5 5 5 5 5]\n"
     ]
    },
    {
     "name": "stderr",
     "output_type": "stream",
     "text": [
      "  7%|█████▌                                                                          | 70/1000 [00:07<01:34,  9.80it/s]\n"
     ]
    },
    {
     "name": "stdout",
     "output_type": "stream",
     "text": [
      "stop_reason stagnation_lim\n",
      "FX_best -304.69235720855715\n",
      "dimensions: 8\n",
      "start num:  4\n",
      "Xmin:      \n",
      "[-5 -5 -5 -5 -5 -5 -5 -5]\n",
      "Xmax:      \n",
      "[5 5 5 5 5 5 5 5]\n"
     ]
    },
    {
     "name": "stderr",
     "output_type": "stream",
     "text": [
      " 10%|███████▉                                                                       | 101/1000 [00:09<01:24, 10.66it/s]\n"
     ]
    },
    {
     "name": "stdout",
     "output_type": "stream",
     "text": [
      "stop_reason stagnation_lim\n",
      "FX_best -318.65038312488\n",
      "dimensions: 8\n",
      "start num:  5\n",
      "Xmin:      \n",
      "[-5 -5 -5 -5 -5 -5 -5 -5]\n",
      "Xmax:      \n",
      "[5 5 5 5 5 5 5 5]\n"
     ]
    },
    {
     "name": "stderr",
     "output_type": "stream",
     "text": [
      "  8%|██████▋                                                                         | 84/1000 [00:07<01:22, 11.12it/s]\n"
     ]
    },
    {
     "name": "stdout",
     "output_type": "stream",
     "text": [
      "stop_reason stagnation_lim\n",
      "FX_best -309.53286803199745\n",
      "dimensions: 8\n",
      "start num:  6\n",
      "Xmin:      \n",
      "[-5 -5 -5 -5 -5 -5 -5 -5]\n",
      "Xmax:      \n",
      "[5 5 5 5 5 5 5 5]\n"
     ]
    },
    {
     "name": "stderr",
     "output_type": "stream",
     "text": [
      " 23%|██████████████████▏                                                            | 231/1000 [00:20<01:07, 11.47it/s]\n"
     ]
    },
    {
     "name": "stdout",
     "output_type": "stream",
     "text": [
      "stop_reason stagnation_lim\n",
      "FX_best -323.4586272198617\n",
      "dimensions: 8\n",
      "start num:  7\n",
      "Xmin:      \n",
      "[-5 -5 -5 -5 -5 -5 -5 -5]\n",
      "Xmax:      \n",
      "[5 5 5 5 5 5 5 5]\n"
     ]
    },
    {
     "name": "stderr",
     "output_type": "stream",
     "text": [
      "  8%|██████▏                                                                         | 78/1000 [00:06<01:18, 11.71it/s]\n"
     ]
    },
    {
     "name": "stdout",
     "output_type": "stream",
     "text": [
      "stop_reason stagnation_lim\n",
      "FX_best -309.4051284499325\n",
      "dimensions: 8\n",
      "start num:  8\n",
      "Xmin:      \n",
      "[-5 -5 -5 -5 -5 -5 -5 -5]\n",
      "Xmax:      \n",
      "[5 5 5 5 5 5 5 5]\n"
     ]
    },
    {
     "name": "stderr",
     "output_type": "stream",
     "text": [
      " 18%|██████████████▏                                                                | 179/1000 [00:15<01:09, 11.75it/s]\n"
     ]
    },
    {
     "name": "stdout",
     "output_type": "stream",
     "text": [
      "stop_reason stagnation_lim\n",
      "FX_best -320.1261156990926\n",
      "dimensions: 8\n",
      "start num:  9\n",
      "Xmin:      \n",
      "[-5 -5 -5 -5 -5 -5 -5 -5]\n",
      "Xmax:      \n",
      "[5 5 5 5 5 5 5 5]\n"
     ]
    },
    {
     "name": "stderr",
     "output_type": "stream",
     "text": [
      " 11%|████████▊                                                                      | 112/1000 [00:09<01:14, 11.87it/s]\n"
     ]
    },
    {
     "name": "stdout",
     "output_type": "stream",
     "text": [
      "stop_reason stagnation_lim\n",
      "FX_best -322.63272739547426\n",
      "dimensions: 8\n",
      "start num:  10\n",
      "Xmin:      \n",
      "[-5 -5 -5 -5 -5 -5 -5 -5]\n",
      "Xmax:      \n",
      "[5 5 5 5 5 5 5 5]\n"
     ]
    },
    {
     "name": "stderr",
     "output_type": "stream",
     "text": [
      "  9%|██████▉                                                                         | 86/1000 [00:07<01:16, 11.88it/s]\n"
     ]
    },
    {
     "name": "stdout",
     "output_type": "stream",
     "text": [
      "stop_reason stagnation_lim\n",
      "FX_best -318.602727346281\n",
      "dimensions: 8\n",
      "start num:  11\n",
      "Xmin:      \n",
      "[-5 -5 -5 -5 -5 -5 -5 -5]\n",
      "Xmax:      \n",
      "[5 5 5 5 5 5 5 5]\n"
     ]
    },
    {
     "name": "stderr",
     "output_type": "stream",
     "text": [
      "  7%|█████▎                                                                          | 67/1000 [00:05<01:18, 11.86it/s]\n"
     ]
    },
    {
     "name": "stdout",
     "output_type": "stream",
     "text": [
      "stop_reason stagnation_lim\n",
      "FX_best -326.44450507809734\n",
      "dimensions: 8\n",
      "start num:  12\n",
      "Xmin:      \n",
      "[-5 -5 -5 -5 -5 -5 -5 -5]\n",
      "Xmax:      \n",
      "[5 5 5 5 5 5 5 5]\n"
     ]
    },
    {
     "name": "stderr",
     "output_type": "stream",
     "text": [
      " 10%|███████▉                                                                       | 100/1000 [00:08<01:15, 11.88it/s]\n"
     ]
    },
    {
     "name": "stdout",
     "output_type": "stream",
     "text": [
      "stop_reason stagnation_lim\n",
      "FX_best -314.56504164163886\n",
      "dimensions: 8\n",
      "start num:  13\n",
      "Xmin:      \n",
      "[-5 -5 -5 -5 -5 -5 -5 -5]\n",
      "Xmax:      \n",
      "[5 5 5 5 5 5 5 5]\n"
     ]
    },
    {
     "name": "stderr",
     "output_type": "stream",
     "text": [
      "  9%|███████                                                                         | 89/1000 [00:09<01:34,  9.63it/s]\n"
     ]
    },
    {
     "name": "stdout",
     "output_type": "stream",
     "text": [
      "stop_reason stagnation_lim\n",
      "FX_best -310.23097295717196\n",
      "dimensions: 8\n",
      "start num:  14\n",
      "Xmin:      \n",
      "[-5 -5 -5 -5 -5 -5 -5 -5]\n",
      "Xmax:      \n",
      "[5 5 5 5 5 5 5 5]\n"
     ]
    },
    {
     "name": "stderr",
     "output_type": "stream",
     "text": [
      " 10%|███████▉                                                                        | 99/1000 [00:13<02:07,  7.09it/s]\n"
     ]
    },
    {
     "name": "stdout",
     "output_type": "stream",
     "text": [
      "stop_reason stagnation_lim\n",
      "FX_best -303.0398165394309\n",
      "dimensions: 8\n",
      "start num:  15\n",
      "Xmin:      \n",
      "[-5 -5 -5 -5 -5 -5 -5 -5]\n",
      "Xmax:      \n",
      "[5 5 5 5 5 5 5 5]\n"
     ]
    },
    {
     "name": "stderr",
     "output_type": "stream",
     "text": [
      " 12%|█████████▋                                                                     | 123/1000 [00:15<01:49,  8.00it/s]\n"
     ]
    },
    {
     "name": "stdout",
     "output_type": "stream",
     "text": [
      "stop_reason stagnation_lim\n",
      "FX_best -310.91794716378513\n",
      "dimensions: 8\n",
      "start num:  16\n",
      "Xmin:      \n",
      "[-5 -5 -5 -5 -5 -5 -5 -5]\n",
      "Xmax:      \n",
      "[5 5 5 5 5 5 5 5]\n"
     ]
    },
    {
     "name": "stderr",
     "output_type": "stream",
     "text": [
      "  6%|█████                                                                           | 63/1000 [00:07<01:58,  7.90it/s]\n"
     ]
    },
    {
     "name": "stdout",
     "output_type": "stream",
     "text": [
      "stop_reason stagnation_lim\n",
      "FX_best -320.5241572825073\n",
      "dimensions: 8\n",
      "start num:  17\n",
      "Xmin:      \n",
      "[-5 -5 -5 -5 -5 -5 -5 -5]\n",
      "Xmax:      \n",
      "[5 5 5 5 5 5 5 5]\n"
     ]
    },
    {
     "name": "stderr",
     "output_type": "stream",
     "text": [
      "  6%|█████                                                                           | 64/1000 [00:07<01:56,  8.05it/s]\n"
     ]
    },
    {
     "name": "stdout",
     "output_type": "stream",
     "text": [
      "stop_reason stagnation_lim\n",
      "FX_best -320.86356386973\n",
      "dimensions: 8\n",
      "start num:  18\n",
      "Xmin:      \n",
      "[-5 -5 -5 -5 -5 -5 -5 -5]\n",
      "Xmax:      \n",
      "[5 5 5 5 5 5 5 5]\n"
     ]
    },
    {
     "name": "stderr",
     "output_type": "stream",
     "text": [
      " 21%|████████████████▌                                                              | 210/1000 [00:26<01:38,  8.00it/s]\n"
     ]
    },
    {
     "name": "stdout",
     "output_type": "stream",
     "text": [
      "stop_reason stagnation_lim\n",
      "FX_best -296.5942298033958\n",
      "dimensions: 8\n",
      "start num:  19\n",
      "Xmin:      \n",
      "[-5 -5 -5 -5 -5 -5 -5 -5]\n",
      "Xmax:      \n",
      "[5 5 5 5 5 5 5 5]\n"
     ]
    },
    {
     "name": "stderr",
     "output_type": "stream",
     "text": [
      "  8%|██████                                                                          | 75/1000 [00:09<01:54,  8.10it/s]\n"
     ]
    },
    {
     "name": "stdout",
     "output_type": "stream",
     "text": [
      "stop_reason stagnation_lim\n",
      "FX_best -308.596584765967\n",
      "dimensions: 8\n",
      "start num:  20\n",
      "Xmin:      \n",
      "[-5 -5 -5 -5 -5 -5 -5 -5]\n",
      "Xmax:      \n",
      "[5 5 5 5 5 5 5 5]\n"
     ]
    },
    {
     "name": "stderr",
     "output_type": "stream",
     "text": [
      "  8%|██████▌                                                                         | 82/1000 [00:10<01:55,  7.97it/s]\n"
     ]
    },
    {
     "name": "stdout",
     "output_type": "stream",
     "text": [
      "stop_reason stagnation_lim\n",
      "FX_best -317.75316392416266\n",
      "dimensions: 8\n",
      "start num:  21\n",
      "Xmin:      \n",
      "[-5 -5 -5 -5 -5 -5 -5 -5]\n",
      "Xmax:      \n",
      "[5 5 5 5 5 5 5 5]\n"
     ]
    },
    {
     "name": "stderr",
     "output_type": "stream",
     "text": [
      " 11%|█████████                                                                      | 114/1000 [00:13<01:41,  8.72it/s]\n"
     ]
    },
    {
     "name": "stdout",
     "output_type": "stream",
     "text": [
      "stop_reason stagnation_lim\n",
      "FX_best -305.03472396939605\n",
      "dimensions: 8\n",
      "start num:  22\n",
      "Xmin:      \n",
      "[-5 -5 -5 -5 -5 -5 -5 -5]\n",
      "Xmax:      \n",
      "[5 5 5 5 5 5 5 5]\n"
     ]
    },
    {
     "name": "stderr",
     "output_type": "stream",
     "text": [
      " 10%|███████▋                                                                        | 96/1000 [00:09<01:29, 10.06it/s]\n"
     ]
    },
    {
     "name": "stdout",
     "output_type": "stream",
     "text": [
      "stop_reason stagnation_lim\n",
      "FX_best -315.43609878343256\n",
      "dimensions: 8\n",
      "start num:  23\n",
      "Xmin:      \n",
      "[-5 -5 -5 -5 -5 -5 -5 -5]\n",
      "Xmax:      \n",
      "[5 5 5 5 5 5 5 5]\n"
     ]
    },
    {
     "name": "stderr",
     "output_type": "stream",
     "text": [
      "  8%|██████▍                                                                         | 81/1000 [00:07<01:21, 11.33it/s]\n"
     ]
    },
    {
     "name": "stdout",
     "output_type": "stream",
     "text": [
      "stop_reason stagnation_lim\n",
      "FX_best -311.9389459892586\n",
      "dimensions: 8\n",
      "start num:  24\n",
      "Xmin:      \n",
      "[-5 -5 -5 -5 -5 -5 -5 -5]\n",
      "Xmax:      \n",
      "[5 5 5 5 5 5 5 5]\n"
     ]
    },
    {
     "name": "stderr",
     "output_type": "stream",
     "text": [
      " 29%|███████████████████████▏                                                       | 293/1000 [00:32<01:17,  9.15it/s]\n"
     ]
    },
    {
     "name": "stdout",
     "output_type": "stream",
     "text": [
      "stop_reason stagnation_lim\n",
      "FX_best -313.32695996803403\n",
      "dimensions: 8\n",
      "start num:  25\n",
      "Xmin:      \n",
      "[-5 -5 -5 -5 -5 -5 -5 -5]\n",
      "Xmax:      \n",
      "[5 5 5 5 5 5 5 5]\n"
     ]
    },
    {
     "name": "stderr",
     "output_type": "stream",
     "text": [
      " 12%|█████████▎                                                                     | 118/1000 [00:14<01:49,  8.08it/s]\n"
     ]
    },
    {
     "name": "stdout",
     "output_type": "stream",
     "text": [
      "stop_reason stagnation_lim\n",
      "FX_best -302.2132667984865\n",
      "dimensions: 8\n",
      "start num:  26\n",
      "Xmin:      \n",
      "[-5 -5 -5 -5 -5 -5 -5 -5]\n",
      "Xmax:      \n",
      "[5 5 5 5 5 5 5 5]\n"
     ]
    },
    {
     "name": "stderr",
     "output_type": "stream",
     "text": [
      "  9%|███████▌                                                                        | 94/1000 [00:11<01:52,  8.06it/s]\n"
     ]
    },
    {
     "name": "stdout",
     "output_type": "stream",
     "text": [
      "stop_reason stagnation_lim\n",
      "FX_best -309.4892367201179\n",
      "dimensions: 8\n",
      "start num:  27\n",
      "Xmin:      \n",
      "[-5 -5 -5 -5 -5 -5 -5 -5]\n",
      "Xmax:      \n",
      "[5 5 5 5 5 5 5 5]\n"
     ]
    },
    {
     "name": "stderr",
     "output_type": "stream",
     "text": [
      "  7%|█████▉                                                                          | 74/1000 [00:09<01:56,  7.96it/s]\n"
     ]
    },
    {
     "name": "stdout",
     "output_type": "stream",
     "text": [
      "stop_reason stagnation_lim\n",
      "FX_best -313.45776713992194\n",
      "dimensions: 8\n",
      "start num:  28\n",
      "Xmin:      \n",
      "[-5 -5 -5 -5 -5 -5 -5 -5]\n",
      "Xmax:      \n",
      "[5 5 5 5 5 5 5 5]\n"
     ]
    },
    {
     "name": "stderr",
     "output_type": "stream",
     "text": [
      " 11%|████████▉                                                                      | 113/1000 [00:14<01:50,  8.00it/s]\n"
     ]
    },
    {
     "name": "stdout",
     "output_type": "stream",
     "text": [
      "stop_reason stagnation_lim\n",
      "FX_best -309.87266172491127\n",
      "dimensions: 8\n",
      "start num:  29\n",
      "Xmin:      \n",
      "[-5 -5 -5 -5 -5 -5 -5 -5]\n",
      "Xmax:      \n",
      "[5 5 5 5 5 5 5 5]\n"
     ]
    },
    {
     "name": "stderr",
     "output_type": "stream",
     "text": [
      "  8%|██████▏                                                                         | 78/1000 [00:09<01:53,  8.12it/s]\n"
     ]
    },
    {
     "name": "stdout",
     "output_type": "stream",
     "text": [
      "stop_reason stagnation_lim\n",
      "FX_best -308.84660963351115\n",
      "dimensions: 8\n",
      "start num:  30\n",
      "Xmin:      \n",
      "[-5 -5 -5 -5 -5 -5 -5 -5]\n",
      "Xmax:      \n",
      "[5 5 5 5 5 5 5 5]\n"
     ]
    },
    {
     "name": "stderr",
     "output_type": "stream",
     "text": [
      " 15%|███████████▌                                                                   | 146/1000 [00:18<01:47,  7.97it/s]\n"
     ]
    },
    {
     "name": "stdout",
     "output_type": "stream",
     "text": [
      "stop_reason stagnation_lim\n",
      "FX_best -308.8846059378987\n",
      "dimensions: 8\n",
      "start num:  31\n",
      "Xmin:      \n",
      "[-5 -5 -5 -5 -5 -5 -5 -5]\n",
      "Xmax:      \n",
      "[5 5 5 5 5 5 5 5]\n"
     ]
    },
    {
     "name": "stderr",
     "output_type": "stream",
     "text": [
      " 12%|█████████▍                                                                     | 119/1000 [00:12<01:30,  9.69it/s]\n"
     ]
    },
    {
     "name": "stdout",
     "output_type": "stream",
     "text": [
      "stop_reason stagnation_lim\n",
      "FX_best -310.86508967269924\n",
      "dimensions: 8\n",
      "start num:  32\n",
      "Xmin:      \n",
      "[-5 -5 -5 -5 -5 -5 -5 -5]\n",
      "Xmax:      \n",
      "[5 5 5 5 5 5 5 5]\n"
     ]
    },
    {
     "name": "stderr",
     "output_type": "stream",
     "text": [
      " 14%|██████████▉                                                                    | 139/1000 [00:12<01:17, 11.14it/s]\n"
     ]
    },
    {
     "name": "stdout",
     "output_type": "stream",
     "text": [
      "stop_reason stagnation_lim\n",
      "FX_best -302.89447654415164\n",
      "dimensions: 8\n",
      "start num:  33\n",
      "Xmin:      \n",
      "[-5 -5 -5 -5 -5 -5 -5 -5]\n",
      "Xmax:      \n",
      "[5 5 5 5 5 5 5 5]\n"
     ]
    },
    {
     "name": "stderr",
     "output_type": "stream",
     "text": [
      " 10%|███████▋                                                                        | 96/1000 [00:08<01:16, 11.75it/s]\n"
     ]
    },
    {
     "name": "stdout",
     "output_type": "stream",
     "text": [
      "stop_reason stagnation_lim\n",
      "FX_best -299.3334126815293\n",
      "dimensions: 8\n",
      "start num:  34\n",
      "Xmin:      \n",
      "[-5 -5 -5 -5 -5 -5 -5 -5]\n",
      "Xmax:      \n",
      "[5 5 5 5 5 5 5 5]\n"
     ]
    },
    {
     "name": "stderr",
     "output_type": "stream",
     "text": [
      " 11%|████████▊                                                                      | 111/1000 [00:09<01:15, 11.75it/s]\n"
     ]
    },
    {
     "name": "stdout",
     "output_type": "stream",
     "text": [
      "stop_reason stagnation_lim\n",
      "FX_best -315.9020932453287\n",
      "dimensions: 8\n",
      "start num:  35\n",
      "Xmin:      \n",
      "[-5 -5 -5 -5 -5 -5 -5 -5]\n",
      "Xmax:      \n",
      "[5 5 5 5 5 5 5 5]\n"
     ]
    },
    {
     "name": "stderr",
     "output_type": "stream",
     "text": [
      "  9%|███████▎                                                                        | 92/1000 [00:10<01:43,  8.79it/s]\n"
     ]
    },
    {
     "name": "stdout",
     "output_type": "stream",
     "text": [
      "stop_reason stagnation_lim\n",
      "FX_best -307.43521611775117\n",
      "dimensions: 8\n",
      "start num:  36\n",
      "Xmin:      \n",
      "[-5 -5 -5 -5 -5 -5 -5 -5]\n",
      "Xmax:      \n",
      "[5 5 5 5 5 5 5 5]\n"
     ]
    },
    {
     "name": "stderr",
     "output_type": "stream",
     "text": [
      " 11%|████████▌                                                                      | 108/1000 [00:13<01:51,  7.97it/s]\n"
     ]
    },
    {
     "name": "stdout",
     "output_type": "stream",
     "text": [
      "stop_reason stagnation_lim\n",
      "FX_best -310.82579042174126\n",
      "dimensions: 8\n",
      "start num:  37\n",
      "Xmin:      \n",
      "[-5 -5 -5 -5 -5 -5 -5 -5]\n",
      "Xmax:      \n",
      "[5 5 5 5 5 5 5 5]\n"
     ]
    },
    {
     "name": "stderr",
     "output_type": "stream",
     "text": [
      "  7%|█████▎                                                                          | 66/1000 [00:08<01:56,  8.04it/s]\n"
     ]
    },
    {
     "name": "stdout",
     "output_type": "stream",
     "text": [
      "stop_reason stagnation_lim\n",
      "FX_best -306.84887595917144\n",
      "dimensions: 8\n",
      "start num:  38\n",
      "Xmin:      \n",
      "[-5 -5 -5 -5 -5 -5 -5 -5]\n",
      "Xmax:      \n",
      "[5 5 5 5 5 5 5 5]\n"
     ]
    },
    {
     "name": "stderr",
     "output_type": "stream",
     "text": [
      " 10%|███████▉                                                                       | 100/1000 [00:12<01:53,  7.92it/s]\n"
     ]
    },
    {
     "name": "stdout",
     "output_type": "stream",
     "text": [
      "stop_reason stagnation_lim\n",
      "FX_best -307.60589109060015\n",
      "dimensions: 8\n",
      "start num:  39\n",
      "Xmin:      \n",
      "[-5 -5 -5 -5 -5 -5 -5 -5]\n",
      "Xmax:      \n",
      "[5 5 5 5 5 5 5 5]\n"
     ]
    },
    {
     "name": "stderr",
     "output_type": "stream",
     "text": [
      "  6%|████▉                                                                           | 61/1000 [00:07<01:58,  7.93it/s]\n"
     ]
    },
    {
     "name": "stdout",
     "output_type": "stream",
     "text": [
      "stop_reason stagnation_lim\n",
      "FX_best -318.15210466606277\n",
      "dimensions: 8\n",
      "start num:  40\n",
      "Xmin:      \n",
      "[-5 -5 -5 -5 -5 -5 -5 -5]\n",
      "Xmax:      \n",
      "[5 5 5 5 5 5 5 5]\n"
     ]
    },
    {
     "name": "stderr",
     "output_type": "stream",
     "text": [
      "  8%|██████▎                                                                         | 79/1000 [00:09<01:53,  8.12it/s]\n"
     ]
    },
    {
     "name": "stdout",
     "output_type": "stream",
     "text": [
      "stop_reason stagnation_lim\n",
      "FX_best -322.0725019738006\n",
      "dimensions: 8\n",
      "start num:  41\n",
      "Xmin:      \n",
      "[-5 -5 -5 -5 -5 -5 -5 -5]\n",
      "Xmax:      \n",
      "[5 5 5 5 5 5 5 5]\n"
     ]
    },
    {
     "name": "stderr",
     "output_type": "stream",
     "text": [
      " 12%|█████████▎                                                                     | 118/1000 [00:14<01:50,  8.01it/s]\n"
     ]
    },
    {
     "name": "stdout",
     "output_type": "stream",
     "text": [
      "stop_reason stagnation_lim\n",
      "FX_best -324.29364406138666\n",
      "dimensions: 8\n",
      "start num:  42\n",
      "Xmin:      \n",
      "[-5 -5 -5 -5 -5 -5 -5 -5]\n",
      "Xmax:      \n",
      "[5 5 5 5 5 5 5 5]\n"
     ]
    },
    {
     "name": "stderr",
     "output_type": "stream",
     "text": [
      "  8%|██████▌                                                                         | 82/1000 [00:10<01:57,  7.81it/s]\n"
     ]
    },
    {
     "name": "stdout",
     "output_type": "stream",
     "text": [
      "stop_reason stagnation_lim\n",
      "FX_best -320.094632346073\n",
      "dimensions: 8\n",
      "start num:  43\n",
      "Xmin:      \n",
      "[-5 -5 -5 -5 -5 -5 -5 -5]\n",
      "Xmax:      \n",
      "[5 5 5 5 5 5 5 5]\n"
     ]
    },
    {
     "name": "stderr",
     "output_type": "stream",
     "text": [
      " 10%|███████▉                                                                        | 99/1000 [00:12<01:51,  8.10it/s]\n"
     ]
    },
    {
     "name": "stdout",
     "output_type": "stream",
     "text": [
      "stop_reason stagnation_lim\n",
      "FX_best -323.4945829880336\n",
      "dimensions: 8\n",
      "start num:  44\n",
      "Xmin:      \n",
      "[-5 -5 -5 -5 -5 -5 -5 -5]\n",
      "Xmax:      \n",
      "[5 5 5 5 5 5 5 5]\n"
     ]
    },
    {
     "name": "stderr",
     "output_type": "stream",
     "text": [
      " 34%|██████████████████████████▌                                                    | 337/1000 [00:41<01:21,  8.17it/s]\n"
     ]
    },
    {
     "name": "stdout",
     "output_type": "stream",
     "text": [
      "stop_reason stagnation_lim\n",
      "FX_best -318.0007794082598\n",
      "dimensions: 8\n",
      "start num:  45\n",
      "Xmin:      \n",
      "[-5 -5 -5 -5 -5 -5 -5 -5]\n",
      "Xmax:      \n",
      "[5 5 5 5 5 5 5 5]\n"
     ]
    },
    {
     "name": "stderr",
     "output_type": "stream",
     "text": [
      "  6%|█████▏                                                                          | 65/1000 [00:06<01:29, 10.42it/s]\n"
     ]
    },
    {
     "name": "stdout",
     "output_type": "stream",
     "text": [
      "stop_reason stagnation_lim\n",
      "FX_best -312.815568350711\n",
      "dimensions: 8\n",
      "start num:  46\n",
      "Xmin:      \n",
      "[-5 -5 -5 -5 -5 -5 -5 -5]\n",
      "Xmax:      \n",
      "[5 5 5 5 5 5 5 5]\n"
     ]
    },
    {
     "name": "stderr",
     "output_type": "stream",
     "text": [
      "  7%|█████▎                                                                          | 66/1000 [00:05<01:21, 11.49it/s]\n"
     ]
    },
    {
     "name": "stdout",
     "output_type": "stream",
     "text": [
      "stop_reason stagnation_lim\n",
      "FX_best -307.78117176635607\n",
      "dimensions: 8\n",
      "start num:  47\n",
      "Xmin:      \n",
      "[-5 -5 -5 -5 -5 -5 -5 -5]\n",
      "Xmax:      \n",
      "[5 5 5 5 5 5 5 5]\n"
     ]
    },
    {
     "name": "stderr",
     "output_type": "stream",
     "text": [
      " 14%|███████████▍                                                                   | 144/1000 [00:12<01:14, 11.55it/s]\n"
     ]
    },
    {
     "name": "stdout",
     "output_type": "stream",
     "text": [
      "stop_reason stagnation_lim\n",
      "FX_best -303.4791439526973\n",
      "dimensions: 8\n",
      "start num:  48\n",
      "Xmin:      \n",
      "[-5 -5 -5 -5 -5 -5 -5 -5]\n",
      "Xmax:      \n",
      "[5 5 5 5 5 5 5 5]\n"
     ]
    },
    {
     "name": "stderr",
     "output_type": "stream",
     "text": [
      "  8%|██████▊                                                                         | 85/1000 [00:10<01:52,  8.13it/s]\n"
     ]
    },
    {
     "name": "stdout",
     "output_type": "stream",
     "text": [
      "stop_reason stagnation_lim\n",
      "FX_best -317.48420440627723\n",
      "dimensions: 8\n",
      "start num:  49\n",
      "Xmin:      \n",
      "[-5 -5 -5 -5 -5 -5 -5 -5]\n",
      "Xmax:      \n",
      "[5 5 5 5 5 5 5 5]\n"
     ]
    },
    {
     "name": "stderr",
     "output_type": "stream",
     "text": [
      "  7%|█████▍                                                                          | 68/1000 [00:08<01:58,  7.85it/s]\n"
     ]
    },
    {
     "name": "stdout",
     "output_type": "stream",
     "text": [
      "stop_reason stagnation_lim\n",
      "FX_best -304.75805020822025\n",
      "dimensions: 8\n",
      "start num:  50\n",
      "Xmin:      \n",
      "[-5 -5 -5 -5 -5 -5 -5 -5]\n",
      "Xmax:      \n",
      "[5 5 5 5 5 5 5 5]\n"
     ]
    },
    {
     "name": "stderr",
     "output_type": "stream",
     "text": [
      "  6%|█████▏                                                                          | 65/1000 [00:08<01:57,  7.94it/s]\n"
     ]
    },
    {
     "name": "stdout",
     "output_type": "stream",
     "text": [
      "stop_reason stagnation_lim\n",
      "FX_best -292.97364090416363\n",
      "dimensions: 8\n",
      "start num:  51\n",
      "Xmin:      \n",
      "[-5 -5 -5 -5 -5 -5 -5 -5]\n",
      "Xmax:      \n",
      "[5 5 5 5 5 5 5 5]\n"
     ]
    },
    {
     "name": "stderr",
     "output_type": "stream",
     "text": [
      " 12%|█████████▋                                                                     | 122/1000 [00:15<01:51,  7.87it/s]\n"
     ]
    },
    {
     "name": "stdout",
     "output_type": "stream",
     "text": [
      "stop_reason stagnation_lim\n",
      "FX_best -317.9428850279779\n",
      "dimensions: 8\n",
      "start num:  52\n",
      "Xmin:      \n",
      "[-5 -5 -5 -5 -5 -5 -5 -5]\n",
      "Xmax:      \n",
      "[5 5 5 5 5 5 5 5]\n"
     ]
    },
    {
     "name": "stderr",
     "output_type": "stream",
     "text": [
      " 10%|███████▌                                                                        | 95/1000 [00:11<01:53,  7.99it/s]\n"
     ]
    },
    {
     "name": "stdout",
     "output_type": "stream",
     "text": [
      "stop_reason stagnation_lim\n",
      "FX_best -314.8663002177535\n",
      "dimensions: 8\n",
      "start num:  53\n",
      "Xmin:      \n",
      "[-5 -5 -5 -5 -5 -5 -5 -5]\n",
      "Xmax:      \n",
      "[5 5 5 5 5 5 5 5]\n"
     ]
    },
    {
     "name": "stderr",
     "output_type": "stream",
     "text": [
      " 16%|█████████████                                                                  | 165/1000 [00:20<01:45,  7.93it/s]\n"
     ]
    },
    {
     "name": "stdout",
     "output_type": "stream",
     "text": [
      "stop_reason stagnation_lim\n",
      "FX_best -320.8762451301687\n",
      "dimensions: 8\n",
      "start num:  54\n",
      "Xmin:      \n",
      "[-5 -5 -5 -5 -5 -5 -5 -5]\n",
      "Xmax:      \n",
      "[5 5 5 5 5 5 5 5]\n"
     ]
    },
    {
     "name": "stderr",
     "output_type": "stream",
     "text": [
      " 11%|████████▋                                                                      | 110/1000 [00:14<01:53,  7.82it/s]\n"
     ]
    },
    {
     "name": "stdout",
     "output_type": "stream",
     "text": [
      "stop_reason stagnation_lim\n",
      "FX_best -301.24502022544914\n",
      "dimensions: 8\n",
      "start num:  55\n",
      "Xmin:      \n",
      "[-5 -5 -5 -5 -5 -5 -5 -5]\n",
      "Xmax:      \n",
      "[5 5 5 5 5 5 5 5]\n"
     ]
    },
    {
     "name": "stderr",
     "output_type": "stream",
     "text": [
      " 13%|██████████▌                                                                    | 134/1000 [00:16<01:49,  7.88it/s]\n"
     ]
    },
    {
     "name": "stdout",
     "output_type": "stream",
     "text": [
      "stop_reason stagnation_lim\n",
      "FX_best -309.9850861818873\n",
      "dimensions: 8\n",
      "start num:  56\n",
      "Xmin:      \n",
      "[-5 -5 -5 -5 -5 -5 -5 -5]\n",
      "Xmax:      \n",
      "[5 5 5 5 5 5 5 5]\n"
     ]
    },
    {
     "name": "stderr",
     "output_type": "stream",
     "text": [
      " 10%|███████▉                                                                        | 99/1000 [00:12<01:53,  7.94it/s]\n"
     ]
    },
    {
     "name": "stdout",
     "output_type": "stream",
     "text": [
      "stop_reason stagnation_lim\n",
      "FX_best -316.1116698354041\n",
      "dimensions: 8\n",
      "start num:  57\n",
      "Xmin:      \n",
      "[-5 -5 -5 -5 -5 -5 -5 -5]\n",
      "Xmax:      \n",
      "[5 5 5 5 5 5 5 5]\n"
     ]
    },
    {
     "name": "stderr",
     "output_type": "stream",
     "text": [
      " 10%|███████▊                                                                        | 97/1000 [00:12<01:52,  8.05it/s]\n"
     ]
    },
    {
     "name": "stdout",
     "output_type": "stream",
     "text": [
      "stop_reason stagnation_lim\n",
      "FX_best -317.9151199163316\n",
      "dimensions: 8\n",
      "start num:  58\n",
      "Xmin:      \n",
      "[-5 -5 -5 -5 -5 -5 -5 -5]\n",
      "Xmax:      \n",
      "[5 5 5 5 5 5 5 5]\n"
     ]
    },
    {
     "name": "stderr",
     "output_type": "stream",
     "text": [
      "  8%|██████▍                                                                         | 80/1000 [00:10<01:56,  7.89it/s]\n"
     ]
    },
    {
     "name": "stdout",
     "output_type": "stream",
     "text": [
      "stop_reason stagnation_lim\n",
      "FX_best -309.55162832973446\n",
      "dimensions: 8\n",
      "start num:  59\n",
      "Xmin:      \n",
      "[-5 -5 -5 -5 -5 -5 -5 -5]\n",
      "Xmax:      \n",
      "[5 5 5 5 5 5 5 5]\n"
     ]
    },
    {
     "name": "stderr",
     "output_type": "stream",
     "text": [
      "  7%|█████▍                                                                          | 68/1000 [00:07<01:43,  9.05it/s]\n"
     ]
    },
    {
     "name": "stdout",
     "output_type": "stream",
     "text": [
      "stop_reason stagnation_lim\n",
      "FX_best -317.39320709354615\n",
      "dimensions: 8\n",
      "start num:  60\n",
      "Xmin:      \n",
      "[-5 -5 -5 -5 -5 -5 -5 -5]\n",
      "Xmax:      \n",
      "[5 5 5 5 5 5 5 5]\n"
     ]
    },
    {
     "name": "stderr",
     "output_type": "stream",
     "text": [
      " 12%|█████████                                                                      | 115/1000 [00:10<01:22, 10.67it/s]\n"
     ]
    },
    {
     "name": "stdout",
     "output_type": "stream",
     "text": [
      "stop_reason stagnation_lim\n",
      "FX_best -310.36528690103006\n",
      "dimensions: 8\n",
      "start num:  61\n",
      "Xmin:      \n",
      "[-5 -5 -5 -5 -5 -5 -5 -5]\n",
      "Xmax:      \n",
      "[5 5 5 5 5 5 5 5]\n"
     ]
    },
    {
     "name": "stderr",
     "output_type": "stream",
     "text": [
      " 16%|████████████▏                                                                  | 155/1000 [00:13<01:14, 11.38it/s]\n"
     ]
    },
    {
     "name": "stdout",
     "output_type": "stream",
     "text": [
      "stop_reason stagnation_lim\n",
      "FX_best -319.83579803276234\n",
      "dimensions: 8\n",
      "start num:  62\n",
      "Xmin:      \n",
      "[-5 -5 -5 -5 -5 -5 -5 -5]\n",
      "Xmax:      \n",
      "[5 5 5 5 5 5 5 5]\n"
     ]
    },
    {
     "name": "stderr",
     "output_type": "stream",
     "text": [
      "  8%|██████▍                                                                         | 80/1000 [00:06<01:18, 11.76it/s]\n"
     ]
    },
    {
     "name": "stdout",
     "output_type": "stream",
     "text": [
      "stop_reason stagnation_lim\n",
      "FX_best -321.5104668565942\n",
      "dimensions: 8\n",
      "start num:  63\n",
      "Xmin:      \n",
      "[-5 -5 -5 -5 -5 -5 -5 -5]\n",
      "Xmax:      \n",
      "[5 5 5 5 5 5 5 5]\n"
     ]
    },
    {
     "name": "stderr",
     "output_type": "stream",
     "text": [
      " 20%|███████████████▍                                                               | 195/1000 [00:16<01:08, 11.82it/s]\n"
     ]
    },
    {
     "name": "stdout",
     "output_type": "stream",
     "text": [
      "stop_reason stagnation_lim\n",
      "FX_best -319.04510883725175\n",
      "dimensions: 8\n",
      "start num:  64\n",
      "Xmin:      \n",
      "[-5 -5 -5 -5 -5 -5 -5 -5]\n",
      "Xmax:      \n",
      "[5 5 5 5 5 5 5 5]\n"
     ]
    },
    {
     "name": "stderr",
     "output_type": "stream",
     "text": [
      "  8%|██████▍                                                                         | 81/1000 [00:06<01:16, 12.02it/s]\n"
     ]
    },
    {
     "name": "stdout",
     "output_type": "stream",
     "text": [
      "stop_reason stagnation_lim\n",
      "FX_best -320.43154834393766\n",
      "dimensions: 8\n",
      "start num:  65\n",
      "Xmin:      \n",
      "[-5 -5 -5 -5 -5 -5 -5 -5]\n",
      "Xmax:      \n",
      "[5 5 5 5 5 5 5 5]\n"
     ]
    },
    {
     "name": "stderr",
     "output_type": "stream",
     "text": [
      " 13%|██████████                                                                     | 128/1000 [00:10<01:12, 12.00it/s]\n"
     ]
    },
    {
     "name": "stdout",
     "output_type": "stream",
     "text": [
      "stop_reason stagnation_lim\n",
      "FX_best -312.5184131356211\n",
      "dimensions: 8\n",
      "start num:  66\n",
      "Xmin:      \n",
      "[-5 -5 -5 -5 -5 -5 -5 -5]\n",
      "Xmax:      \n",
      "[5 5 5 5 5 5 5 5]\n"
     ]
    },
    {
     "name": "stderr",
     "output_type": "stream",
     "text": [
      " 11%|████████▊                                                                      | 112/1000 [00:09<01:14, 11.93it/s]\n"
     ]
    },
    {
     "name": "stdout",
     "output_type": "stream",
     "text": [
      "stop_reason stagnation_lim\n",
      "FX_best -320.1168871669564\n",
      "dimensions: 8\n",
      "start num:  67\n",
      "Xmin:      \n",
      "[-5 -5 -5 -5 -5 -5 -5 -5]\n",
      "Xmax:      \n",
      "[5 5 5 5 5 5 5 5]\n"
     ]
    },
    {
     "name": "stderr",
     "output_type": "stream",
     "text": [
      " 14%|██████████▊                                                                    | 137/1000 [00:11<01:12, 11.90it/s]\n"
     ]
    },
    {
     "name": "stdout",
     "output_type": "stream",
     "text": [
      "stop_reason stagnation_lim\n",
      "FX_best -318.31062523352864\n",
      "dimensions: 8\n",
      "start num:  68\n",
      "Xmin:      \n",
      "[-5 -5 -5 -5 -5 -5 -5 -5]\n",
      "Xmax:      \n",
      "[5 5 5 5 5 5 5 5]\n"
     ]
    },
    {
     "name": "stderr",
     "output_type": "stream",
     "text": [
      "  8%|██████▊                                                                         | 85/1000 [00:07<01:15, 12.13it/s]\n"
     ]
    },
    {
     "name": "stdout",
     "output_type": "stream",
     "text": [
      "stop_reason stagnation_lim\n",
      "FX_best -322.919136286481\n",
      "dimensions: 8\n",
      "start num:  69\n",
      "Xmin:      \n",
      "[-5 -5 -5 -5 -5 -5 -5 -5]\n",
      "Xmax:      \n",
      "[5 5 5 5 5 5 5 5]\n"
     ]
    },
    {
     "name": "stderr",
     "output_type": "stream",
     "text": [
      " 15%|████████████                                                                   | 153/1000 [00:12<01:11, 11.85it/s]\n"
     ]
    },
    {
     "name": "stdout",
     "output_type": "stream",
     "text": [
      "stop_reason stagnation_lim\n",
      "FX_best -300.6535998308165\n",
      "dimensions: 8\n",
      "start num:  70\n",
      "Xmin:      \n",
      "[-5 -5 -5 -5 -5 -5 -5 -5]\n",
      "Xmax:      \n",
      "[5 5 5 5 5 5 5 5]\n"
     ]
    },
    {
     "name": "stderr",
     "output_type": "stream",
     "text": [
      "  8%|██████▏                                                                         | 78/1000 [00:06<01:17, 11.97it/s]\n"
     ]
    },
    {
     "name": "stdout",
     "output_type": "stream",
     "text": [
      "stop_reason stagnation_lim\n",
      "FX_best -314.4256454708302\n",
      "dimensions: 8\n",
      "start num:  71\n",
      "Xmin:      \n",
      "[-5 -5 -5 -5 -5 -5 -5 -5]\n",
      "Xmax:      \n",
      "[5 5 5 5 5 5 5 5]\n"
     ]
    },
    {
     "name": "stderr",
     "output_type": "stream",
     "text": [
      " 16%|████████████▊                                                                  | 162/1000 [00:13<01:10, 11.94it/s]\n"
     ]
    },
    {
     "name": "stdout",
     "output_type": "stream",
     "text": [
      "stop_reason stagnation_lim\n",
      "FX_best -315.1623186899649\n",
      "dimensions: 8\n",
      "start num:  72\n",
      "Xmin:      \n",
      "[-5 -5 -5 -5 -5 -5 -5 -5]\n",
      "Xmax:      \n",
      "[5 5 5 5 5 5 5 5]\n"
     ]
    },
    {
     "name": "stderr",
     "output_type": "stream",
     "text": [
      " 14%|███████████▎                                                                   | 143/1000 [00:11<01:11, 11.99it/s]\n"
     ]
    },
    {
     "name": "stdout",
     "output_type": "stream",
     "text": [
      "stop_reason stagnation_lim\n",
      "FX_best -308.4388954982875\n",
      "dimensions: 8\n",
      "start num:  73\n",
      "Xmin:      \n",
      "[-5 -5 -5 -5 -5 -5 -5 -5]\n",
      "Xmax:      \n",
      "[5 5 5 5 5 5 5 5]\n"
     ]
    },
    {
     "name": "stderr",
     "output_type": "stream",
     "text": [
      "  6%|████▋                                                                           | 59/1000 [00:04<01:17, 12.15it/s]\n"
     ]
    },
    {
     "name": "stdout",
     "output_type": "stream",
     "text": [
      "stop_reason stagnation_lim\n",
      "FX_best -314.8278763139891\n",
      "dimensions: 8\n",
      "start num:  74\n",
      "Xmin:      \n",
      "[-5 -5 -5 -5 -5 -5 -5 -5]\n",
      "Xmax:      \n",
      "[5 5 5 5 5 5 5 5]\n"
     ]
    },
    {
     "name": "stderr",
     "output_type": "stream",
     "text": [
      " 13%|██████████▏                                                                    | 129/1000 [00:10<01:11, 12.12it/s]\n"
     ]
    },
    {
     "name": "stdout",
     "output_type": "stream",
     "text": [
      "stop_reason stagnation_lim\n",
      "FX_best -308.2025661329939\n",
      "dimensions: 8\n",
      "start num:  75\n",
      "Xmin:      \n",
      "[-5 -5 -5 -5 -5 -5 -5 -5]\n",
      "Xmax:      \n",
      "[5 5 5 5 5 5 5 5]\n"
     ]
    },
    {
     "name": "stderr",
     "output_type": "stream",
     "text": [
      "  8%|██████▍                                                                         | 81/1000 [00:06<01:16, 12.01it/s]\n"
     ]
    },
    {
     "name": "stdout",
     "output_type": "stream",
     "text": [
      "stop_reason stagnation_lim\n",
      "FX_best -313.62881548517277\n",
      "dimensions: 8\n",
      "start num:  76\n",
      "Xmin:      \n",
      "[-5 -5 -5 -5 -5 -5 -5 -5]\n",
      "Xmax:      \n",
      "[5 5 5 5 5 5 5 5]\n"
     ]
    },
    {
     "name": "stderr",
     "output_type": "stream",
     "text": [
      " 10%|███████▊                                                                        | 98/1000 [00:08<01:15, 12.02it/s]\n"
     ]
    },
    {
     "name": "stdout",
     "output_type": "stream",
     "text": [
      "stop_reason stagnation_lim\n",
      "FX_best -322.1715536807072\n",
      "dimensions: 8\n",
      "start num:  77\n",
      "Xmin:      \n",
      "[-5 -5 -5 -5 -5 -5 -5 -5]\n",
      "Xmax:      \n",
      "[5 5 5 5 5 5 5 5]\n"
     ]
    },
    {
     "name": "stderr",
     "output_type": "stream",
     "text": [
      " 13%|██████████▎                                                                    | 130/1000 [00:10<01:12, 12.02it/s]\n"
     ]
    },
    {
     "name": "stdout",
     "output_type": "stream",
     "text": [
      "stop_reason stagnation_lim\n",
      "FX_best -324.5910875632504\n",
      "dimensions: 8\n",
      "start num:  78\n",
      "Xmin:      \n",
      "[-5 -5 -5 -5 -5 -5 -5 -5]\n",
      "Xmax:      \n",
      "[5 5 5 5 5 5 5 5]\n"
     ]
    },
    {
     "name": "stderr",
     "output_type": "stream",
     "text": [
      "  6%|████▉                                                                           | 62/1000 [00:05<01:17, 12.05it/s]\n"
     ]
    },
    {
     "name": "stdout",
     "output_type": "stream",
     "text": [
      "stop_reason stagnation_lim\n",
      "FX_best -312.86031195179964\n",
      "dimensions: 8\n",
      "start num:  79\n",
      "Xmin:      \n",
      "[-5 -5 -5 -5 -5 -5 -5 -5]\n",
      "Xmax:      \n",
      "[5 5 5 5 5 5 5 5]\n"
     ]
    },
    {
     "name": "stderr",
     "output_type": "stream",
     "text": [
      "  6%|█████                                                                           | 63/1000 [00:05<01:17, 12.15it/s]\n"
     ]
    },
    {
     "name": "stdout",
     "output_type": "stream",
     "text": [
      "stop_reason stagnation_lim\n",
      "FX_best -324.7951068231664\n",
      "dimensions: 8\n",
      "start num:  80\n",
      "Xmin:      \n",
      "[-5 -5 -5 -5 -5 -5 -5 -5]\n",
      "Xmax:      \n",
      "[5 5 5 5 5 5 5 5]\n"
     ]
    },
    {
     "name": "stderr",
     "output_type": "stream",
     "text": [
      " 14%|██████████▋                                                                    | 135/1000 [00:11<01:12, 11.96it/s]\n"
     ]
    },
    {
     "name": "stdout",
     "output_type": "stream",
     "text": [
      "stop_reason stagnation_lim\n",
      "FX_best -317.47371774847437\n",
      "dimensions: 8\n",
      "start num:  81\n",
      "Xmin:      \n",
      "[-5 -5 -5 -5 -5 -5 -5 -5]\n",
      "Xmax:      \n",
      "[5 5 5 5 5 5 5 5]\n"
     ]
    },
    {
     "name": "stderr",
     "output_type": "stream",
     "text": [
      " 11%|████████▌                                                                      | 109/1000 [00:09<01:15, 11.78it/s]\n"
     ]
    },
    {
     "name": "stdout",
     "output_type": "stream",
     "text": [
      "stop_reason stagnation_lim\n",
      "FX_best -313.4811319984158\n",
      "dimensions: 8\n",
      "start num:  82\n",
      "Xmin:      \n",
      "[-5 -5 -5 -5 -5 -5 -5 -5]\n",
      "Xmax:      \n",
      "[5 5 5 5 5 5 5 5]\n"
     ]
    },
    {
     "name": "stderr",
     "output_type": "stream",
     "text": [
      "  9%|███████                                                                         | 88/1000 [00:07<01:16, 11.98it/s]\n"
     ]
    },
    {
     "name": "stdout",
     "output_type": "stream",
     "text": [
      "stop_reason stagnation_lim\n",
      "FX_best -315.2884969238394\n",
      "dimensions: 8\n",
      "start num:  83\n",
      "Xmin:      \n",
      "[-5 -5 -5 -5 -5 -5 -5 -5]\n",
      "Xmax:      \n",
      "[5 5 5 5 5 5 5 5]\n"
     ]
    },
    {
     "name": "stderr",
     "output_type": "stream",
     "text": [
      " 12%|█████████                                                                      | 115/1000 [00:09<01:13, 12.07it/s]\n"
     ]
    },
    {
     "name": "stdout",
     "output_type": "stream",
     "text": [
      "stop_reason stagnation_lim\n",
      "FX_best -315.1393800322016\n",
      "dimensions: 8\n",
      "start num:  84\n",
      "Xmin:      \n",
      "[-5 -5 -5 -5 -5 -5 -5 -5]\n",
      "Xmax:      \n",
      "[5 5 5 5 5 5 5 5]\n"
     ]
    },
    {
     "name": "stderr",
     "output_type": "stream",
     "text": [
      " 14%|███████████▏                                                                   | 142/1000 [00:11<01:12, 11.85it/s]\n"
     ]
    },
    {
     "name": "stdout",
     "output_type": "stream",
     "text": [
      "stop_reason stagnation_lim\n",
      "FX_best -317.1289743065213\n",
      "dimensions: 8\n",
      "start num:  85\n",
      "Xmin:      \n",
      "[-5 -5 -5 -5 -5 -5 -5 -5]\n",
      "Xmax:      \n",
      "[5 5 5 5 5 5 5 5]\n"
     ]
    },
    {
     "name": "stderr",
     "output_type": "stream",
     "text": [
      " 10%|███████▋                                                                        | 96/1000 [00:08<01:16, 11.88it/s]\n"
     ]
    },
    {
     "name": "stdout",
     "output_type": "stream",
     "text": [
      "stop_reason stagnation_lim\n",
      "FX_best -309.20744402263847\n",
      "dimensions: 8\n",
      "start num:  86\n",
      "Xmin:      \n",
      "[-5 -5 -5 -5 -5 -5 -5 -5]\n",
      "Xmax:      \n",
      "[5 5 5 5 5 5 5 5]\n"
     ]
    },
    {
     "name": "stderr",
     "output_type": "stream",
     "text": [
      " 13%|██████████                                                                     | 127/1000 [00:10<01:12, 12.01it/s]\n"
     ]
    },
    {
     "name": "stdout",
     "output_type": "stream",
     "text": [
      "stop_reason stagnation_lim\n",
      "FX_best -315.8068197793283\n",
      "dimensions: 8\n",
      "start num:  87\n",
      "Xmin:      \n",
      "[-5 -5 -5 -5 -5 -5 -5 -5]\n",
      "Xmax:      \n",
      "[5 5 5 5 5 5 5 5]\n"
     ]
    },
    {
     "name": "stderr",
     "output_type": "stream",
     "text": [
      " 16%|████████████▌                                                                  | 159/1000 [00:13<01:09, 12.02it/s]\n"
     ]
    },
    {
     "name": "stdout",
     "output_type": "stream",
     "text": [
      "stop_reason stagnation_lim\n",
      "FX_best -316.7486098698037\n",
      "dimensions: 8\n",
      "start num:  88\n",
      "Xmin:      \n",
      "[-5 -5 -5 -5 -5 -5 -5 -5]\n",
      "Xmax:      \n",
      "[5 5 5 5 5 5 5 5]\n"
     ]
    },
    {
     "name": "stderr",
     "output_type": "stream",
     "text": [
      "  7%|█████▍                                                                          | 68/1000 [00:05<01:17, 12.07it/s]\n"
     ]
    },
    {
     "name": "stdout",
     "output_type": "stream",
     "text": [
      "stop_reason stagnation_lim\n",
      "FX_best -311.9255552167175\n",
      "dimensions: 8\n",
      "start num:  89\n",
      "Xmin:      \n",
      "[-5 -5 -5 -5 -5 -5 -5 -5]\n",
      "Xmax:      \n",
      "[5 5 5 5 5 5 5 5]\n"
     ]
    },
    {
     "name": "stderr",
     "output_type": "stream",
     "text": [
      "  9%|███████▏                                                                        | 90/1000 [00:07<01:15, 12.02it/s]\n"
     ]
    },
    {
     "name": "stdout",
     "output_type": "stream",
     "text": [
      "stop_reason stagnation_lim\n",
      "FX_best -313.65405849232786\n",
      "dimensions: 8\n",
      "start num:  90\n",
      "Xmin:      \n",
      "[-5 -5 -5 -5 -5 -5 -5 -5]\n",
      "Xmax:      \n",
      "[5 5 5 5 5 5 5 5]\n"
     ]
    },
    {
     "name": "stderr",
     "output_type": "stream",
     "text": [
      "  6%|█████▏                                                                          | 65/1000 [00:05<01:17, 12.03it/s]\n"
     ]
    },
    {
     "name": "stdout",
     "output_type": "stream",
     "text": [
      "stop_reason stagnation_lim\n",
      "FX_best -314.83510322297934\n",
      "dimensions: 8\n",
      "start num:  91\n",
      "Xmin:      \n",
      "[-5 -5 -5 -5 -5 -5 -5 -5]\n",
      "Xmax:      \n",
      "[5 5 5 5 5 5 5 5]\n"
     ]
    },
    {
     "name": "stderr",
     "output_type": "stream",
     "text": [
      " 12%|█████████▉                                                                     | 125/1000 [00:10<01:12, 12.00it/s]\n"
     ]
    },
    {
     "name": "stdout",
     "output_type": "stream",
     "text": [
      "stop_reason stagnation_lim\n",
      "FX_best -307.6985942612532\n",
      "dimensions: 8\n",
      "start num:  92\n",
      "Xmin:      \n",
      "[-5 -5 -5 -5 -5 -5 -5 -5]\n",
      "Xmax:      \n",
      "[5 5 5 5 5 5 5 5]\n"
     ]
    },
    {
     "name": "stderr",
     "output_type": "stream",
     "text": [
      " 12%|█████████▎                                                                     | 118/1000 [00:09<01:14, 11.86it/s]\n"
     ]
    },
    {
     "name": "stdout",
     "output_type": "stream",
     "text": [
      "stop_reason stagnation_lim\n",
      "FX_best -323.32447226978013\n",
      "dimensions: 8\n",
      "start num:  93\n",
      "Xmin:      \n",
      "[-5 -5 -5 -5 -5 -5 -5 -5]\n",
      "Xmax:      \n",
      "[5 5 5 5 5 5 5 5]\n"
     ]
    },
    {
     "name": "stderr",
     "output_type": "stream",
     "text": [
      " 10%|███████▉                                                                       | 100/1000 [00:08<01:14, 12.04it/s]\n"
     ]
    },
    {
     "name": "stdout",
     "output_type": "stream",
     "text": [
      "stop_reason stagnation_lim\n",
      "FX_best -311.7781980284427\n",
      "dimensions: 8\n",
      "start num:  94\n",
      "Xmin:      \n",
      "[-5 -5 -5 -5 -5 -5 -5 -5]\n",
      "Xmax:      \n",
      "[5 5 5 5 5 5 5 5]\n"
     ]
    },
    {
     "name": "stderr",
     "output_type": "stream",
     "text": [
      " 12%|█████████▍                                                                     | 120/1000 [00:10<01:13, 11.98it/s]\n"
     ]
    },
    {
     "name": "stdout",
     "output_type": "stream",
     "text": [
      "stop_reason stagnation_lim\n",
      "FX_best -312.7438334684488\n",
      "dimensions: 8\n",
      "start num:  95\n",
      "Xmin:      \n",
      "[-5 -5 -5 -5 -5 -5 -5 -5]\n",
      "Xmax:      \n",
      "[5 5 5 5 5 5 5 5]\n"
     ]
    },
    {
     "name": "stderr",
     "output_type": "stream",
     "text": [
      " 11%|████████▎                                                                      | 106/1000 [00:08<01:14, 12.05it/s]\n"
     ]
    },
    {
     "name": "stdout",
     "output_type": "stream",
     "text": [
      "stop_reason stagnation_lim\n",
      "FX_best -322.63168845906006\n",
      "dimensions: 8\n",
      "start num:  96\n",
      "Xmin:      \n",
      "[-5 -5 -5 -5 -5 -5 -5 -5]\n",
      "Xmax:      \n",
      "[5 5 5 5 5 5 5 5]\n"
     ]
    },
    {
     "name": "stderr",
     "output_type": "stream",
     "text": [
      " 10%|███████▌                                                                        | 95/1000 [00:07<01:15, 12.03it/s]\n"
     ]
    },
    {
     "name": "stdout",
     "output_type": "stream",
     "text": [
      "stop_reason stagnation_lim\n",
      "FX_best -312.188478899817\n",
      "dimensions: 8\n",
      "start num:  97\n",
      "Xmin:      \n",
      "[-5 -5 -5 -5 -5 -5 -5 -5]\n",
      "Xmax:      \n",
      "[5 5 5 5 5 5 5 5]\n"
     ]
    },
    {
     "name": "stderr",
     "output_type": "stream",
     "text": [
      " 13%|██████████▎                                                                    | 130/1000 [00:10<01:12, 12.07it/s]\n"
     ]
    },
    {
     "name": "stdout",
     "output_type": "stream",
     "text": [
      "stop_reason stagnation_lim\n",
      "FX_best -305.8907400006532\n",
      "dimensions: 8\n",
      "start num:  98\n",
      "Xmin:      \n",
      "[-5 -5 -5 -5 -5 -5 -5 -5]\n",
      "Xmax:      \n",
      "[5 5 5 5 5 5 5 5]\n"
     ]
    },
    {
     "name": "stderr",
     "output_type": "stream",
     "text": [
      "  8%|██████▏                                                                         | 78/1000 [00:06<01:16, 12.02it/s]\n"
     ]
    },
    {
     "name": "stdout",
     "output_type": "stream",
     "text": [
      "stop_reason stagnation_lim\n",
      "FX_best -308.5454568278742\n",
      "dimensions: 8\n",
      "start num:  99\n",
      "Xmin:      \n",
      "[-5 -5 -5 -5 -5 -5 -5 -5]\n",
      "Xmax:      \n",
      "[5 5 5 5 5 5 5 5]\n"
     ]
    },
    {
     "name": "stderr",
     "output_type": "stream",
     "text": [
      " 12%|█████████▍                                                                     | 119/1000 [00:09<01:13, 11.99it/s]\n"
     ]
    },
    {
     "name": "stdout",
     "output_type": "stream",
     "text": [
      "stop_reason stagnation_lim\n",
      "FX_best -320.5386463228595\n",
      "dimensions: 16\n",
      "start num:  0\n",
      "Xmin:      \n",
      "[-5 -5 -5 -5 -5 -5 -5 -5 -5 -5 -5 -5 -5 -5 -5 -5]\n",
      "Xmax:      \n",
      "[5 5 5 5 5 5 5 5 5 5 5 5 5 5 5 5]\n"
     ]
    },
    {
     "name": "stderr",
     "output_type": "stream",
     "text": [
      " 10%|████████▏                                                                      | 104/1000 [00:08<01:15, 11.84it/s]\n"
     ]
    },
    {
     "name": "stdout",
     "output_type": "stream",
     "text": [
      "stop_reason stagnation_lim\n",
      "FX_best -279.7513755017375\n",
      "dimensions: 16\n",
      "start num:  1\n",
      "Xmin:      \n",
      "[-5 -5 -5 -5 -5 -5 -5 -5 -5 -5 -5 -5 -5 -5 -5 -5]\n",
      "Xmax:      \n",
      "[5 5 5 5 5 5 5 5 5 5 5 5 5 5 5 5]\n"
     ]
    },
    {
     "name": "stderr",
     "output_type": "stream",
     "text": [
      "  8%|██████                                                                          | 76/1000 [00:06<01:17, 11.96it/s]\n"
     ]
    },
    {
     "name": "stdout",
     "output_type": "stream",
     "text": [
      "stop_reason stagnation_lim\n",
      "FX_best -248.1282389370772\n",
      "dimensions: 16\n",
      "start num:  2\n",
      "Xmin:      \n",
      "[-5 -5 -5 -5 -5 -5 -5 -5 -5 -5 -5 -5 -5 -5 -5 -5]\n",
      "Xmax:      \n",
      "[5 5 5 5 5 5 5 5 5 5 5 5 5 5 5 5]\n"
     ]
    },
    {
     "name": "stderr",
     "output_type": "stream",
     "text": [
      "  7%|█████▎                                                                          | 67/1000 [00:05<01:18, 11.90it/s]\n"
     ]
    },
    {
     "name": "stdout",
     "output_type": "stream",
     "text": [
      "stop_reason stagnation_lim\n",
      "FX_best -259.6226122184293\n",
      "dimensions: 16\n",
      "start num:  3\n",
      "Xmin:      \n",
      "[-5 -5 -5 -5 -5 -5 -5 -5 -5 -5 -5 -5 -5 -5 -5 -5]\n",
      "Xmax:      \n",
      "[5 5 5 5 5 5 5 5 5 5 5 5 5 5 5 5]\n"
     ]
    },
    {
     "name": "stderr",
     "output_type": "stream",
     "text": [
      " 13%|██████████▏                                                                    | 129/1000 [00:11<01:14, 11.71it/s]\n"
     ]
    },
    {
     "name": "stdout",
     "output_type": "stream",
     "text": [
      "stop_reason stagnation_lim\n",
      "FX_best -244.63152527156115\n",
      "dimensions: 16\n",
      "start num:  4\n",
      "Xmin:      \n",
      "[-5 -5 -5 -5 -5 -5 -5 -5 -5 -5 -5 -5 -5 -5 -5 -5]\n",
      "Xmax:      \n",
      "[5 5 5 5 5 5 5 5 5 5 5 5 5 5 5 5]\n"
     ]
    },
    {
     "name": "stderr",
     "output_type": "stream",
     "text": [
      "  9%|███████▎                                                                        | 91/1000 [00:07<01:16, 11.92it/s]\n"
     ]
    },
    {
     "name": "stdout",
     "output_type": "stream",
     "text": [
      "stop_reason stagnation_lim\n",
      "FX_best -260.31779445617127\n",
      "dimensions: 16\n",
      "start num:  5\n",
      "Xmin:      \n",
      "[-5 -5 -5 -5 -5 -5 -5 -5 -5 -5 -5 -5 -5 -5 -5 -5]\n",
      "Xmax:      \n",
      "[5 5 5 5 5 5 5 5 5 5 5 5 5 5 5 5]\n"
     ]
    },
    {
     "name": "stderr",
     "output_type": "stream",
     "text": [
      " 10%|███████▌                                                                        | 95/1000 [00:08<01:16, 11.81it/s]\n"
     ]
    },
    {
     "name": "stdout",
     "output_type": "stream",
     "text": [
      "stop_reason stagnation_lim\n",
      "FX_best -257.60649872251645\n",
      "dimensions: 16\n",
      "start num:  6\n",
      "Xmin:      \n",
      "[-5 -5 -5 -5 -5 -5 -5 -5 -5 -5 -5 -5 -5 -5 -5 -5]\n",
      "Xmax:      \n",
      "[5 5 5 5 5 5 5 5 5 5 5 5 5 5 5 5]\n"
     ]
    },
    {
     "name": "stderr",
     "output_type": "stream",
     "text": [
      " 10%|████████▎                                                                      | 105/1000 [00:08<01:15, 11.89it/s]\n"
     ]
    },
    {
     "name": "stdout",
     "output_type": "stream",
     "text": [
      "stop_reason stagnation_lim\n",
      "FX_best -256.5442013971055\n",
      "dimensions: 16\n",
      "start num:  7\n",
      "Xmin:      \n",
      "[-5 -5 -5 -5 -5 -5 -5 -5 -5 -5 -5 -5 -5 -5 -5 -5]\n",
      "Xmax:      \n",
      "[5 5 5 5 5 5 5 5 5 5 5 5 5 5 5 5]\n"
     ]
    },
    {
     "name": "stderr",
     "output_type": "stream",
     "text": [
      " 12%|█████████▎                                                                     | 118/1000 [00:10<01:14, 11.76it/s]\n"
     ]
    },
    {
     "name": "stdout",
     "output_type": "stream",
     "text": [
      "stop_reason stagnation_lim\n",
      "FX_best -263.4399518328431\n",
      "dimensions: 16\n",
      "start num:  8\n",
      "Xmin:      \n",
      "[-5 -5 -5 -5 -5 -5 -5 -5 -5 -5 -5 -5 -5 -5 -5 -5]\n",
      "Xmax:      \n",
      "[5 5 5 5 5 5 5 5 5 5 5 5 5 5 5 5]\n"
     ]
    },
    {
     "name": "stderr",
     "output_type": "stream",
     "text": [
      "  8%|██████▍                                                                         | 81/1000 [00:06<01:17, 11.89it/s]\n"
     ]
    },
    {
     "name": "stdout",
     "output_type": "stream",
     "text": [
      "stop_reason stagnation_lim\n",
      "FX_best -270.189167708864\n",
      "dimensions: 16\n",
      "start num:  9\n",
      "Xmin:      \n",
      "[-5 -5 -5 -5 -5 -5 -5 -5 -5 -5 -5 -5 -5 -5 -5 -5]\n",
      "Xmax:      \n",
      "[5 5 5 5 5 5 5 5 5 5 5 5 5 5 5 5]\n"
     ]
    },
    {
     "name": "stderr",
     "output_type": "stream",
     "text": [
      " 10%|███████▉                                                                       | 100/1000 [00:08<01:15, 11.85it/s]\n"
     ]
    },
    {
     "name": "stdout",
     "output_type": "stream",
     "text": [
      "stop_reason stagnation_lim\n",
      "FX_best -277.1091406695299\n",
      "dimensions: 16\n",
      "start num:  10\n",
      "Xmin:      \n",
      "[-5 -5 -5 -5 -5 -5 -5 -5 -5 -5 -5 -5 -5 -5 -5 -5]\n",
      "Xmax:      \n",
      "[5 5 5 5 5 5 5 5 5 5 5 5 5 5 5 5]\n"
     ]
    },
    {
     "name": "stderr",
     "output_type": "stream",
     "text": [
      " 14%|███████████▎                                                                   | 143/1000 [00:12<01:12, 11.82it/s]\n"
     ]
    },
    {
     "name": "stdout",
     "output_type": "stream",
     "text": [
      "stop_reason stagnation_lim\n",
      "FX_best -258.39890346158506\n",
      "dimensions: 16\n",
      "start num:  11\n",
      "Xmin:      \n",
      "[-5 -5 -5 -5 -5 -5 -5 -5 -5 -5 -5 -5 -5 -5 -5 -5]\n",
      "Xmax:      \n",
      "[5 5 5 5 5 5 5 5 5 5 5 5 5 5 5 5]\n"
     ]
    },
    {
     "name": "stderr",
     "output_type": "stream",
     "text": [
      "  7%|█████▉                                                                          | 74/1000 [00:06<01:17, 11.94it/s]\n"
     ]
    },
    {
     "name": "stdout",
     "output_type": "stream",
     "text": [
      "stop_reason stagnation_lim\n",
      "FX_best -260.72270735402947\n",
      "dimensions: 16\n",
      "start num:  12\n",
      "Xmin:      \n",
      "[-5 -5 -5 -5 -5 -5 -5 -5 -5 -5 -5 -5 -5 -5 -5 -5]\n",
      "Xmax:      \n",
      "[5 5 5 5 5 5 5 5 5 5 5 5 5 5 5 5]\n"
     ]
    },
    {
     "name": "stderr",
     "output_type": "stream",
     "text": [
      "  9%|██████▉                                                                         | 87/1000 [00:07<01:16, 11.86it/s]\n"
     ]
    },
    {
     "name": "stdout",
     "output_type": "stream",
     "text": [
      "stop_reason stagnation_lim\n",
      "FX_best -255.59101234024405\n",
      "dimensions: 16\n",
      "start num:  13\n",
      "Xmin:      \n",
      "[-5 -5 -5 -5 -5 -5 -5 -5 -5 -5 -5 -5 -5 -5 -5 -5]\n",
      "Xmax:      \n",
      "[5 5 5 5 5 5 5 5 5 5 5 5 5 5 5 5]\n"
     ]
    },
    {
     "name": "stderr",
     "output_type": "stream",
     "text": [
      "  8%|██████▎                                                                         | 79/1000 [00:06<01:17, 11.85it/s]\n"
     ]
    },
    {
     "name": "stdout",
     "output_type": "stream",
     "text": [
      "stop_reason stagnation_lim\n",
      "FX_best -256.34185302552896\n",
      "dimensions: 16\n",
      "start num:  14\n",
      "Xmin:      \n",
      "[-5 -5 -5 -5 -5 -5 -5 -5 -5 -5 -5 -5 -5 -5 -5 -5]\n",
      "Xmax:      \n",
      "[5 5 5 5 5 5 5 5 5 5 5 5 5 5 5 5]\n"
     ]
    },
    {
     "name": "stderr",
     "output_type": "stream",
     "text": [
      " 11%|████████▍                                                                      | 107/1000 [00:09<01:15, 11.85it/s]\n"
     ]
    },
    {
     "name": "stdout",
     "output_type": "stream",
     "text": [
      "stop_reason stagnation_lim\n",
      "FX_best -263.39291277964037\n",
      "dimensions: 16\n",
      "start num:  15\n",
      "Xmin:      \n",
      "[-5 -5 -5 -5 -5 -5 -5 -5 -5 -5 -5 -5 -5 -5 -5 -5]\n",
      "Xmax:      \n",
      "[5 5 5 5 5 5 5 5 5 5 5 5 5 5 5 5]\n"
     ]
    },
    {
     "name": "stderr",
     "output_type": "stream",
     "text": [
      " 11%|████████▌                                                                      | 108/1000 [00:09<01:14, 11.95it/s]\n"
     ]
    },
    {
     "name": "stdout",
     "output_type": "stream",
     "text": [
      "stop_reason stagnation_lim\n",
      "FX_best -276.5261381723964\n",
      "dimensions: 16\n",
      "start num:  16\n",
      "Xmin:      \n",
      "[-5 -5 -5 -5 -5 -5 -5 -5 -5 -5 -5 -5 -5 -5 -5 -5]\n",
      "Xmax:      \n",
      "[5 5 5 5 5 5 5 5 5 5 5 5 5 5 5 5]\n"
     ]
    },
    {
     "name": "stderr",
     "output_type": "stream",
     "text": [
      " 12%|█████████▎                                                                     | 118/1000 [00:10<01:15, 11.72it/s]\n"
     ]
    },
    {
     "name": "stdout",
     "output_type": "stream",
     "text": [
      "stop_reason stagnation_lim\n",
      "FX_best -282.3499493141626\n",
      "dimensions: 16\n",
      "start num:  17\n",
      "Xmin:      \n",
      "[-5 -5 -5 -5 -5 -5 -5 -5 -5 -5 -5 -5 -5 -5 -5 -5]\n",
      "Xmax:      \n",
      "[5 5 5 5 5 5 5 5 5 5 5 5 5 5 5 5]\n"
     ]
    },
    {
     "name": "stderr",
     "output_type": "stream",
     "text": [
      "  8%|██████                                                                          | 76/1000 [00:06<01:17, 11.88it/s]\n"
     ]
    },
    {
     "name": "stdout",
     "output_type": "stream",
     "text": [
      "stop_reason stagnation_lim\n",
      "FX_best -253.84118226948652\n",
      "dimensions: 16\n",
      "start num:  18\n",
      "Xmin:      \n",
      "[-5 -5 -5 -5 -5 -5 -5 -5 -5 -5 -5 -5 -5 -5 -5 -5]\n",
      "Xmax:      \n",
      "[5 5 5 5 5 5 5 5 5 5 5 5 5 5 5 5]\n"
     ]
    },
    {
     "name": "stderr",
     "output_type": "stream",
     "text": [
      "  6%|█████▏                                                                          | 65/1000 [00:05<01:18, 11.91it/s]\n"
     ]
    },
    {
     "name": "stdout",
     "output_type": "stream",
     "text": [
      "stop_reason stagnation_lim\n",
      "FX_best -250.30756731574849\n",
      "dimensions: 16\n",
      "start num:  19\n",
      "Xmin:      \n",
      "[-5 -5 -5 -5 -5 -5 -5 -5 -5 -5 -5 -5 -5 -5 -5 -5]\n",
      "Xmax:      \n",
      "[5 5 5 5 5 5 5 5 5 5 5 5 5 5 5 5]\n"
     ]
    },
    {
     "name": "stderr",
     "output_type": "stream",
     "text": [
      " 11%|████████▊                                                                      | 111/1000 [00:09<01:16, 11.69it/s]\n"
     ]
    },
    {
     "name": "stdout",
     "output_type": "stream",
     "text": [
      "stop_reason stagnation_lim\n",
      "FX_best -261.89694604092745\n",
      "dimensions: 16\n",
      "start num:  20\n",
      "Xmin:      \n",
      "[-5 -5 -5 -5 -5 -5 -5 -5 -5 -5 -5 -5 -5 -5 -5 -5]\n",
      "Xmax:      \n",
      "[5 5 5 5 5 5 5 5 5 5 5 5 5 5 5 5]\n"
     ]
    },
    {
     "name": "stderr",
     "output_type": "stream",
     "text": [
      " 16%|████████████▏                                                                  | 155/1000 [00:13<01:10, 11.92it/s]\n"
     ]
    },
    {
     "name": "stdout",
     "output_type": "stream",
     "text": [
      "stop_reason stagnation_lim\n",
      "FX_best -251.26084836683728\n",
      "dimensions: 16\n",
      "start num:  21\n",
      "Xmin:      \n",
      "[-5 -5 -5 -5 -5 -5 -5 -5 -5 -5 -5 -5 -5 -5 -5 -5]\n",
      "Xmax:      \n",
      "[5 5 5 5 5 5 5 5 5 5 5 5 5 5 5 5]\n"
     ]
    },
    {
     "name": "stderr",
     "output_type": "stream",
     "text": [
      " 10%|███████▊                                                                        | 97/1000 [00:08<01:15, 11.92it/s]\n"
     ]
    },
    {
     "name": "stdout",
     "output_type": "stream",
     "text": [
      "stop_reason stagnation_lim\n",
      "FX_best -240.4478413247487\n",
      "dimensions: 16\n",
      "start num:  22\n",
      "Xmin:      \n",
      "[-5 -5 -5 -5 -5 -5 -5 -5 -5 -5 -5 -5 -5 -5 -5 -5]\n",
      "Xmax:      \n",
      "[5 5 5 5 5 5 5 5 5 5 5 5 5 5 5 5]\n"
     ]
    },
    {
     "name": "stderr",
     "output_type": "stream",
     "text": [
      " 11%|████████▍                                                                      | 107/1000 [00:09<01:15, 11.87it/s]\n"
     ]
    },
    {
     "name": "stdout",
     "output_type": "stream",
     "text": [
      "stop_reason stagnation_lim\n",
      "FX_best -244.9430066206928\n",
      "dimensions: 16\n",
      "start num:  23\n",
      "Xmin:      \n",
      "[-5 -5 -5 -5 -5 -5 -5 -5 -5 -5 -5 -5 -5 -5 -5 -5]\n",
      "Xmax:      \n",
      "[5 5 5 5 5 5 5 5 5 5 5 5 5 5 5 5]\n"
     ]
    },
    {
     "name": "stderr",
     "output_type": "stream",
     "text": [
      " 12%|█████████▋                                                                     | 122/1000 [00:10<01:14, 11.72it/s]\n"
     ]
    },
    {
     "name": "stdout",
     "output_type": "stream",
     "text": [
      "stop_reason stagnation_lim\n",
      "FX_best -250.55429376437297\n",
      "dimensions: 16\n",
      "start num:  24\n",
      "Xmin:      \n",
      "[-5 -5 -5 -5 -5 -5 -5 -5 -5 -5 -5 -5 -5 -5 -5 -5]\n",
      "Xmax:      \n",
      "[5 5 5 5 5 5 5 5 5 5 5 5 5 5 5 5]\n"
     ]
    },
    {
     "name": "stderr",
     "output_type": "stream",
     "text": [
      "  7%|█████▋                                                                          | 71/1000 [00:05<01:17, 11.95it/s]\n"
     ]
    },
    {
     "name": "stdout",
     "output_type": "stream",
     "text": [
      "stop_reason stagnation_lim\n",
      "FX_best -255.75994105102853\n",
      "dimensions: 16\n",
      "start num:  25\n",
      "Xmin:      \n",
      "[-5 -5 -5 -5 -5 -5 -5 -5 -5 -5 -5 -5 -5 -5 -5 -5]\n",
      "Xmax:      \n",
      "[5 5 5 5 5 5 5 5 5 5 5 5 5 5 5 5]\n"
     ]
    },
    {
     "name": "stderr",
     "output_type": "stream",
     "text": [
      "  7%|█████▍                                                                          | 68/1000 [00:05<01:18, 11.86it/s]\n"
     ]
    },
    {
     "name": "stdout",
     "output_type": "stream",
     "text": [
      "stop_reason stagnation_lim\n",
      "FX_best -261.25157823720974\n",
      "dimensions: 16\n",
      "start num:  26\n",
      "Xmin:      \n",
      "[-5 -5 -5 -5 -5 -5 -5 -5 -5 -5 -5 -5 -5 -5 -5 -5]\n",
      "Xmax:      \n",
      "[5 5 5 5 5 5 5 5 5 5 5 5 5 5 5 5]\n"
     ]
    },
    {
     "name": "stderr",
     "output_type": "stream",
     "text": [
      " 12%|█████████▏                                                                     | 117/1000 [00:09<01:14, 11.85it/s]\n"
     ]
    },
    {
     "name": "stdout",
     "output_type": "stream",
     "text": [
      "stop_reason stagnation_lim\n",
      "FX_best -255.60020990747802\n",
      "dimensions: 16\n",
      "start num:  27\n",
      "Xmin:      \n",
      "[-5 -5 -5 -5 -5 -5 -5 -5 -5 -5 -5 -5 -5 -5 -5 -5]\n",
      "Xmax:      \n",
      "[5 5 5 5 5 5 5 5 5 5 5 5 5 5 5 5]\n"
     ]
    },
    {
     "name": "stderr",
     "output_type": "stream",
     "text": [
      " 22%|█████████████████▏                                                             | 217/1000 [00:18<01:06, 11.79it/s]\n"
     ]
    },
    {
     "name": "stdout",
     "output_type": "stream",
     "text": [
      "stop_reason stagnation_lim\n",
      "FX_best -237.4951110812296\n",
      "dimensions: 16\n",
      "start num:  28\n",
      "Xmin:      \n",
      "[-5 -5 -5 -5 -5 -5 -5 -5 -5 -5 -5 -5 -5 -5 -5 -5]\n",
      "Xmax:      \n",
      "[5 5 5 5 5 5 5 5 5 5 5 5 5 5 5 5]\n"
     ]
    },
    {
     "name": "stderr",
     "output_type": "stream",
     "text": [
      " 11%|████████▍                                                                      | 107/1000 [00:09<01:15, 11.85it/s]\n"
     ]
    },
    {
     "name": "stdout",
     "output_type": "stream",
     "text": [
      "stop_reason stagnation_lim\n",
      "FX_best -265.56650841319095\n",
      "dimensions: 16\n",
      "start num:  29\n",
      "Xmin:      \n",
      "[-5 -5 -5 -5 -5 -5 -5 -5 -5 -5 -5 -5 -5 -5 -5 -5]\n",
      "Xmax:      \n",
      "[5 5 5 5 5 5 5 5 5 5 5 5 5 5 5 5]\n"
     ]
    },
    {
     "name": "stderr",
     "output_type": "stream",
     "text": [
      " 13%|██████████▌                                                                    | 134/1000 [00:11<01:13, 11.73it/s]\n"
     ]
    },
    {
     "name": "stdout",
     "output_type": "stream",
     "text": [
      "stop_reason stagnation_lim\n",
      "FX_best -283.62595278424766\n",
      "dimensions: 16\n",
      "start num:  30\n",
      "Xmin:      \n",
      "[-5 -5 -5 -5 -5 -5 -5 -5 -5 -5 -5 -5 -5 -5 -5 -5]\n",
      "Xmax:      \n",
      "[5 5 5 5 5 5 5 5 5 5 5 5 5 5 5 5]\n"
     ]
    },
    {
     "name": "stderr",
     "output_type": "stream",
     "text": [
      " 14%|██████████▋                                                                    | 136/1000 [00:11<01:13, 11.76it/s]\n"
     ]
    },
    {
     "name": "stdout",
     "output_type": "stream",
     "text": [
      "stop_reason stagnation_lim\n",
      "FX_best -256.5788186876211\n",
      "dimensions: 16\n",
      "start num:  31\n",
      "Xmin:      \n",
      "[-5 -5 -5 -5 -5 -5 -5 -5 -5 -5 -5 -5 -5 -5 -5 -5]\n",
      "Xmax:      \n",
      "[5 5 5 5 5 5 5 5 5 5 5 5 5 5 5 5]\n"
     ]
    },
    {
     "name": "stderr",
     "output_type": "stream",
     "text": [
      "  9%|███████▍                                                                        | 93/1000 [00:07<01:15, 11.96it/s]\n"
     ]
    },
    {
     "name": "stdout",
     "output_type": "stream",
     "text": [
      "stop_reason stagnation_lim\n",
      "FX_best -265.26750618234485\n",
      "dimensions: 16\n",
      "start num:  32\n",
      "Xmin:      \n",
      "[-5 -5 -5 -5 -5 -5 -5 -5 -5 -5 -5 -5 -5 -5 -5 -5]\n",
      "Xmax:      \n",
      "[5 5 5 5 5 5 5 5 5 5 5 5 5 5 5 5]\n"
     ]
    },
    {
     "name": "stderr",
     "output_type": "stream",
     "text": [
      " 17%|█████████████▍                                                                 | 170/1000 [00:14<01:10, 11.84it/s]\n"
     ]
    },
    {
     "name": "stdout",
     "output_type": "stream",
     "text": [
      "stop_reason stagnation_lim\n",
      "FX_best -222.01656113994954\n",
      "dimensions: 16\n",
      "start num:  33\n",
      "Xmin:      \n",
      "[-5 -5 -5 -5 -5 -5 -5 -5 -5 -5 -5 -5 -5 -5 -5 -5]\n",
      "Xmax:      \n",
      "[5 5 5 5 5 5 5 5 5 5 5 5 5 5 5 5]\n"
     ]
    },
    {
     "name": "stderr",
     "output_type": "stream",
     "text": [
      " 20%|███████████████▍                                                               | 196/1000 [00:16<01:08, 11.71it/s]\n"
     ]
    },
    {
     "name": "stdout",
     "output_type": "stream",
     "text": [
      "stop_reason stagnation_lim\n",
      "FX_best -272.81427653809425\n",
      "dimensions: 16\n",
      "start num:  34\n",
      "Xmin:      \n",
      "[-5 -5 -5 -5 -5 -5 -5 -5 -5 -5 -5 -5 -5 -5 -5 -5]\n",
      "Xmax:      \n",
      "[5 5 5 5 5 5 5 5 5 5 5 5 5 5 5 5]\n"
     ]
    },
    {
     "name": "stderr",
     "output_type": "stream",
     "text": [
      " 25%|███████████████████▉                                                           | 252/1000 [00:21<01:04, 11.67it/s]\n"
     ]
    },
    {
     "name": "stdout",
     "output_type": "stream",
     "text": [
      "stop_reason stagnation_lim\n",
      "FX_best -249.1630411803779\n",
      "dimensions: 16\n",
      "start num:  35\n",
      "Xmin:      \n",
      "[-5 -5 -5 -5 -5 -5 -5 -5 -5 -5 -5 -5 -5 -5 -5 -5]\n",
      "Xmax:      \n",
      "[5 5 5 5 5 5 5 5 5 5 5 5 5 5 5 5]\n"
     ]
    },
    {
     "name": "stderr",
     "output_type": "stream",
     "text": [
      " 14%|███████████                                                                    | 140/1000 [00:11<01:13, 11.75it/s]\n"
     ]
    },
    {
     "name": "stdout",
     "output_type": "stream",
     "text": [
      "stop_reason stagnation_lim\n",
      "FX_best -280.62082813980373\n",
      "dimensions: 16\n",
      "start num:  36\n",
      "Xmin:      \n",
      "[-5 -5 -5 -5 -5 -5 -5 -5 -5 -5 -5 -5 -5 -5 -5 -5]\n",
      "Xmax:      \n",
      "[5 5 5 5 5 5 5 5 5 5 5 5 5 5 5 5]\n"
     ]
    },
    {
     "name": "stderr",
     "output_type": "stream",
     "text": [
      "  9%|███████▎                                                                        | 92/1000 [00:07<01:16, 11.93it/s]\n"
     ]
    },
    {
     "name": "stdout",
     "output_type": "stream",
     "text": [
      "stop_reason stagnation_lim\n",
      "FX_best -263.6146716556823\n",
      "dimensions: 16\n",
      "start num:  37\n",
      "Xmin:      \n",
      "[-5 -5 -5 -5 -5 -5 -5 -5 -5 -5 -5 -5 -5 -5 -5 -5]\n",
      "Xmax:      \n",
      "[5 5 5 5 5 5 5 5 5 5 5 5 5 5 5 5]\n"
     ]
    },
    {
     "name": "stderr",
     "output_type": "stream",
     "text": [
      " 34%|███████████████████████████▏                                                   | 344/1000 [00:29<00:55, 11.86it/s]\n"
     ]
    },
    {
     "name": "stdout",
     "output_type": "stream",
     "text": [
      "stop_reason stagnation_lim\n",
      "FX_best -307.8300665078764\n",
      "dimensions: 16\n",
      "start num:  38\n",
      "Xmin:      \n",
      "[-5 -5 -5 -5 -5 -5 -5 -5 -5 -5 -5 -5 -5 -5 -5 -5]\n",
      "Xmax:      \n",
      "[5 5 5 5 5 5 5 5 5 5 5 5 5 5 5 5]\n"
     ]
    },
    {
     "name": "stderr",
     "output_type": "stream",
     "text": [
      " 13%|██████████▏                                                                    | 129/1000 [00:10<01:13, 11.86it/s]\n"
     ]
    },
    {
     "name": "stdout",
     "output_type": "stream",
     "text": [
      "stop_reason stagnation_lim\n",
      "FX_best -247.65290301445907\n",
      "dimensions: 16\n",
      "start num:  39\n",
      "Xmin:      \n",
      "[-5 -5 -5 -5 -5 -5 -5 -5 -5 -5 -5 -5 -5 -5 -5 -5]\n",
      "Xmax:      \n",
      "[5 5 5 5 5 5 5 5 5 5 5 5 5 5 5 5]\n"
     ]
    },
    {
     "name": "stderr",
     "output_type": "stream",
     "text": [
      " 12%|█████████                                                                      | 115/1000 [00:09<01:14, 11.85it/s]\n"
     ]
    },
    {
     "name": "stdout",
     "output_type": "stream",
     "text": [
      "stop_reason stagnation_lim\n",
      "FX_best -264.59782528793096\n",
      "dimensions: 16\n",
      "start num:  40\n",
      "Xmin:      \n",
      "[-5 -5 -5 -5 -5 -5 -5 -5 -5 -5 -5 -5 -5 -5 -5 -5]\n",
      "Xmax:      \n",
      "[5 5 5 5 5 5 5 5 5 5 5 5 5 5 5 5]\n"
     ]
    },
    {
     "name": "stderr",
     "output_type": "stream",
     "text": [
      "  8%|██████                                                                          | 75/1000 [00:06<01:17, 11.91it/s]\n"
     ]
    },
    {
     "name": "stdout",
     "output_type": "stream",
     "text": [
      "stop_reason stagnation_lim\n",
      "FX_best -265.3073614634471\n",
      "dimensions: 16\n",
      "start num:  41\n",
      "Xmin:      \n",
      "[-5 -5 -5 -5 -5 -5 -5 -5 -5 -5 -5 -5 -5 -5 -5 -5]\n",
      "Xmax:      \n",
      "[5 5 5 5 5 5 5 5 5 5 5 5 5 5 5 5]\n"
     ]
    },
    {
     "name": "stderr",
     "output_type": "stream",
     "text": [
      "  9%|██████▉                                                                         | 87/1000 [00:07<01:16, 11.94it/s]\n"
     ]
    },
    {
     "name": "stdout",
     "output_type": "stream",
     "text": [
      "stop_reason stagnation_lim\n",
      "FX_best -272.25908671872014\n",
      "dimensions: 16\n",
      "start num:  42\n",
      "Xmin:      \n",
      "[-5 -5 -5 -5 -5 -5 -5 -5 -5 -5 -5 -5 -5 -5 -5 -5]\n",
      "Xmax:      \n",
      "[5 5 5 5 5 5 5 5 5 5 5 5 5 5 5 5]\n"
     ]
    },
    {
     "name": "stderr",
     "output_type": "stream",
     "text": [
      " 13%|██████████▌                                                                    | 133/1000 [00:11<01:13, 11.86it/s]\n"
     ]
    },
    {
     "name": "stdout",
     "output_type": "stream",
     "text": [
      "stop_reason stagnation_lim\n",
      "FX_best -278.4683276896478\n",
      "dimensions: 16\n",
      "start num:  43\n",
      "Xmin:      \n",
      "[-5 -5 -5 -5 -5 -5 -5 -5 -5 -5 -5 -5 -5 -5 -5 -5]\n",
      "Xmax:      \n",
      "[5 5 5 5 5 5 5 5 5 5 5 5 5 5 5 5]\n"
     ]
    },
    {
     "name": "stderr",
     "output_type": "stream",
     "text": [
      " 12%|█████████▌                                                                     | 121/1000 [00:10<01:14, 11.87it/s]\n"
     ]
    },
    {
     "name": "stdout",
     "output_type": "stream",
     "text": [
      "stop_reason stagnation_lim\n",
      "FX_best -256.1761780032739\n",
      "dimensions: 16\n",
      "start num:  44\n",
      "Xmin:      \n",
      "[-5 -5 -5 -5 -5 -5 -5 -5 -5 -5 -5 -5 -5 -5 -5 -5]\n",
      "Xmax:      \n",
      "[5 5 5 5 5 5 5 5 5 5 5 5 5 5 5 5]\n"
     ]
    },
    {
     "name": "stderr",
     "output_type": "stream",
     "text": [
      " 16%|████████████▊                                                                  | 162/1000 [00:13<01:10, 11.83it/s]\n"
     ]
    },
    {
     "name": "stdout",
     "output_type": "stream",
     "text": [
      "stop_reason stagnation_lim\n",
      "FX_best -249.58041898634445\n",
      "dimensions: 16\n",
      "start num:  45\n",
      "Xmin:      \n",
      "[-5 -5 -5 -5 -5 -5 -5 -5 -5 -5 -5 -5 -5 -5 -5 -5]\n",
      "Xmax:      \n",
      "[5 5 5 5 5 5 5 5 5 5 5 5 5 5 5 5]\n"
     ]
    },
    {
     "name": "stderr",
     "output_type": "stream",
     "text": [
      " 14%|███████████▍                                                                   | 144/1000 [00:12<01:13, 11.57it/s]\n"
     ]
    },
    {
     "name": "stdout",
     "output_type": "stream",
     "text": [
      "stop_reason stagnation_lim\n",
      "FX_best -272.595427766719\n",
      "dimensions: 16\n",
      "start num:  46\n",
      "Xmin:      \n",
      "[-5 -5 -5 -5 -5 -5 -5 -5 -5 -5 -5 -5 -5 -5 -5 -5]\n",
      "Xmax:      \n",
      "[5 5 5 5 5 5 5 5 5 5 5 5 5 5 5 5]\n"
     ]
    },
    {
     "name": "stderr",
     "output_type": "stream",
     "text": [
      " 11%|████████▌                                                                      | 109/1000 [00:09<01:14, 11.95it/s]\n"
     ]
    },
    {
     "name": "stdout",
     "output_type": "stream",
     "text": [
      "stop_reason stagnation_lim\n",
      "FX_best -277.20391767409217\n",
      "dimensions: 16\n",
      "start num:  47\n",
      "Xmin:      \n",
      "[-5 -5 -5 -5 -5 -5 -5 -5 -5 -5 -5 -5 -5 -5 -5 -5]\n",
      "Xmax:      \n",
      "[5 5 5 5 5 5 5 5 5 5 5 5 5 5 5 5]\n"
     ]
    },
    {
     "name": "stderr",
     "output_type": "stream",
     "text": [
      " 16%|█████████████                                                                  | 165/1000 [00:13<01:10, 11.79it/s]\n"
     ]
    },
    {
     "name": "stdout",
     "output_type": "stream",
     "text": [
      "stop_reason stagnation_lim\n",
      "FX_best -258.1489870730796\n",
      "dimensions: 16\n",
      "start num:  48\n",
      "Xmin:      \n",
      "[-5 -5 -5 -5 -5 -5 -5 -5 -5 -5 -5 -5 -5 -5 -5 -5]\n",
      "Xmax:      \n",
      "[5 5 5 5 5 5 5 5 5 5 5 5 5 5 5 5]\n"
     ]
    },
    {
     "name": "stderr",
     "output_type": "stream",
     "text": [
      " 13%|██████████▍                                                                    | 132/1000 [00:11<01:13, 11.84it/s]\n"
     ]
    },
    {
     "name": "stdout",
     "output_type": "stream",
     "text": [
      "stop_reason stagnation_lim\n",
      "FX_best -278.78559982620146\n",
      "dimensions: 16\n",
      "start num:  49\n",
      "Xmin:      \n",
      "[-5 -5 -5 -5 -5 -5 -5 -5 -5 -5 -5 -5 -5 -5 -5 -5]\n",
      "Xmax:      \n",
      "[5 5 5 5 5 5 5 5 5 5 5 5 5 5 5 5]\n"
     ]
    },
    {
     "name": "stderr",
     "output_type": "stream",
     "text": [
      " 20%|███████████████▋                                                               | 199/1000 [00:16<01:07, 11.85it/s]\n"
     ]
    },
    {
     "name": "stdout",
     "output_type": "stream",
     "text": [
      "stop_reason stagnation_lim\n",
      "FX_best -238.63643734285898\n",
      "dimensions: 16\n",
      "start num:  50\n",
      "Xmin:      \n",
      "[-5 -5 -5 -5 -5 -5 -5 -5 -5 -5 -5 -5 -5 -5 -5 -5]\n",
      "Xmax:      \n",
      "[5 5 5 5 5 5 5 5 5 5 5 5 5 5 5 5]\n"
     ]
    },
    {
     "name": "stderr",
     "output_type": "stream",
     "text": [
      "  8%|██████▋                                                                         | 83/1000 [00:07<01:17, 11.83it/s]\n"
     ]
    },
    {
     "name": "stdout",
     "output_type": "stream",
     "text": [
      "stop_reason stagnation_lim\n",
      "FX_best -255.95770614227916\n",
      "dimensions: 16\n",
      "start num:  51\n",
      "Xmin:      \n",
      "[-5 -5 -5 -5 -5 -5 -5 -5 -5 -5 -5 -5 -5 -5 -5 -5]\n",
      "Xmax:      \n",
      "[5 5 5 5 5 5 5 5 5 5 5 5 5 5 5 5]\n"
     ]
    },
    {
     "name": "stderr",
     "output_type": "stream",
     "text": [
      "  7%|█████▊                                                                          | 72/1000 [00:06<01:18, 11.84it/s]\n"
     ]
    },
    {
     "name": "stdout",
     "output_type": "stream",
     "text": [
      "stop_reason stagnation_lim\n",
      "FX_best -259.1673258124955\n",
      "dimensions: 16\n",
      "start num:  52\n",
      "Xmin:      \n",
      "[-5 -5 -5 -5 -5 -5 -5 -5 -5 -5 -5 -5 -5 -5 -5 -5]\n",
      "Xmax:      \n",
      "[5 5 5 5 5 5 5 5 5 5 5 5 5 5 5 5]\n"
     ]
    },
    {
     "name": "stderr",
     "output_type": "stream",
     "text": [
      "  7%|█████▎                                                                          | 67/1000 [00:05<01:18, 11.85it/s]\n"
     ]
    },
    {
     "name": "stdout",
     "output_type": "stream",
     "text": [
      "stop_reason stagnation_lim\n",
      "FX_best -258.8384183416867\n",
      "dimensions: 16\n",
      "start num:  53\n",
      "Xmin:      \n",
      "[-5 -5 -5 -5 -5 -5 -5 -5 -5 -5 -5 -5 -5 -5 -5 -5]\n",
      "Xmax:      \n",
      "[5 5 5 5 5 5 5 5 5 5 5 5 5 5 5 5]\n"
     ]
    },
    {
     "name": "stderr",
     "output_type": "stream",
     "text": [
      " 16%|████████████▏                                                                  | 155/1000 [00:13<01:11, 11.87it/s]\n"
     ]
    },
    {
     "name": "stdout",
     "output_type": "stream",
     "text": [
      "stop_reason stagnation_lim\n",
      "FX_best -258.7375158172406\n",
      "dimensions: 16\n",
      "start num:  54\n",
      "Xmin:      \n",
      "[-5 -5 -5 -5 -5 -5 -5 -5 -5 -5 -5 -5 -5 -5 -5 -5]\n",
      "Xmax:      \n",
      "[5 5 5 5 5 5 5 5 5 5 5 5 5 5 5 5]\n"
     ]
    },
    {
     "name": "stderr",
     "output_type": "stream",
     "text": [
      "  7%|█████▉                                                                          | 74/1000 [00:06<01:17, 11.93it/s]\n"
     ]
    },
    {
     "name": "stdout",
     "output_type": "stream",
     "text": [
      "stop_reason stagnation_lim\n",
      "FX_best -260.94695253685506\n",
      "dimensions: 16\n",
      "start num:  55\n",
      "Xmin:      \n",
      "[-5 -5 -5 -5 -5 -5 -5 -5 -5 -5 -5 -5 -5 -5 -5 -5]\n",
      "Xmax:      \n",
      "[5 5 5 5 5 5 5 5 5 5 5 5 5 5 5 5]\n"
     ]
    },
    {
     "name": "stderr",
     "output_type": "stream",
     "text": [
      " 11%|████████▊                                                                      | 111/1000 [00:09<01:15, 11.85it/s]\n"
     ]
    },
    {
     "name": "stdout",
     "output_type": "stream",
     "text": [
      "stop_reason stagnation_lim\n",
      "FX_best -273.6290810720059\n",
      "dimensions: 16\n",
      "start num:  56\n",
      "Xmin:      \n",
      "[-5 -5 -5 -5 -5 -5 -5 -5 -5 -5 -5 -5 -5 -5 -5 -5]\n",
      "Xmax:      \n",
      "[5 5 5 5 5 5 5 5 5 5 5 5 5 5 5 5]\n"
     ]
    },
    {
     "name": "stderr",
     "output_type": "stream",
     "text": [
      " 15%|████████████▏                                                                  | 154/1000 [00:12<01:11, 11.90it/s]\n"
     ]
    },
    {
     "name": "stdout",
     "output_type": "stream",
     "text": [
      "stop_reason stagnation_lim\n",
      "FX_best -269.89217986951746\n",
      "dimensions: 16\n",
      "start num:  57\n",
      "Xmin:      \n",
      "[-5 -5 -5 -5 -5 -5 -5 -5 -5 -5 -5 -5 -5 -5 -5 -5]\n",
      "Xmax:      \n",
      "[5 5 5 5 5 5 5 5 5 5 5 5 5 5 5 5]\n"
     ]
    },
    {
     "name": "stderr",
     "output_type": "stream",
     "text": [
      " 15%|███████████▋                                                                   | 148/1000 [00:12<01:11, 11.89it/s]\n"
     ]
    },
    {
     "name": "stdout",
     "output_type": "stream",
     "text": [
      "stop_reason stagnation_lim\n",
      "FX_best -287.71988450894514\n",
      "dimensions: 16\n",
      "start num:  58\n",
      "Xmin:      \n",
      "[-5 -5 -5 -5 -5 -5 -5 -5 -5 -5 -5 -5 -5 -5 -5 -5]\n",
      "Xmax:      \n",
      "[5 5 5 5 5 5 5 5 5 5 5 5 5 5 5 5]\n"
     ]
    },
    {
     "name": "stderr",
     "output_type": "stream",
     "text": [
      " 10%|████████▏                                                                      | 103/1000 [00:08<01:15, 11.87it/s]\n"
     ]
    },
    {
     "name": "stdout",
     "output_type": "stream",
     "text": [
      "stop_reason stagnation_lim\n",
      "FX_best -267.91685949501584\n",
      "dimensions: 16\n",
      "start num:  59\n",
      "Xmin:      \n",
      "[-5 -5 -5 -5 -5 -5 -5 -5 -5 -5 -5 -5 -5 -5 -5 -5]\n",
      "Xmax:      \n",
      "[5 5 5 5 5 5 5 5 5 5 5 5 5 5 5 5]\n"
     ]
    },
    {
     "name": "stderr",
     "output_type": "stream",
     "text": [
      "  6%|████▉                                                                           | 62/1000 [00:05<01:19, 11.86it/s]\n"
     ]
    },
    {
     "name": "stdout",
     "output_type": "stream",
     "text": [
      "stop_reason stagnation_lim\n",
      "FX_best -240.30758202810546\n",
      "dimensions: 16\n",
      "start num:  60\n",
      "Xmin:      \n",
      "[-5 -5 -5 -5 -5 -5 -5 -5 -5 -5 -5 -5 -5 -5 -5 -5]\n",
      "Xmax:      \n",
      "[5 5 5 5 5 5 5 5 5 5 5 5 5 5 5 5]\n"
     ]
    },
    {
     "name": "stderr",
     "output_type": "stream",
     "text": [
      " 14%|██████████▉                                                                    | 139/1000 [00:11<01:13, 11.76it/s]\n"
     ]
    },
    {
     "name": "stdout",
     "output_type": "stream",
     "text": [
      "stop_reason stagnation_lim\n",
      "FX_best -266.49317564176323\n",
      "dimensions: 16\n",
      "start num:  61\n",
      "Xmin:      \n",
      "[-5 -5 -5 -5 -5 -5 -5 -5 -5 -5 -5 -5 -5 -5 -5 -5]\n",
      "Xmax:      \n",
      "[5 5 5 5 5 5 5 5 5 5 5 5 5 5 5 5]\n"
     ]
    },
    {
     "name": "stderr",
     "output_type": "stream",
     "text": [
      " 16%|████████████▊                                                                  | 162/1000 [00:13<01:11, 11.76it/s]\n"
     ]
    },
    {
     "name": "stdout",
     "output_type": "stream",
     "text": [
      "stop_reason stagnation_lim\n",
      "FX_best -246.75206686505823\n",
      "dimensions: 16\n",
      "start num:  62\n",
      "Xmin:      \n",
      "[-5 -5 -5 -5 -5 -5 -5 -5 -5 -5 -5 -5 -5 -5 -5 -5]\n",
      "Xmax:      \n",
      "[5 5 5 5 5 5 5 5 5 5 5 5 5 5 5 5]\n"
     ]
    },
    {
     "name": "stderr",
     "output_type": "stream",
     "text": [
      "  6%|████▋                                                                           | 59/1000 [00:04<01:18, 11.95it/s]\n"
     ]
    },
    {
     "name": "stdout",
     "output_type": "stream",
     "text": [
      "stop_reason stagnation_lim\n",
      "FX_best -249.52571123554532\n",
      "dimensions: 16\n",
      "start num:  63\n",
      "Xmin:      \n",
      "[-5 -5 -5 -5 -5 -5 -5 -5 -5 -5 -5 -5 -5 -5 -5 -5]\n",
      "Xmax:      \n",
      "[5 5 5 5 5 5 5 5 5 5 5 5 5 5 5 5]\n"
     ]
    },
    {
     "name": "stderr",
     "output_type": "stream",
     "text": [
      " 12%|█████████▎                                                                     | 118/1000 [00:09<01:14, 11.87it/s]\n"
     ]
    },
    {
     "name": "stdout",
     "output_type": "stream",
     "text": [
      "stop_reason stagnation_lim\n",
      "FX_best -239.11442189595888\n",
      "dimensions: 16\n",
      "start num:  64\n",
      "Xmin:      \n",
      "[-5 -5 -5 -5 -5 -5 -5 -5 -5 -5 -5 -5 -5 -5 -5 -5]\n",
      "Xmax:      \n",
      "[5 5 5 5 5 5 5 5 5 5 5 5 5 5 5 5]\n"
     ]
    },
    {
     "name": "stderr",
     "output_type": "stream",
     "text": [
      " 11%|████████▌                                                                      | 108/1000 [00:09<01:15, 11.79it/s]\n"
     ]
    },
    {
     "name": "stdout",
     "output_type": "stream",
     "text": [
      "stop_reason stagnation_lim\n",
      "FX_best -264.9342707735682\n",
      "dimensions: 16\n",
      "start num:  65\n",
      "Xmin:      \n",
      "[-5 -5 -5 -5 -5 -5 -5 -5 -5 -5 -5 -5 -5 -5 -5 -5]\n",
      "Xmax:      \n",
      "[5 5 5 5 5 5 5 5 5 5 5 5 5 5 5 5]\n"
     ]
    },
    {
     "name": "stderr",
     "output_type": "stream",
     "text": [
      " 24%|██████████████████▉                                                            | 239/1000 [00:20<01:04, 11.73it/s]\n"
     ]
    },
    {
     "name": "stdout",
     "output_type": "stream",
     "text": [
      "stop_reason stagnation_lim\n",
      "FX_best -243.4472647995225\n",
      "dimensions: 16\n",
      "start num:  66\n",
      "Xmin:      \n",
      "[-5 -5 -5 -5 -5 -5 -5 -5 -5 -5 -5 -5 -5 -5 -5 -5]\n",
      "Xmax:      \n",
      "[5 5 5 5 5 5 5 5 5 5 5 5 5 5 5 5]\n"
     ]
    },
    {
     "name": "stderr",
     "output_type": "stream",
     "text": [
      " 10%|███████▉                                                                       | 100/1000 [00:08<01:15, 11.86it/s]\n"
     ]
    },
    {
     "name": "stdout",
     "output_type": "stream",
     "text": [
      "stop_reason stagnation_lim\n",
      "FX_best -258.7384059512383\n",
      "dimensions: 16\n",
      "start num:  67\n",
      "Xmin:      \n",
      "[-5 -5 -5 -5 -5 -5 -5 -5 -5 -5 -5 -5 -5 -5 -5 -5]\n",
      "Xmax:      \n",
      "[5 5 5 5 5 5 5 5 5 5 5 5 5 5 5 5]\n"
     ]
    },
    {
     "name": "stderr",
     "output_type": "stream",
     "text": [
      "  9%|███████▌                                                                        | 94/1000 [00:07<01:15, 11.98it/s]\n"
     ]
    },
    {
     "name": "stdout",
     "output_type": "stream",
     "text": [
      "stop_reason stagnation_lim\n",
      "FX_best -262.28383225770557\n",
      "dimensions: 16\n",
      "start num:  68\n",
      "Xmin:      \n",
      "[-5 -5 -5 -5 -5 -5 -5 -5 -5 -5 -5 -5 -5 -5 -5 -5]\n",
      "Xmax:      \n",
      "[5 5 5 5 5 5 5 5 5 5 5 5 5 5 5 5]\n"
     ]
    },
    {
     "name": "stderr",
     "output_type": "stream",
     "text": [
      "  9%|███████▌                                                                        | 94/1000 [00:07<01:16, 11.79it/s]\n"
     ]
    },
    {
     "name": "stdout",
     "output_type": "stream",
     "text": [
      "stop_reason stagnation_lim\n",
      "FX_best -263.56711938792336\n",
      "dimensions: 16\n",
      "start num:  69\n",
      "Xmin:      \n",
      "[-5 -5 -5 -5 -5 -5 -5 -5 -5 -5 -5 -5 -5 -5 -5 -5]\n",
      "Xmax:      \n",
      "[5 5 5 5 5 5 5 5 5 5 5 5 5 5 5 5]\n"
     ]
    },
    {
     "name": "stderr",
     "output_type": "stream",
     "text": [
      "  8%|██████▍                                                                         | 80/1000 [00:06<01:17, 11.93it/s]\n"
     ]
    },
    {
     "name": "stdout",
     "output_type": "stream",
     "text": [
      "stop_reason stagnation_lim\n",
      "FX_best -272.58881756359943\n",
      "dimensions: 16\n",
      "start num:  70\n",
      "Xmin:      \n",
      "[-5 -5 -5 -5 -5 -5 -5 -5 -5 -5 -5 -5 -5 -5 -5 -5]\n",
      "Xmax:      \n",
      "[5 5 5 5 5 5 5 5 5 5 5 5 5 5 5 5]\n"
     ]
    },
    {
     "name": "stderr",
     "output_type": "stream",
     "text": [
      "  8%|██████                                                                          | 75/1000 [00:06<01:18, 11.79it/s]\n"
     ]
    },
    {
     "name": "stdout",
     "output_type": "stream",
     "text": [
      "stop_reason stagnation_lim\n",
      "FX_best -251.00738690975015\n",
      "dimensions: 16\n",
      "start num:  71\n",
      "Xmin:      \n",
      "[-5 -5 -5 -5 -5 -5 -5 -5 -5 -5 -5 -5 -5 -5 -5 -5]\n",
      "Xmax:      \n",
      "[5 5 5 5 5 5 5 5 5 5 5 5 5 5 5 5]\n"
     ]
    },
    {
     "name": "stderr",
     "output_type": "stream",
     "text": [
      " 16%|████████████▎                                                                  | 156/1000 [00:13<01:11, 11.83it/s]\n"
     ]
    },
    {
     "name": "stdout",
     "output_type": "stream",
     "text": [
      "stop_reason stagnation_lim\n",
      "FX_best -235.34486112659988\n",
      "dimensions: 16\n",
      "start num:  72\n",
      "Xmin:      \n",
      "[-5 -5 -5 -5 -5 -5 -5 -5 -5 -5 -5 -5 -5 -5 -5 -5]\n",
      "Xmax:      \n",
      "[5 5 5 5 5 5 5 5 5 5 5 5 5 5 5 5]\n"
     ]
    },
    {
     "name": "stderr",
     "output_type": "stream",
     "text": [
      " 10%|████████▏                                                                      | 103/1000 [00:08<01:15, 11.87it/s]\n"
     ]
    },
    {
     "name": "stdout",
     "output_type": "stream",
     "text": [
      "stop_reason stagnation_lim\n",
      "FX_best -273.8461444996831\n",
      "dimensions: 16\n",
      "start num:  73\n",
      "Xmin:      \n",
      "[-5 -5 -5 -5 -5 -5 -5 -5 -5 -5 -5 -5 -5 -5 -5 -5]\n",
      "Xmax:      \n",
      "[5 5 5 5 5 5 5 5 5 5 5 5 5 5 5 5]\n"
     ]
    },
    {
     "name": "stderr",
     "output_type": "stream",
     "text": [
      "  9%|███████▌                                                                        | 94/1000 [00:07<01:16, 11.84it/s]\n"
     ]
    },
    {
     "name": "stdout",
     "output_type": "stream",
     "text": [
      "stop_reason stagnation_lim\n",
      "FX_best -251.66125360831148\n",
      "dimensions: 16\n",
      "start num:  74\n",
      "Xmin:      \n",
      "[-5 -5 -5 -5 -5 -5 -5 -5 -5 -5 -5 -5 -5 -5 -5 -5]\n",
      "Xmax:      \n",
      "[5 5 5 5 5 5 5 5 5 5 5 5 5 5 5 5]\n"
     ]
    },
    {
     "name": "stderr",
     "output_type": "stream",
     "text": [
      "  7%|█████▌                                                                          | 69/1000 [00:05<01:18, 11.93it/s]\n"
     ]
    },
    {
     "name": "stdout",
     "output_type": "stream",
     "text": [
      "stop_reason stagnation_lim\n",
      "FX_best -252.23690991742228\n",
      "dimensions: 16\n",
      "start num:  75\n",
      "Xmin:      \n",
      "[-5 -5 -5 -5 -5 -5 -5 -5 -5 -5 -5 -5 -5 -5 -5 -5]\n",
      "Xmax:      \n",
      "[5 5 5 5 5 5 5 5 5 5 5 5 5 5 5 5]\n"
     ]
    },
    {
     "name": "stderr",
     "output_type": "stream",
     "text": [
      " 20%|███████████████▌                                                               | 197/1000 [00:16<01:08, 11.77it/s]\n"
     ]
    },
    {
     "name": "stdout",
     "output_type": "stream",
     "text": [
      "stop_reason stagnation_lim\n",
      "FX_best -257.91569901477766\n",
      "dimensions: 16\n",
      "start num:  76\n",
      "Xmin:      \n",
      "[-5 -5 -5 -5 -5 -5 -5 -5 -5 -5 -5 -5 -5 -5 -5 -5]\n",
      "Xmax:      \n",
      "[5 5 5 5 5 5 5 5 5 5 5 5 5 5 5 5]\n"
     ]
    },
    {
     "name": "stderr",
     "output_type": "stream",
     "text": [
      " 13%|██████████▏                                                                    | 129/1000 [00:10<01:13, 11.81it/s]\n"
     ]
    },
    {
     "name": "stdout",
     "output_type": "stream",
     "text": [
      "stop_reason stagnation_lim\n",
      "FX_best -266.2763092127666\n",
      "dimensions: 16\n",
      "start num:  77\n",
      "Xmin:      \n",
      "[-5 -5 -5 -5 -5 -5 -5 -5 -5 -5 -5 -5 -5 -5 -5 -5]\n",
      "Xmax:      \n",
      "[5 5 5 5 5 5 5 5 5 5 5 5 5 5 5 5]\n"
     ]
    },
    {
     "name": "stderr",
     "output_type": "stream",
     "text": [
      " 13%|█████████▉                                                                     | 126/1000 [00:10<01:14, 11.78it/s]\n"
     ]
    },
    {
     "name": "stdout",
     "output_type": "stream",
     "text": [
      "stop_reason stagnation_lim\n",
      "FX_best -240.9604863799156\n",
      "dimensions: 16\n",
      "start num:  78\n",
      "Xmin:      \n",
      "[-5 -5 -5 -5 -5 -5 -5 -5 -5 -5 -5 -5 -5 -5 -5 -5]\n",
      "Xmax:      \n",
      "[5 5 5 5 5 5 5 5 5 5 5 5 5 5 5 5]\n"
     ]
    },
    {
     "name": "stderr",
     "output_type": "stream",
     "text": [
      " 12%|█████████▏                                                                     | 116/1000 [00:09<01:14, 11.83it/s]\n"
     ]
    },
    {
     "name": "stdout",
     "output_type": "stream",
     "text": [
      "stop_reason stagnation_lim\n",
      "FX_best -262.4377785502179\n",
      "dimensions: 16\n",
      "start num:  79\n",
      "Xmin:      \n",
      "[-5 -5 -5 -5 -5 -5 -5 -5 -5 -5 -5 -5 -5 -5 -5 -5]\n",
      "Xmax:      \n",
      "[5 5 5 5 5 5 5 5 5 5 5 5 5 5 5 5]\n"
     ]
    },
    {
     "name": "stderr",
     "output_type": "stream",
     "text": [
      "  7%|█████▊                                                                          | 72/1000 [00:06<01:17, 11.96it/s]\n"
     ]
    },
    {
     "name": "stdout",
     "output_type": "stream",
     "text": [
      "stop_reason stagnation_lim\n",
      "FX_best -265.0679917176166\n",
      "dimensions: 16\n",
      "start num:  80\n",
      "Xmin:      \n",
      "[-5 -5 -5 -5 -5 -5 -5 -5 -5 -5 -5 -5 -5 -5 -5 -5]\n",
      "Xmax:      \n",
      "[5 5 5 5 5 5 5 5 5 5 5 5 5 5 5 5]\n"
     ]
    },
    {
     "name": "stderr",
     "output_type": "stream",
     "text": [
      " 13%|██████████                                                                     | 127/1000 [00:10<01:13, 11.87it/s]\n"
     ]
    },
    {
     "name": "stdout",
     "output_type": "stream",
     "text": [
      "stop_reason stagnation_lim\n",
      "FX_best -265.2251918640461\n",
      "dimensions: 16\n",
      "start num:  81\n",
      "Xmin:      \n",
      "[-5 -5 -5 -5 -5 -5 -5 -5 -5 -5 -5 -5 -5 -5 -5 -5]\n",
      "Xmax:      \n",
      "[5 5 5 5 5 5 5 5 5 5 5 5 5 5 5 5]\n"
     ]
    },
    {
     "name": "stderr",
     "output_type": "stream",
     "text": [
      "  7%|█████▉                                                                          | 74/1000 [00:06<01:17, 11.96it/s]\n"
     ]
    },
    {
     "name": "stdout",
     "output_type": "stream",
     "text": [
      "stop_reason stagnation_lim\n",
      "FX_best -263.29300260313704\n",
      "dimensions: 16\n",
      "start num:  82\n",
      "Xmin:      \n",
      "[-5 -5 -5 -5 -5 -5 -5 -5 -5 -5 -5 -5 -5 -5 -5 -5]\n",
      "Xmax:      \n",
      "[5 5 5 5 5 5 5 5 5 5 5 5 5 5 5 5]\n"
     ]
    },
    {
     "name": "stderr",
     "output_type": "stream",
     "text": [
      " 10%|███████▉                                                                       | 100/1000 [00:08<01:16, 11.82it/s]\n"
     ]
    },
    {
     "name": "stdout",
     "output_type": "stream",
     "text": [
      "stop_reason stagnation_lim\n",
      "FX_best -292.4471049542359\n",
      "dimensions: 16\n",
      "start num:  83\n",
      "Xmin:      \n",
      "[-5 -5 -5 -5 -5 -5 -5 -5 -5 -5 -5 -5 -5 -5 -5 -5]\n",
      "Xmax:      \n",
      "[5 5 5 5 5 5 5 5 5 5 5 5 5 5 5 5]\n"
     ]
    },
    {
     "name": "stderr",
     "output_type": "stream",
     "text": [
      "  8%|██████▊                                                                         | 85/1000 [00:07<01:16, 11.90it/s]\n"
     ]
    },
    {
     "name": "stdout",
     "output_type": "stream",
     "text": [
      "stop_reason stagnation_lim\n",
      "FX_best -248.5844954722832\n",
      "dimensions: 16\n",
      "start num:  84\n",
      "Xmin:      \n",
      "[-5 -5 -5 -5 -5 -5 -5 -5 -5 -5 -5 -5 -5 -5 -5 -5]\n",
      "Xmax:      \n",
      "[5 5 5 5 5 5 5 5 5 5 5 5 5 5 5 5]\n"
     ]
    },
    {
     "name": "stderr",
     "output_type": "stream",
     "text": [
      " 11%|████████▊                                                                      | 111/1000 [00:09<01:15, 11.85it/s]\n"
     ]
    },
    {
     "name": "stdout",
     "output_type": "stream",
     "text": [
      "stop_reason stagnation_lim\n",
      "FX_best -269.35712217491954\n",
      "dimensions: 16\n",
      "start num:  85\n",
      "Xmin:      \n",
      "[-5 -5 -5 -5 -5 -5 -5 -5 -5 -5 -5 -5 -5 -5 -5 -5]\n",
      "Xmax:      \n",
      "[5 5 5 5 5 5 5 5 5 5 5 5 5 5 5 5]\n"
     ]
    },
    {
     "name": "stderr",
     "output_type": "stream",
     "text": [
      " 13%|██████████▌                                                                    | 134/1000 [00:11<01:13, 11.84it/s]\n"
     ]
    },
    {
     "name": "stdout",
     "output_type": "stream",
     "text": [
      "stop_reason stagnation_lim\n",
      "FX_best -272.1333610057925\n",
      "dimensions: 16\n",
      "start num:  86\n",
      "Xmin:      \n",
      "[-5 -5 -5 -5 -5 -5 -5 -5 -5 -5 -5 -5 -5 -5 -5 -5]\n",
      "Xmax:      \n",
      "[5 5 5 5 5 5 5 5 5 5 5 5 5 5 5 5]\n"
     ]
    },
    {
     "name": "stderr",
     "output_type": "stream",
     "text": [
      "  8%|██████▏                                                                         | 77/1000 [00:06<01:18, 11.79it/s]\n"
     ]
    },
    {
     "name": "stdout",
     "output_type": "stream",
     "text": [
      "stop_reason stagnation_lim\n",
      "FX_best -260.173265995936\n",
      "dimensions: 16\n",
      "start num:  87\n",
      "Xmin:      \n",
      "[-5 -5 -5 -5 -5 -5 -5 -5 -5 -5 -5 -5 -5 -5 -5 -5]\n",
      "Xmax:      \n",
      "[5 5 5 5 5 5 5 5 5 5 5 5 5 5 5 5]\n"
     ]
    },
    {
     "name": "stderr",
     "output_type": "stream",
     "text": [
      " 11%|████████▋                                                                      | 110/1000 [00:09<01:16, 11.69it/s]\n"
     ]
    },
    {
     "name": "stdout",
     "output_type": "stream",
     "text": [
      "stop_reason stagnation_lim\n",
      "FX_best -264.404908429088\n",
      "dimensions: 16\n",
      "start num:  88\n",
      "Xmin:      \n",
      "[-5 -5 -5 -5 -5 -5 -5 -5 -5 -5 -5 -5 -5 -5 -5 -5]\n",
      "Xmax:      \n",
      "[5 5 5 5 5 5 5 5 5 5 5 5 5 5 5 5]\n"
     ]
    },
    {
     "name": "stderr",
     "output_type": "stream",
     "text": [
      "  8%|██████▌                                                                         | 82/1000 [00:06<01:17, 11.85it/s]\n"
     ]
    },
    {
     "name": "stdout",
     "output_type": "stream",
     "text": [
      "stop_reason stagnation_lim\n",
      "FX_best -240.3912414045466\n",
      "dimensions: 16\n",
      "start num:  89\n",
      "Xmin:      \n",
      "[-5 -5 -5 -5 -5 -5 -5 -5 -5 -5 -5 -5 -5 -5 -5 -5]\n",
      "Xmax:      \n",
      "[5 5 5 5 5 5 5 5 5 5 5 5 5 5 5 5]\n"
     ]
    },
    {
     "name": "stderr",
     "output_type": "stream",
     "text": [
      " 10%|████████▎                                                                      | 105/1000 [00:08<01:15, 11.89it/s]\n"
     ]
    },
    {
     "name": "stdout",
     "output_type": "stream",
     "text": [
      "stop_reason stagnation_lim\n",
      "FX_best -248.37196562715837\n",
      "dimensions: 16\n",
      "start num:  90\n",
      "Xmin:      \n",
      "[-5 -5 -5 -5 -5 -5 -5 -5 -5 -5 -5 -5 -5 -5 -5 -5]\n",
      "Xmax:      \n",
      "[5 5 5 5 5 5 5 5 5 5 5 5 5 5 5 5]\n"
     ]
    },
    {
     "name": "stderr",
     "output_type": "stream",
     "text": [
      "  7%|█████▍                                                                          | 68/1000 [00:05<01:18, 11.92it/s]\n"
     ]
    },
    {
     "name": "stdout",
     "output_type": "stream",
     "text": [
      "stop_reason stagnation_lim\n",
      "FX_best -281.85858573050865\n",
      "dimensions: 16\n",
      "start num:  91\n",
      "Xmin:      \n",
      "[-5 -5 -5 -5 -5 -5 -5 -5 -5 -5 -5 -5 -5 -5 -5 -5]\n",
      "Xmax:      \n",
      "[5 5 5 5 5 5 5 5 5 5 5 5 5 5 5 5]\n"
     ]
    },
    {
     "name": "stderr",
     "output_type": "stream",
     "text": [
      "  9%|███████▎                                                                        | 92/1000 [00:07<01:16, 11.84it/s]\n"
     ]
    },
    {
     "name": "stdout",
     "output_type": "stream",
     "text": [
      "stop_reason stagnation_lim\n",
      "FX_best -236.37583723055576\n",
      "dimensions: 16\n",
      "start num:  92\n",
      "Xmin:      \n",
      "[-5 -5 -5 -5 -5 -5 -5 -5 -5 -5 -5 -5 -5 -5 -5 -5]\n",
      "Xmax:      \n",
      "[5 5 5 5 5 5 5 5 5 5 5 5 5 5 5 5]\n"
     ]
    },
    {
     "name": "stderr",
     "output_type": "stream",
     "text": [
      " 14%|███████████▍                                                                   | 144/1000 [00:12<01:12, 11.86it/s]\n"
     ]
    },
    {
     "name": "stdout",
     "output_type": "stream",
     "text": [
      "stop_reason stagnation_lim\n",
      "FX_best -282.2953677813415\n",
      "dimensions: 16\n",
      "start num:  93\n",
      "Xmin:      \n",
      "[-5 -5 -5 -5 -5 -5 -5 -5 -5 -5 -5 -5 -5 -5 -5 -5]\n",
      "Xmax:      \n",
      "[5 5 5 5 5 5 5 5 5 5 5 5 5 5 5 5]\n"
     ]
    },
    {
     "name": "stderr",
     "output_type": "stream",
     "text": [
      " 11%|████████▍                                                                      | 107/1000 [00:09<01:15, 11.86it/s]\n"
     ]
    },
    {
     "name": "stdout",
     "output_type": "stream",
     "text": [
      "stop_reason stagnation_lim\n",
      "FX_best -266.7056394141873\n",
      "dimensions: 16\n",
      "start num:  94\n",
      "Xmin:      \n",
      "[-5 -5 -5 -5 -5 -5 -5 -5 -5 -5 -5 -5 -5 -5 -5 -5]\n",
      "Xmax:      \n",
      "[5 5 5 5 5 5 5 5 5 5 5 5 5 5 5 5]\n"
     ]
    },
    {
     "name": "stderr",
     "output_type": "stream",
     "text": [
      "  8%|██████▋                                                                         | 84/1000 [00:07<01:17, 11.85it/s]\n"
     ]
    },
    {
     "name": "stdout",
     "output_type": "stream",
     "text": [
      "stop_reason stagnation_lim\n",
      "FX_best -269.7373291327959\n",
      "dimensions: 16\n",
      "start num:  95\n",
      "Xmin:      \n",
      "[-5 -5 -5 -5 -5 -5 -5 -5 -5 -5 -5 -5 -5 -5 -5 -5]\n",
      "Xmax:      \n",
      "[5 5 5 5 5 5 5 5 5 5 5 5 5 5 5 5]\n"
     ]
    },
    {
     "name": "stderr",
     "output_type": "stream",
     "text": [
      " 10%|███████▌                                                                        | 95/1000 [00:08<01:16, 11.86it/s]\n"
     ]
    },
    {
     "name": "stdout",
     "output_type": "stream",
     "text": [
      "stop_reason stagnation_lim\n",
      "FX_best -273.436742903773\n",
      "dimensions: 16\n",
      "start num:  96\n",
      "Xmin:      \n",
      "[-5 -5 -5 -5 -5 -5 -5 -5 -5 -5 -5 -5 -5 -5 -5 -5]\n",
      "Xmax:      \n",
      "[5 5 5 5 5 5 5 5 5 5 5 5 5 5 5 5]\n"
     ]
    },
    {
     "name": "stderr",
     "output_type": "stream",
     "text": [
      "  7%|█████▉                                                                          | 74/1000 [00:06<01:18, 11.81it/s]\n"
     ]
    },
    {
     "name": "stdout",
     "output_type": "stream",
     "text": [
      "stop_reason stagnation_lim\n",
      "FX_best -270.1342491623151\n",
      "dimensions: 16\n",
      "start num:  97\n",
      "Xmin:      \n",
      "[-5 -5 -5 -5 -5 -5 -5 -5 -5 -5 -5 -5 -5 -5 -5 -5]\n",
      "Xmax:      \n",
      "[5 5 5 5 5 5 5 5 5 5 5 5 5 5 5 5]\n"
     ]
    },
    {
     "name": "stderr",
     "output_type": "stream",
     "text": [
      " 17%|█████████████▌                                                                 | 172/1000 [00:14<01:09, 11.87it/s]\n"
     ]
    },
    {
     "name": "stdout",
     "output_type": "stream",
     "text": [
      "stop_reason stagnation_lim\n",
      "FX_best -257.51116885107535\n",
      "dimensions: 16\n",
      "start num:  98\n",
      "Xmin:      \n",
      "[-5 -5 -5 -5 -5 -5 -5 -5 -5 -5 -5 -5 -5 -5 -5 -5]\n",
      "Xmax:      \n",
      "[5 5 5 5 5 5 5 5 5 5 5 5 5 5 5 5]\n"
     ]
    },
    {
     "name": "stderr",
     "output_type": "stream",
     "text": [
      "  8%|██████▍                                                                         | 80/1000 [00:06<01:18, 11.74it/s]\n"
     ]
    },
    {
     "name": "stdout",
     "output_type": "stream",
     "text": [
      "stop_reason stagnation_lim\n",
      "FX_best -274.2982797339398\n",
      "dimensions: 16\n",
      "start num:  99\n",
      "Xmin:      \n",
      "[-5 -5 -5 -5 -5 -5 -5 -5 -5 -5 -5 -5 -5 -5 -5 -5]\n",
      "Xmax:      \n",
      "[5 5 5 5 5 5 5 5 5 5 5 5 5 5 5 5]\n"
     ]
    },
    {
     "name": "stderr",
     "output_type": "stream",
     "text": [
      "  7%|█████▎                                                                          | 67/1000 [00:05<01:19, 11.73it/s]\n"
     ]
    },
    {
     "name": "stdout",
     "output_type": "stream",
     "text": [
      "stop_reason stagnation_lim\n",
      "FX_best -246.5588444270925\n",
      "dimensions: 32\n",
      "start num:  0\n",
      "Xmin:      \n",
      "[-5 -5 -5 -5 -5 -5 -5 -5 -5 -5 -5 -5 -5 -5 -5 -5 -5 -5 -5 -5 -5 -5 -5 -5\n",
      " -5 -5 -5 -5 -5 -5 -5 -5]\n",
      "Xmax:      \n",
      "[5 5 5 5 5 5 5 5 5 5 5 5 5 5 5 5 5 5 5 5 5 5 5 5 5 5 5 5 5 5 5 5]\n"
     ]
    },
    {
     "name": "stderr",
     "output_type": "stream",
     "text": [
      "  7%|█████▋                                                                          | 71/1000 [00:06<01:19, 11.72it/s]\n"
     ]
    },
    {
     "name": "stdout",
     "output_type": "stream",
     "text": [
      "stop_reason stagnation_lim\n",
      "FX_best -160.3165787692497\n",
      "dimensions: 32\n",
      "start num:  1\n",
      "Xmin:      \n",
      "[-5 -5 -5 -5 -5 -5 -5 -5 -5 -5 -5 -5 -5 -5 -5 -5 -5 -5 -5 -5 -5 -5 -5 -5\n",
      " -5 -5 -5 -5 -5 -5 -5 -5]\n",
      "Xmax:      \n",
      "[5 5 5 5 5 5 5 5 5 5 5 5 5 5 5 5 5 5 5 5 5 5 5 5 5 5 5 5 5 5 5 5]\n"
     ]
    },
    {
     "name": "stderr",
     "output_type": "stream",
     "text": [
      " 14%|███████████▏                                                                   | 142/1000 [00:12<01:15, 11.35it/s]\n"
     ]
    },
    {
     "name": "stdout",
     "output_type": "stream",
     "text": [
      "stop_reason stagnation_lim\n",
      "FX_best -136.68792197016631\n",
      "dimensions: 32\n",
      "start num:  2\n",
      "Xmin:      \n",
      "[-5 -5 -5 -5 -5 -5 -5 -5 -5 -5 -5 -5 -5 -5 -5 -5 -5 -5 -5 -5 -5 -5 -5 -5\n",
      " -5 -5 -5 -5 -5 -5 -5 -5]\n",
      "Xmax:      \n",
      "[5 5 5 5 5 5 5 5 5 5 5 5 5 5 5 5 5 5 5 5 5 5 5 5 5 5 5 5 5 5 5 5]\n"
     ]
    },
    {
     "name": "stderr",
     "output_type": "stream",
     "text": [
      " 13%|██████████▌                                                                    | 133/1000 [00:11<01:14, 11.57it/s]\n"
     ]
    },
    {
     "name": "stdout",
     "output_type": "stream",
     "text": [
      "stop_reason stagnation_lim\n",
      "FX_best -132.99274222176746\n",
      "dimensions: 32\n",
      "start num:  3\n",
      "Xmin:      \n",
      "[-5 -5 -5 -5 -5 -5 -5 -5 -5 -5 -5 -5 -5 -5 -5 -5 -5 -5 -5 -5 -5 -5 -5 -5\n",
      " -5 -5 -5 -5 -5 -5 -5 -5]\n",
      "Xmax:      \n",
      "[5 5 5 5 5 5 5 5 5 5 5 5 5 5 5 5 5 5 5 5 5 5 5 5 5 5 5 5 5 5 5 5]\n"
     ]
    },
    {
     "name": "stderr",
     "output_type": "stream",
     "text": [
      "  7%|█████▊                                                                          | 73/1000 [00:06<01:18, 11.81it/s]\n"
     ]
    },
    {
     "name": "stdout",
     "output_type": "stream",
     "text": [
      "stop_reason stagnation_lim\n",
      "FX_best -145.25533744753548\n",
      "dimensions: 32\n",
      "start num:  4\n",
      "Xmin:      \n",
      "[-5 -5 -5 -5 -5 -5 -5 -5 -5 -5 -5 -5 -5 -5 -5 -5 -5 -5 -5 -5 -5 -5 -5 -5\n",
      " -5 -5 -5 -5 -5 -5 -5 -5]\n",
      "Xmax:      \n",
      "[5 5 5 5 5 5 5 5 5 5 5 5 5 5 5 5 5 5 5 5 5 5 5 5 5 5 5 5 5 5 5 5]\n"
     ]
    },
    {
     "name": "stderr",
     "output_type": "stream",
     "text": [
      " 12%|█████████▋                                                                     | 122/1000 [00:10<01:15, 11.63it/s]\n"
     ]
    },
    {
     "name": "stdout",
     "output_type": "stream",
     "text": [
      "stop_reason stagnation_lim\n",
      "FX_best -125.54603233254463\n",
      "dimensions: 32\n",
      "start num:  5\n",
      "Xmin:      \n",
      "[-5 -5 -5 -5 -5 -5 -5 -5 -5 -5 -5 -5 -5 -5 -5 -5 -5 -5 -5 -5 -5 -5 -5 -5\n",
      " -5 -5 -5 -5 -5 -5 -5 -5]\n",
      "Xmax:      \n",
      "[5 5 5 5 5 5 5 5 5 5 5 5 5 5 5 5 5 5 5 5 5 5 5 5 5 5 5 5 5 5 5 5]\n"
     ]
    },
    {
     "name": "stderr",
     "output_type": "stream",
     "text": [
      " 10%|███████▊                                                                        | 98/1000 [00:08<01:17, 11.64it/s]\n"
     ]
    },
    {
     "name": "stdout",
     "output_type": "stream",
     "text": [
      "stop_reason stagnation_lim\n",
      "FX_best -119.65096822586403\n",
      "dimensions: 32\n",
      "start num:  6\n",
      "Xmin:      \n",
      "[-5 -5 -5 -5 -5 -5 -5 -5 -5 -5 -5 -5 -5 -5 -5 -5 -5 -5 -5 -5 -5 -5 -5 -5\n",
      " -5 -5 -5 -5 -5 -5 -5 -5]\n",
      "Xmax:      \n",
      "[5 5 5 5 5 5 5 5 5 5 5 5 5 5 5 5 5 5 5 5 5 5 5 5 5 5 5 5 5 5 5 5]\n"
     ]
    },
    {
     "name": "stderr",
     "output_type": "stream",
     "text": [
      " 18%|██████████████▍                                                                | 182/1000 [00:15<01:10, 11.58it/s]\n"
     ]
    },
    {
     "name": "stdout",
     "output_type": "stream",
     "text": [
      "stop_reason stagnation_lim\n",
      "FX_best -103.38959532010438\n",
      "dimensions: 32\n",
      "start num:  7\n",
      "Xmin:      \n",
      "[-5 -5 -5 -5 -5 -5 -5 -5 -5 -5 -5 -5 -5 -5 -5 -5 -5 -5 -5 -5 -5 -5 -5 -5\n",
      " -5 -5 -5 -5 -5 -5 -5 -5]\n",
      "Xmax:      \n",
      "[5 5 5 5 5 5 5 5 5 5 5 5 5 5 5 5 5 5 5 5 5 5 5 5 5 5 5 5 5 5 5 5]\n"
     ]
    },
    {
     "name": "stderr",
     "output_type": "stream",
     "text": [
      " 12%|█████████                                                                      | 115/1000 [00:09<01:15, 11.70it/s]\n"
     ]
    },
    {
     "name": "stdout",
     "output_type": "stream",
     "text": [
      "stop_reason stagnation_lim\n",
      "FX_best -135.12603241988452\n",
      "dimensions: 32\n",
      "start num:  8\n",
      "Xmin:      \n",
      "[-5 -5 -5 -5 -5 -5 -5 -5 -5 -5 -5 -5 -5 -5 -5 -5 -5 -5 -5 -5 -5 -5 -5 -5\n",
      " -5 -5 -5 -5 -5 -5 -5 -5]\n",
      "Xmax:      \n",
      "[5 5 5 5 5 5 5 5 5 5 5 5 5 5 5 5 5 5 5 5 5 5 5 5 5 5 5 5 5 5 5 5]\n"
     ]
    },
    {
     "name": "stderr",
     "output_type": "stream",
     "text": [
      " 11%|████████▌                                                                      | 108/1000 [00:09<01:16, 11.70it/s]\n"
     ]
    },
    {
     "name": "stdout",
     "output_type": "stream",
     "text": [
      "stop_reason stagnation_lim\n",
      "FX_best -110.88870997109234\n",
      "dimensions: 32\n",
      "start num:  9\n",
      "Xmin:      \n",
      "[-5 -5 -5 -5 -5 -5 -5 -5 -5 -5 -5 -5 -5 -5 -5 -5 -5 -5 -5 -5 -5 -5 -5 -5\n",
      " -5 -5 -5 -5 -5 -5 -5 -5]\n",
      "Xmax:      \n",
      "[5 5 5 5 5 5 5 5 5 5 5 5 5 5 5 5 5 5 5 5 5 5 5 5 5 5 5 5 5 5 5 5]\n"
     ]
    },
    {
     "name": "stderr",
     "output_type": "stream",
     "text": [
      "  8%|██████                                                                          | 76/1000 [00:06<01:17, 11.91it/s]\n"
     ]
    },
    {
     "name": "stdout",
     "output_type": "stream",
     "text": [
      "stop_reason stagnation_lim\n",
      "FX_best -102.96186767380047\n",
      "dimensions: 32\n",
      "start num:  10\n",
      "Xmin:      \n",
      "[-5 -5 -5 -5 -5 -5 -5 -5 -5 -5 -5 -5 -5 -5 -5 -5 -5 -5 -5 -5 -5 -5 -5 -5\n",
      " -5 -5 -5 -5 -5 -5 -5 -5]\n",
      "Xmax:      \n",
      "[5 5 5 5 5 5 5 5 5 5 5 5 5 5 5 5 5 5 5 5 5 5 5 5 5 5 5 5 5 5 5 5]\n"
     ]
    },
    {
     "name": "stderr",
     "output_type": "stream",
     "text": [
      " 13%|██████████▌                                                                    | 134/1000 [00:11<01:14, 11.68it/s]\n"
     ]
    },
    {
     "name": "stdout",
     "output_type": "stream",
     "text": [
      "stop_reason stagnation_lim\n",
      "FX_best -133.3776373096498\n",
      "dimensions: 32\n",
      "start num:  11\n",
      "Xmin:      \n",
      "[-5 -5 -5 -5 -5 -5 -5 -5 -5 -5 -5 -5 -5 -5 -5 -5 -5 -5 -5 -5 -5 -5 -5 -5\n",
      " -5 -5 -5 -5 -5 -5 -5 -5]\n",
      "Xmax:      \n",
      "[5 5 5 5 5 5 5 5 5 5 5 5 5 5 5 5 5 5 5 5 5 5 5 5 5 5 5 5 5 5 5 5]\n"
     ]
    },
    {
     "name": "stderr",
     "output_type": "stream",
     "text": [
      " 16%|████████████▉                                                                  | 164/1000 [00:14<01:12, 11.59it/s]\n"
     ]
    },
    {
     "name": "stdout",
     "output_type": "stream",
     "text": [
      "stop_reason stagnation_lim\n",
      "FX_best -140.7665620677636\n",
      "dimensions: 32\n",
      "start num:  12\n",
      "Xmin:      \n",
      "[-5 -5 -5 -5 -5 -5 -5 -5 -5 -5 -5 -5 -5 -5 -5 -5 -5 -5 -5 -5 -5 -5 -5 -5\n",
      " -5 -5 -5 -5 -5 -5 -5 -5]\n",
      "Xmax:      \n",
      "[5 5 5 5 5 5 5 5 5 5 5 5 5 5 5 5 5 5 5 5 5 5 5 5 5 5 5 5 5 5 5 5]\n"
     ]
    },
    {
     "name": "stderr",
     "output_type": "stream",
     "text": [
      "  7%|█████▊                                                                          | 73/1000 [00:06<01:18, 11.82it/s]\n"
     ]
    },
    {
     "name": "stdout",
     "output_type": "stream",
     "text": [
      "stop_reason stagnation_lim\n",
      "FX_best -114.20057764776976\n",
      "dimensions: 32\n",
      "start num:  13\n",
      "Xmin:      \n",
      "[-5 -5 -5 -5 -5 -5 -5 -5 -5 -5 -5 -5 -5 -5 -5 -5 -5 -5 -5 -5 -5 -5 -5 -5\n",
      " -5 -5 -5 -5 -5 -5 -5 -5]\n",
      "Xmax:      \n",
      "[5 5 5 5 5 5 5 5 5 5 5 5 5 5 5 5 5 5 5 5 5 5 5 5 5 5 5 5 5 5 5 5]\n"
     ]
    },
    {
     "name": "stderr",
     "output_type": "stream",
     "text": [
      " 24%|███████████████████                                                            | 241/1000 [00:20<01:05, 11.55it/s]\n"
     ]
    },
    {
     "name": "stdout",
     "output_type": "stream",
     "text": [
      "stop_reason stagnation_lim\n",
      "FX_best -121.12487575522758\n",
      "dimensions: 32\n",
      "start num:  14\n",
      "Xmin:      \n",
      "[-5 -5 -5 -5 -5 -5 -5 -5 -5 -5 -5 -5 -5 -5 -5 -5 -5 -5 -5 -5 -5 -5 -5 -5\n",
      " -5 -5 -5 -5 -5 -5 -5 -5]\n",
      "Xmax:      \n",
      "[5 5 5 5 5 5 5 5 5 5 5 5 5 5 5 5 5 5 5 5 5 5 5 5 5 5 5 5 5 5 5 5]\n"
     ]
    },
    {
     "name": "stderr",
     "output_type": "stream",
     "text": [
      "  8%|██████▎                                                                         | 79/1000 [00:06<01:18, 11.78it/s]\n"
     ]
    },
    {
     "name": "stdout",
     "output_type": "stream",
     "text": [
      "stop_reason stagnation_lim\n",
      "FX_best -149.3062449810629\n",
      "dimensions: 32\n",
      "start num:  15\n",
      "Xmin:      \n",
      "[-5 -5 -5 -5 -5 -5 -5 -5 -5 -5 -5 -5 -5 -5 -5 -5 -5 -5 -5 -5 -5 -5 -5 -5\n",
      " -5 -5 -5 -5 -5 -5 -5 -5]\n",
      "Xmax:      \n",
      "[5 5 5 5 5 5 5 5 5 5 5 5 5 5 5 5 5 5 5 5 5 5 5 5 5 5 5 5 5 5 5 5]\n"
     ]
    },
    {
     "name": "stderr",
     "output_type": "stream",
     "text": [
      " 16%|████████████▊                                                                  | 162/1000 [00:13<01:12, 11.60it/s]\n"
     ]
    },
    {
     "name": "stdout",
     "output_type": "stream",
     "text": [
      "stop_reason stagnation_lim\n",
      "FX_best -104.65751637884003\n",
      "dimensions: 32\n",
      "start num:  16\n",
      "Xmin:      \n",
      "[-5 -5 -5 -5 -5 -5 -5 -5 -5 -5 -5 -5 -5 -5 -5 -5 -5 -5 -5 -5 -5 -5 -5 -5\n",
      " -5 -5 -5 -5 -5 -5 -5 -5]\n",
      "Xmax:      \n",
      "[5 5 5 5 5 5 5 5 5 5 5 5 5 5 5 5 5 5 5 5 5 5 5 5 5 5 5 5 5 5 5 5]\n"
     ]
    },
    {
     "name": "stderr",
     "output_type": "stream",
     "text": [
      "  7%|█████▊                                                                          | 73/1000 [00:06<01:18, 11.80it/s]\n"
     ]
    },
    {
     "name": "stdout",
     "output_type": "stream",
     "text": [
      "stop_reason stagnation_lim\n",
      "FX_best -101.78720826272294\n",
      "dimensions: 32\n",
      "start num:  17\n",
      "Xmin:      \n",
      "[-5 -5 -5 -5 -5 -5 -5 -5 -5 -5 -5 -5 -5 -5 -5 -5 -5 -5 -5 -5 -5 -5 -5 -5\n",
      " -5 -5 -5 -5 -5 -5 -5 -5]\n",
      "Xmax:      \n",
      "[5 5 5 5 5 5 5 5 5 5 5 5 5 5 5 5 5 5 5 5 5 5 5 5 5 5 5 5 5 5 5 5]\n"
     ]
    },
    {
     "name": "stderr",
     "output_type": "stream",
     "text": [
      " 14%|██████████▉                                                                    | 138/1000 [00:12<01:17, 11.07it/s]\n"
     ]
    },
    {
     "name": "stdout",
     "output_type": "stream",
     "text": [
      "stop_reason stagnation_lim\n",
      "FX_best -116.85293576712783\n",
      "dimensions: 32\n",
      "start num:  18\n",
      "Xmin:      \n",
      "[-5 -5 -5 -5 -5 -5 -5 -5 -5 -5 -5 -5 -5 -5 -5 -5 -5 -5 -5 -5 -5 -5 -5 -5\n",
      " -5 -5 -5 -5 -5 -5 -5 -5]\n",
      "Xmax:      \n",
      "[5 5 5 5 5 5 5 5 5 5 5 5 5 5 5 5 5 5 5 5 5 5 5 5 5 5 5 5 5 5 5 5]\n"
     ]
    },
    {
     "name": "stderr",
     "output_type": "stream",
     "text": [
      " 14%|██████████▋                                                                    | 136/1000 [00:11<01:14, 11.64it/s]\n"
     ]
    },
    {
     "name": "stdout",
     "output_type": "stream",
     "text": [
      "stop_reason stagnation_lim\n",
      "FX_best -78.70005791619872\n",
      "dimensions: 32\n",
      "start num:  19\n",
      "Xmin:      \n",
      "[-5 -5 -5 -5 -5 -5 -5 -5 -5 -5 -5 -5 -5 -5 -5 -5 -5 -5 -5 -5 -5 -5 -5 -5\n",
      " -5 -5 -5 -5 -5 -5 -5 -5]\n",
      "Xmax:      \n",
      "[5 5 5 5 5 5 5 5 5 5 5 5 5 5 5 5 5 5 5 5 5 5 5 5 5 5 5 5 5 5 5 5]\n"
     ]
    },
    {
     "name": "stderr",
     "output_type": "stream",
     "text": [
      " 14%|███████████▏                                                                   | 141/1000 [00:12<01:13, 11.62it/s]\n"
     ]
    },
    {
     "name": "stdout",
     "output_type": "stream",
     "text": [
      "stop_reason stagnation_lim\n",
      "FX_best -114.80742286649613\n",
      "dimensions: 32\n",
      "start num:  20\n",
      "Xmin:      \n",
      "[-5 -5 -5 -5 -5 -5 -5 -5 -5 -5 -5 -5 -5 -5 -5 -5 -5 -5 -5 -5 -5 -5 -5 -5\n",
      " -5 -5 -5 -5 -5 -5 -5 -5]\n",
      "Xmax:      \n",
      "[5 5 5 5 5 5 5 5 5 5 5 5 5 5 5 5 5 5 5 5 5 5 5 5 5 5 5 5 5 5 5 5]\n"
     ]
    },
    {
     "name": "stderr",
     "output_type": "stream",
     "text": [
      " 16%|████████████▌                                                                  | 159/1000 [00:13<01:11, 11.81it/s]\n"
     ]
    },
    {
     "name": "stdout",
     "output_type": "stream",
     "text": [
      "stop_reason stagnation_lim\n",
      "FX_best -131.38278914503437\n",
      "dimensions: 32\n",
      "start num:  21\n",
      "Xmin:      \n",
      "[-5 -5 -5 -5 -5 -5 -5 -5 -5 -5 -5 -5 -5 -5 -5 -5 -5 -5 -5 -5 -5 -5 -5 -5\n",
      " -5 -5 -5 -5 -5 -5 -5 -5]\n",
      "Xmax:      \n",
      "[5 5 5 5 5 5 5 5 5 5 5 5 5 5 5 5 5 5 5 5 5 5 5 5 5 5 5 5 5 5 5 5]\n"
     ]
    },
    {
     "name": "stderr",
     "output_type": "stream",
     "text": [
      "  8%|██████▍                                                                         | 80/1000 [00:06<01:18, 11.79it/s]\n"
     ]
    },
    {
     "name": "stdout",
     "output_type": "stream",
     "text": [
      "stop_reason stagnation_lim\n",
      "FX_best -118.31785435308305\n",
      "dimensions: 32\n",
      "start num:  22\n",
      "Xmin:      \n",
      "[-5 -5 -5 -5 -5 -5 -5 -5 -5 -5 -5 -5 -5 -5 -5 -5 -5 -5 -5 -5 -5 -5 -5 -5\n",
      " -5 -5 -5 -5 -5 -5 -5 -5]\n",
      "Xmax:      \n",
      "[5 5 5 5 5 5 5 5 5 5 5 5 5 5 5 5 5 5 5 5 5 5 5 5 5 5 5 5 5 5 5 5]\n"
     ]
    },
    {
     "name": "stderr",
     "output_type": "stream",
     "text": [
      "  8%|██████▏                                                                         | 78/1000 [00:06<01:18, 11.75it/s]\n"
     ]
    },
    {
     "name": "stdout",
     "output_type": "stream",
     "text": [
      "stop_reason stagnation_lim\n",
      "FX_best -92.96250395390871\n",
      "dimensions: 32\n",
      "start num:  23\n",
      "Xmin:      \n",
      "[-5 -5 -5 -5 -5 -5 -5 -5 -5 -5 -5 -5 -5 -5 -5 -5 -5 -5 -5 -5 -5 -5 -5 -5\n",
      " -5 -5 -5 -5 -5 -5 -5 -5]\n",
      "Xmax:      \n",
      "[5 5 5 5 5 5 5 5 5 5 5 5 5 5 5 5 5 5 5 5 5 5 5 5 5 5 5 5 5 5 5 5]\n"
     ]
    },
    {
     "name": "stderr",
     "output_type": "stream",
     "text": [
      "  7%|█████▌                                                                          | 69/1000 [00:05<01:18, 11.85it/s]\n"
     ]
    },
    {
     "name": "stdout",
     "output_type": "stream",
     "text": [
      "stop_reason stagnation_lim\n",
      "FX_best -187.30016530695002\n",
      "dimensions: 32\n",
      "start num:  24\n",
      "Xmin:      \n",
      "[-5 -5 -5 -5 -5 -5 -5 -5 -5 -5 -5 -5 -5 -5 -5 -5 -5 -5 -5 -5 -5 -5 -5 -5\n",
      " -5 -5 -5 -5 -5 -5 -5 -5]\n",
      "Xmax:      \n",
      "[5 5 5 5 5 5 5 5 5 5 5 5 5 5 5 5 5 5 5 5 5 5 5 5 5 5 5 5 5 5 5 5]\n"
     ]
    },
    {
     "name": "stderr",
     "output_type": "stream",
     "text": [
      " 13%|██████████▎                                                                    | 130/1000 [00:11<01:14, 11.71it/s]\n"
     ]
    },
    {
     "name": "stdout",
     "output_type": "stream",
     "text": [
      "stop_reason stagnation_lim\n",
      "FX_best -86.1040992285354\n",
      "dimensions: 32\n",
      "start num:  25\n",
      "Xmin:      \n",
      "[-5 -5 -5 -5 -5 -5 -5 -5 -5 -5 -5 -5 -5 -5 -5 -5 -5 -5 -5 -5 -5 -5 -5 -5\n",
      " -5 -5 -5 -5 -5 -5 -5 -5]\n",
      "Xmax:      \n",
      "[5 5 5 5 5 5 5 5 5 5 5 5 5 5 5 5 5 5 5 5 5 5 5 5 5 5 5 5 5 5 5 5]\n"
     ]
    },
    {
     "name": "stderr",
     "output_type": "stream",
     "text": [
      " 11%|████████▉                                                                      | 113/1000 [00:09<01:15, 11.73it/s]\n"
     ]
    },
    {
     "name": "stdout",
     "output_type": "stream",
     "text": [
      "stop_reason stagnation_lim\n",
      "FX_best -107.50230231579854\n",
      "dimensions: 32\n",
      "start num:  26\n",
      "Xmin:      \n",
      "[-5 -5 -5 -5 -5 -5 -5 -5 -5 -5 -5 -5 -5 -5 -5 -5 -5 -5 -5 -5 -5 -5 -5 -5\n",
      " -5 -5 -5 -5 -5 -5 -5 -5]\n",
      "Xmax:      \n",
      "[5 5 5 5 5 5 5 5 5 5 5 5 5 5 5 5 5 5 5 5 5 5 5 5 5 5 5 5 5 5 5 5]\n"
     ]
    },
    {
     "name": "stderr",
     "output_type": "stream",
     "text": [
      " 13%|██████████                                                                     | 127/1000 [00:10<01:14, 11.73it/s]\n"
     ]
    },
    {
     "name": "stdout",
     "output_type": "stream",
     "text": [
      "stop_reason stagnation_lim\n",
      "FX_best -126.54007231325875\n",
      "dimensions: 32\n",
      "start num:  27\n",
      "Xmin:      \n",
      "[-5 -5 -5 -5 -5 -5 -5 -5 -5 -5 -5 -5 -5 -5 -5 -5 -5 -5 -5 -5 -5 -5 -5 -5\n",
      " -5 -5 -5 -5 -5 -5 -5 -5]\n",
      "Xmax:      \n",
      "[5 5 5 5 5 5 5 5 5 5 5 5 5 5 5 5 5 5 5 5 5 5 5 5 5 5 5 5 5 5 5 5]\n"
     ]
    },
    {
     "name": "stderr",
     "output_type": "stream",
     "text": [
      "  8%|██████▍                                                                         | 80/1000 [00:06<01:18, 11.79it/s]\n"
     ]
    },
    {
     "name": "stdout",
     "output_type": "stream",
     "text": [
      "stop_reason stagnation_lim\n",
      "FX_best -140.13114433655142\n",
      "dimensions: 32\n",
      "start num:  28\n",
      "Xmin:      \n",
      "[-5 -5 -5 -5 -5 -5 -5 -5 -5 -5 -5 -5 -5 -5 -5 -5 -5 -5 -5 -5 -5 -5 -5 -5\n",
      " -5 -5 -5 -5 -5 -5 -5 -5]\n",
      "Xmax:      \n",
      "[5 5 5 5 5 5 5 5 5 5 5 5 5 5 5 5 5 5 5 5 5 5 5 5 5 5 5 5 5 5 5 5]\n"
     ]
    },
    {
     "name": "stderr",
     "output_type": "stream",
     "text": [
      " 11%|█████████                                                                      | 114/1000 [00:10<01:17, 11.38it/s]\n"
     ]
    },
    {
     "name": "stdout",
     "output_type": "stream",
     "text": [
      "stop_reason stagnation_lim\n",
      "FX_best -178.80108365471978\n",
      "dimensions: 32\n",
      "start num:  29\n",
      "Xmin:      \n",
      "[-5 -5 -5 -5 -5 -5 -5 -5 -5 -5 -5 -5 -5 -5 -5 -5 -5 -5 -5 -5 -5 -5 -5 -5\n",
      " -5 -5 -5 -5 -5 -5 -5 -5]\n",
      "Xmax:      \n",
      "[5 5 5 5 5 5 5 5 5 5 5 5 5 5 5 5 5 5 5 5 5 5 5 5 5 5 5 5 5 5 5 5]\n"
     ]
    },
    {
     "name": "stderr",
     "output_type": "stream",
     "text": [
      "  9%|███████▎                                                                        | 92/1000 [00:08<01:24, 10.74it/s]\n"
     ]
    },
    {
     "name": "stdout",
     "output_type": "stream",
     "text": [
      "stop_reason stagnation_lim\n",
      "FX_best -152.91093983449198\n",
      "dimensions: 32\n",
      "start num:  30\n",
      "Xmin:      \n",
      "[-5 -5 -5 -5 -5 -5 -5 -5 -5 -5 -5 -5 -5 -5 -5 -5 -5 -5 -5 -5 -5 -5 -5 -5\n",
      " -5 -5 -5 -5 -5 -5 -5 -5]\n",
      "Xmax:      \n",
      "[5 5 5 5 5 5 5 5 5 5 5 5 5 5 5 5 5 5 5 5 5 5 5 5 5 5 5 5 5 5 5 5]\n"
     ]
    },
    {
     "name": "stderr",
     "output_type": "stream",
     "text": [
      "  7%|█████▎                                                                          | 67/1000 [00:05<01:19, 11.77it/s]\n"
     ]
    },
    {
     "name": "stdout",
     "output_type": "stream",
     "text": [
      "stop_reason stagnation_lim\n",
      "FX_best -104.59962504116388\n",
      "dimensions: 32\n",
      "start num:  31\n",
      "Xmin:      \n",
      "[-5 -5 -5 -5 -5 -5 -5 -5 -5 -5 -5 -5 -5 -5 -5 -5 -5 -5 -5 -5 -5 -5 -5 -5\n",
      " -5 -5 -5 -5 -5 -5 -5 -5]\n",
      "Xmax:      \n",
      "[5 5 5 5 5 5 5 5 5 5 5 5 5 5 5 5 5 5 5 5 5 5 5 5 5 5 5 5 5 5 5 5]\n"
     ]
    },
    {
     "name": "stderr",
     "output_type": "stream",
     "text": [
      "  7%|█████▌                                                                          | 69/1000 [00:05<01:20, 11.60it/s]\n"
     ]
    },
    {
     "name": "stdout",
     "output_type": "stream",
     "text": [
      "stop_reason stagnation_lim\n",
      "FX_best -106.1264431350211\n",
      "dimensions: 32\n",
      "start num:  32\n",
      "Xmin:      \n",
      "[-5 -5 -5 -5 -5 -5 -5 -5 -5 -5 -5 -5 -5 -5 -5 -5 -5 -5 -5 -5 -5 -5 -5 -5\n",
      " -5 -5 -5 -5 -5 -5 -5 -5]\n",
      "Xmax:      \n",
      "[5 5 5 5 5 5 5 5 5 5 5 5 5 5 5 5 5 5 5 5 5 5 5 5 5 5 5 5 5 5 5 5]\n"
     ]
    },
    {
     "name": "stderr",
     "output_type": "stream",
     "text": [
      "  8%|██████▍                                                                         | 81/1000 [00:06<01:18, 11.71it/s]\n"
     ]
    },
    {
     "name": "stdout",
     "output_type": "stream",
     "text": [
      "stop_reason stagnation_lim\n",
      "FX_best -140.59545709987157\n",
      "dimensions: 32\n",
      "start num:  33\n",
      "Xmin:      \n",
      "[-5 -5 -5 -5 -5 -5 -5 -5 -5 -5 -5 -5 -5 -5 -5 -5 -5 -5 -5 -5 -5 -5 -5 -5\n",
      " -5 -5 -5 -5 -5 -5 -5 -5]\n",
      "Xmax:      \n",
      "[5 5 5 5 5 5 5 5 5 5 5 5 5 5 5 5 5 5 5 5 5 5 5 5 5 5 5 5 5 5 5 5]\n"
     ]
    },
    {
     "name": "stderr",
     "output_type": "stream",
     "text": [
      " 23%|█████████████████▉                                                             | 227/1000 [00:19<01:06, 11.63it/s]\n"
     ]
    },
    {
     "name": "stdout",
     "output_type": "stream",
     "text": [
      "stop_reason stagnation_lim\n",
      "FX_best -132.5560469581649\n",
      "dimensions: 32\n",
      "start num:  34\n",
      "Xmin:      \n",
      "[-5 -5 -5 -5 -5 -5 -5 -5 -5 -5 -5 -5 -5 -5 -5 -5 -5 -5 -5 -5 -5 -5 -5 -5\n",
      " -5 -5 -5 -5 -5 -5 -5 -5]\n",
      "Xmax:      \n",
      "[5 5 5 5 5 5 5 5 5 5 5 5 5 5 5 5 5 5 5 5 5 5 5 5 5 5 5 5 5 5 5 5]\n"
     ]
    },
    {
     "name": "stderr",
     "output_type": "stream",
     "text": [
      "  9%|███████                                                                         | 88/1000 [00:07<01:18, 11.68it/s]\n"
     ]
    },
    {
     "ename": "KeyboardInterrupt",
     "evalue": "",
     "output_type": "error",
     "traceback": [
      "\u001b[1;31m---------------------------------------------------------------------------\u001b[0m",
      "\u001b[1;31mKeyboardInterrupt\u001b[0m                         Traceback (most recent call last)",
      "\u001b[1;32m~\\AppData\\Local\\Temp/ipykernel_9496/1348582926.py\u001b[0m in \u001b[0;36m<module>\u001b[1;34m\u001b[0m\n\u001b[0;32m     21\u001b[0m         \u001b[0mprint\u001b[0m\u001b[1;33m(\u001b[0m\u001b[1;34m'Xmax:      '\u001b[0m\u001b[1;33m)\u001b[0m\u001b[1;33m\u001b[0m\u001b[1;33m\u001b[0m\u001b[0m\n\u001b[0;32m     22\u001b[0m         \u001b[0mprint\u001b[0m\u001b[1;33m(\u001b[0m\u001b[0mXmax\u001b[0m\u001b[1;33m)\u001b[0m\u001b[1;33m\u001b[0m\u001b[1;33m\u001b[0m\u001b[0m\n\u001b[1;32m---> 23\u001b[1;33m         \u001b[0mstop_reason\u001b[0m\u001b[1;33m,\u001b[0m \u001b[0mX_best\u001b[0m\u001b[1;33m,\u001b[0m  \u001b[0mX\u001b[0m\u001b[1;33m,\u001b[0m\u001b[0mFX\u001b[0m\u001b[1;33m,\u001b[0m \u001b[0mpath\u001b[0m \u001b[1;33m=\u001b[0m \u001b[0mNNSABC\u001b[0m\u001b[1;33m(\u001b[0m\u001b[0mSN\u001b[0m\u001b[1;33m,\u001b[0m \u001b[0mXmin\u001b[0m\u001b[1;33m,\u001b[0m \u001b[0mXmax\u001b[0m\u001b[1;33m,\u001b[0m \u001b[0mSP\u001b[0m\u001b[1;33m,\u001b[0m \u001b[0mfunc\u001b[0m\u001b[1;33m,\u001b[0m \u001b[0mmax_iterations\u001b[0m\u001b[1;33m)\u001b[0m\u001b[1;33m\u001b[0m\u001b[1;33m\u001b[0m\u001b[0m\n\u001b[0m\u001b[0;32m     24\u001b[0m         \u001b[0mFX_best\u001b[0m \u001b[1;33m=\u001b[0m \u001b[0mfunc\u001b[0m\u001b[1;33m(\u001b[0m\u001b[0mX_best\u001b[0m\u001b[1;33m)\u001b[0m\u001b[1;33m\u001b[0m\u001b[1;33m\u001b[0m\u001b[0m\n\u001b[0;32m     25\u001b[0m         \u001b[0mprint\u001b[0m\u001b[1;33m(\u001b[0m\u001b[1;34m'stop_reason'\u001b[0m\u001b[1;33m,\u001b[0m \u001b[0mstop_reason\u001b[0m\u001b[1;33m)\u001b[0m\u001b[1;33m\u001b[0m\u001b[1;33m\u001b[0m\u001b[0m\n",
      "\u001b[1;32m~\\AppData\\Local\\Temp/ipykernel_9496/2350583327.py\u001b[0m in \u001b[0;36mNNSABC\u001b[1;34m(SN, Xmin, Xmax, SP, func, max_iterations, trial_lim, stagnation_lim, stagnation_eps)\u001b[0m\n\u001b[0;32m    127\u001b[0m             \u001b[0mstagnation_cnt\u001b[0m \u001b[1;33m=\u001b[0m \u001b[1;36m0\u001b[0m\u001b[1;33m\u001b[0m\u001b[1;33m\u001b[0m\u001b[0m\n\u001b[0;32m    128\u001b[0m         \u001b[0mX_best_prev\u001b[0m \u001b[1;33m=\u001b[0m \u001b[0mX_best_curr\u001b[0m\u001b[1;33m\u001b[0m\u001b[1;33m\u001b[0m\u001b[0m\n\u001b[1;32m--> 129\u001b[1;33m         \u001b[0mX\u001b[0m\u001b[1;33m,\u001b[0m \u001b[0mFX\u001b[0m\u001b[1;33m,\u001b[0m \u001b[0mSP_idx\u001b[0m\u001b[1;33m,\u001b[0m \u001b[0mtrial\u001b[0m \u001b[1;33m=\u001b[0m \u001b[0memployed_phase\u001b[0m\u001b[1;33m(\u001b[0m\u001b[0mX\u001b[0m\u001b[1;33m,\u001b[0m \u001b[0mFX\u001b[0m\u001b[1;33m,\u001b[0m \u001b[0mSP\u001b[0m\u001b[1;33m,\u001b[0m \u001b[0mSP_idx\u001b[0m\u001b[1;33m,\u001b[0m \u001b[0mtrial\u001b[0m\u001b[1;33m,\u001b[0m \u001b[0mfunc\u001b[0m\u001b[1;33m)\u001b[0m\u001b[1;33m\u001b[0m\u001b[1;33m\u001b[0m\u001b[0m\n\u001b[0m\u001b[0;32m    130\u001b[0m         \u001b[0mpath\u001b[0m\u001b[1;33m.\u001b[0m\u001b[0mappend\u001b[0m\u001b[1;33m(\u001b[0m\u001b[0mform_data\u001b[0m\u001b[1;33m(\u001b[0m\u001b[0miteration\u001b[0m\u001b[1;33m,\u001b[0m \u001b[1;34m'employed'\u001b[0m\u001b[1;33m,\u001b[0m \u001b[0mX\u001b[0m\u001b[1;33m,\u001b[0m \u001b[0mFX\u001b[0m\u001b[1;33m,\u001b[0m \u001b[0mSP_idx\u001b[0m\u001b[1;33m,\u001b[0m \u001b[0mtrial\u001b[0m\u001b[1;33m)\u001b[0m\u001b[1;33m)\u001b[0m\u001b[1;33m\u001b[0m\u001b[1;33m\u001b[0m\u001b[0m\n\u001b[0;32m    131\u001b[0m         \u001b[1;31m#X, FX, SP_idx, trial = onlooker_phase(X, FX, SP, SP_idx, trial, func)\u001b[0m\u001b[1;33m\u001b[0m\u001b[1;33m\u001b[0m\u001b[1;33m\u001b[0m\u001b[0m\n",
      "\u001b[1;32m~\\AppData\\Local\\Temp/ipykernel_9496/2350583327.py\u001b[0m in \u001b[0;36memployed_phase\u001b[1;34m(X, FX, SP, SP_idx, trial, func)\u001b[0m\n\u001b[0;32m     15\u001b[0m     \u001b[0mFV\u001b[0m \u001b[1;33m=\u001b[0m \u001b[0mnp\u001b[0m\u001b[1;33m.\u001b[0m\u001b[0mzeros\u001b[0m\u001b[1;33m(\u001b[0m\u001b[0mX\u001b[0m\u001b[1;33m.\u001b[0m\u001b[0mshape\u001b[0m\u001b[1;33m[\u001b[0m\u001b[1;36m0\u001b[0m\u001b[1;33m]\u001b[0m\u001b[1;33m)\u001b[0m\u001b[1;33m\u001b[0m\u001b[1;33m\u001b[0m\u001b[0m\n\u001b[0;32m     16\u001b[0m     \u001b[1;32mfor\u001b[0m \u001b[0mi\u001b[0m \u001b[1;32min\u001b[0m \u001b[0mrange\u001b[0m\u001b[1;33m(\u001b[0m\u001b[0mX\u001b[0m\u001b[1;33m.\u001b[0m\u001b[0mshape\u001b[0m\u001b[1;33m[\u001b[0m\u001b[1;36m0\u001b[0m\u001b[1;33m]\u001b[0m\u001b[1;33m)\u001b[0m\u001b[1;33m:\u001b[0m\u001b[1;33m\u001b[0m\u001b[1;33m\u001b[0m\u001b[0m\n\u001b[1;32m---> 17\u001b[1;33m         \u001b[0mV\u001b[0m\u001b[1;33m[\u001b[0m\u001b[0mi\u001b[0m\u001b[1;33m]\u001b[0m \u001b[1;33m=\u001b[0m \u001b[0mSP\u001b[0m\u001b[1;33m[\u001b[0m\u001b[0mSP_idx\u001b[0m\u001b[1;33m[\u001b[0m\u001b[0mi\u001b[0m\u001b[1;33m]\u001b[0m\u001b[1;33m]\u001b[0m\u001b[1;33m(\u001b[0m\u001b[0mX\u001b[0m\u001b[1;33m,\u001b[0m \u001b[0mFX\u001b[0m\u001b[1;33m,\u001b[0m \u001b[0mi\u001b[0m\u001b[1;33m)\u001b[0m\u001b[1;33m\u001b[0m\u001b[1;33m\u001b[0m\u001b[0m\n\u001b[0m\u001b[0;32m     18\u001b[0m         \u001b[0mFV\u001b[0m\u001b[1;33m[\u001b[0m\u001b[0mi\u001b[0m\u001b[1;33m]\u001b[0m \u001b[1;33m=\u001b[0m \u001b[0mfunc\u001b[0m\u001b[1;33m(\u001b[0m\u001b[0mV\u001b[0m\u001b[1;33m[\u001b[0m\u001b[0mi\u001b[0m\u001b[1;33m]\u001b[0m\u001b[1;33m)\u001b[0m\u001b[1;33m\u001b[0m\u001b[1;33m\u001b[0m\u001b[0m\n\u001b[0;32m     19\u001b[0m     \u001b[1;32mfor\u001b[0m \u001b[0mi\u001b[0m \u001b[1;32min\u001b[0m \u001b[0mrange\u001b[0m\u001b[1;33m(\u001b[0m\u001b[0mX\u001b[0m\u001b[1;33m.\u001b[0m\u001b[0mshape\u001b[0m\u001b[1;33m[\u001b[0m\u001b[1;36m0\u001b[0m\u001b[1;33m]\u001b[0m\u001b[1;33m)\u001b[0m\u001b[1;33m:\u001b[0m\u001b[1;33m\u001b[0m\u001b[1;33m\u001b[0m\u001b[0m\n",
      "\u001b[1;32m~\\AppData\\Local\\Temp/ipykernel_9496/843339078.py\u001b[0m in \u001b[0;36mss1\u001b[1;34m(X, FX, i)\u001b[0m\n\u001b[0;32m     25\u001b[0m \u001b[1;31m# Стратегии поиска, входящие в SP\u001b[0m\u001b[1;33m\u001b[0m\u001b[1;33m\u001b[0m\u001b[1;33m\u001b[0m\u001b[0m\n\u001b[0;32m     26\u001b[0m \u001b[1;32mdef\u001b[0m \u001b[0mss1\u001b[0m\u001b[1;33m(\u001b[0m\u001b[0mX\u001b[0m\u001b[1;33m,\u001b[0m \u001b[0mFX\u001b[0m\u001b[1;33m,\u001b[0m \u001b[0mi\u001b[0m\u001b[1;33m)\u001b[0m\u001b[1;33m:\u001b[0m\u001b[1;33m\u001b[0m\u001b[1;33m\u001b[0m\u001b[0m\n\u001b[1;32m---> 27\u001b[1;33m     \u001b[0mMSi\u001b[0m \u001b[1;33m=\u001b[0m \u001b[0mnp\u001b[0m\u001b[1;33m.\u001b[0m\u001b[0marray\u001b[0m\u001b[1;33m(\u001b[0m\u001b[0mnp\u001b[0m\u001b[1;33m.\u001b[0m\u001b[0marray\u001b[0m\u001b[1;33m(\u001b[0m\u001b[1;33m[\u001b[0m\u001b[0mj\u001b[0m\u001b[1;33m[\u001b[0m\u001b[1;36m1\u001b[0m\u001b[1;33m]\u001b[0m \u001b[1;32mfor\u001b[0m \u001b[0mj\u001b[0m \u001b[1;32min\u001b[0m \u001b[0mMNNS\u001b[0m\u001b[1;33m(\u001b[0m\u001b[0mX\u001b[0m\u001b[1;33m,\u001b[0m \u001b[0mFX\u001b[0m\u001b[1;33m,\u001b[0m \u001b[0mi\u001b[0m\u001b[1;33m)\u001b[0m\u001b[1;33m]\u001b[0m\u001b[1;33m)\u001b[0m\u001b[1;33m)\u001b[0m\u001b[1;33m\u001b[0m\u001b[1;33m\u001b[0m\u001b[0m\n\u001b[0m\u001b[0;32m     28\u001b[0m     \u001b[0mMCXi\u001b[0m \u001b[1;33m=\u001b[0m \u001b[0mnp\u001b[0m\u001b[1;33m.\u001b[0m\u001b[0mmean\u001b[0m\u001b[1;33m(\u001b[0m\u001b[0mMSi\u001b[0m\u001b[1;33m,\u001b[0m \u001b[0maxis\u001b[0m\u001b[1;33m=\u001b[0m\u001b[1;36m0\u001b[0m\u001b[1;33m)\u001b[0m\u001b[1;33m\u001b[0m\u001b[1;33m\u001b[0m\u001b[0m\n\u001b[0;32m     29\u001b[0m     \u001b[0mbest\u001b[0m \u001b[1;33m=\u001b[0m \u001b[0mnp\u001b[0m\u001b[1;33m.\u001b[0m\u001b[0margwhere\u001b[0m\u001b[1;33m(\u001b[0m\u001b[0mFX\u001b[0m \u001b[1;33m==\u001b[0m \u001b[0mnp\u001b[0m\u001b[1;33m.\u001b[0m\u001b[0mmin\u001b[0m\u001b[1;33m(\u001b[0m\u001b[0mFX\u001b[0m\u001b[1;33m)\u001b[0m\u001b[1;33m)\u001b[0m\u001b[1;33m[\u001b[0m\u001b[1;36m0\u001b[0m\u001b[1;33m,\u001b[0m \u001b[1;36m0\u001b[0m\u001b[1;33m]\u001b[0m\u001b[1;33m\u001b[0m\u001b[1;33m\u001b[0m\u001b[0m\n",
      "\u001b[1;32m~\\AppData\\Local\\Temp/ipykernel_9496/843339078.py\u001b[0m in \u001b[0;36mMNNS\u001b[1;34m(X, FX, i)\u001b[0m\n\u001b[0;32m     17\u001b[0m         \u001b[1;32mif\u001b[0m \u001b[0mlen\u001b[0m\u001b[1;33m(\u001b[0m\u001b[0mcandidates\u001b[0m\u001b[1;33m)\u001b[0m \u001b[1;33m==\u001b[0m \u001b[1;36m0\u001b[0m\u001b[1;33m:\u001b[0m\u001b[1;33m\u001b[0m\u001b[1;33m\u001b[0m\u001b[0m\n\u001b[0;32m     18\u001b[0m             \u001b[1;32mbreak\u001b[0m\u001b[1;33m\u001b[0m\u001b[1;33m\u001b[0m\u001b[0m\n\u001b[1;32m---> 19\u001b[1;33m         \u001b[0mmin_dist\u001b[0m \u001b[1;33m=\u001b[0m \u001b[0mdist\u001b[0m\u001b[1;33m[\u001b[0m\u001b[0msequence\u001b[0m\u001b[1;33m[\u001b[0m\u001b[1;33m-\u001b[0m\u001b[1;36m1\u001b[0m\u001b[1;33m]\u001b[0m\u001b[1;33m[\u001b[0m\u001b[1;36m0\u001b[0m\u001b[1;33m]\u001b[0m\u001b[1;33m,\u001b[0m \u001b[0mcandidates\u001b[0m\u001b[1;33m]\u001b[0m\u001b[1;33m.\u001b[0m\u001b[0mmin\u001b[0m\u001b[1;33m(\u001b[0m\u001b[1;33m)\u001b[0m\u001b[1;33m\u001b[0m\u001b[1;33m\u001b[0m\u001b[0m\n\u001b[0m\u001b[0;32m     20\u001b[0m         \u001b[0mh\u001b[0m \u001b[1;33m=\u001b[0m \u001b[0mnp\u001b[0m\u001b[1;33m.\u001b[0m\u001b[0margwhere\u001b[0m\u001b[1;33m(\u001b[0m\u001b[0mdist\u001b[0m\u001b[1;33m[\u001b[0m\u001b[0msequence\u001b[0m\u001b[1;33m[\u001b[0m\u001b[1;33m-\u001b[0m\u001b[1;36m1\u001b[0m\u001b[1;33m]\u001b[0m\u001b[1;33m[\u001b[0m\u001b[1;36m0\u001b[0m\u001b[1;33m]\u001b[0m\u001b[1;33m]\u001b[0m \u001b[1;33m==\u001b[0m \u001b[0mmin_dist\u001b[0m\u001b[1;33m)\u001b[0m\u001b[1;33m[\u001b[0m\u001b[1;36m0\u001b[0m\u001b[1;33m,\u001b[0m \u001b[1;36m0\u001b[0m\u001b[1;33m]\u001b[0m\u001b[1;33m\u001b[0m\u001b[1;33m\u001b[0m\u001b[0m\n\u001b[0;32m     21\u001b[0m         \u001b[0msequence\u001b[0m\u001b[1;33m.\u001b[0m\u001b[0mappend\u001b[0m\u001b[1;33m(\u001b[0m\u001b[1;33m(\u001b[0m\u001b[0mh\u001b[0m\u001b[1;33m,\u001b[0m \u001b[0mX\u001b[0m\u001b[1;33m[\u001b[0m\u001b[0mh\u001b[0m\u001b[1;33m]\u001b[0m\u001b[1;33m,\u001b[0m \u001b[0mFX\u001b[0m\u001b[1;33m[\u001b[0m\u001b[0mh\u001b[0m\u001b[1;33m]\u001b[0m\u001b[1;33m)\u001b[0m\u001b[1;33m)\u001b[0m\u001b[1;33m\u001b[0m\u001b[1;33m\u001b[0m\u001b[0m\n",
      "\u001b[1;31mKeyboardInterrupt\u001b[0m: "
     ]
    }
   ],
   "source": [
    "# Тестируем Растригина\n",
    "\n",
    "dimensions_list = [2, 4, 8, 16, 32]\n",
    "\n",
    "func = rastrigin_func\n",
    "alpha = 5\n",
    "SN = 80\n",
    "SP = [ss1, ss2]\n",
    "max_iterations = 1000\n",
    "\n",
    "res = []\n",
    "\n",
    "for dimensions in dimensions_list:\n",
    "    Xmin = np.array([- alpha] * dimensions)\n",
    "    Xmax = np.array([alpha] * dimensions)\n",
    "    for start in range(100):\n",
    "        print('dimensions:', dimensions)\n",
    "        print('start num: ', start)\n",
    "        print('Xmin:      ')\n",
    "        print(Xmin)\n",
    "        print('Xmax:      ')\n",
    "        print(Xmax)\n",
    "        stop_reason, X_best,  X,FX, path = NNSABC(SN, Xmin, Xmax, SP, func, max_iterations)\n",
    "        FX_best = func(X_best)\n",
    "        print('stop_reason', stop_reason)\n",
    "        print('FX_best', FX_best)\n",
    "        res.append({\n",
    "            'start_num': start,\n",
    "            'stop_reason': stop_reason,\n",
    "            'FX_best': FX_best,\n",
    "            'X_best': X_best,\n",
    "            'path': path\n",
    "        })"
   ]
  },
  {
   "cell_type": "code",
   "execution_count": 126,
   "id": "3d65fed7",
   "metadata": {},
   "outputs": [
    {
     "data": {
      "text/html": [
       "<div>\n",
       "<style scoped>\n",
       "    .dataframe tbody tr th:only-of-type {\n",
       "        vertical-align: middle;\n",
       "    }\n",
       "\n",
       "    .dataframe tbody tr th {\n",
       "        vertical-align: top;\n",
       "    }\n",
       "\n",
       "    .dataframe thead th {\n",
       "        text-align: right;\n",
       "    }\n",
       "</style>\n",
       "<table border=\"1\" class=\"dataframe\">\n",
       "  <thead>\n",
       "    <tr style=\"text-align: right;\">\n",
       "      <th></th>\n",
       "      <th>start_num</th>\n",
       "      <th>stop_reason</th>\n",
       "      <th>FX_best</th>\n",
       "      <th>X_best</th>\n",
       "      <th>dimensions</th>\n",
       "      <th>error_norm</th>\n",
       "    </tr>\n",
       "  </thead>\n",
       "  <tbody>\n",
       "    <tr>\n",
       "      <th>0</th>\n",
       "      <td>0</td>\n",
       "      <td>stagnation_lim</td>\n",
       "      <td>-330.000000</td>\n",
       "      <td>[-8.625870704678567e-09, -7.214367672586988e-09]</td>\n",
       "      <td>2</td>\n",
       "      <td>0.000000</td>\n",
       "    </tr>\n",
       "    <tr>\n",
       "      <th>1</th>\n",
       "      <td>1</td>\n",
       "      <td>stagnation_lim</td>\n",
       "      <td>-329.005041</td>\n",
       "      <td>[0.9949586292227688, -4.549071983283015e-09]</td>\n",
       "      <td>2</td>\n",
       "      <td>0.994959</td>\n",
       "    </tr>\n",
       "    <tr>\n",
       "      <th>2</th>\n",
       "      <td>2</td>\n",
       "      <td>stagnation_lim</td>\n",
       "      <td>-330.000000</td>\n",
       "      <td>[-6.3419352475378786e-09, 3.918396633322755e-09]</td>\n",
       "      <td>2</td>\n",
       "      <td>0.000000</td>\n",
       "    </tr>\n",
       "    <tr>\n",
       "      <th>3</th>\n",
       "      <td>3</td>\n",
       "      <td>stagnation_lim</td>\n",
       "      <td>-330.000000</td>\n",
       "      <td>[8.746436255189846e-09, -6.724434809873954e-09]</td>\n",
       "      <td>2</td>\n",
       "      <td>0.000000</td>\n",
       "    </tr>\n",
       "    <tr>\n",
       "      <th>4</th>\n",
       "      <td>4</td>\n",
       "      <td>stagnation_lim</td>\n",
       "      <td>-330.000000</td>\n",
       "      <td>[6.805784409782695e-09, -9.129537086042051e-09]</td>\n",
       "      <td>2</td>\n",
       "      <td>0.000000</td>\n",
       "    </tr>\n",
       "    <tr>\n",
       "      <th>...</th>\n",
       "      <td>...</td>\n",
       "      <td>...</td>\n",
       "      <td>...</td>\n",
       "      <td>...</td>\n",
       "      <td>...</td>\n",
       "      <td>...</td>\n",
       "    </tr>\n",
       "    <tr>\n",
       "      <th>95</th>\n",
       "      <td>15</td>\n",
       "      <td>stagnation_lim</td>\n",
       "      <td>-107.128251</td>\n",
       "      <td>[-1.0923336897532563, 1.122916536640351, -3.55...</td>\n",
       "      <td>32</td>\n",
       "      <td>222.871749</td>\n",
       "    </tr>\n",
       "    <tr>\n",
       "      <th>96</th>\n",
       "      <td>16</td>\n",
       "      <td>stagnation_lim</td>\n",
       "      <td>-168.524348</td>\n",
       "      <td>[-1.0862663569995663, 1.1424245908350588, -0.0...</td>\n",
       "      <td>32</td>\n",
       "      <td>161.475652</td>\n",
       "    </tr>\n",
       "    <tr>\n",
       "      <th>97</th>\n",
       "      <td>17</td>\n",
       "      <td>stagnation_lim</td>\n",
       "      <td>-101.137219</td>\n",
       "      <td>[0.7955205107128559, -1.3709411730599739, -1.9...</td>\n",
       "      <td>32</td>\n",
       "      <td>228.862781</td>\n",
       "    </tr>\n",
       "    <tr>\n",
       "      <th>98</th>\n",
       "      <td>18</td>\n",
       "      <td>stagnation_lim</td>\n",
       "      <td>-100.993178</td>\n",
       "      <td>[0.9886856005029471, 2.1266564731010966, -0.00...</td>\n",
       "      <td>32</td>\n",
       "      <td>229.006822</td>\n",
       "    </tr>\n",
       "    <tr>\n",
       "      <th>99</th>\n",
       "      <td>19</td>\n",
       "      <td>stagnation_lim</td>\n",
       "      <td>-95.483234</td>\n",
       "      <td>[-0.04006638947051044, 1.927483372208679, 1.77...</td>\n",
       "      <td>32</td>\n",
       "      <td>234.516766</td>\n",
       "    </tr>\n",
       "  </tbody>\n",
       "</table>\n",
       "<p>100 rows × 6 columns</p>\n",
       "</div>"
      ],
      "text/plain": [
       "    start_num     stop_reason     FX_best  \\\n",
       "0           0  stagnation_lim -330.000000   \n",
       "1           1  stagnation_lim -329.005041   \n",
       "2           2  stagnation_lim -330.000000   \n",
       "3           3  stagnation_lim -330.000000   \n",
       "4           4  stagnation_lim -330.000000   \n",
       "..        ...             ...         ...   \n",
       "95         15  stagnation_lim -107.128251   \n",
       "96         16  stagnation_lim -168.524348   \n",
       "97         17  stagnation_lim -101.137219   \n",
       "98         18  stagnation_lim -100.993178   \n",
       "99         19  stagnation_lim  -95.483234   \n",
       "\n",
       "                                               X_best  dimensions  error_norm  \n",
       "0    [-8.625870704678567e-09, -7.214367672586988e-09]           2    0.000000  \n",
       "1        [0.9949586292227688, -4.549071983283015e-09]           2    0.994959  \n",
       "2    [-6.3419352475378786e-09, 3.918396633322755e-09]           2    0.000000  \n",
       "3     [8.746436255189846e-09, -6.724434809873954e-09]           2    0.000000  \n",
       "4     [6.805784409782695e-09, -9.129537086042051e-09]           2    0.000000  \n",
       "..                                                ...         ...         ...  \n",
       "95  [-1.0923336897532563, 1.122916536640351, -3.55...          32  222.871749  \n",
       "96  [-1.0862663569995663, 1.1424245908350588, -0.0...          32  161.475652  \n",
       "97  [0.7955205107128559, -1.3709411730599739, -1.9...          32  228.862781  \n",
       "98  [0.9886856005029471, 2.1266564731010966, -0.00...          32  229.006822  \n",
       "99  [-0.04006638947051044, 1.927483372208679, 1.77...          32  234.516766  \n",
       "\n",
       "[100 rows x 6 columns]"
      ]
     },
     "execution_count": 126,
     "metadata": {},
     "output_type": "execute_result"
    }
   ],
   "source": [
    "import pandas as pd\n",
    "\n",
    "rastrigin_df = pd.DataFrame([{\n",
    "    'start_num': i['start_num'],\n",
    "    'stop_reason': i['stop_reason'],\n",
    "    'FX_best': i['FX_best'],\n",
    "    'X_best': i['X_best']\n",
    "} for i in res])\n",
    "rastrigin_df['dimensions'] = rastrigin_df['X_best'].apply(lambda x: np.shape(x)[0])\n",
    "rastrigin_df['error_norm'] = (rastrigin_df['FX_best'] + 330.).apply(np.abs)\n",
    "rastrigin_df"
   ]
  },
  {
   "cell_type": "code",
   "execution_count": 127,
   "id": "0d10ff52",
   "metadata": {},
   "outputs": [
    {
     "data": {
      "text/html": [
       "<div>\n",
       "<style scoped>\n",
       "    .dataframe tbody tr th:only-of-type {\n",
       "        vertical-align: middle;\n",
       "    }\n",
       "\n",
       "    .dataframe tbody tr th {\n",
       "        vertical-align: top;\n",
       "    }\n",
       "\n",
       "    .dataframe thead th {\n",
       "        text-align: right;\n",
       "    }\n",
       "</style>\n",
       "<table border=\"1\" class=\"dataframe\">\n",
       "  <thead>\n",
       "    <tr style=\"text-align: right;\">\n",
       "      <th></th>\n",
       "      <th>dimensions</th>\n",
       "      <th>global_prob</th>\n",
       "    </tr>\n",
       "  </thead>\n",
       "  <tbody>\n",
       "    <tr>\n",
       "      <th>0</th>\n",
       "      <td>2</td>\n",
       "      <td>0.95</td>\n",
       "    </tr>\n",
       "    <tr>\n",
       "      <th>1</th>\n",
       "      <td>4</td>\n",
       "      <td>0.00</td>\n",
       "    </tr>\n",
       "    <tr>\n",
       "      <th>2</th>\n",
       "      <td>8</td>\n",
       "      <td>0.00</td>\n",
       "    </tr>\n",
       "    <tr>\n",
       "      <th>3</th>\n",
       "      <td>16</td>\n",
       "      <td>0.00</td>\n",
       "    </tr>\n",
       "    <tr>\n",
       "      <th>4</th>\n",
       "      <td>32</td>\n",
       "      <td>0.00</td>\n",
       "    </tr>\n",
       "  </tbody>\n",
       "</table>\n",
       "</div>"
      ],
      "text/plain": [
       "   dimensions  global_prob\n",
       "0           2         0.95\n",
       "1           4         0.00\n",
       "2           8         0.00\n",
       "3          16         0.00\n",
       "4          32         0.00"
      ]
     },
     "execution_count": 127,
     "metadata": {},
     "output_type": "execute_result"
    }
   ],
   "source": [
    "# Считаем вероятность попадания в глобальный минимум\n",
    "global_prob = []\n",
    "for dimensions in rastrigin_df['dimensions'].unique():\n",
    "    global_prob.append({\n",
    "        'dimensions': dimensions,\n",
    "        'global_prob': float(np.sum((rastrigin_df['dimensions'] == dimensions) & (rastrigin_df['error_norm'] <= 1e-2))) / \\\n",
    "                       float(np.sum(rastrigin_df['dimensions'] == dimensions))\n",
    "    })\n",
    "global_prob_df = pd.DataFrame(global_prob)\n",
    "global_prob_df"
   ]
  },
  {
   "cell_type": "code",
   "execution_count": 117,
   "id": "3386ba95",
   "metadata": {},
   "outputs": [
    {
     "name": "stdout",
     "output_type": "stream",
     "text": [
      "0\n"
     ]
    },
    {
     "name": "stderr",
     "output_type": "stream",
     "text": [
      " 11%|████████▊                                                                      | 111/1000 [00:08<01:08, 12.92it/s]\n"
     ]
    },
    {
     "name": "stdout",
     "output_type": "stream",
     "text": [
      "stop_reason stagnation_lim\n",
      "FX_best 155214269.6632548\n",
      "1\n"
     ]
    },
    {
     "name": "stderr",
     "output_type": "stream",
     "text": [
      " 54%|██████████████████████████████████████████▎                                    | 536/1000 [00:41<00:36, 12.77it/s]\n"
     ]
    },
    {
     "name": "stdout",
     "output_type": "stream",
     "text": [
      "stop_reason stagnation_lim\n",
      "FX_best 259286343.49972448\n",
      "2\n"
     ]
    },
    {
     "name": "stderr",
     "output_type": "stream",
     "text": [
      " 37%|████████████████████████████▉                                                  | 366/1000 [00:28<00:49, 12.83it/s]\n"
     ]
    },
    {
     "name": "stdout",
     "output_type": "stream",
     "text": [
      "stop_reason stagnation_lim\n",
      "FX_best 212359421.5303077\n",
      "3\n"
     ]
    },
    {
     "name": "stderr",
     "output_type": "stream",
     "text": [
      " 23%|██████████████████                                                             | 228/1000 [00:17<00:59, 12.96it/s]\n"
     ]
    },
    {
     "name": "stdout",
     "output_type": "stream",
     "text": [
      "stop_reason stagnation_lim\n",
      "FX_best 678531691.5362488\n",
      "4\n"
     ]
    },
    {
     "name": "stderr",
     "output_type": "stream",
     "text": [
      " 39%|███████████████████████████████                                                | 393/1000 [00:30<00:47, 12.90it/s]\n"
     ]
    },
    {
     "name": "stdout",
     "output_type": "stream",
     "text": [
      "stop_reason stagnation_lim\n",
      "FX_best 388342380.9187494\n",
      "5\n"
     ]
    },
    {
     "name": "stderr",
     "output_type": "stream",
     "text": [
      " 14%|██████████▋                                                                    | 135/1000 [00:10<01:07, 12.84it/s]\n"
     ]
    },
    {
     "name": "stdout",
     "output_type": "stream",
     "text": [
      "stop_reason stagnation_lim\n",
      "FX_best 493952085.61482126\n",
      "6\n"
     ]
    },
    {
     "name": "stderr",
     "output_type": "stream",
     "text": [
      " 11%|████████▍                                                                      | 107/1000 [00:08<01:08, 13.08it/s]\n"
     ]
    },
    {
     "name": "stdout",
     "output_type": "stream",
     "text": [
      "stop_reason stagnation_lim\n",
      "FX_best 45074823.178894304\n",
      "7\n"
     ]
    },
    {
     "name": "stderr",
     "output_type": "stream",
     "text": [
      " 45%|███████████████████████████████████▎                                           | 447/1000 [00:35<00:43, 12.67it/s]\n"
     ]
    },
    {
     "name": "stdout",
     "output_type": "stream",
     "text": [
      "stop_reason stagnation_lim\n",
      "FX_best 234324422.4571119\n",
      "8\n"
     ]
    },
    {
     "name": "stderr",
     "output_type": "stream",
     "text": [
      " 35%|███████████████████████████▊                                                   | 352/1000 [00:27<00:50, 12.77it/s]\n"
     ]
    },
    {
     "name": "stdout",
     "output_type": "stream",
     "text": [
      "stop_reason stagnation_lim\n",
      "FX_best 249786789.58128047\n",
      "9\n"
     ]
    },
    {
     "name": "stderr",
     "output_type": "stream",
     "text": [
      " 33%|██████████████████████████▍                                                    | 334/1000 [00:26<00:52, 12.67it/s]\n"
     ]
    },
    {
     "name": "stdout",
     "output_type": "stream",
     "text": [
      "stop_reason stagnation_lim\n",
      "FX_best 119433866.86385831\n",
      "10\n"
     ]
    },
    {
     "name": "stderr",
     "output_type": "stream",
     "text": [
      " 10%|████████▎                                                                      | 105/1000 [00:07<01:08, 13.13it/s]\n"
     ]
    },
    {
     "name": "stdout",
     "output_type": "stream",
     "text": [
      "stop_reason stagnation_lim\n",
      "FX_best 315370840.81702507\n",
      "11\n"
     ]
    },
    {
     "name": "stderr",
     "output_type": "stream",
     "text": [
      " 10%|███████▊                                                                        | 97/1000 [00:07<01:08, 13.22it/s]\n"
     ]
    },
    {
     "name": "stdout",
     "output_type": "stream",
     "text": [
      "stop_reason stagnation_lim\n",
      "FX_best 389617089.6303284\n",
      "12\n"
     ]
    },
    {
     "name": "stderr",
     "output_type": "stream",
     "text": [
      " 16%|████████████▍                                                                  | 158/1000 [00:12<01:04, 13.03it/s]\n"
     ]
    },
    {
     "name": "stdout",
     "output_type": "stream",
     "text": [
      "stop_reason stagnation_lim\n",
      "FX_best 226208628.28641242\n",
      "13\n"
     ]
    },
    {
     "name": "stderr",
     "output_type": "stream",
     "text": [
      " 22%|█████████████████▌                                                             | 223/1000 [00:17<01:00, 12.93it/s]\n"
     ]
    },
    {
     "name": "stdout",
     "output_type": "stream",
     "text": [
      "stop_reason stagnation_lim\n",
      "FX_best 190277716.0522952\n",
      "14\n"
     ]
    },
    {
     "name": "stderr",
     "output_type": "stream",
     "text": [
      "100%|██████████████████████████████████████████████████████████████████████████████| 1000/1000 [01:19<00:00, 12.64it/s]\n"
     ]
    },
    {
     "name": "stdout",
     "output_type": "stream",
     "text": [
      "stop_reason max_iterations\n",
      "FX_best 492711184.0473652\n",
      "15\n"
     ]
    },
    {
     "name": "stderr",
     "output_type": "stream",
     "text": [
      " 35%|███████████████████████████▌                                                   | 349/1000 [00:26<00:49, 13.10it/s]\n"
     ]
    },
    {
     "name": "stdout",
     "output_type": "stream",
     "text": [
      "stop_reason stagnation_lim\n",
      "FX_best 274208187.42443454\n",
      "16\n"
     ]
    },
    {
     "name": "stderr",
     "output_type": "stream",
     "text": [
      " 11%|█████████                                                                      | 114/1000 [00:08<01:08, 12.96it/s]\n"
     ]
    },
    {
     "name": "stdout",
     "output_type": "stream",
     "text": [
      "stop_reason stagnation_lim\n",
      "FX_best 32724762.736459754\n",
      "17\n"
     ]
    },
    {
     "name": "stderr",
     "output_type": "stream",
     "text": [
      " 16%|████████████▍                                                                  | 158/1000 [00:12<01:03, 13.16it/s]\n"
     ]
    },
    {
     "name": "stdout",
     "output_type": "stream",
     "text": [
      "stop_reason stagnation_lim\n",
      "FX_best 134475830.48611045\n",
      "18\n"
     ]
    },
    {
     "name": "stderr",
     "output_type": "stream",
     "text": [
      " 20%|███████████████▊                                                               | 200/1000 [00:15<01:02, 12.71it/s]\n"
     ]
    },
    {
     "name": "stdout",
     "output_type": "stream",
     "text": [
      "stop_reason stagnation_lim\n",
      "FX_best 289186851.6916061\n",
      "19\n"
     ]
    },
    {
     "name": "stderr",
     "output_type": "stream",
     "text": [
      "  9%|███████▍                                                                        | 93/1000 [00:07<01:08, 13.19it/s]"
     ]
    },
    {
     "name": "stdout",
     "output_type": "stream",
     "text": [
      "stop_reason stagnation_lim\n",
      "FX_best 281000653.48860663\n"
     ]
    },
    {
     "name": "stderr",
     "output_type": "stream",
     "text": [
      "\n"
     ]
    }
   ],
   "source": [
    "# Тестируем Розенброка\n",
    "\n",
    "#dimensions_list = [2, 4, 8, 16, 32]\n",
    "dimensions_list = [2]\n",
    "\n",
    "func = rosenbrok_func\n",
    "alpha = 100\n",
    "SN = 50\n",
    "SP = [ss1, ss2]\n",
    "max_iterations = 1000\n",
    "\n",
    "res_ros = []\n",
    "\n",
    "for dimesions in dimensions_list:\n",
    "    Xmin = np.array([- alpha] * dimensions)\n",
    "    Xmax = np.array([alpha] * dimensions)\n",
    "    for start in range(20):\n",
    "        print(start)\n",
    "        stop_reason, X_best,  X,FX, path = NNSABC(SN, Xmin, Xmax, SP, func, max_iterations)\n",
    "        FX_best = func(X_best)\n",
    "        print('stop_reason', stop_reason)\n",
    "        print('FX_best', FX_best)\n",
    "        res_ros.append({\n",
    "            'start_num': start,\n",
    "            'stop_reason': stop_reason,\n",
    "            'FX_best': FX_best,\n",
    "            'X_best': X_best,\n",
    "            'path': path\n",
    "        })"
   ]
  },
  {
   "cell_type": "code",
   "execution_count": null,
   "id": "9e1adb23",
   "metadata": {},
   "outputs": [],
   "source": []
  },
  {
   "cell_type": "code",
   "execution_count": null,
   "id": "701990b4",
   "metadata": {},
   "outputs": [],
   "source": []
  }
 ],
 "metadata": {
  "kernelspec": {
   "display_name": "Python 3 (ipykernel)",
   "language": "python",
   "name": "python3"
  },
  "language_info": {
   "codemirror_mode": {
    "name": "ipython",
    "version": 3
   },
   "file_extension": ".py",
   "mimetype": "text/x-python",
   "name": "python",
   "nbconvert_exporter": "python",
   "pygments_lexer": "ipython3",
   "version": "3.8.8rc1"
  }
 },
 "nbformat": 4,
 "nbformat_minor": 5
}
